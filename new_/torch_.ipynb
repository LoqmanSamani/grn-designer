{
 "cells": [
  {
   "cell_type": "code",
   "execution_count": 1,
   "id": "bd0b82d0-31a9-4a62-a694-980928ea9ed7",
   "metadata": {},
   "outputs": [],
   "source": [
    "import numpy as np\n",
    "import seaborn as sns\n",
    "import matplotlib.pyplot as plt\n",
    "import torch\n",
    "import tensorflow as tf\n",
    "from tensor_simulation import tensor_simulation as tsim\n",
    "from optimize import AdamOptimization as opt_\n",
    "from opt import AdamOptimization as opt1_"
   ]
  },
  {
   "cell_type": "code",
   "execution_count": 2,
   "id": "65714260-89a2-44ae-a0c0-338518d8edeb",
   "metadata": {},
   "outputs": [],
   "source": [
    "ind = np.zeros((7, 5, 5), dtype=np.float32)\n",
    "ind[-1, -1, :5] = (2, 1, 100, 20, .2)\n",
    "ind[1, :, :2] = .9\n",
    "ind[3, :, :3] = 1.5\n",
    "ind[-1, 2, :3] = (.1,.3, .4)\n",
    "ind[-1, 0, :3] = (.6, .1, .9)\n",
    "ind[-2, 0, :2] = (0,2)\n",
    "ind[-2, 1, :4] = (1,2,3,4)\n",
    "params = {\"species_1\": torch.nn.Parameter(torch.tensor([.6, .1, .9])), \"compartment_1\": torch.nn.Parameter(torch.tensor(ind[1]))}"
   ]
  },
  {
   "cell_type": "code",
   "execution_count": 3,
   "id": "c9a42165-556f-4b53-bc5f-c8dca7a96999",
   "metadata": {},
   "outputs": [],
   "source": [
    "torch_sim = tsim(individual=torch.from_numpy(ind), parameters=params,\n",
    "                 num_species=1, num_pairs=0, stop=20, time_step=0.2,\n",
    "                 max_epoch=100, compartment=0, device=\"cpu\")"
   ]
  },
  {
   "cell_type": "code",
   "execution_count": 4,
   "id": "bda562ad-4b3a-44ed-ad4c-dda3620be6cf",
   "metadata": {},
   "outputs": [
    {
     "data": {
      "text/plain": [
       "<Axes: >"
      ]
     },
     "execution_count": 4,
     "metadata": {},
     "output_type": "execute_result"
    },
    {
     "data": {
      "image/png": "[encoded data removed]",
      "text/plain": [
       "<Figure size 640x480 with 2 Axes>"
      ]
     },
     "metadata": {},
     "output_type": "display_data"
    }
   ],
   "source": [
    "sns.heatmap(torch_sim.detach().numpy())"
   ]
  },
  {
   "cell_type": "code",
   "execution_count": 5,
   "id": "5bf9e658-67c8-4184-8eb1-bf1a55848eec",
   "metadata": {},
   "outputs": [],
   "source": [
    "tt = torch.zeros((1, 5,5))\n",
    "tt[0, :, :] = torch_sim.detach() "
   ]
  },
  {
   "cell_type": "code",
   "execution_count": 6,
   "id": "10c7df18-a9cd-4a83-b187-d83d3d9d4147",
   "metadata": {},
   "outputs": [],
   "source": [
    "obj = opt_(\n",
    "    target=tt,\n",
    "    path=\"\",\n",
    "    file_name=\"torch_test.h5\",\n",
    "    epochs=5,\n",
    "    learning_rate=None,\n",
    "    param_opt=True,\n",
    "    compartment_opt=True,\n",
    "    cost_alpha=0.6,\n",
    "    cost_beta=0.4,\n",
    "    max_val=1.0,\n",
    "    trainable_compartment=1,\n",
    "    device=\"cpu\")    "
   ]
  },
  {
   "cell_type": "code",
   "execution_count": 7,
   "id": "da316f30-0d2d-437e-a48c-43ebd19c8ac4",
   "metadata": {},
   "outputs": [],
   "source": [
    "inds = np.zeros((3, 30, 30), dtype=np.float32)\n",
    "inds[-1, -1, :5] = (1, 0, 100, 20, .2)\n",
    "inds[1, :, :] = np.random.rand(30, 30) \n",
    "inds[-1, 0, :3] = np.random.rand(3)"
   ]
  },
  {
   "cell_type": "code",
   "execution_count": 8,
   "id": "84a5681d-d13d-44c8-97bc-9094bd6b48eb",
   "metadata": {},
   "outputs": [
    {
     "name": "stderr",
     "output_type": "stream",
     "text": [
      "C:\\Users\\yda2\\Downloads\\projects\\master_project\\new_\\optimize.py:127: UserWarning: To copy construct from a tensor, it is recommended to use sourceTensor.clone().detach() or sourceTensor.clone().detach().requires_grad_(True), rather than torch.tensor(sourceTensor).\n",
      "  torch.tensor(individual[-1, i, 0:3], dtype=torch.float32),\n",
      "C:\\Users\\yda2\\Downloads\\projects\\master_project\\new_\\optimize.py:168: UserWarning: To copy construct from a tensor, it is recommended to use sourceTensor.clone().detach() or sourceTensor.clone().detach().requires_grad_(True), rather than torch.tensor(sourceTensor).\n",
      "  torch.tensor(individual[k, :, :], dtype=torch.float32),\n"
     ]
    },
    {
     "name": "stdout",
     "output_type": "stream",
     "text": [
      "Epoch 1/5, Optimizer 1, Cost: 3.3593661785125732\n"
     ]
    },
    {
     "ename": "RuntimeError",
     "evalue": "one of the variables needed for gradient computation has been modified by an inplace operation: [torch.FloatTensor [30, 30]], which is output 0 of AsStridedBackward0, is at version 9091; expected version 9090 instead. Hint: enable anomaly detection to find the operation that failed to compute its gradient, with torch.autograd.set_detect_anomaly(True).",
     "output_type": "error",
     "traceback": [
      "\u001b[1;31m---------------------------------------------------------------------------\u001b[0m",
      "\u001b[1;31mRuntimeError\u001b[0m                              Traceback (most recent call last)",
      "Cell \u001b[1;32mIn[8], line 1\u001b[0m\n\u001b[1;32m----> 1\u001b[0m ind_, cost_, \u001b[38;5;241m=\u001b[39m \u001b[43mobj\u001b[49m\u001b[38;5;241;43m.\u001b[39;49m\u001b[43mgradient_optimization\u001b[49m\u001b[43m(\u001b[49m\u001b[43mindividual\u001b[49m\u001b[38;5;241;43m=\u001b[39;49m\u001b[43mtorch\u001b[49m\u001b[38;5;241;43m.\u001b[39;49m\u001b[43mfrom_numpy\u001b[49m\u001b[43m(\u001b[49m\u001b[43minds\u001b[49m\u001b[43m)\u001b[49m\u001b[43m)\u001b[49m\n",
      "File \u001b[1;32m~\\Downloads\\projects\\master_project\\new_\\optimize.py:530\u001b[0m, in \u001b[0;36mAdamOptimization.gradient_optimization\u001b[1;34m(self, individual)\u001b[0m\n\u001b[0;32m    527\u001b[0m \u001b[38;5;28mprint\u001b[39m(\u001b[38;5;124mf\u001b[39m\u001b[38;5;124m\"\u001b[39m\u001b[38;5;124mEpoch \u001b[39m\u001b[38;5;132;01m{\u001b[39;00mi\u001b[38;5;132;01m}\u001b[39;00m\u001b[38;5;124m/\u001b[39m\u001b[38;5;132;01m{\u001b[39;00m\u001b[38;5;28mself\u001b[39m\u001b[38;5;241m.\u001b[39mepochs\u001b[38;5;132;01m}\u001b[39;00m\u001b[38;5;124m, Optimizer \u001b[39m\u001b[38;5;132;01m{\u001b[39;00mj\u001b[38;5;250m \u001b[39m\u001b[38;5;241m+\u001b[39m\u001b[38;5;250m \u001b[39m\u001b[38;5;241m1\u001b[39m\u001b[38;5;132;01m}\u001b[39;00m\u001b[38;5;124m, Cost: \u001b[39m\u001b[38;5;132;01m{\u001b[39;00mcost\u001b[38;5;241m.\u001b[39mitem()\u001b[38;5;132;01m}\u001b[39;00m\u001b[38;5;124m\"\u001b[39m)\n\u001b[0;32m    529\u001b[0m \u001b[38;5;66;03m# Backward pass: compute gradients\u001b[39;00m\n\u001b[1;32m--> 530\u001b[0m \u001b[43mcost\u001b[49m\u001b[38;5;241;43m.\u001b[39;49m\u001b[43mbackward\u001b[49m\u001b[43m(\u001b[49m\u001b[43m)\u001b[49m\n\u001b[0;32m    532\u001b[0m \u001b[38;5;66;03m# Clip gradients if necessary (you can uncomment if needed)\u001b[39;00m\n\u001b[0;32m    533\u001b[0m \u001b[38;5;66;03m# for param in parameters[j].values():\u001b[39;00m\n\u001b[0;32m    534\u001b[0m \u001b[38;5;66;03m#     if param.grad is not None:\u001b[39;00m\n\u001b[0;32m    535\u001b[0m \u001b[38;5;66;03m#         param.grad = torch.clamp(param.grad, -1.0, 1.0)\u001b[39;00m\n\u001b[0;32m    536\u001b[0m \n\u001b[0;32m    537\u001b[0m \u001b[38;5;66;03m# Print gradients\u001b[39;00m\n\u001b[0;32m    538\u001b[0m gradients \u001b[38;5;241m=\u001b[39m {key: param\u001b[38;5;241m.\u001b[39mgrad \u001b[38;5;28;01mfor\u001b[39;00m key, param \u001b[38;5;129;01min\u001b[39;00m parameters[j]\u001b[38;5;241m.\u001b[39mitems() \u001b[38;5;28;01mif\u001b[39;00m param\u001b[38;5;241m.\u001b[39mgrad \u001b[38;5;129;01mis\u001b[39;00m \u001b[38;5;129;01mnot\u001b[39;00m \u001b[38;5;28;01mNone\u001b[39;00m}\n",
      "File \u001b[1;32m~\\Downloads\\projects\\venv\\Lib\\site-packages\\torch\\_tensor.py:525\u001b[0m, in \u001b[0;36mTensor.backward\u001b[1;34m(self, gradient, retain_graph, create_graph, inputs)\u001b[0m\n\u001b[0;32m    515\u001b[0m \u001b[38;5;28;01mif\u001b[39;00m has_torch_function_unary(\u001b[38;5;28mself\u001b[39m):\n\u001b[0;32m    516\u001b[0m     \u001b[38;5;28;01mreturn\u001b[39;00m handle_torch_function(\n\u001b[0;32m    517\u001b[0m         Tensor\u001b[38;5;241m.\u001b[39mbackward,\n\u001b[0;32m    518\u001b[0m         (\u001b[38;5;28mself\u001b[39m,),\n\u001b[1;32m   (...)\u001b[0m\n\u001b[0;32m    523\u001b[0m         inputs\u001b[38;5;241m=\u001b[39minputs,\n\u001b[0;32m    524\u001b[0m     )\n\u001b[1;32m--> 525\u001b[0m \u001b[43mtorch\u001b[49m\u001b[38;5;241;43m.\u001b[39;49m\u001b[43mautograd\u001b[49m\u001b[38;5;241;43m.\u001b[39;49m\u001b[43mbackward\u001b[49m\u001b[43m(\u001b[49m\n\u001b[0;32m    526\u001b[0m \u001b[43m    \u001b[49m\u001b[38;5;28;43mself\u001b[39;49m\u001b[43m,\u001b[49m\u001b[43m \u001b[49m\u001b[43mgradient\u001b[49m\u001b[43m,\u001b[49m\u001b[43m \u001b[49m\u001b[43mretain_graph\u001b[49m\u001b[43m,\u001b[49m\u001b[43m \u001b[49m\u001b[43mcreate_graph\u001b[49m\u001b[43m,\u001b[49m\u001b[43m \u001b[49m\u001b[43minputs\u001b[49m\u001b[38;5;241;43m=\u001b[39;49m\u001b[43minputs\u001b[49m\n\u001b[0;32m    527\u001b[0m \u001b[43m\u001b[49m\u001b[43m)\u001b[49m\n",
      "File \u001b[1;32m~\\Downloads\\projects\\venv\\Lib\\site-packages\\torch\\autograd\\__init__.py:267\u001b[0m, in \u001b[0;36mbackward\u001b[1;34m(tensors, grad_tensors, retain_graph, create_graph, grad_variables, inputs)\u001b[0m\n\u001b[0;32m    262\u001b[0m     retain_graph \u001b[38;5;241m=\u001b[39m create_graph\n\u001b[0;32m    264\u001b[0m \u001b[38;5;66;03m# The reason we repeat the same comment below is that\u001b[39;00m\n\u001b[0;32m    265\u001b[0m \u001b[38;5;66;03m# some Python versions print out the first line of a multi-line function\u001b[39;00m\n\u001b[0;32m    266\u001b[0m \u001b[38;5;66;03m# calls in the traceback and some print out the last line\u001b[39;00m\n\u001b[1;32m--> 267\u001b[0m \u001b[43m_engine_run_backward\u001b[49m\u001b[43m(\u001b[49m\n\u001b[0;32m    268\u001b[0m \u001b[43m    \u001b[49m\u001b[43mtensors\u001b[49m\u001b[43m,\u001b[49m\n\u001b[0;32m    269\u001b[0m \u001b[43m    \u001b[49m\u001b[43mgrad_tensors_\u001b[49m\u001b[43m,\u001b[49m\n\u001b[0;32m    270\u001b[0m \u001b[43m    \u001b[49m\u001b[43mretain_graph\u001b[49m\u001b[43m,\u001b[49m\n\u001b[0;32m    271\u001b[0m \u001b[43m    \u001b[49m\u001b[43mcreate_graph\u001b[49m\u001b[43m,\u001b[49m\n\u001b[0;32m    272\u001b[0m \u001b[43m    \u001b[49m\u001b[43minputs\u001b[49m\u001b[43m,\u001b[49m\n\u001b[0;32m    273\u001b[0m \u001b[43m    \u001b[49m\u001b[43mallow_unreachable\u001b[49m\u001b[38;5;241;43m=\u001b[39;49m\u001b[38;5;28;43;01mTrue\u001b[39;49;00m\u001b[43m,\u001b[49m\n\u001b[0;32m    274\u001b[0m \u001b[43m    \u001b[49m\u001b[43maccumulate_grad\u001b[49m\u001b[38;5;241;43m=\u001b[39;49m\u001b[38;5;28;43;01mTrue\u001b[39;49;00m\u001b[43m,\u001b[49m\n\u001b[0;32m    275\u001b[0m \u001b[43m\u001b[49m\u001b[43m)\u001b[49m\n",
      "File \u001b[1;32m~\\Downloads\\projects\\venv\\Lib\\site-packages\\torch\\autograd\\graph.py:744\u001b[0m, in \u001b[0;36m_engine_run_backward\u001b[1;34m(t_outputs, *args, **kwargs)\u001b[0m\n\u001b[0;32m    742\u001b[0m     unregister_hooks \u001b[38;5;241m=\u001b[39m _register_logging_hooks_on_whole_graph(t_outputs)\n\u001b[0;32m    743\u001b[0m \u001b[38;5;28;01mtry\u001b[39;00m:\n\u001b[1;32m--> 744\u001b[0m     \u001b[38;5;28;01mreturn\u001b[39;00m \u001b[43mVariable\u001b[49m\u001b[38;5;241;43m.\u001b[39;49m\u001b[43m_execution_engine\u001b[49m\u001b[38;5;241;43m.\u001b[39;49m\u001b[43mrun_backward\u001b[49m\u001b[43m(\u001b[49m\u001b[43m  \u001b[49m\u001b[38;5;66;43;03m# Calls into the C++ engine to run the backward pass\u001b[39;49;00m\n\u001b[0;32m    745\u001b[0m \u001b[43m        \u001b[49m\u001b[43mt_outputs\u001b[49m\u001b[43m,\u001b[49m\u001b[43m \u001b[49m\u001b[38;5;241;43m*\u001b[39;49m\u001b[43margs\u001b[49m\u001b[43m,\u001b[49m\u001b[43m \u001b[49m\u001b[38;5;241;43m*\u001b[39;49m\u001b[38;5;241;43m*\u001b[39;49m\u001b[43mkwargs\u001b[49m\n\u001b[0;32m    746\u001b[0m \u001b[43m    \u001b[49m\u001b[43m)\u001b[49m  \u001b[38;5;66;03m# Calls into the C++ engine to run the backward pass\u001b[39;00m\n\u001b[0;32m    747\u001b[0m \u001b[38;5;28;01mfinally\u001b[39;00m:\n\u001b[0;32m    748\u001b[0m     \u001b[38;5;28;01mif\u001b[39;00m attach_logging_hooks:\n",
      "\u001b[1;31mRuntimeError\u001b[0m: one of the variables needed for gradient computation has been modified by an inplace operation: [torch.FloatTensor [30, 30]], which is output 0 of AsStridedBackward0, is at version 9091; expected version 9090 instead. Hint: enable anomaly detection to find the operation that failed to compute its gradient, with torch.autograd.set_detect_anomaly(True)."
     ]
    }
   ],
   "source": [
    "ind_, cost_, = obj.gradient_optimization(individual=torch.from_numpy(inds))"
   ]
  },
  {
   "cell_type": "code",
   "execution_count": 6,
   "id": "9b82d3d8-8fc0-4be1-9cc3-7bb005742326",
   "metadata": {},
   "outputs": [],
   "source": [
    "obj = opt_(target=tt, path=\"\", file_name=\"this\")\n",
    "obj1 = opt1_(target=tt, path=\"\", file_name=\"this1\")"
   ]
  },
  {
   "cell_type": "code",
   "execution_count": 7,
   "id": "d962153e-4df6-42f0-af90-9be4401a3713",
   "metadata": {},
   "outputs": [
    {
     "name": "stdout",
     "output_type": "stream",
     "text": [
      "extracted params:\n",
      "--------------------------------------------\n",
      "[{'species_1': <tf.Variable 'species_1:0' shape=(3,) dtype=float32, numpy=array([0.6, 0.1, 0.9], dtype=float32)>, 'species_2': <tf.Variable 'species_2:0' shape=(3,) dtype=float32, numpy=array([0.1, 0.3, 0.4], dtype=float32)>, 'pair_1': <tf.Variable 'pair_1:0' shape=(4,) dtype=float32, numpy=array([1., 2., 3., 4.], dtype=float32)>, 'compartment_1': <tf.Variable 'compartment_1:0' shape=(5, 5) dtype=float32, numpy=\n",
      "array([[0.9, 0.9, 0. , 0. , 0. ],\n",
      "       [0.9, 0.9, 0. , 0. , 0. ],\n",
      "       [0.9, 0.9, 0. , 0. , 0. ],\n",
      "       [0.9, 0.9, 0. , 0. , 0. ],\n",
      "       [0.9, 0.9, 0. , 0. , 0. ]], dtype=float32)>, 'compartment_2': <tf.Variable 'compartment_2:0' shape=(5, 5) dtype=float32, numpy=\n",
      "array([[1.5, 1.5, 1.5, 0. , 0. ],\n",
      "       [1.5, 1.5, 1.5, 0. , 0. ],\n",
      "       [1.5, 1.5, 1.5, 0. , 0. ],\n",
      "       [1.5, 1.5, 1.5, 0. , 0. ],\n",
      "       [1.5, 1.5, 1.5, 0. , 0. ]], dtype=float32)>}, {'species_1': <tf.Variable 'species_1:0' shape=(3,) dtype=float32, numpy=array([0.6, 0.1, 0.9], dtype=float32)>, 'species_2': <tf.Variable 'species_2:0' shape=(3,) dtype=float32, numpy=array([0.1, 0.3, 0.4], dtype=float32)>, 'pair_1': <tf.Variable 'pair_1:0' shape=(4,) dtype=float32, numpy=array([1., 2., 3., 4.], dtype=float32)>, 'compartment_1': <tf.Variable 'compartment_1:0' shape=(5, 5) dtype=float32, numpy=\n",
      "array([[0.9, 0.9, 0. , 0. , 0. ],\n",
      "       [0.9, 0.9, 0. , 0. , 0. ],\n",
      "       [0.9, 0.9, 0. , 0. , 0. ],\n",
      "       [0.9, 0.9, 0. , 0. , 0. ],\n",
      "       [0.9, 0.9, 0. , 0. , 0. ]], dtype=float32)>, 'compartment_2': <tf.Variable 'compartment_2:0' shape=(5, 5) dtype=float32, numpy=\n",
      "array([[1.5, 1.5, 1.5, 0. , 0. ],\n",
      "       [1.5, 1.5, 1.5, 0. , 0. ],\n",
      "       [1.5, 1.5, 1.5, 0. , 0. ],\n",
      "       [1.5, 1.5, 1.5, 0. , 0. ],\n",
      "       [1.5, 1.5, 1.5, 0. , 0. ]], dtype=float32)>}]\n"
     ]
    },
    {
     "name": "stderr",
     "output_type": "stream",
     "text": [
      "C:\\Users\\yda2\\Downloads\\projects\\master_project\\new_\\optimize.py:127: UserWarning: To copy construct from a tensor, it is recommended to use sourceTensor.clone().detach() or sourceTensor.clone().detach().requires_grad_(True), rather than torch.tensor(sourceTensor).\n",
      "  torch.tensor(individual[-1, i, 0:3], dtype=torch.float32),\n",
      "C:\\Users\\yda2\\Downloads\\projects\\master_project\\new_\\optimize.py:133: UserWarning: To copy construct from a tensor, it is recommended to use sourceTensor.clone().detach() or sourceTensor.clone().detach().requires_grad_(True), rather than torch.tensor(sourceTensor).\n",
      "  torch.tensor(individual[-1, i, 0:3], dtype=torch.float32),\n",
      "C:\\Users\\yda2\\Downloads\\projects\\master_project\\new_\\optimize.py:141: UserWarning: To copy construct from a tensor, it is recommended to use sourceTensor.clone().detach() or sourceTensor.clone().detach().requires_grad_(True), rather than torch.tensor(sourceTensor).\n",
      "  torch.tensor(individual[j, 1, :4], dtype=torch.float32),\n",
      "C:\\Users\\yda2\\Downloads\\projects\\master_project\\new_\\optimize.py:187: UserWarning: To copy construct from a tensor, it is recommended to use sourceTensor.clone().detach() or sourceTensor.clone().detach().requires_grad_(True), rather than torch.tensor(sourceTensor).\n",
      "  torch.tensor(individual[k, :, :], dtype=torch.float32),\n",
      "C:\\Users\\yda2\\Downloads\\projects\\master_project\\new_\\optimize.py:193: UserWarning: To copy construct from a tensor, it is recommended to use sourceTensor.clone().detach() or sourceTensor.clone().detach().requires_grad_(True), rather than torch.tensor(sourceTensor).\n",
      "  torch.tensor(individual[k, :, :], dtype=torch.float32),\n"
     ]
    }
   ],
   "source": [
    "p_ext = obj.parameter_extraction(individual=torch.from_numpy(ind), param_opt=\"not_all\", compartment_opt=True, trainable_compartment=2)\n",
    "p_ext1 = obj1.parameter_extraction(individual=tf.convert_to_tensor(ind), param_opt=True, compartment_opt=True, trainable_compartment=2)"
   ]
  },
  {
   "cell_type": "code",
   "execution_count": 8,
   "id": "55f18664-db22-4645-bc91-db1811316ddb",
   "metadata": {},
   "outputs": [
    {
     "name": "stdout",
     "output_type": "stream",
     "text": [
      "species_1 is trainable: True\n",
      "species_2 is trainable: False\n",
      "pair_1 is trainable: True\n",
      "compartment_1 is trainable: True\n",
      "compartment_2 is trainable: False\n",
      "species_1 is trainable: True\n",
      "species_2 is trainable: False\n",
      "pair_1 is trainable: True\n",
      "compartment_1 is trainable: True\n",
      "compartment_2 is trainable: False\n"
     ]
    }
   ],
   "source": [
    "for name, var in p_ext1[0][0].items():\n",
    "    print(f\"{name} is trainable: {var.trainable}\")\n",
    "for name, var in p_ext[0][0].items():\n",
    "    print(f\"{name} is trainable: {var.requires_grad}\")"
   ]
  },
  {
   "cell_type": "code",
   "execution_count": 9,
   "id": "50f5cb92-86d9-4dd8-ac64-645a862398d3",
   "metadata": {},
   "outputs": [
    {
     "name": "stdout",
     "output_type": "stream",
     "text": [
      "species_1 is trainable: False\n",
      "species_2 is trainable: True\n",
      "pair_1 is trainable: True\n",
      "compartment_1 is trainable: False\n",
      "compartment_2 is trainable: True\n",
      "species_1 is trainable: False\n",
      "species_2 is trainable: True\n",
      "pair_1 is trainable: True\n",
      "compartment_1 is trainable: False\n",
      "compartment_2 is trainable: True\n"
     ]
    }
   ],
   "source": [
    "for name, var in p_ext1[0][1].items():\n",
    "    print(f\"{name} is trainable: {var.trainable}\")\n",
    "for name, var in p_ext[0][1].items():\n",
    "    print(f\"{name} is trainable: {var.requires_grad}\")"
   ]
  },
  {
   "cell_type": "code",
   "execution_count": 10,
   "id": "5073c146-4720-4380-ab2c-00bf226142e1",
   "metadata": {},
   "outputs": [
    {
     "name": "stdout",
     "output_type": "stream",
     "text": [
      "([{'species_1': Parameter containing:\n",
      "tensor([0.6000, 0.1000, 0.9000], requires_grad=True), 'species_2': Parameter containing:\n",
      "tensor([0.1000, 0.3000, 0.4000]), 'pair_1': Parameter containing:\n",
      "tensor([1., 2., 3., 4.], requires_grad=True), 'compartment_1': Parameter containing:\n",
      "tensor([[0.9000, 0.9000, 0.0000, 0.0000, 0.0000],\n",
      "        [0.9000, 0.9000, 0.0000, 0.0000, 0.0000],\n",
      "        [0.9000, 0.9000, 0.0000, 0.0000, 0.0000],\n",
      "        [0.9000, 0.9000, 0.0000, 0.0000, 0.0000],\n",
      "        [0.9000, 0.9000, 0.0000, 0.0000, 0.0000]], requires_grad=True), 'compartment_2': Parameter containing:\n",
      "tensor([[1.5000, 1.5000, 1.5000, 0.0000, 0.0000],\n",
      "        [1.5000, 1.5000, 1.5000, 0.0000, 0.0000],\n",
      "        [1.5000, 1.5000, 1.5000, 0.0000, 0.0000],\n",
      "        [1.5000, 1.5000, 1.5000, 0.0000, 0.0000],\n",
      "        [1.5000, 1.5000, 1.5000, 0.0000, 0.0000]])}, {'species_1': Parameter containing:\n",
      "tensor([0.6000, 0.1000, 0.9000]), 'species_2': Parameter containing:\n",
      "tensor([0.1000, 0.3000, 0.4000], requires_grad=True), 'pair_1': Parameter containing:\n",
      "tensor([1., 2., 3., 4.], requires_grad=True), 'compartment_1': Parameter containing:\n",
      "tensor([[0.9000, 0.9000, 0.0000, 0.0000, 0.0000],\n",
      "        [0.9000, 0.9000, 0.0000, 0.0000, 0.0000],\n",
      "        [0.9000, 0.9000, 0.0000, 0.0000, 0.0000],\n",
      "        [0.9000, 0.9000, 0.0000, 0.0000, 0.0000],\n",
      "        [0.9000, 0.9000, 0.0000, 0.0000, 0.0000]]), 'compartment_2': Parameter containing:\n",
      "tensor([[1.5000, 1.5000, 1.5000, 0.0000, 0.0000],\n",
      "        [1.5000, 1.5000, 1.5000, 0.0000, 0.0000],\n",
      "        [1.5000, 1.5000, 1.5000, 0.0000, 0.0000],\n",
      "        [1.5000, 1.5000, 1.5000, 0.0000, 0.0000],\n",
      "        [1.5000, 1.5000, 1.5000, 0.0000, 0.0000]], requires_grad=True)}], 2, 1, 100, 20, tensor(0.2000))\n"
     ]
    }
   ],
   "source": [
    "print(p_ext)"
   ]
  },
  {
   "cell_type": "code",
   "execution_count": 11,
   "id": "0e1940b7-6660-4de5-8ab5-e163c79bc679",
   "metadata": {},
   "outputs": [
    {
     "name": "stdout",
     "output_type": "stream",
     "text": [
      "([{'species_1': <tf.Variable 'species_1:0' shape=(3,) dtype=float32, numpy=array([0.6, 0.1, 0.9], dtype=float32)>, 'species_2': <tf.Variable 'species_2:0' shape=(3,) dtype=float32, numpy=array([0.1, 0.3, 0.4], dtype=float32)>, 'pair_1': <tf.Variable 'pair_1:0' shape=(4,) dtype=float32, numpy=array([1., 2., 3., 4.], dtype=float32)>, 'compartment_1': <tf.Variable 'compartment_1:0' shape=(5, 5) dtype=float32, numpy=\n",
      "array([[0.9, 0.9, 0. , 0. , 0. ],\n",
      "       [0.9, 0.9, 0. , 0. , 0. ],\n",
      "       [0.9, 0.9, 0. , 0. , 0. ],\n",
      "       [0.9, 0.9, 0. , 0. , 0. ],\n",
      "       [0.9, 0.9, 0. , 0. , 0. ]], dtype=float32)>, 'compartment_2': <tf.Variable 'compartment_2:0' shape=(5, 5) dtype=float32, numpy=\n",
      "array([[1.5, 1.5, 1.5, 0. , 0. ],\n",
      "       [1.5, 1.5, 1.5, 0. , 0. ],\n",
      "       [1.5, 1.5, 1.5, 0. , 0. ],\n",
      "       [1.5, 1.5, 1.5, 0. , 0. ],\n",
      "       [1.5, 1.5, 1.5, 0. , 0. ]], dtype=float32)>}, {'species_1': <tf.Variable 'species_1:0' shape=(3,) dtype=float32, numpy=array([0.6, 0.1, 0.9], dtype=float32)>, 'species_2': <tf.Variable 'species_2:0' shape=(3,) dtype=float32, numpy=array([0.1, 0.3, 0.4], dtype=float32)>, 'pair_1': <tf.Variable 'pair_1:0' shape=(4,) dtype=float32, numpy=array([1., 2., 3., 4.], dtype=float32)>, 'compartment_1': <tf.Variable 'compartment_1:0' shape=(5, 5) dtype=float32, numpy=\n",
      "array([[0.9, 0.9, 0. , 0. , 0. ],\n",
      "       [0.9, 0.9, 0. , 0. , 0. ],\n",
      "       [0.9, 0.9, 0. , 0. , 0. ],\n",
      "       [0.9, 0.9, 0. , 0. , 0. ],\n",
      "       [0.9, 0.9, 0. , 0. , 0. ]], dtype=float32)>, 'compartment_2': <tf.Variable 'compartment_2:0' shape=(5, 5) dtype=float32, numpy=\n",
      "array([[1.5, 1.5, 1.5, 0. , 0. ],\n",
      "       [1.5, 1.5, 1.5, 0. , 0. ],\n",
      "       [1.5, 1.5, 1.5, 0. , 0. ],\n",
      "       [1.5, 1.5, 1.5, 0. , 0. ],\n",
      "       [1.5, 1.5, 1.5, 0. , 0. ]], dtype=float32)>}], 2, 1, 100, 20, <tf.Tensor: shape=(), dtype=float32, numpy=0.2>)\n"
     ]
    }
   ],
   "source": [
    "print(p_ext1)"
   ]
  },
  {
   "cell_type": "code",
   "execution_count": 70,
   "id": "1694525a-96f6-4e17-9ec9-f745624caf06",
   "metadata": {},
   "outputs": [],
   "source": [
    "ind1 = np.zeros((7, 5, 5), dtype=np.float32)\n",
    "ind1[-1, -1, :5] = (2.0, 1.0, 100, 20, .2)"
   ]
  },
  {
   "cell_type": "code",
   "execution_count": 71,
   "id": "a4d1847e-8c17-4585-8d02-ed1a2946eb51",
   "metadata": {},
   "outputs": [],
   "source": [
    "up1 = obj.update_parameters(individual=torch.from_numpy(ind1), parameters=p_ext[0], param_opt=True, trainable_compartment=2)\n",
    "up2 = obj1.update_parameters(individual=tf.convert_to_tensor(ind1), parameters=p_ext1[0], param_opt=True, trainable_compartment=2)"
   ]
  },
  {
   "cell_type": "code",
   "execution_count": 72,
   "id": "12504d2c-1af4-422f-afd2-bcb20e276c47",
   "metadata": {},
   "outputs": [
    {
     "name": "stdout",
     "output_type": "stream",
     "text": [
      "tensor([[[  0.0000,   0.0000,   0.0000,   0.0000,   0.0000],\n",
      "         [  0.0000,   0.0000,   0.0000,   0.0000,   0.0000],\n",
      "         [  0.0000,   0.0000,   0.0000,   0.0000,   0.0000],\n",
      "         [  0.0000,   0.0000,   0.0000,   0.0000,   0.0000],\n",
      "         [  0.0000,   0.0000,   0.0000,   0.0000,   0.0000]],\n",
      "\n",
      "        [[  0.9000,   0.9000,   0.0000,   0.0000,   0.0000],\n",
      "         [  0.9000,   0.9000,   0.0000,   0.0000,   0.0000],\n",
      "         [  0.9000,   0.9000,   0.0000,   0.0000,   0.0000],\n",
      "         [  0.9000,   0.9000,   0.0000,   0.0000,   0.0000],\n",
      "         [  0.9000,   0.9000,   0.0000,   0.0000,   0.0000]],\n",
      "\n",
      "        [[  0.0000,   0.0000,   0.0000,   0.0000,   0.0000],\n",
      "         [  0.0000,   0.0000,   0.0000,   0.0000,   0.0000],\n",
      "         [  0.0000,   0.0000,   0.0000,   0.0000,   0.0000],\n",
      "         [  0.0000,   0.0000,   0.0000,   0.0000,   0.0000],\n",
      "         [  0.0000,   0.0000,   0.0000,   0.0000,   0.0000]],\n",
      "\n",
      "        [[  1.5000,   1.5000,   1.5000,   0.0000,   0.0000],\n",
      "         [  1.5000,   1.5000,   1.5000,   0.0000,   0.0000],\n",
      "         [  1.5000,   1.5000,   1.5000,   0.0000,   0.0000],\n",
      "         [  1.5000,   1.5000,   1.5000,   0.0000,   0.0000],\n",
      "         [  1.5000,   1.5000,   1.5000,   0.0000,   0.0000]],\n",
      "\n",
      "        [[  0.0000,   0.0000,   0.0000,   0.0000,   0.0000],\n",
      "         [  0.0000,   0.0000,   0.0000,   0.0000,   0.0000],\n",
      "         [  0.0000,   0.0000,   0.0000,   0.0000,   0.0000],\n",
      "         [  0.0000,   0.0000,   0.0000,   0.0000,   0.0000],\n",
      "         [  0.0000,   0.0000,   0.0000,   0.0000,   0.0000]],\n",
      "\n",
      "        [[  0.0000,   0.0000,   0.0000,   0.0000,   0.0000],\n",
      "         [  1.0000,   2.0000,   3.0000,   4.0000,   0.0000],\n",
      "         [  0.0000,   0.0000,   0.0000,   0.0000,   0.0000],\n",
      "         [  0.0000,   0.0000,   0.0000,   0.0000,   0.0000],\n",
      "         [  0.0000,   0.0000,   0.0000,   0.0000,   0.0000]],\n",
      "\n",
      "        [[  0.6000,   0.1000,   0.9000,   0.0000,   0.0000],\n",
      "         [  0.0000,   0.0000,   0.0000,   0.0000,   0.0000],\n",
      "         [  0.1000,   0.3000,   0.4000,   0.0000,   0.0000],\n",
      "         [  0.0000,   0.0000,   0.0000,   0.0000,   0.0000],\n",
      "         [  2.0000,   1.0000, 100.0000,  20.0000,   0.2000]]],\n",
      "       grad_fn=<CopySlices>)\n",
      "tf.Tensor(\n",
      "[[[  0.    0.    0.    0.    0. ]\n",
      "  [  0.    0.    0.    0.    0. ]\n",
      "  [  0.    0.    0.    0.    0. ]\n",
      "  [  0.    0.    0.    0.    0. ]\n",
      "  [  0.    0.    0.    0.    0. ]]\n",
      "\n",
      " [[  0.9   0.9   0.    0.    0. ]\n",
      "  [  0.9   0.9   0.    0.    0. ]\n",
      "  [  0.9   0.9   0.    0.    0. ]\n",
      "  [  0.9   0.9   0.    0.    0. ]\n",
      "  [  0.9   0.9   0.    0.    0. ]]\n",
      "\n",
      " [[  0.    0.    0.    0.    0. ]\n",
      "  [  0.    0.    0.    0.    0. ]\n",
      "  [  0.    0.    0.    0.    0. ]\n",
      "  [  0.    0.    0.    0.    0. ]\n",
      "  [  0.    0.    0.    0.    0. ]]\n",
      "\n",
      " [[  1.5   1.5   1.5   0.    0. ]\n",
      "  [  1.5   1.5   1.5   0.    0. ]\n",
      "  [  1.5   1.5   1.5   0.    0. ]\n",
      "  [  1.5   1.5   1.5   0.    0. ]\n",
      "  [  1.5   1.5   1.5   0.    0. ]]\n",
      "\n",
      " [[  0.    0.    0.    0.    0. ]\n",
      "  [  0.    0.    0.    0.    0. ]\n",
      "  [  0.    0.    0.    0.    0. ]\n",
      "  [  0.    0.    0.    0.    0. ]\n",
      "  [  0.    0.    0.    0.    0. ]]\n",
      "\n",
      " [[  0.    0.    0.    0.    0. ]\n",
      "  [  1.    2.    3.    4.    0. ]\n",
      "  [  0.    0.    0.    0.    0. ]\n",
      "  [  0.    0.    0.    0.    0. ]\n",
      "  [  0.    0.    0.    0.    0. ]]\n",
      "\n",
      " [[  0.6   0.1   0.9   0.    0. ]\n",
      "  [  0.    0.    0.    0.    0. ]\n",
      "  [  0.1   0.3   0.4   0.    0. ]\n",
      "  [  0.    0.    0.    0.    0. ]\n",
      "  [  2.    1.  100.   20.    0.2]]], shape=(7, 5, 5), dtype=float32)\n"
     ]
    }
   ],
   "source": [
    "print(up1)\n",
    "print(up2)"
   ]
  },
  {
   "cell_type": "code",
   "execution_count": 77,
   "id": "c2a82bc3-af99-42df-a375-1123fc0e8e93",
   "metadata": {},
   "outputs": [],
   "source": [
    "n = torch.nn.Parameter(torch.tensor([1,2,3,4,5]), requires_grad=False)\n",
    "m = torch.nn.Parameter(torch.tensor([10, 20, 30, 40, 50]), requires_grad=False)\n",
    "b = torch.nn.Parameter(torch.tensor([100, 20, 3, 4, 60]), requires_grad=False)\n",
    "g = [n, m, b]"
   ]
  },
  {
   "cell_type": "code",
   "execution_count": null,
   "id": "a3a551c5-344b-45ac-9205-5697159cdab8",
   "metadata": {},
   "outputs": [],
   "source": []
  },
  {
   "cell_type": "code",
   "execution_count": 10,
   "id": "24f034be-ce1e-49dd-b570-68d15e4c873c",
   "metadata": {},
   "outputs": [
    {
     "name": "stdout",
     "output_type": "stream",
     "text": [
      "Before updating:\n",
      "Dictionary 0: {'species_1': Parameter containing:\n",
      "tensor([0.6000, 0.1000, 0.9000], requires_grad=True), 'species_2': Parameter containing:\n",
      "tensor([0., 0., 0.]), 'pair_1': Parameter containing:\n",
      "tensor([1., 2., 3.], requires_grad=True), 'pair_2': Parameter containing:\n",
      "tensor([4., 5., 6.], requires_grad=True)}\n",
      "Dictionary 1: {'species_1': Parameter containing:\n",
      "tensor([0., 0., 0.]), 'species_2': Parameter containing:\n",
      "tensor([0.1000, 0.3000, 0.4000], requires_grad=True), 'pair_1': Parameter containing:\n",
      "tensor([1.5000, 2.5000, 3.5000], requires_grad=True), 'pair_2': Parameter containing:\n",
      "tensor([4.5000, 5.5000, 6.5000], requires_grad=True)}\n",
      "Dictionary 2: {'species_1': Parameter containing:\n",
      "tensor([0.0200, 0.0200, 0.0200]), 'species_2': Parameter containing:\n",
      "tensor([0.1000, 0.3000, 0.4000], requires_grad=True), 'pair_1': Parameter containing:\n",
      "tensor([11.5000, 22.5000, 32.5000], requires_grad=True), 'pair_2': Parameter containing:\n",
      "tensor([41.5000, 52.5000, 61.5000], requires_grad=True)}\n",
      "\n",
      "After updating:\n",
      "Dictionary 0: {'species_1': Parameter containing:\n",
      "tensor([0.6000, 0.1000, 0.9000], requires_grad=True), 'species_2': Parameter containing:\n",
      "tensor([0.1000, 0.3000, 0.4000]), 'pair_1': Parameter containing:\n",
      "tensor([ 4.6667,  9.0000, 13.0000], requires_grad=True), 'pair_2': Parameter containing:\n",
      "tensor([16.6667, 21.0000, 24.6667], requires_grad=True)}\n",
      "Dictionary 1: {'species_1': Parameter containing:\n",
      "tensor([0.6000, 0.1000, 0.9000]), 'species_2': Parameter containing:\n",
      "tensor([0.1000, 0.3000, 0.4000], requires_grad=True), 'pair_1': Parameter containing:\n",
      "tensor([ 4.6667,  9.0000, 13.0000], requires_grad=True), 'pair_2': Parameter containing:\n",
      "tensor([16.6667, 21.0000, 24.6667], requires_grad=True)}\n",
      "Dictionary 2: {'species_1': Parameter containing:\n",
      "tensor([0.6000, 0.1000, 0.9000]), 'species_2': Parameter containing:\n",
      "tensor([0.1000, 0.3000, 0.4000], requires_grad=True), 'pair_1': Parameter containing:\n",
      "tensor([ 4.6667,  9.0000, 13.0000], requires_grad=True), 'pair_2': Parameter containing:\n",
      "tensor([16.6667, 21.0000, 24.6667], requires_grad=True)}\n"
     ]
    }
   ],
   "source": [
    "params = [\n",
    "        {\n",
    "            'species_1': torch.nn.Parameter(torch.tensor([0.6, 0.1, 0.9], requires_grad=True)),\n",
    "            'species_2': torch.nn.Parameter(torch.tensor([0.0, 0.0, 0.0]), requires_grad=False),\n",
    "            'pair_1': torch.nn.Parameter(torch.tensor([1.0, 2.0, 3.0], requires_grad=True)),\n",
    "            'pair_2': torch.nn.Parameter(torch.tensor([4.0, 5.0, 6.0], requires_grad=True)),\n",
    "        },\n",
    "        {\n",
    "            'species_1': torch.nn.Parameter(torch.tensor([0.0, 0.0, 0.0]), requires_grad=False),\n",
    "            'species_2': torch.nn.Parameter(torch.tensor([0.1, 0.3, 0.4], requires_grad=True)),\n",
    "            'pair_1': torch.nn.Parameter(torch.tensor([1.5, 2.5, 3.5], requires_grad=True)),\n",
    "            'pair_2': torch.nn.Parameter(torch.tensor([4.5, 5.5, 6.5]), requires_grad=True),\n",
    "        },\n",
    "        {\n",
    "            'species_1': torch.nn.Parameter(torch.tensor([0.02, 0.02, 0.02]), requires_grad=False),\n",
    "            'species_2': torch.nn.Parameter(torch.tensor([0.1, 0.3, 0.4], requires_grad=True)),\n",
    "            'pair_1': torch.nn.Parameter(torch.tensor([11.5, 22.5, 32.5], requires_grad=True)),\n",
    "            'pair_2': torch.nn.Parameter(torch.tensor([41.5, 52.5, 61.5]), requires_grad=True),\n",
    "        }\n",
    "    ]\n",
    "\n",
    "# Before updating\n",
    "print(\"Before updating:\")\n",
    "for i, p in enumerate(params):\n",
    "    print(f\"Dictionary {i}: {p}\")\n",
    "\n",
    "info1 = obj.share_information(params)\n",
    "\n",
    "  \n",
    "\n",
    "\n",
    "\n",
    "# Call the share_information function\n",
    "\n",
    "\n",
    "# After updating\n",
    "print(\"\\nAfter updating:\")\n",
    "for i, p in enumerate(info1):\n",
    "    print(f\"Dictionary {i}: {p}\")"
   ]
  },
  {
   "cell_type": "code",
   "execution_count": null,
   "id": "d72b2a52-c6a5-4038-ba9c-c49dcc49c190",
   "metadata": {},
   "outputs": [],
   "source": []
  },
  {
   "cell_type": "code",
   "execution_count": 8,
   "id": "1fd7b074-5b9f-4b8f-a82f-9c48299fd262",
   "metadata": {},
   "outputs": [
    {
     "name": "stdout",
     "output_type": "stream",
     "text": [
      "[{'species_1': tensor([0.6000, 0.1000, 0.9000], requires_grad=True), 'species_2': tensor([0.1000, 0.3000, 0.4000]), 'pair_1': tensor([ 5.5000,  7.0000, 17.0000,  9.0000], grad_fn=<MeanBackward1>), 'compartment_1': tensor([[0.9000, 0.9000, 0.0000, 0.0000, 0.0000],\n",
      "        [0.9000, 0.9000, 0.0000, 0.0000, 0.0000],\n",
      "        [0.9000, 0.9000, 0.0000, 0.0000, 0.0000],\n",
      "        [0.9000, 0.9000, 0.0000, 0.0000, 0.0000],\n",
      "        [0.9000, 0.9000, 0.0000, 0.0000, 0.0000]], requires_grad=True), 'compartment_2': tensor([[1.5000, 1.5000, 1.5000, 0.0000, 0.0000],\n",
      "        [1.5000, 1.5000, 1.5000, 0.0000, 0.0000],\n",
      "        [1.5000, 1.5000, 1.5000, 0.0000, 0.0000],\n",
      "        [1.5000, 1.5000, 1.5000, 0.0000, 0.0000],\n",
      "        [1.5000, 1.5000, 1.5000, 0.0000, 0.0000]])}, {'species_1': tensor([0.6000, 0.1000, 0.9000]), 'species_2': tensor([0.1000, 0.3000, 0.4000], requires_grad=True), 'pair_1': tensor([ 5.5000,  7.0000, 17.0000,  9.0000], grad_fn=<MeanBackward1>), 'compartment_1': tensor([[0.9000, 0.9000, 0.0000, 0.0000, 0.0000],\n",
      "        [0.9000, 0.9000, 0.0000, 0.0000, 0.0000],\n",
      "        [0.9000, 0.9000, 0.0000, 0.0000, 0.0000],\n",
      "        [0.9000, 0.9000, 0.0000, 0.0000, 0.0000],\n",
      "        [0.9000, 0.9000, 0.0000, 0.0000, 0.0000]]), 'compartment_2': tensor([[1.5000, 1.5000, 1.5000, 0.0000, 0.0000],\n",
      "        [1.5000, 1.5000, 1.5000, 0.0000, 0.0000],\n",
      "        [1.5000, 1.5000, 1.5000, 0.0000, 0.0000],\n",
      "        [1.5000, 1.5000, 1.5000, 0.0000, 0.0000],\n",
      "        [1.5000, 1.5000, 1.5000, 0.0000, 0.0000]], requires_grad=True)}]\n"
     ]
    }
   ],
   "source": [
    "\n",
    "\n",
    "# Assuming p_ext is your list of dictionaries\n",
    "p_ext = [{'species_1': torch.tensor([0.6000, 0.1000, 0.9000], requires_grad=True),\n",
    "          'species_2': torch.tensor([0.1000, 0.3000, 0.4000]),\n",
    "          'pair_1': torch.tensor([1., 2., 3., 4.], requires_grad=True),\n",
    "          'compartment_1': torch.tensor([[0.9000, 0.9000, 0.0000, 0.0000, 0.0000],\n",
    "                                         [0.9000, 0.9000, 0.0000, 0.0000, 0.0000],\n",
    "                                         [0.9000, 0.9000, 0.0000, 0.0000, 0.0000],\n",
    "                                         [0.9000, 0.9000, 0.0000, 0.0000, 0.0000],\n",
    "                                         [0.9000, 0.9000, 0.0000, 0.0000, 0.0000]], requires_grad=True),\n",
    "          'compartment_2': torch.tensor([[1.5000, 1.5000, 1.5000, 0.0000, 0.0000],\n",
    "                                         [1.5000, 1.5000, 1.5000, 0.0000, 0.0000],\n",
    "                                         [1.5000, 1.5000, 1.5000, 0.0000, 0.0000],\n",
    "                                         [1.5000, 1.5000, 1.5000, 0.0000, 0.0000],\n",
    "                                         [1.5000, 1.5000, 1.5000, 0.0000, 0.0000]])},\n",
    "         {'species_1': torch.tensor([0.6000, 0.1000, 0.9000]),\n",
    "          'species_2': torch.tensor([0.1000, 0.3000, 0.4000], requires_grad=True),\n",
    "          'pair_1': torch.tensor([10., 12., 31., 14.], requires_grad=True),\n",
    "          'compartment_1': torch.tensor([[0.9000, 0.9000, 0.0000, 0.0000, 0.0000],\n",
    "                                         [0.9000, 0.9000, 0.0000, 0.0000, 0.0000],\n",
    "                                         [0.9000, 0.9000, 0.0000, 0.0000, 0.0000],\n",
    "                                         [0.9000, 0.9000, 0.0000, 0.0000, 0.0000],\n",
    "                                         [0.9000, 0.9000, 0.0000, 0.0000, 0.0000]]),\n",
    "          'compartment_2': torch.tensor([[1.5000, 1.5000, 1.5000, 0.0000, 0.0000],\n",
    "                                         [1.5000, 1.5000, 1.5000, 0.0000, 0.0000],\n",
    "                                         [1.5000, 1.5000, 1.5000, 0.0000, 0.0000],\n",
    "                                         [1.5000, 1.5000, 1.5000, 0.0000, 0.0000],\n",
    "                                         [1.5000, 1.5000, 1.5000, 0.0000, 0.0000]], requires_grad=True)}]\n",
    "\n",
    "# Extract pair_1 tensors from all dictionaries\n",
    "pair_1_list = [d['pair_1'] for d in p_ext]\n",
    "\n",
    "# Calculate the element-wise mean\n",
    "mean_pair_1 = torch.mean(torch.stack(pair_1_list), dim=0)\n",
    "\n",
    "# Update pair_1 in each dictionary with the mean value\n",
    "for d in p_ext:\n",
    "    d['pair_1'] = mean_pair_1\n",
    "\n",
    "# Verify the update\n",
    "print(p_ext)\n"
   ]
  },
  {
   "cell_type": "code",
   "execution_count": 14,
   "id": "e2e7decf-1447-4559-8eb2-c0029f0456c3",
   "metadata": {},
   "outputs": [],
   "source": [
    "ind = torch.zeros((7, 50, 50))\n",
    "ind[-1, -1, :5] = torch.tensor([2,1,100,20,.2])\n",
    "#ind[]\n",
    "ind[0, :, :] = 1.02\n",
    "ind[2, :, :] = 2.1\n",
    "ind[4, :, :] = 3.2\n",
    "ind[1, :, :] = 1.02\n",
    "ind[3, :, :] = 2.1\n",
    "ind[5, :, :] = 3.2"
   ]
  },
  {
   "cell_type": "code",
   "execution_count": 15,
   "id": "0e8320be-08d0-4100-9621-a4f146cda6a8",
   "metadata": {},
   "outputs": [],
   "source": [
    "init = obj.init_individual(ind)"
   ]
  },
  {
   "cell_type": "code",
   "execution_count": 16,
   "id": "2805e274-3559-435c-affb-889d273611d0",
   "metadata": {},
   "outputs": [
    {
     "data": {
      "text/plain": [
       "tensor([[[  0.0000,   0.0000,   0.0000,  ...,   0.0000,   0.0000,   0.0000],\n",
       "         [  0.0000,   0.0000,   0.0000,  ...,   0.0000,   0.0000,   0.0000],\n",
       "         [  0.0000,   0.0000,   0.0000,  ...,   0.0000,   0.0000,   0.0000],\n",
       "         ...,\n",
       "         [  0.0000,   0.0000,   0.0000,  ...,   0.0000,   0.0000,   0.0000],\n",
       "         [  0.0000,   0.0000,   0.0000,  ...,   0.0000,   0.0000,   0.0000],\n",
       "         [  0.0000,   0.0000,   0.0000,  ...,   0.0000,   0.0000,   0.0000]],\n",
       "\n",
       "        [[  1.0200,   1.0200,   1.0200,  ...,   1.0200,   1.0200,   1.0200],\n",
       "         [  1.0200,   1.0200,   1.0200,  ...,   1.0200,   1.0200,   1.0200],\n",
       "         [  1.0200,   1.0200,   1.0200,  ...,   1.0200,   1.0200,   1.0200],\n",
       "         ...,\n",
       "         [  1.0200,   1.0200,   1.0200,  ...,   1.0200,   1.0200,   1.0200],\n",
       "         [  1.0200,   1.0200,   1.0200,  ...,   1.0200,   1.0200,   1.0200],\n",
       "         [  1.0200,   1.0200,   1.0200,  ...,   1.0200,   1.0200,   1.0200]],\n",
       "\n",
       "        [[  0.0000,   0.0000,   0.0000,  ...,   0.0000,   0.0000,   0.0000],\n",
       "         [  0.0000,   0.0000,   0.0000,  ...,   0.0000,   0.0000,   0.0000],\n",
       "         [  0.0000,   0.0000,   0.0000,  ...,   0.0000,   0.0000,   0.0000],\n",
       "         ...,\n",
       "         [  0.0000,   0.0000,   0.0000,  ...,   0.0000,   0.0000,   0.0000],\n",
       "         [  0.0000,   0.0000,   0.0000,  ...,   0.0000,   0.0000,   0.0000],\n",
       "         [  0.0000,   0.0000,   0.0000,  ...,   0.0000,   0.0000,   0.0000]],\n",
       "\n",
       "        ...,\n",
       "\n",
       "        [[  0.0000,   0.0000,   0.0000,  ...,   0.0000,   0.0000,   0.0000],\n",
       "         [  0.0000,   0.0000,   0.0000,  ...,   0.0000,   0.0000,   0.0000],\n",
       "         [  0.0000,   0.0000,   0.0000,  ...,   0.0000,   0.0000,   0.0000],\n",
       "         ...,\n",
       "         [  0.0000,   0.0000,   0.0000,  ...,   0.0000,   0.0000,   0.0000],\n",
       "         [  0.0000,   0.0000,   0.0000,  ...,   0.0000,   0.0000,   0.0000],\n",
       "         [  0.0000,   0.0000,   0.0000,  ...,   0.0000,   0.0000,   0.0000]],\n",
       "\n",
       "        [[  3.2000,   3.2000,   3.2000,  ...,   3.2000,   3.2000,   3.2000],\n",
       "         [  3.2000,   3.2000,   3.2000,  ...,   3.2000,   3.2000,   3.2000],\n",
       "         [  3.2000,   3.2000,   3.2000,  ...,   3.2000,   3.2000,   3.2000],\n",
       "         ...,\n",
       "         [  3.2000,   3.2000,   3.2000,  ...,   3.2000,   3.2000,   3.2000],\n",
       "         [  3.2000,   3.2000,   3.2000,  ...,   3.2000,   3.2000,   3.2000],\n",
       "         [  3.2000,   3.2000,   3.2000,  ...,   3.2000,   3.2000,   3.2000]],\n",
       "\n",
       "        [[  0.0000,   0.0000,   0.0000,  ...,   0.0000,   0.0000,   0.0000],\n",
       "         [  0.0000,   0.0000,   0.0000,  ...,   0.0000,   0.0000,   0.0000],\n",
       "         [  0.0000,   0.0000,   0.0000,  ...,   0.0000,   0.0000,   0.0000],\n",
       "         ...,\n",
       "         [  0.0000,   0.0000,   0.0000,  ...,   0.0000,   0.0000,   0.0000],\n",
       "         [  0.0000,   0.0000,   0.0000,  ...,   0.0000,   0.0000,   0.0000],\n",
       "         [  2.0000,   1.0000, 100.0000,  ...,   0.0000,   0.0000,   0.0000]]])"
      ]
     },
     "execution_count": 16,
     "metadata": {},
     "output_type": "execute_result"
    }
   ],
   "source": [
    "init"
   ]
  },
  {
   "cell_type": "code",
   "execution_count": 19,
   "id": "ebe5a59b-6166-4734-bcad-a3bed420b976",
   "metadata": {},
   "outputs": [],
   "source": [
    "cost_ = obj.compute_cost_(y_hat=init[1,:,:], target=init[3, :, :], alpha=0.2, beta=0.4, max_val=1.0)\n",
    "cost1_ = obj1.compute_cost_(y_hat=init[1,:,:], target=init[3, :, :], alpha=0.2, beta=0.4, max_val=1.0)"
   ]
  },
  {
   "cell_type": "code",
   "execution_count": 18,
   "id": "b9fe05e4-3044-44ec-9d83-69c529bedf0f",
   "metadata": {},
   "outputs": [
    {
     "data": {
      "text/plain": [
       "tensor(0.3173)"
      ]
     },
     "execution_count": 18,
     "metadata": {},
     "output_type": "execute_result"
    }
   ],
   "source": [
    "cost_"
   ]
  },
  {
   "cell_type": "code",
   "execution_count": 20,
   "id": "a848364a-081f-4133-8b64-3d1ff92a8eab",
   "metadata": {},
   "outputs": [
    {
     "data": {
      "text/plain": [
       "<tf.Tensor: shape=(), dtype=float32, numpy=0.31887925>"
      ]
     },
     "execution_count": 20,
     "metadata": {},
     "output_type": "execute_result"
    }
   ],
   "source": [
    "cost1_"
   ]
  },
  {
   "cell_type": "code",
   "execution_count": null,
   "id": "b552b76a-25a9-4914-9d8a-48cca1fd2a64",
   "metadata": {},
   "outputs": [],
   "source": []
  }
 ],
 "metadata": {
  "kernelspec": {
   "display_name": "Python 3 (ipykernel)",
   "language": "python",
   "name": "python3"
  },
  "language_info": {
   "codemirror_mode": {
    "name": "ipython",
    "version": 3
   },
   "file_extension": ".py",
   "mimetype": "text/x-python",
   "name": "python",
   "nbconvert_exporter": "python",
   "pygments_lexer": "ipython3",
   "version": "3.12.2"
  }
 },
 "nbformat": 4,
 "nbformat_minor": 5
}
