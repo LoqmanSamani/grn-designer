{
 "cells": [
  {
   "cell_type": "code",
   "execution_count": 2,
   "id": "bdec8edb-1b19-442f-bcbb-8b795011a3e6",
   "metadata": {},
   "outputs": [],
   "source": [
    "import numpy as np\n",
    "from numba import jit\n",
    "import time"
   ]
  },
  {
   "cell_type": "code",
   "execution_count": 4,
   "id": "4d0cff2f-09e5-4101-aa86-055b0544cb6e",
   "metadata": {},
   "outputs": [
    {
     "name": "stdout",
     "output_type": "stream",
     "text": [
      "Original function: 52.27899646759033 seconds\n",
      "JIT-compiled function: 0.4311337471008301 seconds\n"
     ]
    }
   ],
   "source": [
    "\n",
    "def sum_of_squares(arr):\n",
    "    result = 0\n",
    "    for x in arr:\n",
    "        result += x ** 2\n",
    "    return result\n",
    "\n",
    "@jit\n",
    "def jit_sum_of_squares(arr):\n",
    "    result = 0\n",
    "    for x in arr:\n",
    "        result += x ** 2\n",
    "    return result\n",
    "\n",
    "\n",
    "arr = np.random.rand(100000000)\n",
    "\n",
    "\n",
    "start_time = time.time()\n",
    "result = sum_of_squares(arr)\n",
    "end_time = time.time()\n",
    "print(\"Original function:\", end_time - start_time, \"seconds\")\n",
    "\n",
    "start_time = time.time()\n",
    "jit_result = jit_sum_of_squares(arr)\n",
    "end_time = time.time()\n",
    "print(\"JIT-compiled function:\", end_time - start_time, \"seconds\")"
   ]
  },
  {
   "cell_type": "code",
   "execution_count": null,
   "id": "a3775c42-ca09-4400-be2e-c286c5771e70",
   "metadata": {},
   "outputs": [],
   "source": []
  }
 ],
 "metadata": {
  "kernelspec": {
   "display_name": "Python 3 (ipykernel)",
   "language": "python",
   "name": "python3"
  },
  "language_info": {
   "codemirror_mode": {
    "name": "ipython",
    "version": 3
   },
   "file_extension": ".py",
   "mimetype": "text/x-python",
   "name": "python",
   "nbconvert_exporter": "python",
   "pygments_lexer": "ipython3",
   "version": "3.10.12"
  }
 },
 "nbformat": 4,
 "nbformat_minor": 5
}
