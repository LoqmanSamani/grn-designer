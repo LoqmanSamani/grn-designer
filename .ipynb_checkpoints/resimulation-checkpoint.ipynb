{
 "cells": [
  {
   "cell_type": "code",
   "execution_count": 2,
   "id": "b1f68a68-0886-4476-bd02-7e3801b86ffe",
   "metadata": {},
   "outputs": [],
   "source": [
    "import numpy as np\n",
    "import matplotlib.pyplot as plt\n",
    "import time"
   ]
  },
  {
   "cell_type": "markdown",
   "id": "ba2258ad-f951-48e1-abcf-709cb7625c98",
   "metadata": {},
   "source": [
    "<h3><b>Model Definition</b></h3>\n",
    "\n",
    "<p>The model describes the <b>time-evolution</b> of the <b>relative distributions (concentrations)</b> of a <b>diffusing free morphogen</b> (i.e., GFP or mCherry-PNE), its <b>inhibitor</b> when applicable, and <b>a non-diffusing secondary signal</b> following the trapping of the free morphogen by\n",
    "anchors.</p>\n",
    "                                \n",
    "<p>The base parameter values used in all simulations unless otherwise stated are: <b>D = 0.01, 𝑘𝜌𝑎 = 𝑘𝜌𝑖 = 1e-07, 𝑘𝑑𝑒𝑔= 0.02, 𝑘𝑠𝑟𝑐 𝑚 = 1.0</b>. A fixed off-rate was assumed for all inhibitors and anchors <b>𝑘𝑜𝑓𝑓 𝑖 = 𝑘𝑜𝑓𝑓 𝑎 = 2e-4</b>, and the corresponding on-rates where directly computed from the known dissociation constants <b>Kd as 𝑘𝑜𝑛 = 𝑘𝑜𝑓𝑓 / 𝐾𝑑</b>. </p>"
   ]
  },
  {
   "cell_type": "code",
   "execution_count": 21,
   "id": "b7373870-48e3-47b8-85bc-f87d76f97b8a",
   "metadata": {},
   "outputs": [],
   "source": [
    "def initialize_species(fm_init, tm_init, fi_init, bi_init, start, stop, num_epochs):\n",
    "    \"\"\"\n",
    "    Args:\n",
    "        - fm_init: initial concentration of free morphogen, integer or float\n",
    "        - tm_init: initial concentration of trapped morphogen, integer or float\n",
    "        - fi_init: initial concentration of free inhibitor, integer or float\n",
    "        - bi_init: initial concentration of bound inhibitor, integer of float\n",
    "        - start: start time of the simulation, integer of float\n",
    "        - stop: stop time of the simulation, integer or float\n",
    "        - num_epochs: number of simulation epochs, integer\n",
    "    Returns:\n",
    "        - species: a dictionary contains initialized time and species arrays\n",
    "    \"\"\"\n",
    "    time = np.linspace(start, stop, num_epochs)\n",
    "    fM_conc = np.zeros(num_epochs)\n",
    "    tM_conc = np.zeros(num_epochs)\n",
    "    fI_conc = np.zeros(num_epochs)\n",
    "    bI_conc = np.zeros(num_epochs)\n",
    "\n",
    "    fM_conc[0] = fm_init\n",
    "    tM_conc[0] = tm_init\n",
    "    fI_conc[0] = fi_init\n",
    "    bI_conc[0] = bi_init\n",
    "\n",
    "    species = {\n",
    "        \"Simulation Time\": time,\n",
    "        \"Free Morphogen\": fM_conc,\n",
    "        \"Trapped Morphogen\": tM_conc,\n",
    "        \"Free Inhibitor\": fI_conc,\n",
    "        \"Bound Inhibitor\": bI_conc\n",
    "    }\n",
    "\n",
    "    return species    "
   ]
  },
  {
   "cell_type": "code",
   "execution_count": 22,
   "id": "4e5312bd-de20-4dc7-a237-a7654dc5b0af",
   "metadata": {},
   "outputs": [
    {
     "name": "stdout",
     "output_type": "stream",
     "text": [
      "{'Simulation Time': array([ 0.        ,  0.52631579,  1.05263158,  1.57894737,  2.10526316,\n",
      "        2.63157895,  3.15789474,  3.68421053,  4.21052632,  4.73684211,\n",
      "        5.26315789,  5.78947368,  6.31578947,  6.84210526,  7.36842105,\n",
      "        7.89473684,  8.42105263,  8.94736842,  9.47368421, 10.        ]), 'Free Morphogen': array([10.,  0.,  0.,  0.,  0.,  0.,  0.,  0.,  0.,  0.,  0.,  0.,  0.,\n",
      "        0.,  0.,  0.,  0.,  0.,  0.,  0.]), 'Trapped Morphogen': array([100.,   0.,   0.,   0.,   0.,   0.,   0.,   0.,   0.,   0.,   0.,\n",
      "         0.,   0.,   0.,   0.,   0.,   0.,   0.,   0.,   0.]), 'Free Inhibitor': array([12.,  0.,  0.,  0.,  0.,  0.,  0.,  0.,  0.,  0.,  0.,  0.,  0.,\n",
      "        0.,  0.,  0.,  0.,  0.,  0.,  0.]), 'Bound Inhibitor': array([32.2,  0. ,  0. ,  0. ,  0. ,  0. ,  0. ,  0. ,  0. ,  0. ,  0. ,\n",
      "        0. ,  0. ,  0. ,  0. ,  0. ,  0. ,  0. ,  0. ,  0. ])}\n"
     ]
    }
   ],
   "source": [
    "test1 = initialize_species(10, 100, 12, 32.2, 0.0, 10, 20)\n",
    "print(test1)"
   ]
  },
  {
   "cell_type": "code",
   "execution_count": 40,
   "id": "96dd214d-7932-46ed-9f24-f3a2dcdc1480",
   "metadata": {},
   "outputs": [],
   "source": [
    "def compute_concentration_changes(fm, tm, fi, bi, cons): \n",
    "    \"\"\"\n",
    "    Args:\n",
    "       - fm: free Morphogen concentration, integer or float\n",
    "       - tm: trapped Morphogen concentration, integer or float\n",
    "       - fi: free inhibitor concentration, integer or float\n",
    "       - bi: bound inhibitor concentration, integer or float\n",
    "       -cons: a dictionary contains rate constants for all reactions in the system\n",
    "              k_fm: free Morphogen rate constant, integer or float\n",
    "              k_fi: free Inhibitor rate constant, integer or float\n",
    "              k_ib_on: inhibitr binding rate constant (on), integer or float\n",
    "              k_ib_off: inhibitor binding rate constant (off), integer or float\n",
    "              k_ab_on: anchor binding rate constant (on), integer or float\n",
    "              k_ab_off: anchor binding rate constant (off), integer or float\n",
    "              kd_fm: free morphogen degradation rate constant, integer or float\n",
    "              kd_tm: trapped morphogen degradation rate constan, integer or float\n",
    "              kd_fi: free inhibitor degradation rate constant, integer or float\n",
    "              kd_bi: bound inhibitor degradation rate constant, integer or float\n",
    "              kp_a: effective anchor concentration rate constant, integer or float\n",
    "              kp_i: effective inhibitor concentration rate constant, integer or float\n",
    "              md: morphogen diffusion rate constant, integer or float\n",
    "              id: inhibitor diffusion rate constant, integer or float\n",
    "    Returns:\n",
    "       - d_fm: chnage in concentration of free morphogen, integer or float\n",
    "       - d_fi: change in concentration of free inhibitor, integer or float\n",
    "       - d_tm: change in concentration of trapped morphogen, integer or float\n",
    "       - d_bi: change in concentration of bound inhibitor, integer or float\n",
    "    \"\"\"\n",
    "    d_fm = (cons[\"md\"]*fm) - (cons[\"k_ib_on\"]*cons[\"kp_i\"]*fm*fi) + (cons[\"k_ib_off\"]*bi) - (cons[\"k_ab_on\"]*cons[\"kp_a\"]*fm*(1-tm)) + (cons[\"k_ab_off\"]*tm) + cons[\"kd_fm\"]*fm\n",
    "    d_fi = (cons[\"id\"]*fi) - (cons[\"k_ib_on\"]*cons[\"kp_i\"]*fm*fi) + (cons[\"k_ib_off\"]*bi) - (cons[\"kd_fi\"]*fi)\n",
    "    d_tm = (cons[\"k_ab_on\"]*cons[\"kp_a\"]*fm*(1-tm)) - (cons[\"k_ab_off\"]*tm) - (cons[\"kd_tm\"]*tm)\n",
    "    d_bi = (cons[\"k_ib_on\"]*cons[\"kp_i\"]*fm*fi) - (cons[\"k_ib_off\"]*bi) - (cons[\"kd_bi\"]*bi)\n",
    "    \n",
    "    return (d_fm, d_fi, d_tm, d_bi)\n"
   ]
  },
  {
   "cell_type": "code",
   "execution_count": 41,
   "id": "0367a21a-248b-45a7-ad27-34504ba5c3c7",
   "metadata": {},
   "outputs": [
    {
     "name": "stdout",
     "output_type": "stream",
     "text": [
      "(1.174798752, -0.42760167699999996, -0.242400429, -0.242398323)\n"
     ]
    }
   ],
   "source": [
    "cons = {\n",
    "    \"k_fm\": 0.01,\n",
    "    \"k_fi\": 0.02, \n",
    "    \"k_ib_on\": 0.01,\n",
    "    \"k_ib_off\": 2e-4,\n",
    "    \"k_ab_on\": 0.01,\n",
    "    \"k_ab_off\": 2e-4,\n",
    "    \"kd_fm\": 0.02, \n",
    "    \"kd_tm\": 0.02, \n",
    "    \"kd_fi\": 0.02, \n",
    "    \"kd_bi\": 0.02,\n",
    "    \"kp_a\": 1e-07,\n",
    "    \"kp_i\": 1e-07,\n",
    "    \"md\": 0.01,\n",
    "    \"id\": 0.01\n",
    "}\n",
    "\n",
    "test2 = compute_concentration_changes(39, 12, 43, 12, cons)\n",
    "print(test2)"
   ]
  },
  {
   "cell_type": "code",
   "execution_count": 39,
   "id": "d410cefc-6b14-4502-8546-de8fcf629a41",
   "metadata": {},
   "outputs": [],
   "source": [
    "def compute_secretion_changes(fm, fi, cons):\n",
    "    \"\"\"\n",
    "    Args:\n",
    "       - fm: free Morphogen concentration, integer or float\n",
    "       - fi: free inhibitor concentration, integer or float\n",
    "       -cons: a dictionary contains rate constants for all reactions in the system\n",
    "              md: morphogen diffusion rate constant, integer or float\n",
    "              id: inhibitor diffusion rate constant, integer or float\n",
    "              k_sec_fm: free morphogen secretion rate, integer or float\n",
    "              k_sec_fi: free inhibitor secretion rate, integer or float\n",
    "              kd_fm: free morphogen degradation rate constant, integer or float\n",
    "              kd_fi: free inhibitor degradation rate constant, integer or float\n",
    "    \"\"\"\n",
    "    d_fm = (cons[\"md\"]*fm) + cons[\"k_sec_fm\"] - (cons[\"kd_fm\"]*fm)\n",
    "    d_fi = (cons[\"id\"]*fi) + cons[\"k_sec_fi\"] - (cons[\"kd_fi\"]*fi)\n",
    "       \n",
    "    return (d_fm, d_fi)"
   ]
  },
  {
   "cell_type": "code",
   "execution_count": 36,
   "id": "94d6270e-4e36-497f-939f-c906fe3db1eb",
   "metadata": {},
   "outputs": [
    {
     "name": "stdout",
     "output_type": "stream",
     "text": [
      "(0.8800000000000001, 0.8600000000000001)\n"
     ]
    }
   ],
   "source": [
    "cons1 = {\n",
    "    \"kd_fm\": 0.02, \n",
    "    \"kd_fi\": 0.02, \n",
    "    \"k_sec_fm\": 1.0, \n",
    "    \"k_sec_fi\": 1.0,\n",
    "    \"md\": 0.01,\n",
    "    \"id\": 0.01\n",
    "}\n",
    "test3 =  compute_secretion_changes(12, 14, cons1)\n",
    "print(test3)"
   ]
  },
  {
   "cell_type": "code",
   "execution_count": 27,
   "id": "976d49e2-1f0b-4bcd-8aff-902eac425723",
   "metadata": {},
   "outputs": [],
   "source": [
    "def update_concentration(concentration_changes, fM_conc, fI_conc, tM_conc, bI_conc, step):\n",
    "    \"\"\"\n",
    "    Args:\n",
    "        - concentration_changes: a dictionary contains change in concentration of species,\n",
    "                                 d_fm: change in concentration of free morphogen, integer or float\n",
    "                                 d_fi: change in concentration of free inhibitor, integer or float\n",
    "                                 d_tm: change in concentration of trapped morphogen, integer or float\n",
    "                                 d_bi: change in concentration of bound inhibitor, integer or float\n",
    "        - fM_conc: an array contains free morpgogen specie concentration\n",
    "        - fI_conc: an array contains free inhibitor specie concentration\n",
    "        - tM_conc: an array contains trapped morphogen specie concentration\n",
    "        - bI_conc: an array contains bound inhibitor specie concentration\n",
    "        - step: the number of current simulation iteration (step), integer\n",
    "    Returns:\n",
    "        - fM_conc: updated free morpgogen specie concentration\n",
    "        - fI_conc: updated free inhibitor specie concentration\n",
    "        - tM_conc: updated trapped morphogen specie concentration\n",
    "        - bI_conc: updated bound inhibitor specie concentration \n",
    "    \"\"\"\n",
    "    d_fm, d_fi, d_tm, d_bi = concentration_changes\n",
    "    \n",
    "    fM_conc[step] = fM_conc[step - 1] + d_fm\n",
    "    fI_conc[step] = fI_conc[step - 1] + d_fi\n",
    "    tM_conc[step] = tM_conc[step - 1] + d_tm\n",
    "    bI_conc[step] = bI_conc[step - 1] + d_bi\n",
    "\n",
    "    return (fM_conc, fI_conc, tM_conc, bI_conc)    "
   ]
  },
  {
   "cell_type": "code",
   "execution_count": 34,
   "id": "2518acec-78bf-406f-acb7-46b19aa7bc66",
   "metadata": {},
   "outputs": [
    {
     "name": "stdout",
     "output_type": "stream",
     "text": [
      "[1. 1. 1. 1. 1. 1. 1. 1. 1. 1.]\n",
      "[1. 1. 1. 1. 1. 1. 1. 1. 1. 1.]\n",
      "[1. 1. 1. 1. 1. 1. 1. 1. 1. 1.]\n",
      "[1. 1. 1. 1. 1. 1. 1. 1. 1. 1.]\n",
      "[ 1.     1.     1.     1.     1.    -0.152  1.     1.     1.     1.   ]\n",
      "[  1.     1.     1.     1.     1.   -11.23   1.     1.     1.     1.  ]\n",
      "[ 1.     1.     1.     1.     1.    -0.848  1.     1.     1.     1.   ]\n",
      "[ 1.    1.    1.    1.    1.   49.87  1.    1.    1.    1.  ]\n"
     ]
    }
   ],
   "source": [
    "fM_conc = np.ones(10)\n",
    "fI_conc = np.ones(10)\n",
    "tM_conc = np.ones(10)\n",
    "bI_conc = np.ones(10)\n",
    "step = 5\n",
    "print(fM_conc)\n",
    "print(fI_conc)\n",
    "print(tM_conc)\n",
    "print(bI_conc)\n",
    "\n",
    "test4 = update_concentration(test2, fM_conc, fI_conc, tM_conc, bI_conc, step)\n",
    "print(test4[0])\n",
    "print(test4[1])\n",
    "print(test4[2])\n",
    "print(test4[-1])"
   ]
  },
  {
   "cell_type": "code",
   "execution_count": 29,
   "id": "6f6b42c1-66dd-41a5-87e1-10c22760882a",
   "metadata": {},
   "outputs": [],
   "source": [
    "def simulation(fm_init, tm_init, fi_init, bi_init, constants, start, stop, epochs):\n",
    "    \"\"\"\n",
    "    Args:\n",
    "        - fm_init: initial concentration of free morphogen, integer or float\n",
    "        - tm_init: initial concentration of trapped morphogen, integer or float\n",
    "        - fi_init: initial concentration of free inhibitor, integer or float\n",
    "        - bi_init: initial concentration of bound inhibitor, integer of float\n",
    "        - constants: a dictionary contains rate constants for all reactions in the system\n",
    "                     k_fm: free Morphogen rate constant, integer or float\n",
    "                     k_fi: free Inhibitor rate constant, integer or float\n",
    "                     k_ib_on: inhibitr binding rate constant (on), integer or float\n",
    "                     k_ib_off: inhibitor binding rate constant (off), integer or float\n",
    "                     k_ab_on: anchor binding rate constant (on), integer or float\n",
    "                     k_ab_off: anchor binding rate constant (off), integer or float\n",
    "                     kd_fm: free morphogen degradation rate constant, integer or float\n",
    "                     kd_tm: trapped morphogen degradation rate constan, integer or float\n",
    "                     kd_fi: free inhibitor degradation rate constant, integer or float\n",
    "                     kd_bi: bound inhibitor degradation rate constant, integer or float\n",
    "                     kp: effective concentration rate constant, integer or float\n",
    "                     md: morphogen diffusion rate constan, integer or float\n",
    "                     id: inhibitor diffusion rate constant, integer or float\n",
    "        - start: start time of the simulation, integer of float\n",
    "        - stop: stop time of the simulation, integer or float\n",
    "        - epochs: number of simulation iterations, integer\n",
    "    Returns:\n",
    "        - species: a dictionary containing the simulation time and the concentrations of the species after the simulation\n",
    "        - simulation_duration: a float that defines the simulation duration    \n",
    "    \"\"\"\n",
    "    \n",
    "    simulation_duration = None\n",
    "    tic = time.time()\n",
    "\n",
    "    species = initialize_species(\n",
    "        fm_init=fm_init, \n",
    "        tm_init=tm_init, \n",
    "        fi_init=fi_init, \n",
    "        bi_init=bi_init, \n",
    "        start=start,\n",
    "        stop=stop, \n",
    "        num_epochs=epochs\n",
    "    )\n",
    "\n",
    "    for i in range(1, epochs):\n",
    "    \n",
    "        concentration_changes = compute_concentration_changes(fm=species[\"Free Morphogen\"][i - 1], \n",
    "                                                              tm=species[\"Trapped Morphogen\"][i - 1], \n",
    "                                                              fi=species[\"Free Inhibitor\"][i - 1], \n",
    "                                                              bi=species[\"Bound Inhibitor\"][i - 1], \n",
    "                                                              cons=constants\n",
    "                                                             )\n",
    "        \n",
    "        species[\"Free Morphogen\"], species[\"Free Inhibitor\"], species[\"Trapped Morphogen\"], species[\"Bound Inhibitor\"] = update_concentration(\n",
    "            concentration_changes=concentration_changes, \n",
    "            fM_conc=species[\"Free Morphogen\"], \n",
    "            fI_conc=species[\"Free Inhibitor\"],\n",
    "            tM_conc=species[\"Trapped Morphogen\"], \n",
    "            bI_conc=species[\"Bound Inhibitor\"], \n",
    "            step= i\n",
    "        )\n",
    "    \n",
    "    toc = time.time()\n",
    "    simulation_duration = toc - tic\n",
    "    \n",
    "    return (species, simulation_duration)    "
   ]
  },
  {
   "cell_type": "code",
   "execution_count": 54,
   "id": "4e370ea8-f6da-415b-8405-eecd77b6dfbd",
   "metadata": {},
   "outputs": [
    {
     "name": "stdout",
     "output_type": "stream",
     "text": [
      "dict_keys(['Simulation Time', 'Free Morphogen', 'Trapped Morphogen', 'Free Inhibitor', 'Bound Inhibitor'])\n",
      "0.0017185211181640625\n"
     ]
    },
    {
     "data": {
      "image/png": "[encoded data removed]",
      "text/plain": [
       "<Figure size 640x480 with 1 Axes>"
      ]
     },
     "metadata": {},
     "output_type": "display_data"
    }
   ],
   "source": [
    "test5 = simulation(1000, 0, 400, 0, cons, 0, 2, 400)\n",
    "print(test5[0].keys())\n",
    "print(test5[1])\n",
    "#print(len(test5[0][\"Simulation Time\"]))\n",
    "#print(test5[0][\"Bound Inhibitor\"])\n",
    "#print(test5[0][\"Free Inhibitor\"])\n",
    "#print(test5[0][\"Free Morphogen\"])\n",
    "#print(test5[0][\"Trapped Morphogen\"])\n",
    "\n",
    "plt.plot(test5[0][\"Simulation Time\"], test5[0][\"Bound Inhibitor\"], label=\"Bound Inhibitor\")\n",
    "plt.plot(test5[0][\"Simulation Time\"], test5[0][\"Free Inhibitor\"], label=\"Free Inhibitor\")\n",
    "plt.plot(test5[0][\"Simulation Time\"], test5[0][\"Free Morphogen\"], label=\"Free Morphogen\")\n",
    "plt.plot(test5[0][\"Simulation Time\"], test5[0][\"Trapped Morphogen\"], label=\"Trapped Morphogen\")\n",
    "plt.legend()\n",
    "plt.show()\n"
   ]
  },
  {
   "cell_type": "code",
   "execution_count": null,
   "id": "83552336-b1d1-476a-94d3-f2e51ff8cc28",
   "metadata": {},
   "outputs": [],
   "source": []
  }
 ],
 "metadata": {
  "kernelspec": {
   "display_name": "Python 3 (ipykernel)",
   "language": "python",
   "name": "python3"
  },
  "language_info": {
   "codemirror_mode": {
    "name": "ipython",
    "version": 3
   },
   "file_extension": ".py",
   "mimetype": "text/x-python",
   "name": "python",
   "nbconvert_exporter": "python",
   "pygments_lexer": "ipython3",
   "version": "3.12.2"
  }
 },
 "nbformat": 4,
 "nbformat_minor": 5
}
