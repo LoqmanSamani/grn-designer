{
 "cells": [
  {
   "cell_type": "code",
   "execution_count": 19,
   "id": "4f906e18-8e12-42d2-bbe4-eabfc1a54b90",
   "metadata": {},
   "outputs": [],
   "source": [
    "import numpy as np\n",
    "\n",
    "def initial_cell_seed(cl, cd, cellNumberInitial, cells_anker, cells_GFP, cells_mCherry, cells_iM):\n",
    "    \n",
    "    cells_anker[(cl // 2 + 1):cl, 0:cd] = cellNumberInitial / 2\n",
    "    cells_GFP[0:(cl // 2), 0:cd] = cellNumberInitial * 1\n",
    "    cells_mCherry[(cl // 2 + 1):cl, 0:cd] = cellNumberInitial / 2\n",
    "    return cells_anker, cells_GFP, cells_mCherry, cells_iM\n",
    "\n",
    "ca, cg, cm, cim = initial_cell_seed(10, 10, 500, np.zeros((10, 10)), np.zeros((10, 10)), np.zeros((10, 10)), np.zeros((10, 10)))"
   ]
  },
  {
   "cell_type": "code",
   "execution_count": 20,
   "id": "7005ca70-65ad-43a4-a680-723ecb2c5a30",
   "metadata": {},
   "outputs": [
    {
     "data": {
      "text/plain": [
       "array([[  0.,   0.,   0.,   0.,   0.,   0.,   0.,   0.,   0.,   0.],\n",
       "       [  0.,   0.,   0.,   0.,   0.,   0.,   0.,   0.,   0.,   0.],\n",
       "       [  0.,   0.,   0.,   0.,   0.,   0.,   0.,   0.,   0.,   0.],\n",
       "       [  0.,   0.,   0.,   0.,   0.,   0.,   0.,   0.,   0.,   0.],\n",
       "       [  0.,   0.,   0.,   0.,   0.,   0.,   0.,   0.,   0.,   0.],\n",
       "       [  0.,   0.,   0.,   0.,   0.,   0.,   0.,   0.,   0.,   0.],\n",
       "       [250., 250., 250., 250., 250., 250., 250., 250., 250., 250.],\n",
       "       [250., 250., 250., 250., 250., 250., 250., 250., 250., 250.],\n",
       "       [250., 250., 250., 250., 250., 250., 250., 250., 250., 250.],\n",
       "       [250., 250., 250., 250., 250., 250., 250., 250., 250., 250.]])"
      ]
     },
     "execution_count": 20,
     "metadata": {},
     "output_type": "execute_result"
    }
   ],
   "source": [
    "ca"
   ]
  },
  {
   "cell_type": "code",
   "execution_count": 21,
   "id": "3ec56f3f-0748-4acd-8395-d9641d4790ee",
   "metadata": {},
   "outputs": [
    {
     "data": {
      "text/plain": [
       "array([[500., 500., 500., 500., 500., 500., 500., 500., 500., 500.],\n",
       "       [500., 500., 500., 500., 500., 500., 500., 500., 500., 500.],\n",
       "       [500., 500., 500., 500., 500., 500., 500., 500., 500., 500.],\n",
       "       [500., 500., 500., 500., 500., 500., 500., 500., 500., 500.],\n",
       "       [500., 500., 500., 500., 500., 500., 500., 500., 500., 500.],\n",
       "       [  0.,   0.,   0.,   0.,   0.,   0.,   0.,   0.,   0.,   0.],\n",
       "       [  0.,   0.,   0.,   0.,   0.,   0.,   0.,   0.,   0.,   0.],\n",
       "       [  0.,   0.,   0.,   0.,   0.,   0.,   0.,   0.,   0.,   0.],\n",
       "       [  0.,   0.,   0.,   0.,   0.,   0.,   0.,   0.,   0.,   0.],\n",
       "       [  0.,   0.,   0.,   0.,   0.,   0.,   0.,   0.,   0.,   0.]])"
      ]
     },
     "execution_count": 21,
     "metadata": {},
     "output_type": "execute_result"
    }
   ],
   "source": [
    "cg"
   ]
  },
  {
   "cell_type": "code",
   "execution_count": 22,
   "id": "adae3fbc-00c5-45bd-9240-72fde772e2c5",
   "metadata": {},
   "outputs": [
    {
     "data": {
      "text/plain": [
       "array([[  0.,   0.,   0.,   0.,   0.,   0.,   0.,   0.,   0.,   0.],\n",
       "       [  0.,   0.,   0.,   0.,   0.,   0.,   0.,   0.,   0.,   0.],\n",
       "       [  0.,   0.,   0.,   0.,   0.,   0.,   0.,   0.,   0.,   0.],\n",
       "       [  0.,   0.,   0.,   0.,   0.,   0.,   0.,   0.,   0.,   0.],\n",
       "       [  0.,   0.,   0.,   0.,   0.,   0.,   0.,   0.,   0.,   0.],\n",
       "       [  0.,   0.,   0.,   0.,   0.,   0.,   0.,   0.,   0.,   0.],\n",
       "       [250., 250., 250., 250., 250., 250., 250., 250., 250., 250.],\n",
       "       [250., 250., 250., 250., 250., 250., 250., 250., 250., 250.],\n",
       "       [250., 250., 250., 250., 250., 250., 250., 250., 250., 250.],\n",
       "       [250., 250., 250., 250., 250., 250., 250., 250., 250., 250.]])"
      ]
     },
     "execution_count": 22,
     "metadata": {},
     "output_type": "execute_result"
    }
   ],
   "source": [
    "cm"
   ]
  },
  {
   "cell_type": "code",
   "execution_count": 23,
   "id": "bc1b836b-e16c-43d7-91ad-a76201c7606a",
   "metadata": {},
   "outputs": [
    {
     "data": {
      "text/plain": [
       "array([[0., 0., 0., 0., 0., 0., 0., 0., 0., 0.],\n",
       "       [0., 0., 0., 0., 0., 0., 0., 0., 0., 0.],\n",
       "       [0., 0., 0., 0., 0., 0., 0., 0., 0., 0.],\n",
       "       [0., 0., 0., 0., 0., 0., 0., 0., 0., 0.],\n",
       "       [0., 0., 0., 0., 0., 0., 0., 0., 0., 0.],\n",
       "       [0., 0., 0., 0., 0., 0., 0., 0., 0., 0.],\n",
       "       [0., 0., 0., 0., 0., 0., 0., 0., 0., 0.],\n",
       "       [0., 0., 0., 0., 0., 0., 0., 0., 0., 0.],\n",
       "       [0., 0., 0., 0., 0., 0., 0., 0., 0., 0.],\n",
       "       [0., 0., 0., 0., 0., 0., 0., 0., 0., 0.]])"
      ]
     },
     "execution_count": 23,
     "metadata": {},
     "output_type": "execute_result"
    }
   ],
   "source": [
    "cim"
   ]
  },
  {
   "cell_type": "code",
   "execution_count": 24,
   "id": "f82fa08a-9bcd-462e-acea-c82c926e8ee2",
   "metadata": {},
   "outputs": [],
   "source": [
    "def initialcellseed(cl, cd, cellNumberInitial, cells_anker, cells_GFP, cells_mCherry, cells_iM):\n",
    "   \n",
    "    cells_GFP[0:11, 0:cd] = cellNumberInitial * 1\n",
    "    cells_anker[11:cl, 0:cd] = cellNumberInitial / 2\n",
    "    cells_mCherry[11:cl, 0:cd] = cellNumberInitial / 2\n",
    "    cells_iM[20:cl, 0:cd] = cellNumberInitial * 1\n",
    "    return cells_anker, cells_GFP, cells_mCherry, cells_iM\n"
   ]
  },
  {
   "cell_type": "code",
   "execution_count": 25,
   "id": "1dc0519b-00fd-4fa3-aab2-a368edda747c",
   "metadata": {},
   "outputs": [],
   "source": [
    "ca, cg, cm, cim = initialcellseed(10, 10, 500, np.zeros((10, 10)), np.zeros((10, 10)), np.zeros((10, 10)), np.zeros((10, 10)))"
   ]
  },
  {
   "cell_type": "code",
   "execution_count": 26,
   "id": "7e9f1480-d524-4817-8b3a-4faa1783edce",
   "metadata": {},
   "outputs": [
    {
     "data": {
      "text/plain": [
       "array([[0., 0., 0., 0., 0., 0., 0., 0., 0., 0.],\n",
       "       [0., 0., 0., 0., 0., 0., 0., 0., 0., 0.],\n",
       "       [0., 0., 0., 0., 0., 0., 0., 0., 0., 0.],\n",
       "       [0., 0., 0., 0., 0., 0., 0., 0., 0., 0.],\n",
       "       [0., 0., 0., 0., 0., 0., 0., 0., 0., 0.],\n",
       "       [0., 0., 0., 0., 0., 0., 0., 0., 0., 0.],\n",
       "       [0., 0., 0., 0., 0., 0., 0., 0., 0., 0.],\n",
       "       [0., 0., 0., 0., 0., 0., 0., 0., 0., 0.],\n",
       "       [0., 0., 0., 0., 0., 0., 0., 0., 0., 0.],\n",
       "       [0., 0., 0., 0., 0., 0., 0., 0., 0., 0.]])"
      ]
     },
     "execution_count": 26,
     "metadata": {},
     "output_type": "execute_result"
    }
   ],
   "source": [
    "ca"
   ]
  },
  {
   "cell_type": "code",
   "execution_count": 27,
   "id": "8e15ba09-3386-47c6-8819-32955dedd966",
   "metadata": {},
   "outputs": [
    {
     "data": {
      "text/plain": [
       "array([[500., 500., 500., 500., 500., 500., 500., 500., 500., 500.],\n",
       "       [500., 500., 500., 500., 500., 500., 500., 500., 500., 500.],\n",
       "       [500., 500., 500., 500., 500., 500., 500., 500., 500., 500.],\n",
       "       [500., 500., 500., 500., 500., 500., 500., 500., 500., 500.],\n",
       "       [500., 500., 500., 500., 500., 500., 500., 500., 500., 500.],\n",
       "       [500., 500., 500., 500., 500., 500., 500., 500., 500., 500.],\n",
       "       [500., 500., 500., 500., 500., 500., 500., 500., 500., 500.],\n",
       "       [500., 500., 500., 500., 500., 500., 500., 500., 500., 500.],\n",
       "       [500., 500., 500., 500., 500., 500., 500., 500., 500., 500.],\n",
       "       [500., 500., 500., 500., 500., 500., 500., 500., 500., 500.]])"
      ]
     },
     "execution_count": 27,
     "metadata": {},
     "output_type": "execute_result"
    }
   ],
   "source": [
    "cg"
   ]
  },
  {
   "cell_type": "code",
   "execution_count": 28,
   "id": "32ef723b-532d-4a3a-afeb-9255aae05ef7",
   "metadata": {},
   "outputs": [
    {
     "data": {
      "text/plain": [
       "array([[0., 0., 0., 0., 0., 0., 0., 0., 0., 0.],\n",
       "       [0., 0., 0., 0., 0., 0., 0., 0., 0., 0.],\n",
       "       [0., 0., 0., 0., 0., 0., 0., 0., 0., 0.],\n",
       "       [0., 0., 0., 0., 0., 0., 0., 0., 0., 0.],\n",
       "       [0., 0., 0., 0., 0., 0., 0., 0., 0., 0.],\n",
       "       [0., 0., 0., 0., 0., 0., 0., 0., 0., 0.],\n",
       "       [0., 0., 0., 0., 0., 0., 0., 0., 0., 0.],\n",
       "       [0., 0., 0., 0., 0., 0., 0., 0., 0., 0.],\n",
       "       [0., 0., 0., 0., 0., 0., 0., 0., 0., 0.],\n",
       "       [0., 0., 0., 0., 0., 0., 0., 0., 0., 0.]])"
      ]
     },
     "execution_count": 28,
     "metadata": {},
     "output_type": "execute_result"
    }
   ],
   "source": [
    "cm"
   ]
  },
  {
   "cell_type": "code",
   "execution_count": 29,
   "id": "a51eef00-c14e-412f-b54b-e02147be35b4",
   "metadata": {},
   "outputs": [
    {
     "data": {
      "text/plain": [
       "array([[0., 0., 0., 0., 0., 0., 0., 0., 0., 0.],\n",
       "       [0., 0., 0., 0., 0., 0., 0., 0., 0., 0.],\n",
       "       [0., 0., 0., 0., 0., 0., 0., 0., 0., 0.],\n",
       "       [0., 0., 0., 0., 0., 0., 0., 0., 0., 0.],\n",
       "       [0., 0., 0., 0., 0., 0., 0., 0., 0., 0.],\n",
       "       [0., 0., 0., 0., 0., 0., 0., 0., 0., 0.],\n",
       "       [0., 0., 0., 0., 0., 0., 0., 0., 0., 0.],\n",
       "       [0., 0., 0., 0., 0., 0., 0., 0., 0., 0.],\n",
       "       [0., 0., 0., 0., 0., 0., 0., 0., 0., 0.],\n",
       "       [0., 0., 0., 0., 0., 0., 0., 0., 0., 0.]])"
      ]
     },
     "execution_count": 29,
     "metadata": {},
     "output_type": "execute_result"
    }
   ],
   "source": [
    "cim"
   ]
  },
  {
   "cell_type": "code",
   "execution_count": 43,
   "id": "d7923e31-b767-4205-9e87-3fd925e38f3d",
   "metadata": {},
   "outputs": [],
   "source": [
    "import numpy as np\n",
    "\n",
    "def n_normalize_3d(array):\n",
    "   \n",
    "    min_ = np.mean(array, axis=2, keepdims=True)\n",
    "    max_ = np.max(array, axis=2, keepdims=True)\n",
    "\n",
    "    \n",
    "    normalized_array = (array - min_) / ((max_ - min_)+1e-8)\n",
    "\n",
    "    return normalized_array\n",
    "\n",
    "def z_normalize_3d(array):\n",
    "   \n",
    "    mean = np.mean(array, axis=2, keepdims=True)\n",
    "    std_dev = np.std(array, axis=2, keepdims=True)\n",
    "\n",
    "    \n",
    "    normalized_array = (array - mean) / (std_dev + 1e-8)\n",
    "\n",
    "    return normalized_array\n",
    "\n",
    "\n",
    "data = abs(np.random.rand(3, 3, 2) * 10)\n",
    "z = z_normalize_3d(data)\n",
    "n = n_normalize_3d(data)\n"
   ]
  },
  {
   "cell_type": "code",
   "execution_count": 44,
   "id": "efb8b4ea-e387-496f-b859-abca42b4d541",
   "metadata": {},
   "outputs": [
    {
     "data": {
      "text/plain": [
       "array([[[4.24987052, 5.89173326],\n",
       "        [9.0105223 , 6.03134098],\n",
       "        [7.22829098, 8.94217462]],\n",
       "\n",
       "       [[9.73045988, 4.26280984],\n",
       "        [9.96963873, 4.84289502],\n",
       "        [5.86334936, 4.47770312]],\n",
       "\n",
       "       [[5.98656771, 7.60130818],\n",
       "        [1.25468907, 5.70496763],\n",
       "        [7.47142854, 1.37527292]]])"
      ]
     },
     "execution_count": 44,
     "metadata": {},
     "output_type": "execute_result"
    }
   ],
   "source": [
    "data"
   ]
  },
  {
   "cell_type": "code",
   "execution_count": 45,
   "id": "cc34fd15-6516-4cd2-a9d7-7562f9f7b8f9",
   "metadata": {},
   "outputs": [
    {
     "data": {
      "text/plain": [
       "array([[[-0.99999999,  0.99999999],\n",
       "        [ 0.99999999, -0.99999999],\n",
       "        [-0.99999999,  0.99999999]],\n",
       "\n",
       "       [[ 1.        , -1.        ],\n",
       "        [ 1.        , -1.        ],\n",
       "        [ 0.99999999, -0.99999999]],\n",
       "\n",
       "       [[-0.99999999,  0.99999999],\n",
       "        [-1.        ,  1.        ],\n",
       "        [ 1.        , -1.        ]]])"
      ]
     },
     "execution_count": 45,
     "metadata": {},
     "output_type": "execute_result"
    }
   ],
   "source": [
    "z"
   ]
  },
  {
   "cell_type": "code",
   "execution_count": 46,
   "id": "1f60772c-cbe3-44b0-818d-3656225ba805",
   "metadata": {},
   "outputs": [
    {
     "data": {
      "text/plain": [
       "array([[[-0.99999999,  0.99999999],\n",
       "        [ 0.99999999, -0.99999999],\n",
       "        [-0.99999999,  0.99999999]],\n",
       "\n",
       "       [[ 1.        , -1.        ],\n",
       "        [ 1.        , -1.        ],\n",
       "        [ 0.99999999, -0.99999999]],\n",
       "\n",
       "       [[-0.99999999,  0.99999999],\n",
       "        [-1.        ,  1.        ],\n",
       "        [ 1.        , -1.        ]]])"
      ]
     },
     "execution_count": 46,
     "metadata": {},
     "output_type": "execute_result"
    }
   ],
   "source": [
    "n"
   ]
  },
  {
   "cell_type": "code",
   "execution_count": 47,
   "id": "f140f525-f7a8-456a-a5e1-26dd1742f9ec",
   "metadata": {},
   "outputs": [
    {
     "data": {
      "text/plain": [
       "2.4424906541753444e-15"
      ]
     },
     "execution_count": 47,
     "metadata": {},
     "output_type": "execute_result"
    }
   ],
   "source": [
    "np.sum(n)\n"
   ]
  },
  {
   "cell_type": "code",
   "execution_count": 48,
   "id": "9a6f9b54-b0b4-4d90-9fd4-78edb7aa4612",
   "metadata": {},
   "outputs": [
    {
     "data": {
      "text/plain": [
       "2.55351295663786e-15"
      ]
     },
     "execution_count": 48,
     "metadata": {},
     "output_type": "execute_result"
    }
   ],
   "source": [
    "np.sum(z)"
   ]
  },
  {
   "cell_type": "code",
   "execution_count": 49,
   "id": "3a7d60c5-a02b-406c-9066-f86fe662ab19",
   "metadata": {},
   "outputs": [
    {
     "data": {
      "image/png": "[encoded data removed]",
      "text/plain": [
       "<Figure size 640x480 with 2 Axes>"
      ]
     },
     "metadata": {},
     "output_type": "display_data"
    }
   ],
   "source": [
    "import matplotlib.pyplot as plt\n",
    "from matplotlib.colors import LinearSegmentedColormap\n",
    "\n",
    "\n",
    "blue = (0, 0, 1)   \n",
    "black = (0, 0, 0)  \n",
    "\n",
    "\n",
    "colors = [black, blue]  \n",
    "cmap = LinearSegmentedColormap.from_list(\"BlueBlack\", colors)\n",
    "\n",
    "\n",
    "plt.imshow([[0, 1], [2, 3]], cmap=cmap)\n",
    "plt.colorbar()\n",
    "plt.show()\n"
   ]
  },
  {
   "cell_type": "code",
   "execution_count": 50,
   "id": "38f181c8-0ca8-4f93-8707-4a9a6f3bead2",
   "metadata": {},
   "outputs": [
    {
     "data": {
      "image/png": "[encoded data removed]",
      "text/plain": [
       "<Figure size 640x480 with 2 Axes>"
      ]
     },
     "metadata": {},
     "output_type": "display_data"
    }
   ],
   "source": [
    "import matplotlib.pyplot as plt\n",
    "from matplotlib.colors import LinearSegmentedColormap\n",
    "\n",
    "\n",
    "colors = [(0, 0, 0), (0, 1, 0)] \n",
    "cmap = LinearSegmentedColormap.from_list(\"GreenBlack\", colors)\n",
    "\n",
    "\n",
    "plt.imshow([[0, 1], [2, 3]], cmap=cmap)\n",
    "plt.colorbar()\n",
    "plt.show()\n"
   ]
  }
 ],
 "metadata": {
  "kernelspec": {
   "display_name": "Python 3 (ipykernel)",
   "language": "python",
   "name": "python3"
  },
  "language_info": {
   "codemirror_mode": {
    "name": "ipython",
    "version": 3
   },
   "file_extension": ".py",
   "mimetype": "text/x-python",
   "name": "python",
   "nbconvert_exporter": "python",
   "pygments_lexer": "ipython3",
   "version": "3.10.12"
  }
 },
 "nbformat": 4,
 "nbformat_minor": 5
}
