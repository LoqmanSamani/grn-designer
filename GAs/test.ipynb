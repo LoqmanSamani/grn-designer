{
 "cells": [
  {
   "cell_type": "code",
   "execution_count": 1,
   "id": "2e3abdb3-6047-49dd-99ef-bfd07131fe33",
   "metadata": {},
   "outputs": [],
   "source": [
    "import numpy as np\n",
    "import random"
   ]
  },
  {
   "cell_type": "code",
   "execution_count": 42,
   "id": "bb3ad68c-5e55-4cb1-a090-d796931c23cc",
   "metadata": {},
   "outputs": [],
   "source": [
    "def decimal_to_binary(array, precision_bits):\n",
    "    \"\"\"\n",
    "    Convert a NumPy array to a binary string.\n",
    "    \n",
    "    Args:\n",
    "        - array (numpy.ndarray): Input array of float or int values.\n",
    "        - precision_bits (list of tuples): List of tuples containing (min_val, max_val, bits) for each element to define the precision.\n",
    "            - min_val (float): The minimum possible value of the original range for the element.\n",
    "            - max_val (float): The maximum possible value of the original range for the element.\n",
    "            - bits (int): The number of bits used to represent the element in the binary string. \n",
    "    Returns:\n",
    "        - binary_string (str): Binary string representing the array.\n",
    "    \"\"\"\n",
    "    \n",
    "    binary_string = ''.join(\n",
    "        f'{int((val - min_val) / (max_val - min_val) * ((1 << bits) - 1)):0{bits}b}'\n",
    "        for val, (min_val, max_val, bits) in zip(array, precision_bits)\n",
    "    )\n",
    "    \n",
    "    return binary_string"
   ]
  },
  {
   "cell_type": "code",
   "execution_count": 43,
   "id": "d7f8fa3f-755d-446a-a128-84cbcb3b0d7a",
   "metadata": {},
   "outputs": [
    {
     "name": "stdout",
     "output_type": "stream",
     "text": [
      "<class 'str'>\n",
      "0101000101111111110011111110111111\n"
     ]
    }
   ],
   "source": [
    "array = np.array([0.32, 50, 0.25, 0.75])\n",
    "precision_bits = [(0, 1, 8), (0, 100, 10), (0, 1, 8), (0, 1, 8)]\n",
    "binary_string = decimal_to_binary(array, precision_bits)\n",
    "print(type(binary_string))\n",
    "print(binary_string)"
   ]
  },
  {
   "cell_type": "code",
   "execution_count": 44,
   "id": "cf243c5c-4c27-467e-b6dd-757820ce9b21",
   "metadata": {},
   "outputs": [],
   "source": [
    "def binary_to_decimal(binary_string, precision_bits):\n",
    "    \"\"\"\n",
    "    Convert a binary string back to a NumPy array.\n",
    "    \n",
    "    Args:\n",
    "        - binary_string (str): Binary string to be converted.\n",
    "        - precision_bits (list of tuples): List of tuples containing (min_val, max_val, bits) for each element to define the precision.\n",
    "            - min_val (float): The minimum possible value of the original range for the element.\n",
    "            - max_val (float): The maximum possible value of the original range for the element.\n",
    "            - bits (int): The number of bits used to represent the element in the binary string.\n",
    "    \n",
    "    Returns:\n",
    "        - arr (numpy.ndarray): Array of float or int values represented by the binary string.\n",
    "    \"\"\"\n",
    "    \n",
    "    arr = []\n",
    "    index = 0\n",
    "    \n",
    "    for min_val, max_val, bits in precision_bits:\n",
    "        \n",
    "        segment = binary_string[index:index + bits]\n",
    "        int_value = int(segment, 2)\n",
    "        max_int_value = (1 << bits) - 1\n",
    "        real_value = min_val + (max_val - min_val) * (int_value / max_int_value)\n",
    "        arr.append(real_value)\n",
    "        index += bits\n",
    "        \n",
    "    return np.array(arr)"
   ]
  },
  {
   "cell_type": "code",
   "execution_count": 45,
   "id": "f08ed94c-cca9-4bd4-af59-902270044080",
   "metadata": {},
   "outputs": [
    {
     "name": "stdout",
     "output_type": "stream",
     "text": [
      "<class 'numpy.ndarray'>\n",
      "[ 0.31764706 49.95112414  0.24705882  0.74901961]\n"
     ]
    }
   ],
   "source": [
    "array = binary_to_decimal(binary_string, precision_bits)\n",
    "print(type(array))\n",
    "print(array)"
   ]
  },
  {
   "cell_type": "code",
   "execution_count": 46,
   "id": "1a7acd54-6dda-4dbb-be5d-f4517793d040",
   "metadata": {},
   "outputs": [
    {
     "name": "stdout",
     "output_type": "stream",
     "text": [
      "102\n"
     ]
    }
   ],
   "source": [
    "array1 = np.array([0.32, 50, 0.25, 0.75, 23, 43, 54, 98, 78, 90, .3])\n",
    "precision_bits1 = [(0, 1, 8), (0, 100, 10), (0, 1, 8), (0, 1, 8), (0, 100, 10), (0, 100, 10), (0, 100, 10), (0, 100, 10), (0, 100, 10), (0, 100, 10), (0,1, 8)]\n",
    "binary_string1 = decimal_to_binary(array1, precision_bits1)\n",
    "print(len(binary_string1))"
   ]
  },
  {
   "cell_type": "code",
   "execution_count": 47,
   "id": "cf74035c-8796-4947-8c6c-8a7e2a6c392a",
   "metadata": {},
   "outputs": [
    {
     "data": {
      "text/plain": [
       "array([ 0.31764706, 49.95112414,  0.24705882,  0.74901961, 22.971652  ,\n",
       "       42.91300098, 53.95894428, 97.94721408, 77.90811339, 89.9315738 ,\n",
       "        0.29803922])"
      ]
     },
     "execution_count": 47,
     "metadata": {},
     "output_type": "execute_result"
    }
   ],
   "source": [
    "array2 = binary_to_decimal(binary_string1, precision_bits1)\n",
    "array2"
   ]
  },
  {
   "cell_type": "code",
   "execution_count": 48,
   "id": "5bd3bfc9-bdae-41fb-8d08-ab00a10782ca",
   "metadata": {},
   "outputs": [],
   "source": [
    "def initialize_population(pop_size, bit_length):\n",
    "    return [''.join(random.choice('01') for _ in range(bit_length)) for _ in range(pop_size)]\n"
   ]
  },
  {
   "cell_type": "code",
   "execution_count": 50,
   "id": "18a45e7e-c62e-4c19-bab7-1581f48d3874",
   "metadata": {},
   "outputs": [
    {
     "name": "stdout",
     "output_type": "stream",
     "text": [
      "['11000000010001010110011101010010111001100001101110', '11110101010110010011000100010000000100001100001111', '00000100010110110000001101101011111100111001011001', '01100110111111011000110111000111101000101111000111', '11100110011101011000110011010111001101111001010111', '01111001100111000101010110100011100010000101001010', '01101111110001011100110010000110010000101001110111', '10100001010011001100001001111011101111001110001100', '11101001000111100000010100101001110001001101010100', '10000010010101101101110110010000010001001111111110', '10000010100110000100000101100101110100011011101011', '11101010010100101111000010111100110100000000001101', '00100001110001111111110001110111010000001011011101', '01111110010000010110010010000010111011100001011110', '00011001101010100100001101111101110010010111110011', '00100000000001000000000001011000000100111111001100', '11011000010110101101100001110111001101001110100101', '01110001000100010011011001011011010010011011100000', '00100110000011000100111011101111010100110100111010', '01110000110101110100101101100101100101101111111011']\n",
      "50\n"
     ]
    }
   ],
   "source": [
    "g = initialize_population(20, 50)\n",
    "print(g)\n",
    "print(len(g[1]))"
   ]
  },
  {
   "cell_type": "code",
   "execution_count": 51,
   "id": "5eefa7f4-d51c-4bca-b653-1813d7dbaff2",
   "metadata": {},
   "outputs": [
    {
     "data": {
      "text/plain": [
       "[(1, 2, 4, 1, 2, 4, 1, 2, 4, 1, 2, 4, 1, 2, 4)]"
      ]
     },
     "execution_count": 51,
     "metadata": {},
     "output_type": "execute_result"
    }
   ],
   "source": [
    "h = [(1, 2, 4) ]\n",
    "h"
   ]
  },
  {
   "cell_type": "code",
   "execution_count": 53,
   "id": "1c8f47c5-15d0-4721-a14e-bad840057852",
   "metadata": {},
   "outputs": [
    {
     "name": "stdout",
     "output_type": "stream",
     "text": [
      "[14, 16, 9]\n"
     ]
    }
   ],
   "source": [
    "def compute_fitness(pop, target):\n",
    "    \n",
    "    \"\"\"\n",
    "    Compute the fitness value for each individual in the population.\n",
    "    \n",
    "    Args:\n",
    "        pop (list of str): The population of individuals, each represented as a binary string.\n",
    "        target (str): The target binary string to compare against.\n",
    "    \n",
    "    Returns:\n",
    "        list of int: A list of fitness values, one for each individual in the population.\n",
    "    \"\"\"\n",
    "    \n",
    "    fitness_values = []\n",
    "    \n",
    "    for individual in pop:\n",
    "        \n",
    "        fitness = sum(1 for i, j in zip(individual, target) if i == j)\n",
    "        fitness_values.append(fitness)\n",
    "        \n",
    "    return fitness_values\n",
    "\n",
    "\n",
    "population = ['11001010101010111111100', '10111111110000011111101', '111111100000000000123100']\n",
    "target = '11111111111111111111111'\n",
    "fitness = compute_fitness(population, target)\n",
    "print(fitness)  "
   ]
  },
  {
   "cell_type": "code",
   "execution_count": 54,
   "id": "cd53cd63-0e8e-4956-9f18-4ba85045766a",
   "metadata": {},
   "outputs": [],
   "source": [
    "def select_parents(population, fitness_scores):\n",
    "    \"\"\"\n",
    "    Select parents for the next generation based on their fitness scores.\n",
    "    using Fitness Proportionate Selection (Roulette Wheel Selection) method.\n",
    "\n",
    "    Args:\n",
    "        - population (list of str): The current population of individuals, each represented as a binary string.\n",
    "        - fitness_scores (list of float): The fitness scores of the individuals in the population.\n",
    "\n",
    "    Returns:\n",
    "        selected (list) : The selected parents for the next generation.\n",
    "    \"\"\"\n",
    "\n",
    "    probabilities = fitness_scores / np.sum(fitness_scores)\n",
    "\n",
    "    selected = np.random.choice(population, size=len(population), p=probabilities)\n",
    "\n",
    "    return selected"
   ]
  },
  {
   "cell_type": "code",
   "execution_count": 65,
   "id": "699ea2af-5eb1-42fe-b1f2-1a1d7b46d6c1",
   "metadata": {},
   "outputs": [
    {
     "name": "stdout",
     "output_type": "stream",
     "text": [
      "['1101011101', '1010101001', '0011111011', '1001011100', '0100100110', '0001111001', '1110000110', '0111100001', '1100100011', '1100001010']\n",
      "[4, 6, 2, 6, 7, 4, 6, 4, 6, 5]\n",
      "['0001111001' '0111100001' '1100001010' '1100001010' '1001011100'\n",
      " '1001011100' '1101011101' '1110000110' '1001011100' '0011111011']\n"
     ]
    }
   ],
   "source": [
    "pop_ = initialize_population(10, 10)\n",
    "print(pop_)\n",
    "fitnesses = compute_fitness(pop_, \"1000100100\")\n",
    "print(fitnesses)\n",
    "parents = select_parents(pop_, fitnesses)\n",
    "print(parents)"
   ]
  },
  {
   "cell_type": "code",
   "execution_count": 74,
   "id": "9b51322f-8d9c-416a-8ef0-3ffadfc4b20a",
   "metadata": {},
   "outputs": [],
   "source": [
    "import random\n",
    "\n",
    "def crossover(parent1, parent2, crossover_rate=0.9, num_crossover_points=1):\n",
    "    \"\"\"\n",
    "    Perform multi-point crossover between two parents to generate two offspring.\n",
    "    \n",
    "    Args:\n",
    "        parent1 (str): The binary string representing the first parent.\n",
    "        parent2 (str): The binary string representing the second parent.\n",
    "        crossover_rate (float, optional): The probability of performing a crossover. Defaults to 0.7.\n",
    "        num_crossover_points (int, optional): The number of crossover points between the two parents. Defaults to 1.\n",
    "    \n",
    "    Returns:\n",
    "        tuple of str: Two binary strings representing the offspring.\n",
    "    \n",
    "    Example:\n",
    "        offspring1, offspring2 = crossover('11001', '10110', crossover_rate=0.7, num_crossover_points=2)\n",
    "    \"\"\"\n",
    "    if random.random() < crossover_rate:\n",
    "        crossover_points = sorted(random.sample(range(1, len(parent1)), num_crossover_points))\n",
    "        offspring1 = []\n",
    "        offspring2 = []\n",
    "        for i in range(len(crossover_points) + 1):\n",
    "            start = 0 if i == 0 else crossover_points[i - 1]\n",
    "            end = len(parent1) if i == len(crossover_points) else crossover_points[i]\n",
    "            if i % 2 == 0:\n",
    "                offspring1.extend(parent1[start:end])\n",
    "                offspring2.extend(parent2[start:end])\n",
    "            else:\n",
    "                offspring1.extend(parent2[start:end])\n",
    "                offspring2.extend(parent1[start:end])\n",
    "        return ''.join(offspring1), ''.join(offspring2)\n",
    "    return parent1, parent2\n"
   ]
  },
  {
   "cell_type": "code",
   "execution_count": 75,
   "id": "26aa0563-8537-4b3f-9f55-e55896e259f2",
   "metadata": {},
   "outputs": [
    {
     "name": "stdout",
     "output_type": "stream",
     "text": [
      "111111111111111111111000000011 000000000000000000000111111100\n"
     ]
    }
   ],
   "source": [
    "parent1 = '111111111111111111111111111111'\n",
    "parent2 = '000000000000000000000000000000'\n",
    "offspring1, offspring2 = crossover(parent1, parent2, num_crossover_points=2)\n",
    "print(offspring1, offspring2)"
   ]
  },
  {
   "cell_type": "code",
   "execution_count": 77,
   "id": "b2a4c74e-9bbb-4448-9ffd-881943e4917f",
   "metadata": {},
   "outputs": [],
   "source": [
    "import random\n",
    "\n",
    "def mutate(chromosome, mutation_rate):\n",
    "    \"\"\"\n",
    "    Mutate a binary chromosome based on the mutation rate.\n",
    "    \n",
    "    Args:\n",
    "        chromosome (str): The binary string representing the chromosome.\n",
    "        mutation_rate (float): The probability of mutating each bit.\n",
    "    \n",
    "    Returns:\n",
    "        str: The mutated binary string.\n",
    "    \n",
    "    Example:\n",
    "        mutated_chromosome = mutate('11001', mutation_rate=0.1)\n",
    "    \"\"\"\n",
    "    mutated_chromosome = []\n",
    "    for bit in chromosome:\n",
    "        if random.random() <= mutation_rate:\n",
    "           \n",
    "            mutated_chromosome.append('1' if bit == '0' else '0')\n",
    "        else:\n",
    "            mutated_chromosome.append(bit)\n",
    "    return ''.join(mutated_chromosome)\n"
   ]
  },
  {
   "cell_type": "code",
   "execution_count": 85,
   "id": "a867084f-64e4-486c-be56-3de32c59c5ea",
   "metadata": {},
   "outputs": [
    {
     "name": "stdout",
     "output_type": "stream",
     "text": [
      "1111011111110111111111111111111111101111101011101101110111111110111111101111111111111111111111\n"
     ]
    }
   ],
   "source": [
    "\n",
    "mutated_chromosome = mutate('1111111111111111111111111111111111111111111111111111111111111111111111111111111111111111111111', mutation_rate=0.1)\n",
    "print(mutated_chromosome)"
   ]
  },
  {
   "cell_type": "code",
   "execution_count": null,
   "id": "4c56387b-8069-4f3c-9e5f-8957c32e53d9",
   "metadata": {},
   "outputs": [],
   "source": []
  },
  {
   "cell_type": "code",
   "execution_count": 6,
   "id": "6a1927c2-27ee-43d3-a3a3-47b9b3ec416b",
   "metadata": {},
   "outputs": [
    {
     "name": "stdout",
     "output_type": "stream",
     "text": [
      "Original 2D_1: [[0.5  0.75]\n",
      " [0.25 0.6 ]]\n",
      "Binary 2D_1: 01111111101111110011111110011001\n",
      "Restored 2D_1: [[0.49803922 0.74901961]\n",
      " [0.24705882 0.6       ]]\n",
      "Original 2D_2: [[0.1 0.9]\n",
      " [0.4 0.8]]\n",
      "Binary 2D_2: 0001100110111001100001100110011100110010\n",
      "Restored 2D_2: [[0.09970674 0.89931574]\n",
      " [0.3998045  0.79960899]]\n",
      "(1, 4)\n",
      "0011001100010011001001100110010111111111\n",
      "(1, 4)\n",
      "[array([[0.49803922, 0.74901961],\n",
      "       [0.24705882, 0.6       ]]), array([[0.09970674, 0.89931574],\n",
      "       [0.3998045 , 0.79960899]]), array([[1.9941349 , 2.99120235, 3.99804497, 4.99511241]])]\n",
      "['01111111101111110011111110011001', '0001100110111001100001100110011100110010', '0011001100010011001001100110010111111111']\n"
     ]
    }
   ],
   "source": [
    "import numpy as np\n",
    "\n",
    "def decimal_to_binary(array_list, precision_bits_list):\n",
    "    \"\"\"\n",
    "    Convert a list of 2D NumPy arrays to a list of binary strings.\n",
    "\n",
    "    Args:\n",
    "        array_list (list of numpy.ndarray): List of input 2D arrays of float or int values.\n",
    "        precision_bits_list (list of tuple): List of tuples containing (min_val, max_val, bits) to define the precision for each array.\n",
    "            - min_val (float): The minimum possible value of the original range for the element.\n",
    "            - max_val (float): The maximum possible value of the original range for the element.\n",
    "            - bits (int): The number of bits used to represent the element in the binary string.\n",
    "\n",
    "    Returns:\n",
    "        list of str: List of binary strings representing the arrays.\n",
    "    \"\"\"\n",
    "\n",
    "    binary_strings = []\n",
    "    \n",
    "    for array, precision_bits in zip(array_list, precision_bits_list):\n",
    "        min_val, max_val, bits = precision_bits\n",
    "        \n",
    "        binary_string = ''.join(\n",
    "            f\"{int((val - min_val) / (max_val - min_val) * ((1 << bits) - 1)):0{bits}b}\"\n",
    "            for sub_array in array for val in sub_array\n",
    "        )\n",
    "        \n",
    "        binary_strings.append(binary_string)\n",
    "        \n",
    "    return binary_strings\n",
    "\n",
    "\n",
    "def binary_to_decimal(binary_string_list, precision_bits_list, shapes):\n",
    "    \"\"\"\n",
    "    Convert a list of binary strings back to a list of 2D NumPy arrays.\n",
    "\n",
    "    Args:\n",
    "        binary_string_list (list of str): List of binary strings to be converted.\n",
    "        precision_bits_list (list of tuple): List of tuples containing (min_val, max_val, bits) to define the precision for each array.\n",
    "            - min_val (float): The minimum possible value of the original range for the element.\n",
    "            - max_val (float): The maximum possible value of the original range for the element.\n",
    "            - bits (int): The number of bits used to represent the element in the binary string.\n",
    "        shapes (list of tuple): List of shapes for the original arrays.\n",
    "\n",
    "    Returns:\n",
    "        list of numpy.ndarray: List of arrays of float or int values represented by the binary strings.\n",
    "    \"\"\"\n",
    "    \n",
    "    arrays = []\n",
    "    \n",
    "    for binary_string, precision_bits, shape in zip(binary_string_list, precision_bits_list, shapes):\n",
    "        min_val, max_val, bits = precision_bits\n",
    "        array = []\n",
    "        index = 0\n",
    "        for _ in range(shape[0]):\n",
    "            row = []\n",
    "            for _ in range(shape[1]):\n",
    "                segment = binary_string[index:index + bits]\n",
    "                int_value = int(segment, 2)\n",
    "                max_int_value = (1 << bits) - 1\n",
    "                real_value = min_val + (max_val - min_val) * (int_value / max_int_value)\n",
    "                row.append(real_value)\n",
    "                index += bits\n",
    "            array.append(row)\n",
    "        arrays.append(np.array(array))\n",
    "    return arrays\n",
    "\n",
    "\n",
    "precision_bits_list = [\n",
    "    (0, 1, 8),  \n",
    "    (0, 1, 10),  \n",
    "    (0, 10, 10)\n",
    "]\n",
    "\n",
    "\n",
    "array_2d_1 = np.array([[0.5, 0.75], [0.25, 0.6]])\n",
    "array_2d_2 = np.array([[0.1, 0.9], [0.4, 0.8]])\n",
    "array_2d_3 = np.array([[2, 3, 4, 5]])\n",
    "\n",
    "array_list = [array_2d_1, array_2d_2, array_2d_3]\n",
    "shapes = [array_2d_1.shape, array_2d_2.shape, array_2d_3.shape]\n",
    "\n",
    "binary_strings = decimal_to_binary(array_list, precision_bits_list)\n",
    "restored_arrays = binary_to_decimal(binary_strings, precision_bits_list, shapes)\n",
    "\n",
    "print('Original 2D_1:', array_2d_1)\n",
    "print('Binary 2D_1:', binary_strings[0])\n",
    "print('Restored 2D_1:', restored_arrays[0])\n",
    "\n",
    "print('Original 2D_2:', array_2d_2)\n",
    "print('Binary 2D_2:', binary_strings[1])\n",
    "print('Restored 2D_2:', restored_arrays[1])\n",
    "\n",
    "print(array_2d_3.shape)\n",
    "print(binary_strings[-1])\n",
    "print(restored_arrays[-1].shape)\n",
    "\n",
    "print(restored_arrays)\n",
    "print(binary_strings)\n"
   ]
  },
  {
   "cell_type": "code",
   "execution_count": 15,
   "id": "82e43d1f-e876-4df9-a1ec-bd87b0bfd8f7",
   "metadata": {},
   "outputs": [],
   "source": [
    "def build_chromosomes(sp1, sp2, sp1_cells, sp2_cells, params):\n",
    "\n",
    "    population = []\n",
    "    \n",
    "    for i in range(len(sp1)):\n",
    "        population.append([sp1[i], sp2[i], sp1_cells[i], sp2_cells[i], params[i]])\n",
    "\n",
    "    return population"
   ]
  },
  {
   "cell_type": "code",
   "execution_count": 16,
   "id": "4ad99efa-f01f-46fe-b4a3-832bc7b0cd32",
   "metadata": {},
   "outputs": [
    {
     "data": {
      "text/plain": [
       "[['222', '444', '777', '101010', 1],\n",
       " ['333', '555', '888', '111111', 2],\n",
       " ['111', '666', '999', '121212', 3]]"
      ]
     },
     "execution_count": 16,
     "metadata": {},
     "output_type": "execute_result"
    }
   ],
   "source": [
    "f = build_chromosomes([\"222\",\"333\",\"111\"], [\"444\",\"555\",\"666\"], [\"777\",\"888\",\"999\"],[\"101010\", \"111111\", \"121212\"], [1,2,3,])\n",
    "f"
   ]
  },
  {
   "cell_type": "code",
   "execution_count": 21,
   "id": "da4f28c3-b474-44f1-8607-ad16b5be8c1e",
   "metadata": {},
   "outputs": [
    {
     "name": "stdout",
     "output_type": "stream",
     "text": [
      "b\n"
     ]
    }
   ],
   "source": [
    "def extract_based_on_max_index(list1, list2):\n",
    "    \"\"\"\n",
    "    Extract an object from list1 based on the index of the maximum value in list2.\n",
    "\n",
    "    Args:\n",
    "        list1 (list): The list from which to extract the object.\n",
    "        list2 (list): The list used to determine the index of the maximum value.\n",
    "\n",
    "    Returns:\n",
    "        object: The object from list1 corresponding to the index of the maximum value in list2.\n",
    "    \"\"\"\n",
    "    max_index = list2.index(max(list2))\n",
    "    return list1[max_index]\n",
    "\n",
    "\n",
    "list1 = ['a', 'b', 'c', 'd']\n",
    "list2 = [10, 222, 30, 25]\n",
    "\n",
    "result = extract_based_on_max_index(list1, list2)\n",
    "print(result)  \n"
   ]
  },
  {
   "cell_type": "code",
   "execution_count": 22,
   "id": "1ec431a7-343c-4ec4-94b9-8faa482e801d",
   "metadata": {},
   "outputs": [
    {
     "data": {
      "text/plain": [
       "array(['345654', '232123', '489766', '232123', '489766', '123456'],\n",
       "      dtype='<U6')"
      ]
     },
     "execution_count": 22,
     "metadata": {},
     "output_type": "execute_result"
    }
   ],
   "source": [
    "def select_parents(population, fitness_scores):\n",
    "    \"\"\"\n",
    "    Select parents for the next generation based on their fitness scores.\n",
    "    using Fitness Proportionate Selection (Roulette Wheel Selection) method.\n",
    "\n",
    "    Args:\n",
    "        - population (list of str): The current population of individuals, each represented as a binary string.\n",
    "        - fitness_scores (list of float): The fitness scores of the individuals in the population.\n",
    "\n",
    "    Returns:\n",
    "        selected (list) : The selected parents for the next generation.\n",
    "    \"\"\"\n",
    "\n",
    "    probabilities = fitness_scores / np.sum(fitness_scores)\n",
    "\n",
    "    selected = np.random.choice(population, size=len(population), p=probabilities)\n",
    "\n",
    "    return selected\n",
    "\n",
    "pop = [\"231456\", \"123456\", \"232123\", \"345654\", \"489766\", \"123456\"]\n",
    "f = [1,2,4,3,6,5]\n",
    "p = select_parents(pop, f)\n",
    "p\n"
   ]
  },
  {
   "cell_type": "code",
   "execution_count": 25,
   "id": "199460c6-b8de-40c4-b7b8-029b3183a43b",
   "metadata": {},
   "outputs": [
    {
     "name": "stdout",
     "output_type": "stream",
     "text": [
      "['110010001011', '1111000', '1100000001']\n",
      "['001100000001', '1000111', '0011111110']\n"
     ]
    }
   ],
   "source": [
    "import random\n",
    "\n",
    "def crossover(parents1, parents2, crossover_rates, num_crossover_points):\n",
    "    \"\"\"\n",
    "    Perform multi-point crossover between two parents to generate two offspring.\n",
    "\n",
    "    Args:\n",
    "        parent1 (list of str): A list of binary strings representing the first parent.\n",
    "        parent2 (list of str): A list of binary strings representing the second parent.\n",
    "        crossover_rates (list of float): A list of probabilities of performing crossover for each sub-chromosome.\n",
    "        num_crossover_points (list of int): A list containing the number of crossover points for each sub-chromosome.\n",
    "\n",
    "    Returns:\n",
    "        tuple of list: Two lists of binary strings representing the offspring.\n",
    "\n",
    "    Example:\n",
    "        offspring1, offspring2 = crossover(['11001', '10110'], ['00110', '11001'], [0.7, 0.7], [2, 2])\n",
    "    \"\"\"\n",
    "    offspring1 = []\n",
    "    offspring2 = []\n",
    "\n",
    "    for parent1, parent2, crossover_rate, num_points in zip(parents1, parents2, crossover_rates, num_crossover_points):\n",
    "        if random.random() < crossover_rate:\n",
    "            crossover_points = sorted(random.sample(range(1, len(parent1)), num_points))\n",
    "            child1, child2 = [], []\n",
    "            start = 0\n",
    "            for i, point in enumerate(crossover_points + [len(parent1)]):\n",
    "                if i % 2 == 0:\n",
    "                    child1.extend(parent1[start:point])\n",
    "                    child2.extend(parent2[start:point])\n",
    "                else:\n",
    "                    child1.extend(parent2[start:point])\n",
    "                    child2.extend(parent1[start:point])\n",
    "                start = point\n",
    "            offspring1.append(''.join(child1))\n",
    "            offspring2.append(''.join(child2))\n",
    "        else:\n",
    "            offspring1.append(parent1)\n",
    "            offspring2.append(parent2)\n",
    "\n",
    "    return offspring1, offspring2\n",
    "\n",
    "\n",
    "parents1 = ['110010001011', '1011000', \"1111111111\"]\n",
    "parents2 = ['001100000001', '1100111', \"0000000000\"]\n",
    "crossover_rates = [0.85, 0.7, .90]\n",
    "num_crossover_points = [2, 2, 2]\n",
    "\n",
    "offspring1, offspring2 = crossover(parents1, parents2, crossover_rates, num_crossover_points)\n",
    "print(offspring1)\n",
    "print(offspring2)\n"
   ]
  },
  {
   "cell_type": "code",
   "execution_count": 27,
   "id": "bd4871a1-6bdf-471f-8085-afc7ada2ea4a",
   "metadata": {},
   "outputs": [
    {
     "name": "stdout",
     "output_type": "stream",
     "text": [
      "['0110000000010000000000101100000', '100100001011111111111111010111011111010111']\n"
     ]
    }
   ],
   "source": [
    "import random\n",
    "\n",
    "def mutate(chromosome, mutation_rates):\n",
    "    \"\"\"\n",
    "    Mutate a chromosome with sub-chromosomes (each sub-chromosome is a binary string) based on the mutation rates.\n",
    "\n",
    "    Args:\n",
    "        - chromosome (list of str): The list contains binary strings representing the chromosome, \n",
    "                                    where each binary string is a sub-chromosome.\n",
    "        - mutation_rates (list of float): The probabilities of mutating each bit in each sub-chromosome.\n",
    "\n",
    "    Returns:\n",
    "        - mutated_chromosome (list of str): The mutated chromosome, with each sub-chromosome mutated based on the corresponding mutation rate.\n",
    "    \n",
    "    Example:\n",
    "        chromosome = ['11001', '10110']\n",
    "        mutation_rates = [0.1, 0.2]\n",
    "        mutated_chromosome = mutate(chromosome, mutation_rates)\n",
    "    \"\"\"\n",
    "    mutated_chromosome = []\n",
    "\n",
    "    for sub_chromosome, mutation_rate in zip(chromosome, mutation_rates):\n",
    "        mutated_sub_chromosome = ''.join(\n",
    "            '1' if bit == '0' and random.random() <= mutation_rate else\n",
    "            '0' if bit == '1' and random.random() <= mutation_rate else\n",
    "            bit\n",
    "            for bit in sub_chromosome\n",
    "        )\n",
    "        mutated_chromosome.append(mutated_sub_chromosome)\n",
    "\n",
    "    return mutated_chromosome\n",
    "\n",
    "\n",
    "chromosome = ['0000000000000000000000000000000', '111111111111111111111111111111111111111111']\n",
    "mutation_rates = [0.1, 0.2]  \n",
    "\n",
    "mutated_chromosome = mutate(chromosome, mutation_rates)\n",
    "print(mutated_chromosome)\n"
   ]
  },
  {
   "cell_type": "code",
   "execution_count": 32,
   "id": "d370833f-9900-433d-9c7e-070172f44967",
   "metadata": {},
   "outputs": [],
   "source": [
    "c1 = [\"1111111111\", \"00000000000\"]\n",
    "c2 = [\"1111111\", \"101010101000110100101\", \"00000000000000\"]\n",
    "m1 = [0.1, 0.09]\n",
    "m2 = [.2, 0.1, 0.8]\n",
    "n = []\n",
    "n.extend([mutate(c1, m1), mutate(c2, m2)])"
   ]
  },
  {
   "cell_type": "code",
   "execution_count": 33,
   "id": "550d7397-690d-47ba-92f8-b6482331ef40",
   "metadata": {},
   "outputs": [
    {
     "data": {
      "text/plain": [
       "[['0111101111', '00000000000'],\n",
       " ['1111010', '101000101000110100101', '10111111111110']]"
      ]
     },
     "execution_count": 33,
     "metadata": {},
     "output_type": "execute_result"
    }
   ],
   "source": [
    "n"
   ]
  },
  {
   "cell_type": "code",
   "execution_count": 1,
   "id": "ff5ecce3-1526-482a-a89c-d4866264ff9a",
   "metadata": {},
   "outputs": [
    {
     "name": "stdout",
     "output_type": "stream",
     "text": [
      "(1, 5)\n",
      "3\n"
     ]
    }
   ],
   "source": [
    "import numpy as np\n",
    "j = np.array([[1,2,3,4,5]])\n",
    "print(j.shape)\n",
    "print(j[0, 2])"
   ]
  },
  {
   "cell_type": "code",
   "execution_count": 4,
   "id": "57a23d64-9be4-4bb7-90c8-78fa59520cbd",
   "metadata": {},
   "outputs": [
    {
     "name": "stdout",
     "output_type": "stream",
     "text": [
      "[[1. 0. 0. 0. 0. 0. 0. 0. 0. 0. 0. 0. 0. 0. 0. 0. 0. 0. 0. 0.]\n",
      " [1. 0. 0. 0. 0. 0. 0. 0. 0. 0. 0. 0. 0. 0. 0. 0. 0. 0. 0. 0.]\n",
      " [1. 0. 0. 0. 0. 0. 0. 0. 0. 0. 0. 0. 0. 0. 0. 0. 0. 0. 0. 0.]\n",
      " [1. 0. 0. 0. 0. 0. 0. 0. 0. 0. 0. 0. 0. 0. 0. 0. 0. 0. 0. 0.]\n",
      " [1. 0. 0. 0. 0. 0. 0. 0. 0. 0. 0. 0. 0. 0. 0. 0. 0. 0. 0. 0.]\n",
      " [1. 0. 0. 0. 0. 0. 0. 0. 0. 0. 0. 0. 0. 0. 0. 0. 0. 0. 0. 0.]\n",
      " [1. 0. 0. 0. 0. 0. 0. 0. 0. 0. 0. 0. 0. 0. 0. 0. 0. 0. 0. 0.]\n",
      " [1. 0. 0. 0. 0. 0. 0. 0. 0. 0. 0. 0. 0. 0. 0. 0. 0. 0. 0. 0.]\n",
      " [1. 0. 0. 0. 0. 0. 0. 0. 0. 0. 0. 0. 0. 0. 0. 0. 0. 0. 0. 0.]\n",
      " [1. 0. 0. 0. 0. 0. 0. 0. 0. 0. 0. 0. 0. 0. 0. 0. 0. 0. 0. 0.]\n",
      " [1. 0. 0. 0. 0. 0. 0. 0. 0. 0. 0. 0. 0. 0. 0. 0. 0. 0. 0. 0.]\n",
      " [1. 0. 0. 0. 0. 0. 0. 0. 0. 0. 0. 0. 0. 0. 0. 0. 0. 0. 0. 0.]\n",
      " [1. 0. 0. 0. 0. 0. 0. 0. 0. 0. 0. 0. 0. 0. 0. 0. 0. 0. 0. 0.]\n",
      " [1. 0. 0. 0. 0. 0. 0. 0. 0. 0. 0. 0. 0. 0. 0. 0. 0. 0. 0. 0.]\n",
      " [1. 0. 0. 0. 0. 0. 0. 0. 0. 0. 0. 0. 0. 0. 0. 0. 0. 0. 0. 0.]\n",
      " [1. 0. 0. 0. 0. 0. 0. 0. 0. 0. 0. 0. 0. 0. 0. 0. 0. 0. 0. 0.]\n",
      " [1. 0. 0. 0. 0. 0. 0. 0. 0. 0. 0. 0. 0. 0. 0. 0. 0. 0. 0. 0.]\n",
      " [1. 0. 0. 0. 0. 0. 0. 0. 0. 0. 0. 0. 0. 0. 0. 0. 0. 0. 0. 0.]\n",
      " [1. 0. 0. 0. 0. 0. 0. 0. 0. 0. 0. 0. 0. 0. 0. 0. 0. 0. 0. 0.]\n",
      " [1. 0. 0. 0. 0. 0. 0. 0. 0. 0. 0. 0. 0. 0. 0. 0. 0. 0. 0. 0.]]\n",
      "[[0. 0. 0. 0. 1. 0. 0. 0. 0. 0. 0. 0. 0. 0. 0. 0. 0. 0. 0. 0.]\n",
      " [0. 0. 0. 0. 1. 0. 0. 0. 0. 0. 0. 0. 0. 0. 0. 0. 0. 0. 0. 0.]\n",
      " [0. 0. 0. 0. 1. 0. 0. 0. 0. 0. 0. 0. 0. 0. 0. 0. 0. 0. 0. 0.]\n",
      " [0. 0. 0. 0. 1. 0. 0. 0. 0. 0. 0. 0. 0. 0. 0. 0. 0. 0. 0. 0.]\n",
      " [0. 0. 0. 0. 1. 0. 0. 0. 0. 0. 0. 0. 0. 0. 0. 0. 0. 0. 0. 0.]\n",
      " [0. 0. 0. 0. 1. 0. 0. 0. 0. 0. 0. 0. 0. 0. 0. 0. 0. 0. 0. 0.]\n",
      " [0. 0. 0. 0. 1. 0. 0. 0. 0. 0. 0. 0. 0. 0. 0. 0. 0. 0. 0. 0.]\n",
      " [0. 0. 0. 0. 1. 0. 0. 0. 0. 0. 0. 0. 0. 0. 0. 0. 0. 0. 0. 0.]\n",
      " [0. 0. 0. 0. 1. 0. 0. 0. 0. 0. 0. 0. 0. 0. 0. 0. 0. 0. 0. 0.]\n",
      " [0. 0. 0. 0. 1. 0. 0. 0. 0. 0. 0. 0. 0. 0. 0. 0. 0. 0. 0. 0.]\n",
      " [0. 0. 0. 0. 1. 0. 0. 0. 0. 0. 0. 0. 0. 0. 0. 0. 0. 0. 0. 0.]\n",
      " [0. 0. 0. 0. 1. 0. 0. 0. 0. 0. 0. 0. 0. 0. 0. 0. 0. 0. 0. 0.]\n",
      " [0. 0. 0. 0. 1. 0. 0. 0. 0. 0. 0. 0. 0. 0. 0. 0. 0. 0. 0. 0.]\n",
      " [0. 0. 0. 0. 1. 0. 0. 0. 0. 0. 0. 0. 0. 0. 0. 0. 0. 0. 0. 0.]\n",
      " [0. 0. 0. 0. 1. 0. 0. 0. 0. 0. 0. 0. 0. 0. 0. 0. 0. 0. 0. 0.]\n",
      " [0. 0. 0. 0. 1. 0. 0. 0. 0. 0. 0. 0. 0. 0. 0. 0. 0. 0. 0. 0.]\n",
      " [0. 0. 0. 0. 1. 0. 0. 0. 0. 0. 0. 0. 0. 0. 0. 0. 0. 0. 0. 0.]\n",
      " [0. 0. 0. 0. 1. 0. 0. 0. 0. 0. 0. 0. 0. 0. 0. 0. 0. 0. 0. 0.]\n",
      " [0. 0. 0. 0. 1. 0. 0. 0. 0. 0. 0. 0. 0. 0. 0. 0. 0. 0. 0. 0.]\n",
      " [0. 0. 0. 0. 1. 0. 0. 0. 0. 0. 0. 0. 0. 0. 0. 0. 0. 0. 0. 0.]]\n"
     ]
    }
   ],
   "source": [
    "sp1_cells = np.zeros((20, 20))\n",
    "sp1_cells[:, 0] = 1\n",
    "sp2_cells = np.zeros((20, 20))\n",
    "sp2_cells[:, 4] = 1\n",
    "print(sp1_cells)\n",
    "print(sp2_cells)"
   ]
  },
  {
   "cell_type": "code",
   "execution_count": 5,
   "id": "ced401fb-38a8-47a7-9e82-409a2000de4e",
   "metadata": {},
   "outputs": [
    {
     "data": {
      "image/png": "[encoded data removed]",
      "text/plain": [
       "<Figure size 640x480 with 2 Axes>"
      ]
     },
     "metadata": {},
     "output_type": "display_data"
    }
   ],
   "source": [
    "import matplotlib.pyplot as plt\n",
    "import numpy as np\n",
    "\n",
    "\n",
    "data = np.array([[1, 2, 3], [4, 5, 6], [7, 8, 9]])\n",
    "\n",
    "fig, ax = plt.subplots()\n",
    "cax = ax.imshow(data, cmap=\"hot\", interpolation=\"nearest\")\n",
    "\n",
    "\n",
    "cbar = fig.colorbar(cax)\n",
    "\n",
    "\n",
    "for i in range(data.shape[0]):\n",
    "    for j in range(data.shape[1]):\n",
    "        ax.text(j, i, data[i, j], ha='center', va='center', color='black')\n",
    "\n",
    "plt.show()\n"
   ]
  },
  {
   "cell_type": "code",
   "execution_count": null,
   "id": "5d686877-5954-43c8-bb87-50c62f4a7fe0",
   "metadata": {},
   "outputs": [],
   "source": [
    "def decimal_to_binary(array_list, precision_bits_list):\n",
    "\n",
    "    \"\"\"\n",
    "    Convert a list of 2D NumPy arrays to a list of binary strings.\n",
    "\n",
    "    Args:\n",
    "        - array_list (list of numpy.ndarray): List of input 2D arrays of float or int values.\n",
    "        - precision_bits_list (list of tuple): List of tuples containing (min_val, max_val, bits) to define the precision for each array.\n",
    "            - min_val (float): The minimum possible value of the original range for the element.\n",
    "            - max_val (float): The maximum possible value of the original range for the element.\n",
    "            - bits (int): The number of bits used to represent the element in the binary string.\n",
    "\n",
    "    Returns:\n",
    "        - binary_strings (list of str): List of binary strings representing the arrays.\n",
    "    \"\"\"\n",
    "\n",
    "    binary_strings = []\n",
    "\n",
    "    for array, precision_bits in zip(array_list, precision_bits_list):\n",
    "\n",
    "        min_val, max_val, bits = precision_bits\n",
    "\n",
    "        binary_string = ''.join(\n",
    "            f\"{int((val - min_val) / (max_val - min_val) * ((1 << bits) - 1)):0{bits}b}\"\n",
    "            for sub_array in array for val in sub_array\n",
    "        )\n",
    "\n",
    "        binary_strings.append(binary_string)\n",
    "\n",
    "    return binary_strings\n"
   ]
  },
  {
   "cell_type": "code",
   "execution_count": 7,
   "id": "303218f0-02e6-4e89-aef5-43aae8c7db99",
   "metadata": {},
   "outputs": [
    {
     "ename": "ValueError",
     "evalue": "a must be 1-dimensional",
     "output_type": "error",
     "traceback": [
      "\u001b[0;31m---------------------------------------------------------------------------\u001b[0m",
      "\u001b[0;31mValueError\u001b[0m                                Traceback (most recent call last)",
      "Cell \u001b[0;32mIn[7], line 30\u001b[0m\n\u001b[1;32m     21\u001b[0m pop \u001b[38;5;241m=\u001b[39m [\n\u001b[1;32m     22\u001b[0m     [\u001b[38;5;124m'\u001b[39m\u001b[38;5;124m011011001\u001b[39m\u001b[38;5;124m'\u001b[39m, \u001b[38;5;124m'\u001b[39m\u001b[38;5;124m0001100110010\u001b[39m\u001b[38;5;124m'\u001b[39m, \u001b[38;5;124m'\u001b[39m\u001b[38;5;124m00110011111111\u001b[39m\u001b[38;5;124m'\u001b[39m], \n\u001b[1;32m     23\u001b[0m     [\u001b[38;5;124m'\u001b[39m\u001b[38;5;124m0111111010011001\u001b[39m\u001b[38;5;124m'\u001b[39m, \u001b[38;5;124m'\u001b[39m\u001b[38;5;124m000110010011100110010\u001b[39m\u001b[38;5;124m'\u001b[39m, \u001b[38;5;124m'\u001b[39m\u001b[38;5;124m00110010010111111111\u001b[39m\u001b[38;5;124m'\u001b[39m],\n\u001b[0;32m   (...)\u001b[0m\n\u001b[1;32m     27\u001b[0m     [\u001b[38;5;124m'\u001b[39m\u001b[38;5;124m01111111101111110011111110011001\u001b[39m\u001b[38;5;124m'\u001b[39m, \u001b[38;5;124m'\u001b[39m\u001b[38;5;124m0001100110111001100001100110011100110010\u001b[39m\u001b[38;5;124m'\u001b[39m, \u001b[38;5;124m'\u001b[39m\u001b[38;5;124m0011001100010011001001100110010111111111\u001b[39m\u001b[38;5;124m'\u001b[39m]\n\u001b[1;32m     28\u001b[0m ]\n\u001b[1;32m     29\u001b[0m f \u001b[38;5;241m=\u001b[39m [\u001b[38;5;241m3\u001b[39m, \u001b[38;5;241m4\u001b[39m, \u001b[38;5;241m5\u001b[39m, \u001b[38;5;241m10\u001b[39m, \u001b[38;5;241m12\u001b[39m, \u001b[38;5;241m1\u001b[39m]\n\u001b[0;32m---> 30\u001b[0m p \u001b[38;5;241m=\u001b[39m \u001b[43mselect_parents\u001b[49m\u001b[43m(\u001b[49m\u001b[43mpop\u001b[49m\u001b[43m,\u001b[49m\u001b[43m \u001b[49m\u001b[43mf\u001b[49m\u001b[43m)\u001b[49m\n\u001b[1;32m     31\u001b[0m p\n",
      "Cell \u001b[0;32mIn[7], line 16\u001b[0m, in \u001b[0;36mselect_parents\u001b[0;34m(population, fitness_scores)\u001b[0m\n\u001b[1;32m      2\u001b[0m \u001b[38;5;250m\u001b[39m\u001b[38;5;124;03m\"\"\"\u001b[39;00m\n\u001b[1;32m      3\u001b[0m \u001b[38;5;124;03mSelect parents for the next generation based on their fitness scores.\u001b[39;00m\n\u001b[1;32m      4\u001b[0m \u001b[38;5;124;03musing Fitness Proportionate Selection (Roulette Wheel Selection) method.\u001b[39;00m\n\u001b[0;32m   (...)\u001b[0m\n\u001b[1;32m     11\u001b[0m \u001b[38;5;124;03m    selected (list) : The selected parents for the next generation.\u001b[39;00m\n\u001b[1;32m     12\u001b[0m \u001b[38;5;124;03m\"\"\"\u001b[39;00m\n\u001b[1;32m     14\u001b[0m probabilities \u001b[38;5;241m=\u001b[39m fitness_scores \u001b[38;5;241m/\u001b[39m np\u001b[38;5;241m.\u001b[39msum(fitness_scores)\n\u001b[0;32m---> 16\u001b[0m selected \u001b[38;5;241m=\u001b[39m \u001b[43mnp\u001b[49m\u001b[38;5;241;43m.\u001b[39;49m\u001b[43mrandom\u001b[49m\u001b[38;5;241;43m.\u001b[39;49m\u001b[43mchoice\u001b[49m\u001b[43m(\u001b[49m\u001b[43mpopulation\u001b[49m\u001b[43m,\u001b[49m\u001b[43m \u001b[49m\u001b[43msize\u001b[49m\u001b[38;5;241;43m=\u001b[39;49m\u001b[38;5;28;43mlen\u001b[39;49m\u001b[43m(\u001b[49m\u001b[43mpopulation\u001b[49m\u001b[43m)\u001b[49m\u001b[43m,\u001b[49m\u001b[43m \u001b[49m\u001b[43mp\u001b[49m\u001b[38;5;241;43m=\u001b[39;49m\u001b[43mprobabilities\u001b[49m\u001b[43m)\u001b[49m\n\u001b[1;32m     18\u001b[0m \u001b[38;5;28;01mreturn\u001b[39;00m selected\n",
      "File \u001b[0;32mnumpy/random/mtrand.pyx:947\u001b[0m, in \u001b[0;36mnumpy.random.mtrand.RandomState.choice\u001b[0;34m()\u001b[0m\n",
      "\u001b[0;31mValueError\u001b[0m: a must be 1-dimensional"
     ]
    }
   ],
   "source": [
    "def select_parents(population, fitness_scores):\n",
    "    \"\"\"\n",
    "    Select parents for the next generation based on their fitness scores.\n",
    "    using Fitness Proportionate Selection (Roulette Wheel Selection) method.\n",
    "\n",
    "    Args:\n",
    "        - population (list of str): The current population of individuals, each represented as a binary string.\n",
    "        - fitness_scores (list of float): The fitness scores of the individuals in the population.\n",
    "\n",
    "    Returns:\n",
    "        selected (list) : The selected parents for the next generation.\n",
    "    \"\"\"\n",
    "    \n",
    "    probabilities = fitness_scores / np.sum(fitness_scores)\n",
    "\n",
    "    selected = np.random.choice(population, size=len(population), p=probabilities)\n",
    "\n",
    "    return selected\n",
    "\n",
    "\n",
    "pop = [\n",
    "    ['011011001', '0001100110010', '00110011111111'], \n",
    "    ['0111111010011001', '000110010011100110010', '00110010010111111111'],\n",
    "    ['011111111001', '0011100110010', '0011111'],\n",
    "    ['01111111101111110011111110011001', '0001100110111001100001100110011100110010', '0011001100010011001001100110010111111111'],\n",
    "    ['01111111101111110011111110011001', '0001100110111001100001100110011100110010', '0011001100010011001001100110010111111111'],\n",
    "    ['01111111101111110011111110011001', '0001100110111001100001100110011100110010', '0011001100010011001001100110010111111111']\n",
    "]\n",
    "f = [3, 4, 5, 10, 12, 1]\n",
    "p = select_parents(pop, f)\n",
    "p"
   ]
  },
  {
   "cell_type": "code",
   "execution_count": 10,
   "id": "d091c9b6-7288-47c5-8965-9bdaf4b1f604",
   "metadata": {},
   "outputs": [
    {
     "name": "stdout",
     "output_type": "stream",
     "text": [
      "[['01111111101111110011111110011001'\n",
      "  '0001100110111001100001100110011100110010'\n",
      "  '0011001100010011001001100110010111111111']\n",
      " ['01111111101111110011111110011001'\n",
      "  '0001100110111001100001100110011100110010'\n",
      "  '0011001100010011001001100110010111111111']\n",
      " ['01111111101111110011111110011001'\n",
      "  '0001100110111001100001100110011100110010'\n",
      "  '0011001100010011001001100110010111111111']\n",
      " ['011111111001' '0011100110010' '0011111']\n",
      " ['01111111101111110011111110011001'\n",
      "  '0001100110111001100001100110011100110010'\n",
      "  '0011001100010011001001100110010111111111']\n",
      " ['01111111101111110011111110011001'\n",
      "  '0001100110111001100001100110011100110010'\n",
      "  '0011001100010011001001100110010111111111']]\n"
     ]
    }
   ],
   "source": [
    "import numpy as np\n",
    "\n",
    "def select_parents(population, fitness_scores):\n",
    "    \"\"\"\n",
    "    Select parents for the next generation based on their fitness scores\n",
    "    using the Fitness Proportionate Selection (Roulette Wheel Selection) method.\n",
    "\n",
    "    Args:\n",
    "        population (list of list of str): The current population of individuals, each represented as a binary string.\n",
    "        fitness_scores (list of float): The fitness scores of the individuals in the population.\n",
    "\n",
    "    Returns:\n",
    "        selected (list): The selected parents for the next generation.\n",
    "    \"\"\"\n",
    "    \n",
    "    probabilities = np.array(fitness_scores) / np.sum(fitness_scores)\n",
    "\n",
    "    selected_indices = np.random.choice(len(population), size=len(population), p=probabilities)\n",
    "    selected = [population[i] for i in selected_indices]\n",
    "\n",
    "    return selected\n",
    "\n",
    "pop = [\n",
    "    ['011011001', '0001100110010', '00110011111111'], \n",
    "    ['0111111010011001', '000110010011100110010', '00110010010111111111'],\n",
    "    ['011111111001', '0011100110010', '0011111'],\n",
    "    ['01111111101111110011111110011001', '0001100110111001100001100110011100110010', '0011001100010011001001100110010111111111'],\n",
    "    ['01111111101111110011111110011001', '0001100110111001100001100110011100110010', '0011001100010011001001100110010111111111'],\n",
    "    ['01111111101111110011111110011001', '0001100110111001100001100110011100110010', '0011001100010011001001100110010111111111']\n",
    "]\n",
    "f = [3, 4, 5, 10, 12, 1]\n",
    "p = np.array(select_parents(pop, f))\n",
    "print(p)\n"
   ]
  },
  {
   "cell_type": "code",
   "execution_count": 11,
   "id": "2484bfed-4b95-471a-b5b7-48db27af9684",
   "metadata": {},
   "outputs": [
    {
     "ename": "ValueError",
     "evalue": "a must be 1-dimensional",
     "output_type": "error",
     "traceback": [
      "\u001b[0;31m---------------------------------------------------------------------------\u001b[0m",
      "\u001b[0;31mValueError\u001b[0m                                Traceback (most recent call last)",
      "Cell \u001b[0;32mIn[11], line 1\u001b[0m\n\u001b[0;32m----> 1\u001b[0m o \u001b[38;5;241m=\u001b[39m \u001b[43mnp\u001b[49m\u001b[38;5;241;43m.\u001b[39;49m\u001b[43mrandom\u001b[49m\u001b[38;5;241;43m.\u001b[39;49m\u001b[43mchoice\u001b[49m\u001b[43m(\u001b[49m\u001b[43mp\u001b[49m\u001b[43m)\u001b[49m\n",
      "File \u001b[0;32mnumpy/random/mtrand.pyx:947\u001b[0m, in \u001b[0;36mnumpy.random.mtrand.RandomState.choice\u001b[0;34m()\u001b[0m\n",
      "\u001b[0;31mValueError\u001b[0m: a must be 1-dimensional"
     ]
    }
   ],
   "source": [
    "o = np.random.choice(p)"
   ]
  },
  {
   "cell_type": "code",
   "execution_count": 12,
   "id": "fd7c3028-d88f-4876-964f-94ccd3653994",
   "metadata": {},
   "outputs": [
    {
     "name": "stdout",
     "output_type": "stream",
     "text": [
      "[['01111111101111110011111110011001', '0001100110111001100001100110011100110010', '0011001100010011001001100110010111111111'], ['011111111001', '0011100110010', '0011111'], ['011111111001', '0011100110010', '0011111'], ['01111111101111110011111110011001', '0001100110111001100001100110011100110010', '0011001100010011001001100110010111111111'], ['01111111101111110011111110011001', '0001100110111001100001100110011100110010', '0011001100010011001001100110010111111111'], ['011111111001', '0011100110010', '0011111']]\n"
     ]
    }
   ],
   "source": [
    "def select_parents(population, fitness_scores):\n",
    "    \"\"\"\n",
    "    Select parents for the next generation based on their fitness scores\n",
    "    using the Fitness Proportionate Selection (Roulette Wheel Selection) method.\n",
    "\n",
    "    Args:\n",
    "        population (list of list of str): The current population of individuals, each represented as a binary string.\n",
    "        fitness_scores (list of float): The fitness scores of the individuals in the population.\n",
    "\n",
    "    Returns:\n",
    "        selected (list): The selected parents for the next generation.\n",
    "    \"\"\"\n",
    "\n",
    "    total_fitness = np.sum(fitness_scores)\n",
    "\n",
    "    if total_fitness == 0:\n",
    "        probabilities = np.ones(len(fitness_scores)) / len(fitness_scores)\n",
    "    else:\n",
    "        probabilities = np.array(fitness_scores) / total_fitness\n",
    "\n",
    "    selected_indices = np.random.choice(len(population), size=len(population), p=probabilities)\n",
    "    selected = [population[i] for i in selected_indices]\n",
    "\n",
    "    return selected\n",
    "\n",
    "pop = [\n",
    "    ['011011001', '0001100110010', '00110011111111'], \n",
    "    ['0111111010011001', '000110010011100110010', '00110010010111111111'],\n",
    "    ['011111111001', '0011100110010', '0011111'],\n",
    "    ['01111111101111110011111110011001', '0001100110111001100001100110011100110010', '0011001100010011001001100110010111111111'],\n",
    "    ['01111111101111110011111110011001', '0001100110111001100001100110011100110010', '0011001100010011001001100110010111111111'],\n",
    "    ['01111111101111110011111110011001', '0001100110111001100001100110011100110010', '0011001100010011001001100110010111111111']\n",
    "]\n",
    "f = [3, 4, 5, 10, 12, 1]\n",
    "p = select_parents(pop, f)\n",
    "print(p)\n"
   ]
  },
  {
   "cell_type": "code",
   "execution_count": 14,
   "id": "648ab5c8-3629-4e0f-87e1-1f96faed5182",
   "metadata": {},
   "outputs": [
    {
     "ename": "TypeError",
     "evalue": "int() can't convert non-string with explicit base",
     "output_type": "error",
     "traceback": [
      "\u001b[0;31m---------------------------------------------------------------------------\u001b[0m",
      "\u001b[0;31mTypeError\u001b[0m                                 Traceback (most recent call last)",
      "Cell \u001b[0;32mIn[14], line 87\u001b[0m\n\u001b[1;32m     84\u001b[0m pre \u001b[38;5;241m=\u001b[39m [(\u001b[38;5;241m0\u001b[39m, \u001b[38;5;241m1\u001b[39m, \u001b[38;5;241m8\u001b[39m), (\u001b[38;5;241m0\u001b[39m, \u001b[38;5;241m1\u001b[39m, \u001b[38;5;241m8\u001b[39m), (\u001b[38;5;241m0\u001b[39m, \u001b[38;5;241m1\u001b[39m, \u001b[38;5;241m8\u001b[39m)]\n\u001b[1;32m     85\u001b[0m sh \u001b[38;5;241m=\u001b[39m [(\u001b[38;5;241m2\u001b[39m, \u001b[38;5;241m2\u001b[39m), (\u001b[38;5;241m1\u001b[39m, \u001b[38;5;241m5\u001b[39m), (\u001b[38;5;241m3\u001b[39m, \u001b[38;5;241m2\u001b[39m)]\n\u001b[0;32m---> 87\u001b[0m dec \u001b[38;5;241m=\u001b[39m \u001b[43mbinary_to_decimal\u001b[49m\u001b[43m(\u001b[49m\u001b[43mpop\u001b[49m\u001b[43m,\u001b[49m\u001b[43m \u001b[49m\u001b[43mpre\u001b[49m\u001b[43m,\u001b[49m\u001b[43m \u001b[49m\u001b[43msh\u001b[49m\u001b[43m)\u001b[49m\n\u001b[1;32m     88\u001b[0m dec\n",
      "Cell \u001b[0;32mIn[14], line 66\u001b[0m, in \u001b[0;36mbinary_to_decimal\u001b[0;34m(binary_string_list, precision_bits_list, shapes)\u001b[0m\n\u001b[1;32m     63\u001b[0m \u001b[38;5;28;01mfor\u001b[39;00m _ \u001b[38;5;129;01min\u001b[39;00m \u001b[38;5;28mrange\u001b[39m(shape[\u001b[38;5;241m1\u001b[39m]):\n\u001b[1;32m     65\u001b[0m     segment \u001b[38;5;241m=\u001b[39m binary_string[index:index \u001b[38;5;241m+\u001b[39m bits]\n\u001b[0;32m---> 66\u001b[0m     int_value \u001b[38;5;241m=\u001b[39m \u001b[38;5;28;43mint\u001b[39;49m\u001b[43m(\u001b[49m\u001b[43msegment\u001b[49m\u001b[43m,\u001b[49m\u001b[43m \u001b[49m\u001b[38;5;241;43m2\u001b[39;49m\u001b[43m)\u001b[49m\n\u001b[1;32m     67\u001b[0m     max_int_value \u001b[38;5;241m=\u001b[39m (\u001b[38;5;241m1\u001b[39m \u001b[38;5;241m<<\u001b[39m bits) \u001b[38;5;241m-\u001b[39m \u001b[38;5;241m1\u001b[39m\n\u001b[1;32m     68\u001b[0m     real_value \u001b[38;5;241m=\u001b[39m min_val \u001b[38;5;241m+\u001b[39m (max_val \u001b[38;5;241m-\u001b[39m min_val) \u001b[38;5;241m*\u001b[39m (int_value \u001b[38;5;241m/\u001b[39m max_int_value)\n",
      "\u001b[0;31mTypeError\u001b[0m: int() can't convert non-string with explicit base"
     ]
    }
   ],
   "source": [
    "def decimal_to_binary(array_list, precision_bits_list):\n",
    "\n",
    "    \"\"\"\n",
    "    Convert a list of 2D NumPy arrays to a list of binary strings.\n",
    "\n",
    "    Args:\n",
    "        - array_list (list of numpy.ndarray): List of input 2D arrays of float or int values.\n",
    "        - precision_bits_list (list of tuple): List of tuples containing (min_val, max_val, bits) to define the precision for each array.\n",
    "            - min_val (float): The minimum possible value of the original range for the element.\n",
    "            - max_val (float): The maximum possible value of the original range for the element.\n",
    "            - bits (int): The number of bits used to represent the element in the binary string.\n",
    "\n",
    "    Returns:\n",
    "        - binary_strings (list of str): List of binary strings representing the arrays.\n",
    "    \"\"\"\n",
    "\n",
    "    binary_strings = []\n",
    "\n",
    "    for array, precision_bits in zip(array_list, precision_bits_list):\n",
    "\n",
    "        min_val, max_val, bits = precision_bits\n",
    "\n",
    "        binary_string = ''.join(\n",
    "            f\"{int((val - min_val) / (max_val - min_val) * ((1 << bits) - 1)):0{bits}b}\"\n",
    "            for sub_array in array for val in sub_array\n",
    "        )\n",
    "\n",
    "        binary_strings.append(binary_string)\n",
    "\n",
    "    return binary_strings\n",
    "\n",
    "\n",
    "\n",
    "\n",
    "def binary_to_decimal(binary_string_list, precision_bits_list, shapes):\n",
    "    \"\"\"\n",
    "    Convert a list of binary strings back to a list of 2D NumPy arrays.\n",
    "\n",
    "    Args:\n",
    "        - binary_string_list (list of str): List of binary strings to be converted.\n",
    "        - precision_bits_list (list of tuple): List of tuples containing (min_val, max_val, bits) to define the precision for each array.\n",
    "            - min_val (float): The minimum possible value of the original range for the element.\n",
    "            - max_val (float): The maximum possible value of the original range for the element.\n",
    "            - bits (int): The number of bits used to represent the element in the binary string.\n",
    "        - shapes (list of tuple): List of shapes for the original arrays.\n",
    "\n",
    "    Returns:\n",
    "        - arrays (list of numpy.ndarray): List of arrays of float or int values represented by the binary strings.\n",
    "    \"\"\"\n",
    "\n",
    "    arrays = []\n",
    "\n",
    "    for binary_string, precision_bits, shape in zip(binary_string_list, precision_bits_list, shapes):\n",
    "\n",
    "        min_val, max_val, bits = precision_bits\n",
    "        array = []\n",
    "        index = 0\n",
    "\n",
    "        for _ in range(shape[0]):\n",
    "\n",
    "            row = []\n",
    "\n",
    "            for _ in range(shape[1]):\n",
    "\n",
    "                segment = binary_string[index:index + bits]\n",
    "                int_value = int(segment, 2)\n",
    "                max_int_value = (1 << bits) - 1\n",
    "                real_value = min_val + (max_val - min_val) * (int_value / max_int_value)\n",
    "                row.append(real_value)\n",
    "                index += bits\n",
    "            array.append(row)\n",
    "\n",
    "        arrays.append(np.array(array))\n",
    "\n",
    "    return arrays\n",
    "\n",
    "\n",
    "pop = [\n",
    "    ['01111111101111110011111110011001', '0001100110111001100001100110011100110010', '001100110001001100100110011001011111111100000000'],\n",
    "    ['01111111101111110011111110011001', '0001100110111001100001100110011100110010', '001100110001001100100110011001011111111100000000'],\n",
    "    ['01111111101111110011111110011001', '0001100110111001100001100110011100110010', '001100110001001100100110011001011111111100000000'],\n",
    "    ['01111111101111110011111110011001', '0001100110111001100001100110011100110010', '001100110001001100100110011001011111111100000000']  \n",
    "]\n",
    "pre = [(0, 1, 8), (0, 1, 8), (0, 1, 8)]\n",
    "sh = [(2, 2), (1, 5), (3, 2)]\n",
    "\n",
    "dec = binary_to_decimal(pop, pre, sh)\n",
    "dec\n"
   ]
  },
  {
   "cell_type": "code",
   "execution_count": 15,
   "id": "804e2998-6f09-499a-8a82-221764bad28f",
   "metadata": {},
   "outputs": [
    {
     "ename": "ValueError",
     "evalue": "setting an array element with a sequence. The requested array has an inhomogeneous shape after 1 dimensions. The detected shape was (3,) + inhomogeneous part.",
     "output_type": "error",
     "traceback": [
      "\u001b[0;31m---------------------------------------------------------------------------\u001b[0m",
      "\u001b[0;31mValueError\u001b[0m                                Traceback (most recent call last)",
      "Cell \u001b[0;32mIn[15], line 53\u001b[0m\n\u001b[1;32m     50\u001b[0m pre \u001b[38;5;241m=\u001b[39m [(\u001b[38;5;241m0\u001b[39m, \u001b[38;5;241m1\u001b[39m, \u001b[38;5;241m8\u001b[39m), (\u001b[38;5;241m0\u001b[39m, \u001b[38;5;241m1\u001b[39m, \u001b[38;5;241m8\u001b[39m), (\u001b[38;5;241m0\u001b[39m, \u001b[38;5;241m1\u001b[39m, \u001b[38;5;241m8\u001b[39m)]\n\u001b[1;32m     51\u001b[0m sh \u001b[38;5;241m=\u001b[39m [(\u001b[38;5;241m2\u001b[39m, \u001b[38;5;241m2\u001b[39m), (\u001b[38;5;241m1\u001b[39m, \u001b[38;5;241m5\u001b[39m), (\u001b[38;5;241m3\u001b[39m, \u001b[38;5;241m2\u001b[39m)]\n\u001b[0;32m---> 53\u001b[0m dec \u001b[38;5;241m=\u001b[39m \u001b[43mbinary_to_decimal\u001b[49m\u001b[43m(\u001b[49m\u001b[43mpop\u001b[49m\u001b[43m,\u001b[49m\u001b[43m \u001b[49m\u001b[43mpre\u001b[49m\u001b[43m,\u001b[49m\u001b[43m \u001b[49m\u001b[43msh\u001b[49m\u001b[43m)\u001b[49m\n\u001b[1;32m     54\u001b[0m \u001b[38;5;28mprint\u001b[39m(dec)\n",
      "Cell \u001b[0;32mIn[15], line 25\u001b[0m, in \u001b[0;36mbinary_to_decimal\u001b[0;34m(binary_string_list, precision_bits_list, shapes)\u001b[0m\n\u001b[1;32m     22\u001b[0m min_val, max_val, bits \u001b[38;5;241m=\u001b[39m precision_bits\n\u001b[1;32m     24\u001b[0m \u001b[38;5;66;03m# Reshape binary string into 2D array\u001b[39;00m\n\u001b[0;32m---> 25\u001b[0m binary_2d \u001b[38;5;241m=\u001b[39m \u001b[43mnp\u001b[49m\u001b[38;5;241;43m.\u001b[39;49m\u001b[43marray\u001b[49m\u001b[43m(\u001b[49m\u001b[43m[\u001b[49m\u001b[38;5;28;43mlist\u001b[39;49m\u001b[43m(\u001b[49m\u001b[43msegment\u001b[49m\u001b[43m)\u001b[49m\u001b[43m \u001b[49m\u001b[38;5;28;43;01mfor\u001b[39;49;00m\u001b[43m \u001b[49m\u001b[43msegment\u001b[49m\u001b[43m \u001b[49m\u001b[38;5;129;43;01min\u001b[39;49;00m\u001b[43m \u001b[49m\u001b[43mbinary_string\u001b[49m\u001b[43m]\u001b[49m\u001b[43m)\u001b[49m\n\u001b[1;32m     27\u001b[0m \u001b[38;5;66;03m# Convert binary string to integer\u001b[39;00m\n\u001b[1;32m     28\u001b[0m int_values \u001b[38;5;241m=\u001b[39m binary_2d\u001b[38;5;241m.\u001b[39mastype(\u001b[38;5;28mint\u001b[39m)\n",
      "\u001b[0;31mValueError\u001b[0m: setting an array element with a sequence. The requested array has an inhomogeneous shape after 1 dimensions. The detected shape was (3,) + inhomogeneous part."
     ]
    }
   ],
   "source": [
    "import numpy as np\n",
    "\n",
    "def binary_to_decimal(binary_string_list, precision_bits_list, shapes):\n",
    "    \"\"\"\n",
    "    Convert a list of binary strings back to a list of 2D NumPy arrays.\n",
    "\n",
    "    Args:\n",
    "        binary_string_list (list of str): List of binary strings to be converted.\n",
    "        precision_bits_list (list of tuple): List of tuples containing (min_val, max_val, bits) to define the precision for each array.\n",
    "            - min_val (float): The minimum possible value of the original range for the element.\n",
    "            - max_val (float): The maximum possible value of the original range for the element.\n",
    "            - bits (int): The number of bits used to represent the element in the binary string.\n",
    "        shapes (list of tuple): List of shapes for the original arrays.\n",
    "\n",
    "    Returns:\n",
    "        arrays (list of numpy.ndarray): List of arrays of float or int values represented by the binary strings.\n",
    "    \"\"\"\n",
    "\n",
    "    arrays = []\n",
    "\n",
    "    for binary_string, precision_bits, shape in zip(binary_string_list, precision_bits_list, shapes):\n",
    "        min_val, max_val, bits = precision_bits\n",
    "\n",
    "        binary_2d = np.array([list(segment) for segment in binary_string])\n",
    "\n",
    "        int_values = binary_2d.astype(int)\n",
    "\n",
    "        max_int_value = (1 << bits) - 1\n",
    "\n",
    "        real_values = min_val + (max_val - min_val) * int_values / max_int_value\n",
    "\n",
    "       \n",
    "        array = real_values.reshape(shape)\n",
    "\n",
    "        arrays.append(array)\n",
    "\n",
    "    return arrays\n",
    "\n",
    "\n",
    "pop = [\n",
    "    ['01111111101111110011111110011001', '0001100110111001100001100110011100110010', '001100110001001100100110011001011111111100000000'],\n",
    "    ['01111111101111110011111110011001', '0001100110111001100001100110011100110010', '001100110001001100100110011001011111111100000000'],\n",
    "    ['01111111101111110011111110011001', '0001100110111001100001100110011100110010', '001100110001001100100110011001011111111100000000'],\n",
    "    ['01111111101111110011111110011001', '0001100110111001100001100110011100110010', '001100110001001100100110011001011111111100000000']  \n",
    "]\n",
    "pre = [(0, 1, 8), (0, 1, 8), (0, 1, 8)]\n",
    "sh = [(2, 2), (1, 5), (3, 2)]\n",
    "\n",
    "dec = binary_to_decimal(pop, pre, sh)\n",
    "print(dec)\n"
   ]
  },
  {
   "cell_type": "code",
   "execution_count": 16,
   "id": "07b42870-180c-4014-8420-6fe7b995f72f",
   "metadata": {},
   "outputs": [
    {
     "name": "stdout",
     "output_type": "stream",
     "text": [
      "Segment: ['01111111101111110011111110011001', '0001100110111001100001100110011100110010', '001100110001001100100110011001011111111100000000'], Binary String: ['01111111101111110011111110011001', '0001100110111001100001100110011100110010', '001100110001001100100110011001011111111100000000'], Index: 0, Bits: 8\n"
     ]
    },
    {
     "ename": "TypeError",
     "evalue": "int() can't convert non-string with explicit base",
     "output_type": "error",
     "traceback": [
      "\u001b[0;31m---------------------------------------------------------------------------\u001b[0m",
      "\u001b[0;31mTypeError\u001b[0m                                 Traceback (most recent call last)",
      "Cell \u001b[0;32mIn[16], line 54\u001b[0m\n\u001b[1;32m     51\u001b[0m pre \u001b[38;5;241m=\u001b[39m [(\u001b[38;5;241m0\u001b[39m, \u001b[38;5;241m1\u001b[39m, \u001b[38;5;241m8\u001b[39m), (\u001b[38;5;241m0\u001b[39m, \u001b[38;5;241m1\u001b[39m, \u001b[38;5;241m8\u001b[39m), (\u001b[38;5;241m0\u001b[39m, \u001b[38;5;241m1\u001b[39m, \u001b[38;5;241m8\u001b[39m)]\n\u001b[1;32m     52\u001b[0m sh \u001b[38;5;241m=\u001b[39m [(\u001b[38;5;241m2\u001b[39m, \u001b[38;5;241m2\u001b[39m), (\u001b[38;5;241m1\u001b[39m, \u001b[38;5;241m5\u001b[39m), (\u001b[38;5;241m3\u001b[39m, \u001b[38;5;241m2\u001b[39m)]\n\u001b[0;32m---> 54\u001b[0m dec \u001b[38;5;241m=\u001b[39m \u001b[43mbinary_to_decimal\u001b[49m\u001b[43m(\u001b[49m\u001b[43mpop\u001b[49m\u001b[43m,\u001b[49m\u001b[43m \u001b[49m\u001b[43mpre\u001b[49m\u001b[43m,\u001b[49m\u001b[43m \u001b[49m\u001b[43msh\u001b[49m\u001b[43m)\u001b[49m\n\u001b[1;32m     55\u001b[0m \u001b[38;5;28mprint\u001b[39m(dec)\n",
      "Cell \u001b[0;32mIn[16], line 33\u001b[0m, in \u001b[0;36mbinary_to_decimal\u001b[0;34m(binary_string_list, precision_bits_list, shapes)\u001b[0m\n\u001b[1;32m     31\u001b[0m segment \u001b[38;5;241m=\u001b[39m binary_string[index:index \u001b[38;5;241m+\u001b[39m bits]\n\u001b[1;32m     32\u001b[0m \u001b[38;5;28mprint\u001b[39m(\u001b[38;5;124mf\u001b[39m\u001b[38;5;124m\"\u001b[39m\u001b[38;5;124mSegment: \u001b[39m\u001b[38;5;132;01m{\u001b[39;00msegment\u001b[38;5;132;01m}\u001b[39;00m\u001b[38;5;124m, Binary String: \u001b[39m\u001b[38;5;132;01m{\u001b[39;00mbinary_string\u001b[38;5;132;01m}\u001b[39;00m\u001b[38;5;124m, Index: \u001b[39m\u001b[38;5;132;01m{\u001b[39;00mindex\u001b[38;5;132;01m}\u001b[39;00m\u001b[38;5;124m, Bits: \u001b[39m\u001b[38;5;132;01m{\u001b[39;00mbits\u001b[38;5;132;01m}\u001b[39;00m\u001b[38;5;124m\"\u001b[39m)\n\u001b[0;32m---> 33\u001b[0m int_value \u001b[38;5;241m=\u001b[39m \u001b[38;5;28;43mint\u001b[39;49m\u001b[43m(\u001b[49m\u001b[43msegment\u001b[49m\u001b[43m,\u001b[49m\u001b[43m \u001b[49m\u001b[38;5;241;43m2\u001b[39;49m\u001b[43m)\u001b[49m\n\u001b[1;32m     34\u001b[0m max_int_value \u001b[38;5;241m=\u001b[39m (\u001b[38;5;241m1\u001b[39m \u001b[38;5;241m<<\u001b[39m bits) \u001b[38;5;241m-\u001b[39m \u001b[38;5;241m1\u001b[39m\n\u001b[1;32m     35\u001b[0m real_value \u001b[38;5;241m=\u001b[39m min_val \u001b[38;5;241m+\u001b[39m (max_val \u001b[38;5;241m-\u001b[39m min_val) \u001b[38;5;241m*\u001b[39m (int_value \u001b[38;5;241m/\u001b[39m max_int_value)\n",
      "\u001b[0;31mTypeError\u001b[0m: int() can't convert non-string with explicit base"
     ]
    }
   ],
   "source": [
    "def binary_to_decimal(binary_string_list, precision_bits_list, shapes):\n",
    "    \"\"\"\n",
    "    Convert a list of binary strings back to a list of 2D NumPy arrays.\n",
    "\n",
    "    Args:\n",
    "        binary_string_list (list of str): List of binary strings to be converted.\n",
    "        precision_bits_list (list of tuple): List of tuples containing (min_val, max_val, bits) to define the precision for each array.\n",
    "            - min_val (float): The minimum possible value of the original range for the element.\n",
    "            - max_val (float): The maximum possible value of the original range for the element.\n",
    "            - bits (int): The number of bits used to represent the element in the binary string.\n",
    "        shapes (list of tuple): List of shapes for the original arrays.\n",
    "\n",
    "    Returns:\n",
    "        arrays (list of numpy.ndarray): List of arrays of float or int values represented by the binary strings.\n",
    "    \"\"\"\n",
    "\n",
    "    arrays = []\n",
    "\n",
    "    for binary_string, precision_bits, shape in zip(binary_string_list, precision_bits_list, shapes):\n",
    "        min_val, max_val, bits = precision_bits\n",
    "\n",
    "        array = []\n",
    "        index = 0\n",
    "\n",
    "        for _ in range(shape[0]):\n",
    "\n",
    "            row = []\n",
    "\n",
    "            for _ in range(shape[1]):\n",
    "\n",
    "                segment = binary_string[index:index + bits]\n",
    "                print(f\"Segment: {segment}, Binary String: {binary_string}, Index: {index}, Bits: {bits}\")\n",
    "                int_value = int(segment, 2)\n",
    "                max_int_value = (1 << bits) - 1\n",
    "                real_value = min_val + (max_val - min_val) * (int_value / max_int_value)\n",
    "                row.append(real_value)\n",
    "                index += bits\n",
    "            \n",
    "            array.append(row)\n",
    "\n",
    "        arrays.append(np.array(array))\n",
    "\n",
    "    return arrays\n",
    "\n",
    "pop = [\n",
    "    ['01111111101111110011111110011001', '0001100110111001100001100110011100110010', '001100110001001100100110011001011111111100000000'],\n",
    "    ['01111111101111110011111110011001', '0001100110111001100001100110011100110010', '001100110001001100100110011001011111111100000000'],\n",
    "    ['01111111101111110011111110011001', '0001100110111001100001100110011100110010', '001100110001001100100110011001011111111100000000'],\n",
    "    ['01111111101111110011111110011001', '0001100110111001100001100110011100110010', '001100110001001100100110011001011111111100000000']  \n",
    "]\n",
    "pre = [(0, 1, 8), (0, 1, 8), (0, 1, 8)]\n",
    "sh = [(2, 2), (1, 5), (3, 2)]\n",
    "\n",
    "dec = binary_to_decimal(pop, pre, sh)\n",
    "print(dec)\n"
   ]
  },
  {
   "cell_type": "code",
   "execution_count": 5,
   "id": "18f34397-0179-4498-a18e-b566491eaecd",
   "metadata": {},
   "outputs": [
    {
     "name": "stdout",
     "output_type": "stream",
     "text": [
      "32\n",
      "120\n"
     ]
    }
   ],
   "source": [
    "pop = ['01111111101111110011111110011001', '0001100110111001100001100110011100110010', '001100110001001100100110011001011111111100000000']\n",
    "print(len(pop[0]))\n",
    "max_fitness = sum([len(sub_target) for sub_target in pop])\n",
    "print(max_fitness)"
   ]
  },
  {
   "cell_type": "code",
   "execution_count": 11,
   "id": "d96fe6b8-8aa6-4ea6-943f-1f32c9143b08",
   "metadata": {},
   "outputs": [
    {
     "name": "stdout",
     "output_type": "stream",
     "text": [
      "[32, 14, 16, 32, 14, 16, 32, 14, 16, 32, 14, 16]\n"
     ]
    }
   ],
   "source": [
    "def compute_fitness(population, target):\n",
    "    \"\"\"\n",
    "    Compute the fitness value for each individual in the population.\n",
    "\n",
    "    Args:\n",
    "        population (list of str): The population of individuals, each represented as a binary string.\n",
    "        target (str): The target binary string to compare against.\n",
    "\n",
    "    Returns:\n",
    "        fitness_values (list of float): A list of fitness values, one for each individual in the population.\n",
    "    \"\"\"\n",
    "    fitness_values = []\n",
    "\n",
    "    for individual in population:\n",
    "        fitness = sum(1 for i, j in zip(individual, target) if i == j)\n",
    "        fitness_values.append(fitness)\n",
    "\n",
    "    return fitness_values\n",
    "\n",
    "pop = ['01111111101111110011111110011001', '0001100110111001100001100110011100110010', '001100110001001100100110011001011111111100000000',\n",
    "       '01111111101111110011111110011001', '0001100110111001100001100110011100110010', '001100110001001100100110011001011111111100000000',\n",
    "       '01111111101111110011111110011001', '0001100110111001100001100110011100110010', '001100110001001100100110011001011111111100000000',\n",
    "       '01111111101111110011111110011001', '0001100110111001100001100110011100110010', '001100110001001100100110011001011111111100000000']\n",
    "t = [\"01111111101111110011111110011001\"]\n",
    "\n",
    "ft = compute_fitness(pop, t[0])\n",
    "print(ft)"
   ]
  },
  {
   "cell_type": "code",
   "execution_count": 8,
   "id": "912367f0-dbf1-4ebb-afb2-ec14f5a2e931",
   "metadata": {},
   "outputs": [
    {
     "data": {
      "text/plain": [
       "['001100110001001100100110011001000110011000110011000100110010']"
      ]
     },
     "execution_count": 8,
     "metadata": {},
     "output_type": "execute_result"
    }
   ],
   "source": [
    "def decimal_to_binary(array_list, precision_bits_list):\n",
    "\n",
    "    \"\"\"\n",
    "    Convert a list of 2D NumPy arrays to a list of binary strings.\n",
    "\n",
    "    Args:\n",
    "        - array_list (list of numpy.ndarray): List of input 2D arrays of float or int values.\n",
    "        - precision_bits_list (list of tuple): List of tuples containing (min_val, max_val, bits) to define the precision for each array.\n",
    "            - min_val (float): The minimum possible value of the original range for the element.\n",
    "            - max_val (float): The maximum possible value of the original range for the element.\n",
    "            - bits (int): The number of bits used to represent the element in the binary string.\n",
    "\n",
    "    Returns:\n",
    "        - binary_strings (list of str): List of binary strings representing the arrays.\n",
    "    \"\"\"\n",
    "\n",
    "    binary_strings = []\n",
    "\n",
    "    for array, precision_bits in zip(array_list, precision_bits_list):\n",
    "\n",
    "        min_val, max_val, bits = precision_bits\n",
    "\n",
    "        binary_string = ''.join(\n",
    "            f\"{int((val - min_val) / (max_val - min_val) * ((1 << bits) - 1)):0{bits}b}\"\n",
    "            for sub_array in array for val in sub_array\n",
    "        )\n",
    "\n",
    "        binary_strings.append(binary_string)\n",
    "\n",
    "    return binary_strings\n",
    "\n",
    "t = [np.array([[2,3,4], [1,2,3]])]\n",
    "i = [(0, 10, 10)]\n",
    "u = decimal_to_binary(t, i)\n",
    "u"
   ]
  },
  {
   "cell_type": "code",
   "execution_count": 12,
   "id": "e005d777-a6d2-4c8f-b371-372c45178a95",
   "metadata": {},
   "outputs": [
    {
     "data": {
      "text/plain": [
       "'001100110001001100100110011001000110011000110011000100110010'"
      ]
     },
     "execution_count": 12,
     "metadata": {},
     "output_type": "execute_result"
    }
   ],
   "source": [
    "ui = u[0]\n",
    "ui"
   ]
  },
  {
   "cell_type": "code",
   "execution_count": 13,
   "id": "faaa4d0e-97c6-44a6-b88b-8b79f7a99c5a",
   "metadata": {},
   "outputs": [
    {
     "name": "stdout",
     "output_type": "stream",
     "text": [
      "['01111111101111110011111100000000', '00011001111001010011001111001100', '00000000011111111011111100111111']\n"
     ]
    }
   ],
   "source": [
    "import numpy as np\n",
    "\n",
    "def decimal_to_binary(array_list, precision_bits_list):\n",
    "    \"\"\"\n",
    "    Convert a list of 2D NumPy arrays to a list of binary strings.\n",
    "\n",
    "    Args:\n",
    "        - array_list (list of numpy.ndarray): List of input 2D arrays of float or int values.\n",
    "        - precision_bits_list (list of tuple): List of tuples containing (min_val, max_val, bits) to define the precision for each array.\n",
    "            - min_val (float): The minimum possible value of the original range for the element.\n",
    "            - max_val (float): The maximum possible value of the original range for the element.\n",
    "            - bits (int): The number of bits used to represent the element in the binary string.\n",
    "\n",
    "    Returns:\n",
    "        - binary_strings (list of str): List of binary strings representing the arrays.\n",
    "    \"\"\"\n",
    "\n",
    "    binary_strings = []\n",
    "\n",
    "    for array, precision_bits in zip(array_list, precision_bits_list):\n",
    "\n",
    "        min_val, max_val, bits = precision_bits\n",
    "\n",
    "        if max_val == min_val:\n",
    "            \n",
    "            binary_string = ''.join(\n",
    "                '0' * bits\n",
    "                for sub_array in array for val in sub_array\n",
    "            )\n",
    "        else:\n",
    "            binary_string = ''.join(\n",
    "                f\"{int((val - min_val) / (max_val - min_val) * ((1 << bits) - 1)):0{bits}b}\"\n",
    "                if not np.isnan(val) else '0' * bits  \n",
    "                for sub_array in array for val in sub_array\n",
    "            )\n",
    "\n",
    "        binary_strings.append(binary_string)\n",
    "\n",
    "    return binary_strings\n",
    "\n",
    "\n",
    "arrays = [\n",
    "    np.array([[0.5, 0.75], [0.25, 0.0]]),\n",
    "    np.array([[0.1, 0.9], [0.2, 0.8]]),\n",
    "    np.array([[np.nan, 0.5], [0.75, 0.25]])\n",
    "]\n",
    "precision_bits = [(0, 1, 8), (0, 1, 8), (0, 1, 8)]\n",
    "\n",
    "binary_strings = decimal_to_binary(arrays, precision_bits)\n",
    "print(binary_strings)\n"
   ]
  },
  {
   "cell_type": "code",
   "execution_count": 23,
   "id": "cece5ba9-a977-4d99-b9c9-f6b31586cfaa",
   "metadata": {},
   "outputs": [],
   "source": [
    "import h5py\n",
    "import os\n",
    "\n",
    "\n",
    "def save_results(result_path, file_name, elite_chromosomes, best_fitness, simulation_duration, population):\n",
    "\n",
    "    \"\"\"\n",
    "    Save simulation results to an HDF5 file.\n",
    "\n",
    "    Args:\n",
    "        result_path (str): The directory where the results file will be saved.\n",
    "        file_name (str): The name of the results file (without extension).\n",
    "        elite_chromosomes (list or np.ndarray): The elite chromosomes from the simulation.\n",
    "        best_fitness (list or np.ndarray): The best fitness values over the generations.\n",
    "        simulation_duration (list): a list containing duration of each generation of the simulation.\n",
    "        population (list or np.ndarray): The final population at the end of the simulation.\n",
    "    \"\"\"\n",
    "\n",
    "    if not os.path.exists(result_path):\n",
    "        os.makedirs(result_path)\n",
    "\n",
    "    full_path = os.path.join(result_path, f\"{file_name}.h5\")\n",
    "\n",
    "    with h5py.File(full_path, \"w\") as file:\n",
    "       \n",
    "        elite_group = file.create_group(\"elite_chromosomes\")\n",
    "        for i, (generation, chromosomes) in enumerate(elite_chromosomes):\n",
    "            gen_group = elite_group.create_group(f\"generation_{i}\")\n",
    "            for j, chromosome in enumerate(chromosomes):\n",
    "                gen_group.create_dataset(f\"chromosome_{j}\", data=chromosome)\n",
    "        \n",
    "        file.create_dataset(name=\"best_fitness\", data=best_fitness)\n",
    "        file.create_dataset(name=\"simulation_duration\", data=simulation_duration)\n",
    "        file.create_dataset(name=\"final_population\", data=population)\n",
    "\n"
   ]
  },
  {
   "cell_type": "code",
   "execution_count": 24,
   "id": "f7022baf-a432-4005-91dc-b306e3c1a1fa",
   "metadata": {},
   "outputs": [
    {
     "ename": "TypeError",
     "evalue": "cannot unpack non-iterable int object",
     "output_type": "error",
     "traceback": [
      "\u001b[0;31m---------------------------------------------------------------------------\u001b[0m",
      "\u001b[0;31mTypeError\u001b[0m                                 Traceback (most recent call last)",
      "Cell \u001b[0;32mIn[24], line 6\u001b[0m\n\u001b[1;32m      3\u001b[0m simulation_duration \u001b[38;5;241m=\u001b[39m [\u001b[38;5;241m22\u001b[39m,\u001b[38;5;241m22\u001b[39m,\u001b[38;5;241m2\u001b[39m,\u001b[38;5;241m2\u001b[39m,\u001b[38;5;241m22222\u001b[39m,\u001b[38;5;241m566\u001b[39m]  \u001b[38;5;66;03m# a list to store the duration of each generation in seconds\u001b[39;00m\n\u001b[1;32m      4\u001b[0m population \u001b[38;5;241m=\u001b[39m [[\u001b[38;5;124m\"\u001b[39m\u001b[38;5;124m10111111111111\u001b[39m\u001b[38;5;124m\"\u001b[39m, \u001b[38;5;124m\"\u001b[39m\u001b[38;5;124m222222222222222\u001b[39m\u001b[38;5;124m\"\u001b[39m, \u001b[38;5;124m\"\u001b[39m\u001b[38;5;124m22222222222\u001b[39m\u001b[38;5;124m\"\u001b[39m], [\u001b[38;5;124m\"\u001b[39m\u001b[38;5;124m222222222\u001b[39m\u001b[38;5;124m\"\u001b[39m, \u001b[38;5;124m\"\u001b[39m\u001b[38;5;124m2222222222\u001b[39m\u001b[38;5;124m\"\u001b[39m, \u001b[38;5;124m\"\u001b[39m\u001b[38;5;124m1111111111\u001b[39m\u001b[38;5;124m\"\u001b[39m]]\n\u001b[0;32m----> 6\u001b[0m \u001b[43msave_results\u001b[49m\u001b[43m(\u001b[49m\n\u001b[1;32m      7\u001b[0m \u001b[43m        \u001b[49m\u001b[43mresult_path\u001b[49m\u001b[38;5;241;43m=\u001b[39;49m\u001b[38;5;124;43m\"\u001b[39;49m\u001b[38;5;124;43m/home/samani/Documents/sim/\u001b[39;49m\u001b[38;5;124;43m\"\u001b[39;49m\u001b[43m,\u001b[49m\n\u001b[1;32m      8\u001b[0m \u001b[43m        \u001b[49m\u001b[43mfile_name\u001b[49m\u001b[38;5;241;43m=\u001b[39;49m\u001b[38;5;124;43m\"\u001b[39;49m\u001b[38;5;124;43mfile_name\u001b[39;49m\u001b[38;5;124;43m\"\u001b[39;49m\u001b[43m,\u001b[49m\n\u001b[1;32m      9\u001b[0m \u001b[43m        \u001b[49m\u001b[43melite_chromosomes\u001b[49m\u001b[38;5;241;43m=\u001b[39;49m\u001b[43melite_chromosomes\u001b[49m\u001b[43m,\u001b[49m\n\u001b[1;32m     10\u001b[0m \u001b[43m        \u001b[49m\u001b[43mbest_fitness\u001b[49m\u001b[38;5;241;43m=\u001b[39;49m\u001b[43mbest_fitness\u001b[49m\u001b[43m,\u001b[49m\n\u001b[1;32m     11\u001b[0m \u001b[43m        \u001b[49m\u001b[43msimulation_duration\u001b[49m\u001b[38;5;241;43m=\u001b[39;49m\u001b[43msimulation_duration\u001b[49m\u001b[43m,\u001b[49m\n\u001b[1;32m     12\u001b[0m \u001b[43m        \u001b[49m\u001b[43mpopulation\u001b[49m\u001b[38;5;241;43m=\u001b[39;49m\u001b[43mpopulation\u001b[49m\n\u001b[1;32m     13\u001b[0m \u001b[43m    \u001b[49m\u001b[43m)\u001b[49m\n",
      "Cell \u001b[0;32mIn[23], line 27\u001b[0m, in \u001b[0;36msave_results\u001b[0;34m(result_path, file_name, elite_chromosomes, best_fitness, simulation_duration, population)\u001b[0m\n\u001b[1;32m     24\u001b[0m \u001b[38;5;28;01mwith\u001b[39;00m h5py\u001b[38;5;241m.\u001b[39mFile(full_path, \u001b[38;5;124m\"\u001b[39m\u001b[38;5;124mw\u001b[39m\u001b[38;5;124m\"\u001b[39m) \u001b[38;5;28;01mas\u001b[39;00m file:\n\u001b[1;32m     26\u001b[0m     elite_group \u001b[38;5;241m=\u001b[39m file\u001b[38;5;241m.\u001b[39mcreate_group(\u001b[38;5;124m\"\u001b[39m\u001b[38;5;124melite_chromosomes\u001b[39m\u001b[38;5;124m\"\u001b[39m)\n\u001b[0;32m---> 27\u001b[0m     \u001b[38;5;28;01mfor\u001b[39;00m i, (generation, chromosomes) \u001b[38;5;129;01min\u001b[39;00m \u001b[38;5;28menumerate\u001b[39m(elite_chromosomes):\n\u001b[1;32m     28\u001b[0m         gen_group \u001b[38;5;241m=\u001b[39m elite_group\u001b[38;5;241m.\u001b[39mcreate_group(\u001b[38;5;124mf\u001b[39m\u001b[38;5;124m\"\u001b[39m\u001b[38;5;124mgeneration_\u001b[39m\u001b[38;5;132;01m{\u001b[39;00mi\u001b[38;5;132;01m}\u001b[39;00m\u001b[38;5;124m\"\u001b[39m)\n\u001b[1;32m     29\u001b[0m         \u001b[38;5;28;01mfor\u001b[39;00m j, chromosome \u001b[38;5;129;01min\u001b[39;00m \u001b[38;5;28menumerate\u001b[39m(chromosomes):\n",
      "\u001b[0;31mTypeError\u001b[0m: cannot unpack non-iterable int object"
     ]
    }
   ],
   "source": [
    "elite_chromosomes = {1: [np.array([1,2,3]), np.array([7,8,7])], 3:[np.array([1,2,3]), np.array([7,8,7])]} # a dictionary to store the best chromosome of each generation\n",
    "best_fitness = [12,34,55,66]  # a list to store the best fitness of each generation\n",
    "simulation_duration = [22,22,2,2,22222,566]  # a list to store the duration of each generation in seconds\n",
    "population = [[\"10111111111111\", \"222222222222222\", \"22222222222\"], [\"222222222\", \"2222222222\", \"1111111111\"]]\n",
    "\n",
    "save_results(\n",
    "        result_path=\"/home/samani/Documents/sim/\",\n",
    "        file_name=\"file_name\",\n",
    "        elite_chromosomes=elite_chromosomes,\n",
    "        best_fitness=best_fitness,\n",
    "        simulation_duration=simulation_duration,\n",
    "        population=population\n",
    "    )\n"
   ]
  },
  {
   "cell_type": "code",
   "execution_count": 25,
   "id": "429f12de-e9d2-4ef2-8762-4f16ff7dbc3d",
   "metadata": {},
   "outputs": [],
   "source": [
    "import h5py\n",
    "import os\n",
    "import numpy as np\n",
    "\n",
    "def save_results(result_path, file_name, elite_chromosomes, best_fitness, simulation_duration, population):\n",
    "\n",
    "    \"\"\"\n",
    "    Save simulation results to an HDF5 file.\n",
    "\n",
    "    Args:\n",
    "        result_path (str): The directory where the results file will be saved.\n",
    "        file_name (str): The name of the results file (without extension).\n",
    "        elite_chromosomes (list or np.ndarray): The elite chromosomes from the simulation.\n",
    "        best_fitness (list or np.ndarray): The best fitness values over the generations.\n",
    "        simulation_duration (list): a list containing duration of each generation of the simulation.\n",
    "        population (list or np.ndarray): The final population at the end of the simulation.\n",
    "    \"\"\"\n",
    "\n",
    "    if not os.path.exists(result_path):\n",
    "        os.makedirs(result_path)\n",
    "\n",
    "    full_path = os.path.join(result_path, f\"{file_name}.h5\")\n",
    "\n",
    "    with h5py.File(full_path, \"w\") as file:\n",
    "        \n",
    "        elite_group = file.create_group(\"elite_chromosomes\")\n",
    "        for i, (generation, chromosomes) in enumerate(elite_chromosomes):\n",
    "            gen_group = elite_group.create_group(f\"generation_{i}\")\n",
    "            for j, chromosome in enumerate(chromosomes):\n",
    "                gen_group.create_dataset(f\"chromosome_{j}\", data=chromosome)\n",
    "        \n",
    "        file.create_dataset(name=\"best_fitness\", data=best_fitness)\n",
    "        file.create_dataset(name=\"simulation_duration\", data=simulation_duration)\n",
    "        file.create_dataset(name=\"final_population\", data=population)\n",
    "\n",
    "elite_chromosomes = [(\"generation\",[np.array([1,2,3]), np.array([9,8,7])]), (\"generation\",[np.array([1,2,3]), np.array([9,8,7])])] # a dictionary to store the best chromosome of each generation\n",
    "best_fitness = [12, 34, 55, 66]  # a list to store the best fitness of each generation\n",
    "simulation_duration = [22, 22, 2, 2, 22222, 566]  # a list to store the duration of each generation in seconds\n",
    "population = [[\"10111111111111\", \"222222222222222\", \"22222222222\"], [\"222222222\", \"2222222222\", \"1111111111\"]]\n",
    "\n",
    "save_results(\n",
    "    result_path=\"/home/samani/Documents/sim/\",\n",
    "    file_name=\"file_name\",\n",
    "    elite_chromosomes=elite_chromosomes,\n",
    "    best_fitness=best_fitness,\n",
    "    simulation_duration=simulation_duration,\n",
    "    population=population\n",
    ")\n"
   ]
  },
  {
   "cell_type": "code",
   "execution_count": 26,
   "id": "0ea1875c-7eff-4e53-8863-64777a775c69",
   "metadata": {},
   "outputs": [],
   "source": [
    "import h5py\n",
    "import os\n",
    "import numpy as np\n",
    "\n",
    "def save_results(result_path, file_name, elite_chromosomes, best_fitness, simulation_duration, population):\n",
    "    \"\"\"\n",
    "    Save simulation results to an HDF5 file.\n",
    "\n",
    "    Args:\n",
    "        result_path (str): The directory where the results file will be saved.\n",
    "        file_name (str): The name of the results file (without extension).\n",
    "        elite_chromosomes (list or np.ndarray): The elite chromosomes from the simulation.\n",
    "        best_fitness (list or np.ndarray): The best fitness values over the generations.\n",
    "        simulation_duration (list): a list containing duration of each generation of the simulation.\n",
    "        population (list or np.ndarray): The final population at the end of the simulation.\n",
    "    \"\"\"\n",
    "\n",
    "    if not os.path.exists(result_path):\n",
    "        os.makedirs(result_path)\n",
    "\n",
    "    full_path = os.path.join(result_path, f\"{file_name}.h5\")\n",
    "\n",
    "    with h5py.File(full_path, \"w\") as file:\n",
    "       \n",
    "        elite_chromosomes_group = file.create_group(\"elite_chromosomes\")\n",
    "        for i, generation in enumerate(elite_chromosomes):\n",
    "            gen_group = elite_chromosomes_group.create_group(f\"generation_{i}\")\n",
    "            for j, chromosome in enumerate(generation):\n",
    "                gen_group.create_dataset(f\"chromosome_{j}\", data=np.array(chromosome, dtype=np.float32))\n",
    "\n",
    "        file.create_dataset(name=\"best_fitness\", data=best_fitness)\n",
    "        file.create_dataset(name=\"simulation_duration\", data=simulation_duration)\n",
    "        file.create_dataset(name=\"final_population\", data=np.array(population, dtype=h5py.string_dtype()))\n",
    "\n",
    "\n",
    "elite_chromosomes = [\n",
    "    [np.array([1,2,3]), np.array([9,8,7])],\n",
    "    [np.array([4,5,6]), np.array([6,5,4])]\n",
    "]\n",
    "best_fitness = [12, 34, 55, 66]\n",
    "simulation_duration = [22, 22, 2, 2, 22222, 566]\n",
    "population = [[\"10111111111111\", \"222222222222222\", \"22222222222\"], [\"222222222\", \"2222222222\", \"1111111111\"]]\n",
    "\n",
    "\n",
    "save_results(\n",
    "    result_path=\"/home/samani/Documents/sim/\",\n",
    "    file_name=\"file_name\",\n",
    "    elite_chromosomes=elite_chromosomes,\n",
    "    best_fitness=best_fitness,\n",
    "    simulation_duration=simulation_duration,\n",
    "    population=population\n",
    ")\n"
   ]
  },
  {
   "cell_type": "code",
   "execution_count": 27,
   "id": "ad2a03ba-654d-4232-a837-911b93a7299e",
   "metadata": {},
   "outputs": [
    {
     "name": "stdout",
     "output_type": "stream",
     "text": [
      "There are NaN values in the array.\n",
      "Indices of NaN values: (array([0, 1]), array([2, 1]))\n"
     ]
    }
   ],
   "source": [
    "import numpy as np\n",
    "\n",
    "\n",
    "arr = np.array([[1, 2, np.nan], [4, np.nan, 6]])\n",
    "\n",
    "\n",
    "nan_indices = np.isnan(arr)\n",
    "\n",
    "\n",
    "num_nan = np.sum(nan_indices)\n",
    "\n",
    "\n",
    "if num_nan > 0:\n",
    "    print(\"There are NaN values in the array.\")\n",
    "   \n",
    "    nan_indices_tuple = np.where(nan_indices)\n",
    "    print(\"Indices of NaN values:\", nan_indices_tuple)\n",
    "else:\n",
    "    print(\"No NaN values in the array.\")\n"
   ]
  },
  {
   "cell_type": "code",
   "execution_count": 32,
   "id": "2efe1b53-f238-4d76-931e-bd797f552c84",
   "metadata": {},
   "outputs": [
    {
     "name": "stdout",
     "output_type": "stream",
     "text": [
      "['1010110110', '12222222222222222222', '22222222222222222']\n"
     ]
    }
   ],
   "source": [
    "l = [\"1010110110\", \"1000000001\", \"12222222222222222222\", \"22222222222222222\"]\n",
    "\n",
    "\n",
    "del l[1]\n",
    "\n",
    "print(l)  \n"
   ]
  },
  {
   "cell_type": "code",
   "execution_count": 33,
   "id": "2a541334-3c6d-41ca-b97a-3a3b0ccf042d",
   "metadata": {},
   "outputs": [
    {
     "name": "stdout",
     "output_type": "stream",
     "text": [
      "['12222222222222222222', '22222222222222222']\n"
     ]
    }
   ],
   "source": [
    "del l[0]\n",
    "print(l)"
   ]
  },
  {
   "cell_type": "code",
   "execution_count": 39,
   "id": "128a0f4d-6c08-4768-99e9-dcf1a5b78f56",
   "metadata": {},
   "outputs": [
    {
     "data": {
      "text/plain": [
       "array([3, 2, 0, 0, 2, 0, 2, 3])"
      ]
     },
     "execution_count": 39,
     "metadata": {},
     "output_type": "execute_result"
    }
   ],
   "source": [
    "p = [1,2,2,2,2]\n",
    "f = [12, 1, 20, 13, 2]\n",
    "pro = [r/sum(f) for r in f]\n",
    "\n",
    "s = np.random.choice(len(p), size=8, p=pro)\n",
    "s"
   ]
  },
  {
   "cell_type": "code",
   "execution_count": 41,
   "id": "4d6769cb-6705-4f5f-9d9b-f00b564cf84e",
   "metadata": {},
   "outputs": [
    {
     "name": "stdout",
     "output_type": "stream",
     "text": [
      "Selected Parents:\n",
      "['1', '1', '0', '1', '1', '0']\n",
      "['1', '0', '1', '0', '0', '1']\n",
      "['1', '1', '0', '1', '1', '0']\n",
      "['1', '1', '1', '0', '0', '0']\n",
      "['1', '1', '1', '0', '0', '0']\n",
      "['1', '1', '1', '0', '0', '0']\n",
      "['1', '0', '1', '0', '0', '1']\n",
      "['1', '0', '1', '0', '0', '1']\n",
      "['1', '1', '1', '0', '0', '0']\n",
      "['1', '1', '1', '0', '0', '0']\n",
      "['1', '1', '1', '0', '0', '0']\n",
      "['1', '1', '1', '0', '0', '0']\n",
      "['1', '1', '1', '0', '0', '0']\n",
      "['1', '1', '1', '0', '0', '0']\n",
      "['1', '1', '1', '0', '0', '0']\n"
     ]
    }
   ],
   "source": [
    "import numpy as np\n",
    "\n",
    "def select_parents_tournament(population, fitness_scores, population_size, tournament_size=3):\n",
    "    \"\"\"\n",
    "    Select parents for the next generation based on their fitness scores\n",
    "    using the Tournament Selection method.\n",
    "\n",
    "    Args:\n",
    "        population (list of list of str): The current population of individuals, each represented as a binary string.\n",
    "        fitness_scores (list of float): The fitness scores of the individuals in the population.\n",
    "        population_size (int): Number of chromosomes in the original population.\n",
    "        tournament_size (int, optional): The number of individuals to participate in each tournament. Defaults to 3.\n",
    "\n",
    "    Returns:\n",
    "        selected (list): The selected parents for the next generation.\n",
    "    \"\"\"\n",
    "    selected = []\n",
    "    \n",
    "    for _ in range(population_size):\n",
    "       \n",
    "        tournament_indices = np.random.choice(len(population), size=tournament_size, replace=False)\n",
    "        tournament_fitness = [fitness_scores[i] for i in tournament_indices]\n",
    "        \n",
    "        best_index = tournament_indices[np.argmax(tournament_fitness)]\n",
    "        \n",
    "        selected.append(population[best_index])\n",
    "    \n",
    "    return selected\n",
    "\n",
    "\n",
    "population = [\n",
    "    ['0', '1', '1', '0', '1', '0'],\n",
    "    ['1', '0', '1', '0', '0', '1'],\n",
    "    ['1', '1', '0', '1', '1', '0'],\n",
    "    ['0', '0', '1', '1', '0', '1'],\n",
    "    ['1', '1', '1', '0', '0', '0'],\n",
    "]\n",
    "fitness_scores = [10, 20, 15, 5, 25]\n",
    "population_size = 15\n",
    "\n",
    "selected_parents = select_parents_tournament(population, fitness_scores, population_size, tournament_size=3)\n",
    "print(\"Selected Parents:\")\n",
    "for parent in selected_parents:\n",
    "    print(parent)\n"
   ]
  },
  {
   "cell_type": "code",
   "execution_count": 47,
   "id": "46f9ef0e-5d0c-488f-829f-21a69a3f5759",
   "metadata": {},
   "outputs": [],
   "source": [
    "p = [1,2,3,4,5,6,7,8,9,10,11,12,13,14]\n",
    "p.remove(1)\n"
   ]
  },
  {
   "cell_type": "code",
   "execution_count": 48,
   "id": "3eedeb4a-2df2-4f48-b31a-f98ba4ced99f",
   "metadata": {},
   "outputs": [
    {
     "data": {
      "text/plain": [
       "[2, 3, 4, 5, 6, 7, 8, 9, 10, 11, 12, 13, 14]"
      ]
     },
     "execution_count": 48,
     "metadata": {},
     "output_type": "execute_result"
    }
   ],
   "source": [
    "p"
   ]
  },
  {
   "cell_type": "code",
   "execution_count": 49,
   "id": "086aa360-288c-4643-be55-6b96bfd8f202",
   "metadata": {},
   "outputs": [],
   "source": [
    "p.remove(2)"
   ]
  },
  {
   "cell_type": "code",
   "execution_count": 50,
   "id": "1dab9e7a-da9a-41ff-9739-ac35bb52a436",
   "metadata": {},
   "outputs": [
    {
     "data": {
      "text/plain": [
       "[3, 4, 5, 6, 7, 8, 9, 10, 11, 12, 13, 14]"
      ]
     },
     "execution_count": 50,
     "metadata": {},
     "output_type": "execute_result"
    }
   ],
   "source": [
    "p"
   ]
  },
  {
   "cell_type": "code",
   "execution_count": 1,
   "id": "a705b906-0915-4711-b035-17f40ddc5d73",
   "metadata": {},
   "outputs": [],
   "source": [
    "from numba import jit\n",
    "\n",
    "\n",
    "@jit\n",
    "def diffusion1(specie, length, width, k_diff, dt, compartment_length, compartment_width):\n",
    "\n",
    "    if length == 0 and width == 0:\n",
    "        specie[length, width] = lower_left_corner_diff(\n",
    "            specie=specie,\n",
    "            length=length,\n",
    "            depth=width,\n",
    "            k_diff=k_diff,\n",
    "            dt=dt\n",
    "        )\n",
    "\n",
    "    elif length == compartment_length-1 and width == 0:\n",
    "        specie[length, width] = lower_right_corner_diff(\n",
    "            specie=specie,\n",
    "            length=length,\n",
    "            depth=width,\n",
    "            k_diff=k_diff,\n",
    "            dt=dt\n",
    "        )\n",
    "\n",
    "    elif length == 0 and width == compartment_width-1:\n",
    "        specie[length, width] = upper_left_corner_diff(\n",
    "            specie=specie,\n",
    "            length=length,\n",
    "            depth=width,\n",
    "            k_diff=k_diff,\n",
    "            dt=dt\n",
    "        )\n",
    "\n",
    "    elif length == compartment_length-1 and width == compartment_width-1:\n",
    "        specie[length, width] = upper_right_corner_diff(\n",
    "            specie=specie,\n",
    "            length=length,\n",
    "            depth=width,\n",
    "            k_diff=k_diff,\n",
    "            dt=dt\n",
    "        )\n",
    "\n",
    "    elif width == 0 and length != 0 and length != compartment_length-1:\n",
    "        specie[length, width] = lower_side_diff(\n",
    "            specie=specie,\n",
    "            length=length,\n",
    "            depth=width,\n",
    "            k_diff=k_diff,\n",
    "            dt=dt\n",
    "        )\n",
    "\n",
    "    elif length == 0 and width != 0 and width != compartment_width-1:\n",
    "        specie[length, width] = left_side_diff(\n",
    "            specie=specie,\n",
    "            length=length,\n",
    "            depth=width,\n",
    "            k_diff=k_diff,\n",
    "            dt=dt\n",
    "        )\n",
    "\n",
    "    elif length == compartment_length-1 and width != 0 and width != compartment_width-1:\n",
    "        specie[length, width] = right_side_diff(\n",
    "            specie=specie,\n",
    "            length=length,\n",
    "            depth=width,\n",
    "            k_diff=k_diff,\n",
    "            dt=dt\n",
    "        )\n",
    "\n",
    "    elif width == compartment_width-1 and length != 0 and length != compartment_length-1:\n",
    "        specie[length, width] = upper_side_diff(\n",
    "            specie=specie,\n",
    "            length=length,\n",
    "            depth=width,\n",
    "            k_diff=k_diff,\n",
    "            dt=dt\n",
    "        )\n",
    "\n",
    "    else:\n",
    "        specie[length, width] = central_diffusion(\n",
    "            specie=specie,\n",
    "            length=length,\n",
    "            depth=width,\n",
    "            k_diff=k_diff,\n",
    "            dt=dt\n",
    "        )\n",
    "\n",
    "    return specie[length, width]\n",
    "\n",
    "\n",
    "@jit\n",
    "def lower_side_diff(specie, length, depth, k_diff, dt):\n",
    "\n",
    "    specie[length, depth] = (specie[length, depth]+\n",
    "                             (dt*k_diff*(specie[length+1, depth]+specie[length-1, depth]+specie[length, depth+1]-(specie[length, depth]*3))))\n",
    "\n",
    "    return specie[length, depth]\n",
    "\n",
    "\n",
    "@jit\n",
    "def upper_side_diff(specie, length, depth, k_diff, dt):\n",
    "\n",
    "    specie[length, depth] = (specie[length, depth]+\n",
    "                             (dt*k_diff*(specie[length+1, depth]+specie[length-1, depth]+specie[length, depth-1]-(specie[length, depth]*3))))\n",
    "\n",
    "    return specie[length, depth]\n",
    "\n",
    "\n",
    "@jit\n",
    "def left_side_diff(specie, length, depth, k_diff, dt):\n",
    "\n",
    "    specie[length, depth] = (specie[length, depth]+\n",
    "                             (dt*k_diff*(specie[length+1, depth]+specie[length, depth+1]+specie[length, depth-1]-(specie[length, depth]*3))))\n",
    "\n",
    "    return specie[length, depth]\n",
    "\n",
    "\n",
    "@jit\n",
    "def right_side_diff(specie, length, depth, k_diff, dt):\n",
    "\n",
    "    specie[length, depth] = (specie[length, depth]+\n",
    "                             (dt*k_diff*(specie[length-1, depth]+specie[length, depth+1] +specie[length, depth-1]-(specie[length, depth] * 3))))\n",
    "\n",
    "    return specie[length, depth]\n",
    "\n",
    "\n",
    "@jit\n",
    "def central_diffusion(specie, length, depth, k_diff, dt):\n",
    "\n",
    "    specie[length, depth] = (specie[length, depth]+\n",
    "                             (dt*k_diff*(specie[length+1, depth]+specie[length-1, depth]+specie[length, depth+1]+specie[length, depth-1]-(specie[length, depth]*4))))\n",
    "\n",
    "    return specie[length, depth]\n",
    "\n",
    "\n",
    "@jit\n",
    "def lower_left_corner_diff(specie, length, depth, k_diff, dt):\n",
    "\n",
    "    specie[length, depth] = (specie[length, depth] +\n",
    "                             (dt*k_diff*(specie[length+1, depth]+specie[length, depth+1]-(specie[length, depth]*2))))\n",
    "\n",
    "    return specie[length, depth]\n",
    "\n",
    "\n",
    "@jit\n",
    "def lower_right_corner_diff(specie, length, depth, k_diff, dt):\n",
    "\n",
    "    specie[length, depth] = (specie[length, depth] +\n",
    "                             (dt*k_diff*(specie[length-1, depth]+specie[length, depth+1]-(specie[length, depth]*2))))\n",
    "\n",
    "    return specie[length, depth]\n",
    "\n",
    "\n",
    "@jit\n",
    "def upper_left_corner_diff(specie, length, depth, k_diff, dt):\n",
    "\n",
    "    specie[length, depth] = (specie[length, depth] +\n",
    "                             (dt*k_diff*(specie[length+1, depth]+specie[length, depth-1]-(specie[length, depth]*2))))\n",
    "\n",
    "    return specie[length, depth]\n",
    "\n",
    "\n",
    "@jit\n",
    "def upper_right_corner_diff(specie, length, depth, k_diff, dt):\n",
    "\n",
    "    specie[length, depth] = (specie[length, depth] +\n",
    "                             (dt*k_diff*(specie[length-1, depth]+specie[length, depth-1]-(specie[length, depth]*2))))\n",
    "\n",
    "    return specie[length, depth]\n"
   ]
  },
  {
   "cell_type": "code",
   "execution_count": 23,
   "id": "e9487dae-fec8-4185-b810-15c6438b7524",
   "metadata": {},
   "outputs": [
    {
     "name": "stdout",
     "output_type": "stream",
     "text": [
      "[[2. 0. 0. 0. 0. 0. 0. 0. 0. 0.]\n",
      " [2. 0. 0. 0. 0. 0. 0. 0. 0. 0.]\n",
      " [2. 0. 0. 0. 0. 0. 0. 0. 0. 0.]\n",
      " [2. 0. 0. 0. 0. 0. 0. 0. 0. 0.]\n",
      " [2. 0. 0. 0. 0. 0. 0. 0. 0. 0.]\n",
      " [2. 0. 0. 0. 0. 0. 0. 0. 0. 0.]\n",
      " [2. 0. 0. 0. 0. 0. 0. 0. 0. 0.]\n",
      " [2. 0. 0. 0. 0. 0. 0. 0. 0. 0.]\n",
      " [2. 0. 0. 0. 0. 0. 0. 0. 0. 0.]\n",
      " [2. 0. 0. 0. 0. 0. 0. 0. 0. 0.]]\n",
      "[7.30398270e-17 7.36035964e-17 7.36142027e-17 7.36143399e-17\n",
      " 7.36143413e-17 7.36143413e-17 7.36143413e-17 7.36143413e-17\n",
      " 7.36143413e-17 7.36143413e-17]\n"
     ]
    }
   ],
   "source": [
    "import numpy as np\n",
    "\n",
    "fM = np.zeros((10, 10))\n",
    "fM[:, 0] = 2\n",
    "#fM[:, 1] = 1\n",
    "print(fM)\n",
    "com_len = 10\n",
    "com_wid = 10\n",
    "k_m_diff = 0.1\n",
    "dt = 0.01\n",
    "\n",
    "\n",
    "for i in range(30):\n",
    "    new_fM = np.zeros_like(fM)\n",
    "    for length in range(com_len):\n",
    "        for width in range(com_wid):\n",
    "            new_fM[length, width] = diffusion1(\n",
    "                specie=fM,\n",
    "                length=length,\n",
    "                width=width,\n",
    "                k_diff=k_m_diff,\n",
    "                dt=dt,\n",
    "                compartment_length=com_len,\n",
    "                compartment_width=com_wid\n",
    "            )\n",
    "    fM = new_fM\n",
    "\n",
    "print(fM[:, 8])"
   ]
  },
  {
   "cell_type": "code",
   "execution_count": 12,
   "id": "85d3cd3a-aa1c-49f0-b837-63b9d94959da",
   "metadata": {},
   "outputs": [
    {
     "data": {
      "text/plain": [
       "array([[0.],\n",
       "       [0.],\n",
       "       [0.],\n",
       "       [0.],\n",
       "       [0.],\n",
       "       [0.],\n",
       "       [0.],\n",
       "       [0.],\n",
       "       [0.],\n",
       "       [0.]])"
      ]
     },
     "execution_count": 12,
     "metadata": {},
     "output_type": "execute_result"
    }
   ],
   "source": [
    "b = np.zeros((10, 1))\n",
    "b"
   ]
  },
  {
   "cell_type": "code",
   "execution_count": 7,
   "id": "e3d4be49-ae5d-456a-9caa-2bc4861d1d08",
   "metadata": {},
   "outputs": [],
   "source": [
    "def crossover(parents1, parents2, crossover_rates, num_crossover_points):\n",
    "\n",
    "    offspring1 = []\n",
    "    offspring2 = []\n",
    "\n",
    "    for parent1, parent2, crossover_rate, num_points in zip(parents1, parents2, crossover_rates, num_crossover_points):\n",
    "\n",
    "        if random.random() < crossover_rate:\n",
    "\n",
    "            crossover_points = sorted(random.sample(range(1, len(parent1)), num_points))\n",
    "            child1, child2 = [], []\n",
    "            start = 0\n",
    "\n",
    "            for i, point in enumerate(crossover_points + [len(parent1)]):\n",
    "\n",
    "                if i % 2 == 0:\n",
    "\n",
    "                    child1.extend(parent1[start:point])\n",
    "                    child2.extend(parent2[start:point])\n",
    "\n",
    "                else:\n",
    "\n",
    "                    child1.extend(parent2[start:point])\n",
    "                    child2.extend(parent1[start:point])\n",
    "\n",
    "                start = point\n",
    "\n",
    "            offspring1.append(''.join(child1))\n",
    "            offspring2.append(''.join(child2))\n",
    "\n",
    "        else:\n",
    "\n",
    "            offspring1.append(parent1)\n",
    "            offspring2.append(parent2)\n",
    "\n",
    "    return offspring1, offspring2\n",
    "\n",
    "\n",
    "def mutate(chromosome, mutation_rates):\n",
    "\n",
    "    mutated_chromosome = []\n",
    "\n",
    "    for sub_chromosome, mutation_rate in zip(chromosome, mutation_rates):\n",
    "\n",
    "        mutated_sub_chromosome = ''.join(\n",
    "            '1' if bit == '0' and random.random() <= mutation_rate else\n",
    "            '0' if bit == '1' and random.random() <= mutation_rate else\n",
    "            bit\n",
    "            for bit in sub_chromosome\n",
    "        )\n",
    "\n",
    "        mutated_chromosome.append(mutated_sub_chromosome)\n",
    "\n",
    "    return mutated_chromosome\n"
   ]
  },
  {
   "cell_type": "code",
   "execution_count": 12,
   "id": "f1380973-c9d9-4606-b420-bcd6c0d62982",
   "metadata": {},
   "outputs": [
    {
     "name": "stdout",
     "output_type": "stream",
     "text": [
      "['100000000011111111', '11111111111100011', '11111111111000000', '111111111000000000001111']\n",
      "['011111111100000000', '00000000000011100', '00000000000111111', '000000000111111111110000']\n"
     ]
    }
   ],
   "source": [
    "p1 = [\"111111111111111111\", \"11111111111111111\", \"11111111111111111\", \"111111111111111111111111\"]\n",
    "p2 = [\"000000000000000000\", \"00000000000000000\", \"00000000000000000\", \"000000000000000000000000\"]\n",
    "\n",
    "\n",
    "of1, of2 = crossover(parents1=p1, parents2=p2, crossover_rates=[0.85, 0.90, 0.87, 0.79], num_crossover_points=[2,2,1,2,1])\n",
    "print(of1)\n",
    "print(of2)"
   ]
  },
  {
   "cell_type": "code",
   "execution_count": 13,
   "id": "aab90d6c-e7ce-4bf5-804a-2ee2ab2e5304",
   "metadata": {},
   "outputs": [
    {
     "name": "stdout",
     "output_type": "stream",
     "text": [
      "['100000000011111111', '11111110111000011', '00110011000101100', '001011010001101011110000']\n",
      "['001111111100100000', '00001000010111110', '00000100101100111', '000000000111011111110000']\n"
     ]
    }
   ],
   "source": [
    "of1_1 = mutate(chromosome=of1, mutation_rates=[0.01, 0.2,0.4,0.5])\n",
    "of2_1 = mutate(chromosome=of2, mutation_rates=[0.02, 0.3, 0.1, 0.1])\n",
    "print(of1_1)\n",
    "print(of2_1)"
   ]
  },
  {
   "cell_type": "code",
   "execution_count": 18,
   "id": "44872805-3921-465d-a56a-5dc869ee77c0",
   "metadata": {},
   "outputs": [],
   "source": [
    "def initialize_population(pop_size, bit_length):\n",
    "\n",
    "    population = [''.join(random.choice('01') for _ in range(bit_length)) for _ in range(pop_size)]\n",
    "\n",
    "    return population\n",
    "\n",
    "\n",
    "\n",
    "\n",
    "\n",
    "def create_population(sp1, sp2, sp1_cells, sp2_cells, params):\n",
    "\n",
    "    population = [[sp1[i], sp2[i], sp1_cells[i], sp2_cells[i], params[i]] for i in range(len(sp1))]\n",
    "\n",
    "    return population\n",
    "\n",
    "\n",
    "\n",
    "\n",
    "\n",
    "\n",
    "def genetic_algorithm(population_size, specie_matrix_shape, precision_bits, num_params, generations, mutation_rates,\n",
    "                      crossover_rates, num_crossover_points, target, target_precision_bits, result_path,\n",
    "                      selection_method=\"roulette\", tournament_size=5, file_name=\"sim_result\", dt=0.01, sim_start=0,\n",
    "                      sim_stop=5, epochs=500, fitness_trigger=None):\n",
    "\n",
    "    elite_chromosome = []  # list to store the best chromosome\n",
    "    best_fitness = []  # list to store the best fitness of each generation\n",
    "    simulation_duration = []  # list to store the duration of each generation in seconds\n",
    "    best_results = []  # list to store the best result of each generation\n",
    "    print(f\"{'=' * 85}\")\n",
    "    print(\"                             *** Genetic Algorithm ***                               \")\n",
    "    print(f\"{'=' * 85}\")\n",
    "\n",
    "    sp1 = initialize_population(\n",
    "        pop_size=population_size,\n",
    "        bit_length=specie_matrix_shape[0] * specie_matrix_shape[1] * precision_bits[\"sp1\"][-1]\n",
    "    )\n",
    "    sp2 = initialize_population(\n",
    "        pop_size=population_size,\n",
    "        bit_length=specie_matrix_shape[0] * specie_matrix_shape[1] * precision_bits[\"sp2\"][-1]\n",
    "    )\n",
    "\n",
    "    sp1_cells = initialize_population(\n",
    "        pop_size=population_size,\n",
    "        bit_length=specie_matrix_shape[0] * specie_matrix_shape[1] * precision_bits[\"sp1_cells\"][-1]\n",
    "    )\n",
    "    sp2_cells = initialize_population(\n",
    "        pop_size=population_size,\n",
    "        bit_length=specie_matrix_shape[0] * specie_matrix_shape[1] * precision_bits[\"sp2_cells\"][-1]\n",
    "    )\n",
    "    params = initialize_population(\n",
    "        pop_size=population_size,\n",
    "        bit_length=num_params * precision_bits[\"params\"][-1]\n",
    "    )\n",
    "    return (sp1, sp2, sp1_cells, sp2_cells, params)\n"
   ]
  },
  {
   "cell_type": "code",
   "execution_count": 26,
   "id": "67c70f10-a37d-448f-9c8e-a32e1200ca8e",
   "metadata": {},
   "outputs": [
    {
     "name": "stdout",
     "output_type": "stream",
     "text": [
      "=====================================================================================\n",
      "                             *** Genetic Algorithm ***                               \n",
      "=====================================================================================\n"
     ]
    }
   ],
   "source": [
    "t = np.array([[2,3], [3,4]])\n",
    "p = {\"sp1\": (0, 10, 8), \"sp2\": (0, 10, 8), \"sp1_cells\": (0, 10, 8), \"sp2_cells\": (0, 10, 8), \"params\": (0, 10, 8)}\n",
    "\n",
    "\n",
    "r = genetic_algorithm(population_size=3, specie_matrix_shape=(2,2), precision_bits=p, num_params=2, generations=10, mutation_rates=0.01,\n",
    "                      crossover_rates=0.85, num_crossover_points=[1,1,1,1,1], target=t, target_precision_bits=(0,10, 8), result_path=\"fff\",\n",
    "                      selection_method=\"roulette\", tournament_size=5, file_name=\"sim_result\", dt=0.01, sim_start=0,\n",
    "                      sim_stop=5, epochs=500, fitness_trigger=None)\n"
   ]
  },
  {
   "cell_type": "code",
   "execution_count": 27,
   "id": "1f9d2661-180a-4502-a412-f2bb8daf18f5",
   "metadata": {},
   "outputs": [
    {
     "name": "stdout",
     "output_type": "stream",
     "text": [
      "['00100100110111110001111110111011', '10111110111010101101001011001011', '11011110001011011010111110101000']\n",
      "['01111101011011000010110101001010', '11110100110001111111110101001101', '10001011001100100000101111000010']\n",
      "['01111110000010001100011110010011', '10111111010000000100001110001110', '11010001111100000011010111100001']\n",
      "['00101110110101101110110110000100', '11011010100100101100111011000110', '10100111110010110100010011000111']\n",
      "['0001011010010000', '1110111011101111', '0000001100011110']\n"
     ]
    }
   ],
   "source": [
    "for i in range(len(r)):\n",
    "    print(r[i])"
   ]
  },
  {
   "cell_type": "code",
   "execution_count": 53,
   "id": "a7a05ab3-b5e9-44f7-aa73-6690fd30ada5",
   "metadata": {},
   "outputs": [],
   "source": [
    "population = create_population(sp1=r[0], sp2=r[1], sp1_cells=r[2], sp2_cells=r[3], params=r[-1])"
   ]
  },
  {
   "cell_type": "code",
   "execution_count": 54,
   "id": "540f6498-b692-4c69-9df7-14abd0d16a09",
   "metadata": {},
   "outputs": [
    {
     "data": {
      "text/plain": [
       "[['00100100110111110001111110111011',\n",
       "  '01111101011011000010110101001010',\n",
       "  '01111110000010001100011110010011',\n",
       "  '00101110110101101110110110000100',\n",
       "  '0001011010010000'],\n",
       " ['10111110111010101101001011001011',\n",
       "  '11110100110001111111110101001101',\n",
       "  '10111111010000000100001110001110',\n",
       "  '11011010100100101100111011000110',\n",
       "  '1110111011101111'],\n",
       " ['11011110001011011010111110101000',\n",
       "  '10001011001100100000101111000010',\n",
       "  '11010001111100000011010111100001',\n",
       "  '10100111110010110100010011000111',\n",
       "  '0000001100011110']]"
      ]
     },
     "execution_count": 54,
     "metadata": {},
     "output_type": "execute_result"
    }
   ],
   "source": [
    "population"
   ]
  },
  {
   "cell_type": "code",
   "execution_count": 30,
   "id": "18963cc1-eb89-4574-943e-c61668494817",
   "metadata": {},
   "outputs": [],
   "source": [
    "def decimal_to_binary(array_list, precision_bits_list):\n",
    " \n",
    "    binary_strings = []\n",
    "\n",
    "    for array, precision_bits in zip(array_list, precision_bits_list):\n",
    "\n",
    "        min_val, max_val, bits = precision_bits\n",
    "\n",
    "        if max_val == min_val:\n",
    "            # All values will be the same in this case, handle gracefully by converting to '0' * bits\n",
    "            binary_string = ''.join(\n",
    "                '0' * bits\n",
    "                for sub_array in array for val in sub_array\n",
    "            )\n",
    "        else:\n",
    "            binary_string = ''.join(\n",
    "                f\"{int((val - min_val) / (max_val - min_val) * ((1 << bits) - 1)):0{bits}b}\"\n",
    "                if not np.isnan(val) else '0' * bits  # Handle NaN by converting to '0' * bits\n",
    "                for sub_array in array for val in sub_array\n",
    "            )\n",
    "\n",
    "        binary_strings.append(binary_string)\n",
    "\n",
    "    return binary_strings\n",
    "\n",
    "\n",
    "bt = decimal_to_binary(array_list=[t], precision_bits_list=[(0, 10, 8)])"
   ]
  },
  {
   "cell_type": "code",
   "execution_count": 31,
   "id": "b76c7c89-257b-482a-aa58-aeccd7681660",
   "metadata": {},
   "outputs": [
    {
     "data": {
      "text/plain": [
       "['00110011010011000100110001100110']"
      ]
     },
     "execution_count": 31,
     "metadata": {},
     "output_type": "execute_result"
    }
   ],
   "source": [
    "bt"
   ]
  },
  {
   "cell_type": "code",
   "execution_count": 34,
   "id": "8e2df4ca-1d57-4aab-9893-63c5844195ac",
   "metadata": {},
   "outputs": [],
   "source": [
    "def binary_to_decimal(binary_string_list, precision_bits_list, shapes):\n",
    "\n",
    "    arrays = []\n",
    "\n",
    "    for binary_string, precision_bits, shape in zip(binary_string_list, precision_bits_list, shapes):\n",
    "\n",
    "        min_val, max_val, bits = precision_bits\n",
    "        array = []\n",
    "        index = 0\n",
    "\n",
    "        for _ in range(shape[0]):\n",
    "\n",
    "            row = []\n",
    "\n",
    "            for _ in range(shape[1]):\n",
    "\n",
    "                segment = binary_string[index:index + bits]\n",
    "                int_value = int(segment, 2)\n",
    "                max_int_value = (1 << bits) - 1\n",
    "                real_value = min_val + (max_val - min_val) * (int_value / max_int_value)\n",
    "                row.append(real_value)\n",
    "                index += bits\n",
    "            array.append(row)\n",
    "\n",
    "        arrays.append(np.array(array))\n",
    "\n",
    "    return arrays\n",
    "\n",
    "\n",
    "\n",
    "\n",
    "\n",
    "\n",
    "precision_bits_list = [p[\"sp1\"], p[\"sp2\"], p[\"sp1_cells\"], p[\"sp2_cells\"], p[\"sp2_cells\"]]\n",
    "\n",
    "dp = [binary_to_decimal(\n",
    "            binary_string_list=chromosome,\n",
    "            precision_bits_list=precision_bits_list,\n",
    "            shapes=[(2,2), (2,2),(2,2),(2,2), (1, 2)]) \n",
    "      for chromosome in population\n",
    "     ]"
   ]
  },
  {
   "cell_type": "code",
   "execution_count": 38,
   "id": "3ec84579-332d-40dd-95f5-257ca8c80af8",
   "metadata": {},
   "outputs": [
    {
     "name": "stdout",
     "output_type": "stream",
     "text": [
      "3\n"
     ]
    }
   ],
   "source": [
    "print(len(dp))"
   ]
  },
  {
   "cell_type": "code",
   "execution_count": 43,
   "id": "4b35562e-7706-4d39-8921-35f910a76844",
   "metadata": {},
   "outputs": [
    {
     "name": "stdout",
     "output_type": "stream",
     "text": [
      "[array([[8.70588235, 1.76470588],\n",
      "       [6.8627451 , 6.58823529]]), array([[5.45098039, 1.96078431],\n",
      "       [0.43137255, 7.60784314]]), array([[8.19607843, 9.41176471],\n",
      "       [2.07843137, 8.82352941]]), array([[6.54901961, 7.96078431],\n",
      "       [2.66666667, 7.80392157]]), array([[0.11764706, 1.17647059]])]\n"
     ]
    }
   ],
   "source": [
    "print(dp[2])"
   ]
  },
  {
   "cell_type": "code",
   "execution_count": 52,
   "id": "c1cb4b87-b328-47b6-bd5e-c92f272bf6f3",
   "metadata": {},
   "outputs": [
    {
     "ename": "IndexError",
     "evalue": "index 8 is out of bounds for axis 1 with size 6",
     "output_type": "error",
     "traceback": [
      "\u001b[0;31m---------------------------------------------------------------------------\u001b[0m",
      "\u001b[0;31mIndexError\u001b[0m                                Traceback (most recent call last)",
      "Cell \u001b[0;32mIn[52], line 3\u001b[0m\n\u001b[1;32m      1\u001b[0m hhh \u001b[38;5;241m=\u001b[39m np\u001b[38;5;241m.\u001b[39marray([[\u001b[38;5;241m1\u001b[39m,\u001b[38;5;241m2\u001b[39m,\u001b[38;5;241m3\u001b[39m,\u001b[38;5;241m4\u001b[39m,\u001b[38;5;241m5\u001b[39m,\u001b[38;5;241m6\u001b[39m]])\n\u001b[0;32m----> 3\u001b[0m \u001b[38;5;28mprint\u001b[39m(\u001b[43mhhh\u001b[49m\u001b[43m[\u001b[49m\u001b[38;5;241;43m0\u001b[39;49m\u001b[43m,\u001b[49m\u001b[38;5;241;43m8\u001b[39;49m\u001b[43m]\u001b[49m)\n",
      "\u001b[0;31mIndexError\u001b[0m: index 8 is out of bounds for axis 1 with size 6"
     ]
    }
   ],
   "source": [
    "hhh = np.array([[1,2,3,4,5,6]])\n",
    "\n",
    "print(hhh[0,8])"
   ]
  },
  {
   "cell_type": "code",
   "execution_count": 56,
   "id": "be2730fb-1926-497f-b462-c9fea49095a2",
   "metadata": {},
   "outputs": [],
   "source": [
    "\n",
    "parent1 = random.choice(population)\n",
    "parent2 = random.choice(population)\n",
    "population.remove(parent1)\n",
    "population.remove(parent2)"
   ]
  },
  {
   "cell_type": "code",
   "execution_count": 57,
   "id": "efd34ecb-a2f5-435c-95b2-8e355b4ac6c4",
   "metadata": {},
   "outputs": [
    {
     "data": {
      "text/plain": [
       "[['11011110001011011010111110101000',\n",
       "  '10001011001100100000101111000010',\n",
       "  '11010001111100000011010111100001',\n",
       "  '10100111110010110100010011000111',\n",
       "  '0000001100011110']]"
      ]
     },
     "execution_count": 57,
     "metadata": {},
     "output_type": "execute_result"
    }
   ],
   "source": [
    "population"
   ]
  },
  {
   "cell_type": "code",
   "execution_count": 1,
   "id": "73cf689d-d03b-40a1-8736-6bd94b15f6e6",
   "metadata": {},
   "outputs": [
    {
     "name": "stdout",
     "output_type": "stream",
     "text": [
      "[[ 0.  0.  0.  0.]\n",
      " [ 0. 10.  0.  7.]\n",
      " [ 0.  0.  0.  0.]\n",
      " [ 0.  6.  0.  4.]]\n"
     ]
    }
   ],
   "source": [
    "import numpy as np\n",
    "\n",
    "def transpose_convolution(input, filter, padding, stride, output_shape):\n",
    "    # Extract input and filter dimensions\n",
    "    input_height, input_width = input.shape\n",
    "    filter_height, filter_width = filter.shape\n",
    "    \n",
    "    # Calculate the shape of the padded input\n",
    "    padded_height = (input_height - 1) * stride + filter_height\n",
    "    padded_width = (input_width - 1) * stride + filter_width\n",
    "    \n",
    "    # Create the padded input matrix with zeros\n",
    "    padded_input = np.zeros((padded_height, padded_width))\n",
    "    \n",
    "    # Place the input values into the correct positions in the padded input matrix\n",
    "    for i in range(input_height):\n",
    "        for j in range(input_width):\n",
    "            padded_input[i * stride, j * stride] = input[i, j]\n",
    "    \n",
    "    # Calculate the output dimensions\n",
    "    output_height, output_width = output_shape\n",
    "    \n",
    "    # Create the output matrix with zeros\n",
    "    output = np.zeros((output_height, output_width))\n",
    "    \n",
    "    # Perform the transpose convolution\n",
    "    for i in range(output_height):\n",
    "        for j in range(output_width):\n",
    "            for m in range(filter_height):\n",
    "                for n in range(filter_width):\n",
    "                    if (i - m) >= 0 and (j - n) >= 0 and (i - m) < padded_height and (j - n) < padded_width:\n",
    "                        output[i, j] += padded_input[i - m, j - n] * filter[m, n]\n",
    "    \n",
    "    # Apply padding if needed\n",
    "    if padding > 0:\n",
    "        output = output[padding:-padding, padding:-padding]\n",
    "    \n",
    "    return output\n",
    "\n",
    "# Example input\n",
    "input_matrix = np.array([[1, 3], [2, 4]])\n",
    "filter_matrix = np.array([[1, 0, 1], [0, 0, 0], [1, 0, 1]])\n",
    "padding = 1\n",
    "stride = 2\n",
    "output_shape = (6, 6)\n",
    "\n",
    "# Calculate the transpose convolution\n",
    "output_matrix = transpose_convolution(input_matrix, filter_matrix, padding, stride, output_shape)\n",
    "print(output_matrix)\n"
   ]
  },
  {
   "cell_type": "code",
   "execution_count": null,
   "id": "1f4dd45a-c112-48df-9d3f-07e5beff2692",
   "metadata": {},
   "outputs": [],
   "source": []
  }
 ],
 "metadata": {
  "kernelspec": {
   "display_name": "Python 3 (ipykernel)",
   "language": "python",
   "name": "python3"
  },
  "language_info": {
   "codemirror_mode": {
    "name": "ipython",
    "version": 3
   },
   "file_extension": ".py",
   "mimetype": "text/x-python",
   "name": "python",
   "nbconvert_exporter": "python",
   "pygments_lexer": "ipython3",
   "version": "3.10.12"
  }
 },
 "nbformat": 4,
 "nbformat_minor": 5
}
