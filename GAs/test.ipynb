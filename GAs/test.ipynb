{
 "cells": [
  {
   "cell_type": "code",
   "execution_count": 41,
   "id": "2e3abdb3-6047-49dd-99ef-bfd07131fe33",
   "metadata": {},
   "outputs": [],
   "source": [
    "import numpy as np\n",
    "import random"
   ]
  },
  {
   "cell_type": "code",
   "execution_count": 42,
   "id": "bb3ad68c-5e55-4cb1-a090-d796931c23cc",
   "metadata": {},
   "outputs": [],
   "source": [
    "def decimal_to_binary(array, precision_bits):\n",
    "    \"\"\"\n",
    "    Convert a NumPy array to a binary string.\n",
    "    \n",
    "    Args:\n",
    "        - array (numpy.ndarray): Input array of float or int values.\n",
    "        - precision_bits (list of tuples): List of tuples containing (min_val, max_val, bits) for each element to define the precision.\n",
    "            - min_val (float): The minimum possible value of the original range for the element.\n",
    "            - max_val (float): The maximum possible value of the original range for the element.\n",
    "            - bits (int): The number of bits used to represent the element in the binary string. \n",
    "    Returns:\n",
    "        - binary_string (str): Binary string representing the array.\n",
    "    \"\"\"\n",
    "    \n",
    "    binary_string = ''.join(\n",
    "        f'{int((val - min_val) / (max_val - min_val) * ((1 << bits) - 1)):0{bits}b}'\n",
    "        for val, (min_val, max_val, bits) in zip(array, precision_bits)\n",
    "    )\n",
    "    \n",
    "    return binary_string"
   ]
  },
  {
   "cell_type": "code",
   "execution_count": 43,
   "id": "d7f8fa3f-755d-446a-a128-84cbcb3b0d7a",
   "metadata": {},
   "outputs": [
    {
     "name": "stdout",
     "output_type": "stream",
     "text": [
      "<class 'str'>\n",
      "0101000101111111110011111110111111\n"
     ]
    }
   ],
   "source": [
    "array = np.array([0.32, 50, 0.25, 0.75])\n",
    "precision_bits = [(0, 1, 8), (0, 100, 10), (0, 1, 8), (0, 1, 8)]\n",
    "binary_string = decimal_to_binary(array, precision_bits)\n",
    "print(type(binary_string))\n",
    "print(binary_string)"
   ]
  },
  {
   "cell_type": "code",
   "execution_count": 44,
   "id": "cf243c5c-4c27-467e-b6dd-757820ce9b21",
   "metadata": {},
   "outputs": [],
   "source": [
    "def binary_to_decimal(binary_string, precision_bits):\n",
    "    \"\"\"\n",
    "    Convert a binary string back to a NumPy array.\n",
    "    \n",
    "    Args:\n",
    "        - binary_string (str): Binary string to be converted.\n",
    "        - precision_bits (list of tuples): List of tuples containing (min_val, max_val, bits) for each element to define the precision.\n",
    "            - min_val (float): The minimum possible value of the original range for the element.\n",
    "            - max_val (float): The maximum possible value of the original range for the element.\n",
    "            - bits (int): The number of bits used to represent the element in the binary string.\n",
    "    \n",
    "    Returns:\n",
    "        - arr (numpy.ndarray): Array of float or int values represented by the binary string.\n",
    "    \"\"\"\n",
    "    \n",
    "    arr = []\n",
    "    index = 0\n",
    "    \n",
    "    for min_val, max_val, bits in precision_bits:\n",
    "        \n",
    "        segment = binary_string[index:index + bits]\n",
    "        int_value = int(segment, 2)\n",
    "        max_int_value = (1 << bits) - 1\n",
    "        real_value = min_val + (max_val - min_val) * (int_value / max_int_value)\n",
    "        arr.append(real_value)\n",
    "        index += bits\n",
    "        \n",
    "    return np.array(arr)"
   ]
  },
  {
   "cell_type": "code",
   "execution_count": 45,
   "id": "f08ed94c-cca9-4bd4-af59-902270044080",
   "metadata": {},
   "outputs": [
    {
     "name": "stdout",
     "output_type": "stream",
     "text": [
      "<class 'numpy.ndarray'>\n",
      "[ 0.31764706 49.95112414  0.24705882  0.74901961]\n"
     ]
    }
   ],
   "source": [
    "array = binary_to_decimal(binary_string, precision_bits)\n",
    "print(type(array))\n",
    "print(array)"
   ]
  },
  {
   "cell_type": "code",
   "execution_count": 46,
   "id": "1a7acd54-6dda-4dbb-be5d-f4517793d040",
   "metadata": {},
   "outputs": [
    {
     "name": "stdout",
     "output_type": "stream",
     "text": [
      "102\n"
     ]
    }
   ],
   "source": [
    "array1 = np.array([0.32, 50, 0.25, 0.75, 23, 43, 54, 98, 78, 90, .3])\n",
    "precision_bits1 = [(0, 1, 8), (0, 100, 10), (0, 1, 8), (0, 1, 8), (0, 100, 10), (0, 100, 10), (0, 100, 10), (0, 100, 10), (0, 100, 10), (0, 100, 10), (0,1, 8)]\n",
    "binary_string1 = decimal_to_binary(array1, precision_bits1)\n",
    "print(len(binary_string1))"
   ]
  },
  {
   "cell_type": "code",
   "execution_count": 47,
   "id": "cf74035c-8796-4947-8c6c-8a7e2a6c392a",
   "metadata": {},
   "outputs": [
    {
     "data": {
      "text/plain": [
       "array([ 0.31764706, 49.95112414,  0.24705882,  0.74901961, 22.971652  ,\n",
       "       42.91300098, 53.95894428, 97.94721408, 77.90811339, 89.9315738 ,\n",
       "        0.29803922])"
      ]
     },
     "execution_count": 47,
     "metadata": {},
     "output_type": "execute_result"
    }
   ],
   "source": [
    "array2 = binary_to_decimal(binary_string1, precision_bits1)\n",
    "array2"
   ]
  },
  {
   "cell_type": "code",
   "execution_count": 48,
   "id": "5bd3bfc9-bdae-41fb-8d08-ab00a10782ca",
   "metadata": {},
   "outputs": [],
   "source": [
    "def initialize_population(pop_size, bit_length):\n",
    "    return [''.join(random.choice('01') for _ in range(bit_length)) for _ in range(pop_size)]\n"
   ]
  },
  {
   "cell_type": "code",
   "execution_count": 50,
   "id": "18a45e7e-c62e-4c19-bab7-1581f48d3874",
   "metadata": {},
   "outputs": [
    {
     "name": "stdout",
     "output_type": "stream",
     "text": [
      "['11000000010001010110011101010010111001100001101110', '11110101010110010011000100010000000100001100001111', '00000100010110110000001101101011111100111001011001', '01100110111111011000110111000111101000101111000111', '11100110011101011000110011010111001101111001010111', '01111001100111000101010110100011100010000101001010', '01101111110001011100110010000110010000101001110111', '10100001010011001100001001111011101111001110001100', '11101001000111100000010100101001110001001101010100', '10000010010101101101110110010000010001001111111110', '10000010100110000100000101100101110100011011101011', '11101010010100101111000010111100110100000000001101', '00100001110001111111110001110111010000001011011101', '01111110010000010110010010000010111011100001011110', '00011001101010100100001101111101110010010111110011', '00100000000001000000000001011000000100111111001100', '11011000010110101101100001110111001101001110100101', '01110001000100010011011001011011010010011011100000', '00100110000011000100111011101111010100110100111010', '01110000110101110100101101100101100101101111111011']\n",
      "50\n"
     ]
    }
   ],
   "source": [
    "g = initialize_population(20, 50)\n",
    "print(g)\n",
    "print(len(g[1]))"
   ]
  },
  {
   "cell_type": "code",
   "execution_count": 51,
   "id": "5eefa7f4-d51c-4bca-b653-1813d7dbaff2",
   "metadata": {},
   "outputs": [
    {
     "data": {
      "text/plain": [
       "[(1, 2, 4, 1, 2, 4, 1, 2, 4, 1, 2, 4, 1, 2, 4)]"
      ]
     },
     "execution_count": 51,
     "metadata": {},
     "output_type": "execute_result"
    }
   ],
   "source": [
    "h = [(1, 2, 4) ]\n",
    "h"
   ]
  },
  {
   "cell_type": "code",
   "execution_count": 53,
   "id": "1c8f47c5-15d0-4721-a14e-bad840057852",
   "metadata": {},
   "outputs": [
    {
     "name": "stdout",
     "output_type": "stream",
     "text": [
      "[14, 16, 9]\n"
     ]
    }
   ],
   "source": [
    "def compute_fitness(pop, target):\n",
    "    \n",
    "    \"\"\"\n",
    "    Compute the fitness value for each individual in the population.\n",
    "    \n",
    "    Args:\n",
    "        pop (list of str): The population of individuals, each represented as a binary string.\n",
    "        target (str): The target binary string to compare against.\n",
    "    \n",
    "    Returns:\n",
    "        list of int: A list of fitness values, one for each individual in the population.\n",
    "    \"\"\"\n",
    "    \n",
    "    fitness_values = []\n",
    "    \n",
    "    for individual in pop:\n",
    "        \n",
    "        fitness = sum(1 for i, j in zip(individual, target) if i == j)\n",
    "        fitness_values.append(fitness)\n",
    "        \n",
    "    return fitness_values\n",
    "\n",
    "# Example usage:\n",
    "population = ['11001010101010111111100', '10111111110000011111101', '111111100000000000123100']\n",
    "target = '11111111111111111111111'\n",
    "fitness = compute_fitness(population, target)\n",
    "print(fitness)  # Output: [4, 3, 3]\n"
   ]
  },
  {
   "cell_type": "code",
   "execution_count": 54,
   "id": "cd53cd63-0e8e-4956-9f18-4ba85045766a",
   "metadata": {},
   "outputs": [],
   "source": [
    "def select_parents(population, fitness_scores):\n",
    "    \"\"\"\n",
    "    Select parents for the next generation based on their fitness scores.\n",
    "    using Fitness Proportionate Selection (Roulette Wheel Selection) method.\n",
    "\n",
    "    Args:\n",
    "        - population (list of str): The current population of individuals, each represented as a binary string.\n",
    "        - fitness_scores (list of float): The fitness scores of the individuals in the population.\n",
    "\n",
    "    Returns:\n",
    "        selected (list) : The selected parents for the next generation.\n",
    "    \"\"\"\n",
    "\n",
    "    probabilities = fitness_scores / np.sum(fitness_scores)\n",
    "\n",
    "    selected = np.random.choice(population, size=len(population), p=probabilities)\n",
    "\n",
    "    return selected"
   ]
  },
  {
   "cell_type": "code",
   "execution_count": 65,
   "id": "699ea2af-5eb1-42fe-b1f2-1a1d7b46d6c1",
   "metadata": {},
   "outputs": [
    {
     "name": "stdout",
     "output_type": "stream",
     "text": [
      "['1101011101', '1010101001', '0011111011', '1001011100', '0100100110', '0001111001', '1110000110', '0111100001', '1100100011', '1100001010']\n",
      "[4, 6, 2, 6, 7, 4, 6, 4, 6, 5]\n",
      "['0001111001' '0111100001' '1100001010' '1100001010' '1001011100'\n",
      " '1001011100' '1101011101' '1110000110' '1001011100' '0011111011']\n"
     ]
    }
   ],
   "source": [
    "pop_ = initialize_population(10, 10)\n",
    "print(pop_)\n",
    "fitnesses = compute_fitness(pop_, \"1000100100\")\n",
    "print(fitnesses)\n",
    "parents = select_parents(pop_, fitnesses)\n",
    "print(parents)"
   ]
  },
  {
   "cell_type": "code",
   "execution_count": 74,
   "id": "9b51322f-8d9c-416a-8ef0-3ffadfc4b20a",
   "metadata": {},
   "outputs": [],
   "source": [
    "import random\n",
    "\n",
    "def crossover(parent1, parent2, crossover_rate=0.9, num_crossover_points=1):\n",
    "    \"\"\"\n",
    "    Perform multi-point crossover between two parents to generate two offspring.\n",
    "    \n",
    "    Args:\n",
    "        parent1 (str): The binary string representing the first parent.\n",
    "        parent2 (str): The binary string representing the second parent.\n",
    "        crossover_rate (float, optional): The probability of performing a crossover. Defaults to 0.7.\n",
    "        num_crossover_points (int, optional): The number of crossover points between the two parents. Defaults to 1.\n",
    "    \n",
    "    Returns:\n",
    "        tuple of str: Two binary strings representing the offspring.\n",
    "    \n",
    "    Example:\n",
    "        offspring1, offspring2 = crossover('11001', '10110', crossover_rate=0.7, num_crossover_points=2)\n",
    "    \"\"\"\n",
    "    if random.random() < crossover_rate:\n",
    "        crossover_points = sorted(random.sample(range(1, len(parent1)), num_crossover_points))\n",
    "        offspring1 = []\n",
    "        offspring2 = []\n",
    "        for i in range(len(crossover_points) + 1):\n",
    "            start = 0 if i == 0 else crossover_points[i - 1]\n",
    "            end = len(parent1) if i == len(crossover_points) else crossover_points[i]\n",
    "            if i % 2 == 0:\n",
    "                offspring1.extend(parent1[start:end])\n",
    "                offspring2.extend(parent2[start:end])\n",
    "            else:\n",
    "                offspring1.extend(parent2[start:end])\n",
    "                offspring2.extend(parent1[start:end])\n",
    "        return ''.join(offspring1), ''.join(offspring2)\n",
    "    return parent1, parent2\n"
   ]
  },
  {
   "cell_type": "code",
   "execution_count": 75,
   "id": "26aa0563-8537-4b3f-9f55-e55896e259f2",
   "metadata": {},
   "outputs": [
    {
     "name": "stdout",
     "output_type": "stream",
     "text": [
      "111111111111111111111000000011 000000000000000000000111111100\n"
     ]
    }
   ],
   "source": [
    "parent1 = '111111111111111111111111111111'\n",
    "parent2 = '000000000000000000000000000000'\n",
    "offspring1, offspring2 = crossover(parent1, parent2, num_crossover_points=2)\n",
    "print(offspring1, offspring2)"
   ]
  },
  {
   "cell_type": "code",
   "execution_count": 77,
   "id": "b2a4c74e-9bbb-4448-9ffd-881943e4917f",
   "metadata": {},
   "outputs": [],
   "source": [
    "import random\n",
    "\n",
    "def mutate(chromosome, mutation_rate):\n",
    "    \"\"\"\n",
    "    Mutate a binary chromosome based on the mutation rate.\n",
    "    \n",
    "    Args:\n",
    "        chromosome (str): The binary string representing the chromosome.\n",
    "        mutation_rate (float): The probability of mutating each bit.\n",
    "    \n",
    "    Returns:\n",
    "        str: The mutated binary string.\n",
    "    \n",
    "    Example:\n",
    "        mutated_chromosome = mutate('11001', mutation_rate=0.1)\n",
    "    \"\"\"\n",
    "    mutated_chromosome = []\n",
    "    for bit in chromosome:\n",
    "        if random.random() <= mutation_rate:\n",
    "            # Mutate the bit if the random number is less than or equal to the mutation rate\n",
    "            mutated_chromosome.append('1' if bit == '0' else '0')\n",
    "        else:\n",
    "            mutated_chromosome.append(bit)\n",
    "    return ''.join(mutated_chromosome)\n"
   ]
  },
  {
   "cell_type": "code",
   "execution_count": 85,
   "id": "a867084f-64e4-486c-be56-3de32c59c5ea",
   "metadata": {},
   "outputs": [
    {
     "name": "stdout",
     "output_type": "stream",
     "text": [
      "1111011111110111111111111111111111101111101011101101110111111110111111101111111111111111111111\n"
     ]
    }
   ],
   "source": [
    "\n",
    "mutated_chromosome = mutate('1111111111111111111111111111111111111111111111111111111111111111111111111111111111111111111111', mutation_rate=0.1)\n",
    "print(mutated_chromosome)"
   ]
  },
  {
   "cell_type": "code",
   "execution_count": null,
   "id": "1b63481e-3003-4772-8e4d-7c7c63ca6ab7",
   "metadata": {},
   "outputs": [],
   "source": []
  }
 ],
 "metadata": {
  "kernelspec": {
   "display_name": "Python 3 (ipykernel)",
   "language": "python",
   "name": "python3"
  },
  "language_info": {
   "codemirror_mode": {
    "name": "ipython",
    "version": 3
   },
   "file_extension": ".py",
   "mimetype": "text/x-python",
   "name": "python",
   "nbconvert_exporter": "python",
   "pygments_lexer": "ipython3",
   "version": "3.10.12"
  }
 },
 "nbformat": 4,
 "nbformat_minor": 5
}
