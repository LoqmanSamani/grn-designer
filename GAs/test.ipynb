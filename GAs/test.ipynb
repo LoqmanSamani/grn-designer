{
 "cells": [
  {
   "cell_type": "code",
   "execution_count": 1,
   "id": "2e3abdb3-6047-49dd-99ef-bfd07131fe33",
   "metadata": {},
   "outputs": [],
   "source": [
    "import numpy as np\n",
    "import random"
   ]
  },
  {
   "cell_type": "code",
   "execution_count": 42,
   "id": "bb3ad68c-5e55-4cb1-a090-d796931c23cc",
   "metadata": {},
   "outputs": [],
   "source": [
    "def decimal_to_binary(array, precision_bits):\n",
    "    \"\"\"\n",
    "    Convert a NumPy array to a binary string.\n",
    "    \n",
    "    Args:\n",
    "        - array (numpy.ndarray): Input array of float or int values.\n",
    "        - precision_bits (list of tuples): List of tuples containing (min_val, max_val, bits) for each element to define the precision.\n",
    "            - min_val (float): The minimum possible value of the original range for the element.\n",
    "            - max_val (float): The maximum possible value of the original range for the element.\n",
    "            - bits (int): The number of bits used to represent the element in the binary string. \n",
    "    Returns:\n",
    "        - binary_string (str): Binary string representing the array.\n",
    "    \"\"\"\n",
    "    \n",
    "    binary_string = ''.join(\n",
    "        f'{int((val - min_val) / (max_val - min_val) * ((1 << bits) - 1)):0{bits}b}'\n",
    "        for val, (min_val, max_val, bits) in zip(array, precision_bits)\n",
    "    )\n",
    "    \n",
    "    return binary_string"
   ]
  },
  {
   "cell_type": "code",
   "execution_count": 43,
   "id": "d7f8fa3f-755d-446a-a128-84cbcb3b0d7a",
   "metadata": {},
   "outputs": [
    {
     "name": "stdout",
     "output_type": "stream",
     "text": [
      "<class 'str'>\n",
      "0101000101111111110011111110111111\n"
     ]
    }
   ],
   "source": [
    "array = np.array([0.32, 50, 0.25, 0.75])\n",
    "precision_bits = [(0, 1, 8), (0, 100, 10), (0, 1, 8), (0, 1, 8)]\n",
    "binary_string = decimal_to_binary(array, precision_bits)\n",
    "print(type(binary_string))\n",
    "print(binary_string)"
   ]
  },
  {
   "cell_type": "code",
   "execution_count": 44,
   "id": "cf243c5c-4c27-467e-b6dd-757820ce9b21",
   "metadata": {},
   "outputs": [],
   "source": [
    "def binary_to_decimal(binary_string, precision_bits):\n",
    "    \"\"\"\n",
    "    Convert a binary string back to a NumPy array.\n",
    "    \n",
    "    Args:\n",
    "        - binary_string (str): Binary string to be converted.\n",
    "        - precision_bits (list of tuples): List of tuples containing (min_val, max_val, bits) for each element to define the precision.\n",
    "            - min_val (float): The minimum possible value of the original range for the element.\n",
    "            - max_val (float): The maximum possible value of the original range for the element.\n",
    "            - bits (int): The number of bits used to represent the element in the binary string.\n",
    "    \n",
    "    Returns:\n",
    "        - arr (numpy.ndarray): Array of float or int values represented by the binary string.\n",
    "    \"\"\"\n",
    "    \n",
    "    arr = []\n",
    "    index = 0\n",
    "    \n",
    "    for min_val, max_val, bits in precision_bits:\n",
    "        \n",
    "        segment = binary_string[index:index + bits]\n",
    "        int_value = int(segment, 2)\n",
    "        max_int_value = (1 << bits) - 1\n",
    "        real_value = min_val + (max_val - min_val) * (int_value / max_int_value)\n",
    "        arr.append(real_value)\n",
    "        index += bits\n",
    "        \n",
    "    return np.array(arr)"
   ]
  },
  {
   "cell_type": "code",
   "execution_count": 45,
   "id": "f08ed94c-cca9-4bd4-af59-902270044080",
   "metadata": {},
   "outputs": [
    {
     "name": "stdout",
     "output_type": "stream",
     "text": [
      "<class 'numpy.ndarray'>\n",
      "[ 0.31764706 49.95112414  0.24705882  0.74901961]\n"
     ]
    }
   ],
   "source": [
    "array = binary_to_decimal(binary_string, precision_bits)\n",
    "print(type(array))\n",
    "print(array)"
   ]
  },
  {
   "cell_type": "code",
   "execution_count": 46,
   "id": "1a7acd54-6dda-4dbb-be5d-f4517793d040",
   "metadata": {},
   "outputs": [
    {
     "name": "stdout",
     "output_type": "stream",
     "text": [
      "102\n"
     ]
    }
   ],
   "source": [
    "array1 = np.array([0.32, 50, 0.25, 0.75, 23, 43, 54, 98, 78, 90, .3])\n",
    "precision_bits1 = [(0, 1, 8), (0, 100, 10), (0, 1, 8), (0, 1, 8), (0, 100, 10), (0, 100, 10), (0, 100, 10), (0, 100, 10), (0, 100, 10), (0, 100, 10), (0,1, 8)]\n",
    "binary_string1 = decimal_to_binary(array1, precision_bits1)\n",
    "print(len(binary_string1))"
   ]
  },
  {
   "cell_type": "code",
   "execution_count": 47,
   "id": "cf74035c-8796-4947-8c6c-8a7e2a6c392a",
   "metadata": {},
   "outputs": [
    {
     "data": {
      "text/plain": [
       "array([ 0.31764706, 49.95112414,  0.24705882,  0.74901961, 22.971652  ,\n",
       "       42.91300098, 53.95894428, 97.94721408, 77.90811339, 89.9315738 ,\n",
       "        0.29803922])"
      ]
     },
     "execution_count": 47,
     "metadata": {},
     "output_type": "execute_result"
    }
   ],
   "source": [
    "array2 = binary_to_decimal(binary_string1, precision_bits1)\n",
    "array2"
   ]
  },
  {
   "cell_type": "code",
   "execution_count": 48,
   "id": "5bd3bfc9-bdae-41fb-8d08-ab00a10782ca",
   "metadata": {},
   "outputs": [],
   "source": [
    "def initialize_population(pop_size, bit_length):\n",
    "    return [''.join(random.choice('01') for _ in range(bit_length)) for _ in range(pop_size)]\n"
   ]
  },
  {
   "cell_type": "code",
   "execution_count": 50,
   "id": "18a45e7e-c62e-4c19-bab7-1581f48d3874",
   "metadata": {},
   "outputs": [
    {
     "name": "stdout",
     "output_type": "stream",
     "text": [
      "['11000000010001010110011101010010111001100001101110', '11110101010110010011000100010000000100001100001111', '00000100010110110000001101101011111100111001011001', '01100110111111011000110111000111101000101111000111', '11100110011101011000110011010111001101111001010111', '01111001100111000101010110100011100010000101001010', '01101111110001011100110010000110010000101001110111', '10100001010011001100001001111011101111001110001100', '11101001000111100000010100101001110001001101010100', '10000010010101101101110110010000010001001111111110', '10000010100110000100000101100101110100011011101011', '11101010010100101111000010111100110100000000001101', '00100001110001111111110001110111010000001011011101', '01111110010000010110010010000010111011100001011110', '00011001101010100100001101111101110010010111110011', '00100000000001000000000001011000000100111111001100', '11011000010110101101100001110111001101001110100101', '01110001000100010011011001011011010010011011100000', '00100110000011000100111011101111010100110100111010', '01110000110101110100101101100101100101101111111011']\n",
      "50\n"
     ]
    }
   ],
   "source": [
    "g = initialize_population(20, 50)\n",
    "print(g)\n",
    "print(len(g[1]))"
   ]
  },
  {
   "cell_type": "code",
   "execution_count": 51,
   "id": "5eefa7f4-d51c-4bca-b653-1813d7dbaff2",
   "metadata": {},
   "outputs": [
    {
     "data": {
      "text/plain": [
       "[(1, 2, 4, 1, 2, 4, 1, 2, 4, 1, 2, 4, 1, 2, 4)]"
      ]
     },
     "execution_count": 51,
     "metadata": {},
     "output_type": "execute_result"
    }
   ],
   "source": [
    "h = [(1, 2, 4) ]\n",
    "h"
   ]
  },
  {
   "cell_type": "code",
   "execution_count": 53,
   "id": "1c8f47c5-15d0-4721-a14e-bad840057852",
   "metadata": {},
   "outputs": [
    {
     "name": "stdout",
     "output_type": "stream",
     "text": [
      "[14, 16, 9]\n"
     ]
    }
   ],
   "source": [
    "def compute_fitness(pop, target):\n",
    "    \n",
    "    \"\"\"\n",
    "    Compute the fitness value for each individual in the population.\n",
    "    \n",
    "    Args:\n",
    "        pop (list of str): The population of individuals, each represented as a binary string.\n",
    "        target (str): The target binary string to compare against.\n",
    "    \n",
    "    Returns:\n",
    "        list of int: A list of fitness values, one for each individual in the population.\n",
    "    \"\"\"\n",
    "    \n",
    "    fitness_values = []\n",
    "    \n",
    "    for individual in pop:\n",
    "        \n",
    "        fitness = sum(1 for i, j in zip(individual, target) if i == j)\n",
    "        fitness_values.append(fitness)\n",
    "        \n",
    "    return fitness_values\n",
    "\n",
    "# Example usage:\n",
    "population = ['11001010101010111111100', '10111111110000011111101', '111111100000000000123100']\n",
    "target = '11111111111111111111111'\n",
    "fitness = compute_fitness(population, target)\n",
    "print(fitness)  # Output: [4, 3, 3]\n"
   ]
  },
  {
   "cell_type": "code",
   "execution_count": 54,
   "id": "cd53cd63-0e8e-4956-9f18-4ba85045766a",
   "metadata": {},
   "outputs": [],
   "source": [
    "def select_parents(population, fitness_scores):\n",
    "    \"\"\"\n",
    "    Select parents for the next generation based on their fitness scores.\n",
    "    using Fitness Proportionate Selection (Roulette Wheel Selection) method.\n",
    "\n",
    "    Args:\n",
    "        - population (list of str): The current population of individuals, each represented as a binary string.\n",
    "        - fitness_scores (list of float): The fitness scores of the individuals in the population.\n",
    "\n",
    "    Returns:\n",
    "        selected (list) : The selected parents for the next generation.\n",
    "    \"\"\"\n",
    "\n",
    "    probabilities = fitness_scores / np.sum(fitness_scores)\n",
    "\n",
    "    selected = np.random.choice(population, size=len(population), p=probabilities)\n",
    "\n",
    "    return selected"
   ]
  },
  {
   "cell_type": "code",
   "execution_count": 65,
   "id": "699ea2af-5eb1-42fe-b1f2-1a1d7b46d6c1",
   "metadata": {},
   "outputs": [
    {
     "name": "stdout",
     "output_type": "stream",
     "text": [
      "['1101011101', '1010101001', '0011111011', '1001011100', '0100100110', '0001111001', '1110000110', '0111100001', '1100100011', '1100001010']\n",
      "[4, 6, 2, 6, 7, 4, 6, 4, 6, 5]\n",
      "['0001111001' '0111100001' '1100001010' '1100001010' '1001011100'\n",
      " '1001011100' '1101011101' '1110000110' '1001011100' '0011111011']\n"
     ]
    }
   ],
   "source": [
    "pop_ = initialize_population(10, 10)\n",
    "print(pop_)\n",
    "fitnesses = compute_fitness(pop_, \"1000100100\")\n",
    "print(fitnesses)\n",
    "parents = select_parents(pop_, fitnesses)\n",
    "print(parents)"
   ]
  },
  {
   "cell_type": "code",
   "execution_count": 74,
   "id": "9b51322f-8d9c-416a-8ef0-3ffadfc4b20a",
   "metadata": {},
   "outputs": [],
   "source": [
    "import random\n",
    "\n",
    "def crossover(parent1, parent2, crossover_rate=0.9, num_crossover_points=1):\n",
    "    \"\"\"\n",
    "    Perform multi-point crossover between two parents to generate two offspring.\n",
    "    \n",
    "    Args:\n",
    "        parent1 (str): The binary string representing the first parent.\n",
    "        parent2 (str): The binary string representing the second parent.\n",
    "        crossover_rate (float, optional): The probability of performing a crossover. Defaults to 0.7.\n",
    "        num_crossover_points (int, optional): The number of crossover points between the two parents. Defaults to 1.\n",
    "    \n",
    "    Returns:\n",
    "        tuple of str: Two binary strings representing the offspring.\n",
    "    \n",
    "    Example:\n",
    "        offspring1, offspring2 = crossover('11001', '10110', crossover_rate=0.7, num_crossover_points=2)\n",
    "    \"\"\"\n",
    "    if random.random() < crossover_rate:\n",
    "        crossover_points = sorted(random.sample(range(1, len(parent1)), num_crossover_points))\n",
    "        offspring1 = []\n",
    "        offspring2 = []\n",
    "        for i in range(len(crossover_points) + 1):\n",
    "            start = 0 if i == 0 else crossover_points[i - 1]\n",
    "            end = len(parent1) if i == len(crossover_points) else crossover_points[i]\n",
    "            if i % 2 == 0:\n",
    "                offspring1.extend(parent1[start:end])\n",
    "                offspring2.extend(parent2[start:end])\n",
    "            else:\n",
    "                offspring1.extend(parent2[start:end])\n",
    "                offspring2.extend(parent1[start:end])\n",
    "        return ''.join(offspring1), ''.join(offspring2)\n",
    "    return parent1, parent2\n"
   ]
  },
  {
   "cell_type": "code",
   "execution_count": 75,
   "id": "26aa0563-8537-4b3f-9f55-e55896e259f2",
   "metadata": {},
   "outputs": [
    {
     "name": "stdout",
     "output_type": "stream",
     "text": [
      "111111111111111111111000000011 000000000000000000000111111100\n"
     ]
    }
   ],
   "source": [
    "parent1 = '111111111111111111111111111111'\n",
    "parent2 = '000000000000000000000000000000'\n",
    "offspring1, offspring2 = crossover(parent1, parent2, num_crossover_points=2)\n",
    "print(offspring1, offspring2)"
   ]
  },
  {
   "cell_type": "code",
   "execution_count": 77,
   "id": "b2a4c74e-9bbb-4448-9ffd-881943e4917f",
   "metadata": {},
   "outputs": [],
   "source": [
    "import random\n",
    "\n",
    "def mutate(chromosome, mutation_rate):\n",
    "    \"\"\"\n",
    "    Mutate a binary chromosome based on the mutation rate.\n",
    "    \n",
    "    Args:\n",
    "        chromosome (str): The binary string representing the chromosome.\n",
    "        mutation_rate (float): The probability of mutating each bit.\n",
    "    \n",
    "    Returns:\n",
    "        str: The mutated binary string.\n",
    "    \n",
    "    Example:\n",
    "        mutated_chromosome = mutate('11001', mutation_rate=0.1)\n",
    "    \"\"\"\n",
    "    mutated_chromosome = []\n",
    "    for bit in chromosome:\n",
    "        if random.random() <= mutation_rate:\n",
    "            # Mutate the bit if the random number is less than or equal to the mutation rate\n",
    "            mutated_chromosome.append('1' if bit == '0' else '0')\n",
    "        else:\n",
    "            mutated_chromosome.append(bit)\n",
    "    return ''.join(mutated_chromosome)\n"
   ]
  },
  {
   "cell_type": "code",
   "execution_count": 85,
   "id": "a867084f-64e4-486c-be56-3de32c59c5ea",
   "metadata": {},
   "outputs": [
    {
     "name": "stdout",
     "output_type": "stream",
     "text": [
      "1111011111110111111111111111111111101111101011101101110111111110111111101111111111111111111111\n"
     ]
    }
   ],
   "source": [
    "\n",
    "mutated_chromosome = mutate('1111111111111111111111111111111111111111111111111111111111111111111111111111111111111111111111', mutation_rate=0.1)\n",
    "print(mutated_chromosome)"
   ]
  },
  {
   "cell_type": "code",
   "execution_count": null,
   "id": "4c56387b-8069-4f3c-9e5f-8957c32e53d9",
   "metadata": {},
   "outputs": [],
   "source": []
  },
  {
   "cell_type": "code",
   "execution_count": 6,
   "id": "6a1927c2-27ee-43d3-a3a3-47b9b3ec416b",
   "metadata": {},
   "outputs": [
    {
     "name": "stdout",
     "output_type": "stream",
     "text": [
      "Original 2D_1: [[0.5  0.75]\n",
      " [0.25 0.6 ]]\n",
      "Binary 2D_1: 01111111101111110011111110011001\n",
      "Restored 2D_1: [[0.49803922 0.74901961]\n",
      " [0.24705882 0.6       ]]\n",
      "Original 2D_2: [[0.1 0.9]\n",
      " [0.4 0.8]]\n",
      "Binary 2D_2: 0001100110111001100001100110011100110010\n",
      "Restored 2D_2: [[0.09970674 0.89931574]\n",
      " [0.3998045  0.79960899]]\n",
      "(1, 4)\n",
      "0011001100010011001001100110010111111111\n",
      "(1, 4)\n",
      "[array([[0.49803922, 0.74901961],\n",
      "       [0.24705882, 0.6       ]]), array([[0.09970674, 0.89931574],\n",
      "       [0.3998045 , 0.79960899]]), array([[1.9941349 , 2.99120235, 3.99804497, 4.99511241]])]\n",
      "['01111111101111110011111110011001', '0001100110111001100001100110011100110010', '0011001100010011001001100110010111111111']\n"
     ]
    }
   ],
   "source": [
    "import numpy as np\n",
    "\n",
    "def decimal_to_binary(array_list, precision_bits_list):\n",
    "    \"\"\"\n",
    "    Convert a list of 2D NumPy arrays to a list of binary strings.\n",
    "\n",
    "    Args:\n",
    "        array_list (list of numpy.ndarray): List of input 2D arrays of float or int values.\n",
    "        precision_bits_list (list of tuple): List of tuples containing (min_val, max_val, bits) to define the precision for each array.\n",
    "            - min_val (float): The minimum possible value of the original range for the element.\n",
    "            - max_val (float): The maximum possible value of the original range for the element.\n",
    "            - bits (int): The number of bits used to represent the element in the binary string.\n",
    "\n",
    "    Returns:\n",
    "        list of str: List of binary strings representing the arrays.\n",
    "    \"\"\"\n",
    "\n",
    "    binary_strings = []\n",
    "    \n",
    "    for array, precision_bits in zip(array_list, precision_bits_list):\n",
    "        min_val, max_val, bits = precision_bits\n",
    "        \n",
    "        binary_string = ''.join(\n",
    "            f\"{int((val - min_val) / (max_val - min_val) * ((1 << bits) - 1)):0{bits}b}\"\n",
    "            for sub_array in array for val in sub_array\n",
    "        )\n",
    "        \n",
    "        binary_strings.append(binary_string)\n",
    "        \n",
    "    return binary_strings\n",
    "\n",
    "\n",
    "def binary_to_decimal(binary_string_list, precision_bits_list, shapes):\n",
    "    \"\"\"\n",
    "    Convert a list of binary strings back to a list of 2D NumPy arrays.\n",
    "\n",
    "    Args:\n",
    "        binary_string_list (list of str): List of binary strings to be converted.\n",
    "        precision_bits_list (list of tuple): List of tuples containing (min_val, max_val, bits) to define the precision for each array.\n",
    "            - min_val (float): The minimum possible value of the original range for the element.\n",
    "            - max_val (float): The maximum possible value of the original range for the element.\n",
    "            - bits (int): The number of bits used to represent the element in the binary string.\n",
    "        shapes (list of tuple): List of shapes for the original arrays.\n",
    "\n",
    "    Returns:\n",
    "        list of numpy.ndarray: List of arrays of float or int values represented by the binary strings.\n",
    "    \"\"\"\n",
    "    \n",
    "    arrays = []\n",
    "    \n",
    "    for binary_string, precision_bits, shape in zip(binary_string_list, precision_bits_list, shapes):\n",
    "        min_val, max_val, bits = precision_bits\n",
    "        array = []\n",
    "        index = 0\n",
    "        for _ in range(shape[0]):\n",
    "            row = []\n",
    "            for _ in range(shape[1]):\n",
    "                segment = binary_string[index:index + bits]\n",
    "                int_value = int(segment, 2)\n",
    "                max_int_value = (1 << bits) - 1\n",
    "                real_value = min_val + (max_val - min_val) * (int_value / max_int_value)\n",
    "                row.append(real_value)\n",
    "                index += bits\n",
    "            array.append(row)\n",
    "        arrays.append(np.array(array))\n",
    "    return arrays\n",
    "\n",
    "\n",
    "precision_bits_list = [\n",
    "    (0, 1, 8),  # Precision for the first array\n",
    "    (0, 1, 10),  # Precision for the second array\n",
    "    (0, 10, 10)\n",
    "]\n",
    "\n",
    "# 2D array examples\n",
    "array_2d_1 = np.array([[0.5, 0.75], [0.25, 0.6]])\n",
    "array_2d_2 = np.array([[0.1, 0.9], [0.4, 0.8]])\n",
    "array_2d_3 = np.array([[2, 3, 4, 5]])\n",
    "\n",
    "array_list = [array_2d_1, array_2d_2, array_2d_3]\n",
    "shapes = [array_2d_1.shape, array_2d_2.shape, array_2d_3.shape]\n",
    "\n",
    "binary_strings = decimal_to_binary(array_list, precision_bits_list)\n",
    "restored_arrays = binary_to_decimal(binary_strings, precision_bits_list, shapes)\n",
    "\n",
    "print('Original 2D_1:', array_2d_1)\n",
    "print('Binary 2D_1:', binary_strings[0])\n",
    "print('Restored 2D_1:', restored_arrays[0])\n",
    "\n",
    "print('Original 2D_2:', array_2d_2)\n",
    "print('Binary 2D_2:', binary_strings[1])\n",
    "print('Restored 2D_2:', restored_arrays[1])\n",
    "\n",
    "print(array_2d_3.shape)\n",
    "print(binary_strings[-1])\n",
    "print(restored_arrays[-1].shape)\n",
    "\n",
    "print(restored_arrays)\n",
    "print(binary_strings)\n"
   ]
  },
  {
   "cell_type": "code",
   "execution_count": 15,
   "id": "82e43d1f-e876-4df9-a1ec-bd87b0bfd8f7",
   "metadata": {},
   "outputs": [],
   "source": [
    "def build_chromosomes(sp1, sp2, sp1_cells, sp2_cells, params):\n",
    "\n",
    "    population = []\n",
    "    \n",
    "    for i in range(len(sp1)):\n",
    "        population.append([sp1[i], sp2[i], sp1_cells[i], sp2_cells[i], params[i]])\n",
    "\n",
    "    return population"
   ]
  },
  {
   "cell_type": "code",
   "execution_count": 16,
   "id": "4ad99efa-f01f-46fe-b4a3-832bc7b0cd32",
   "metadata": {},
   "outputs": [
    {
     "data": {
      "text/plain": [
       "[['222', '444', '777', '101010', 1],\n",
       " ['333', '555', '888', '111111', 2],\n",
       " ['111', '666', '999', '121212', 3]]"
      ]
     },
     "execution_count": 16,
     "metadata": {},
     "output_type": "execute_result"
    }
   ],
   "source": [
    "f = build_chromosomes([\"222\",\"333\",\"111\"], [\"444\",\"555\",\"666\"], [\"777\",\"888\",\"999\"],[\"101010\", \"111111\", \"121212\"], [1,2,3,])\n",
    "f"
   ]
  },
  {
   "cell_type": "code",
   "execution_count": 21,
   "id": "da4f28c3-b474-44f1-8607-ad16b5be8c1e",
   "metadata": {},
   "outputs": [
    {
     "name": "stdout",
     "output_type": "stream",
     "text": [
      "b\n"
     ]
    }
   ],
   "source": [
    "def extract_based_on_max_index(list1, list2):\n",
    "    \"\"\"\n",
    "    Extract an object from list1 based on the index of the maximum value in list2.\n",
    "\n",
    "    Args:\n",
    "        list1 (list): The list from which to extract the object.\n",
    "        list2 (list): The list used to determine the index of the maximum value.\n",
    "\n",
    "    Returns:\n",
    "        object: The object from list1 corresponding to the index of the maximum value in list2.\n",
    "    \"\"\"\n",
    "    max_index = list2.index(max(list2))\n",
    "    return list1[max_index]\n",
    "\n",
    "# Example usage:\n",
    "list1 = ['a', 'b', 'c', 'd']\n",
    "list2 = [10, 222, 30, 25]\n",
    "\n",
    "result = extract_based_on_max_index(list1, list2)\n",
    "print(result)  # Output: 'c'\n"
   ]
  },
  {
   "cell_type": "code",
   "execution_count": 22,
   "id": "1ec431a7-343c-4ec4-94b9-8faa482e801d",
   "metadata": {},
   "outputs": [
    {
     "data": {
      "text/plain": [
       "array(['345654', '232123', '489766', '232123', '489766', '123456'],\n",
       "      dtype='<U6')"
      ]
     },
     "execution_count": 22,
     "metadata": {},
     "output_type": "execute_result"
    }
   ],
   "source": [
    "def select_parents(population, fitness_scores):\n",
    "    \"\"\"\n",
    "    Select parents for the next generation based on their fitness scores.\n",
    "    using Fitness Proportionate Selection (Roulette Wheel Selection) method.\n",
    "\n",
    "    Args:\n",
    "        - population (list of str): The current population of individuals, each represented as a binary string.\n",
    "        - fitness_scores (list of float): The fitness scores of the individuals in the population.\n",
    "\n",
    "    Returns:\n",
    "        selected (list) : The selected parents for the next generation.\n",
    "    \"\"\"\n",
    "\n",
    "    probabilities = fitness_scores / np.sum(fitness_scores)\n",
    "\n",
    "    selected = np.random.choice(population, size=len(population), p=probabilities)\n",
    "\n",
    "    return selected\n",
    "\n",
    "pop = [\"231456\", \"123456\", \"232123\", \"345654\", \"489766\", \"123456\"]\n",
    "f = [1,2,4,3,6,5]\n",
    "p = select_parents(pop, f)\n",
    "p\n"
   ]
  },
  {
   "cell_type": "code",
   "execution_count": 25,
   "id": "199460c6-b8de-40c4-b7b8-029b3183a43b",
   "metadata": {},
   "outputs": [
    {
     "name": "stdout",
     "output_type": "stream",
     "text": [
      "['110010001011', '1111000', '1100000001']\n",
      "['001100000001', '1000111', '0011111110']\n"
     ]
    }
   ],
   "source": [
    "import random\n",
    "\n",
    "def crossover(parents1, parents2, crossover_rates, num_crossover_points):\n",
    "    \"\"\"\n",
    "    Perform multi-point crossover between two parents to generate two offspring.\n",
    "\n",
    "    Args:\n",
    "        parent1 (list of str): A list of binary strings representing the first parent.\n",
    "        parent2 (list of str): A list of binary strings representing the second parent.\n",
    "        crossover_rates (list of float): A list of probabilities of performing crossover for each sub-chromosome.\n",
    "        num_crossover_points (list of int): A list containing the number of crossover points for each sub-chromosome.\n",
    "\n",
    "    Returns:\n",
    "        tuple of list: Two lists of binary strings representing the offspring.\n",
    "\n",
    "    Example:\n",
    "        offspring1, offspring2 = crossover(['11001', '10110'], ['00110', '11001'], [0.7, 0.7], [2, 2])\n",
    "    \"\"\"\n",
    "    offspring1 = []\n",
    "    offspring2 = []\n",
    "\n",
    "    for parent1, parent2, crossover_rate, num_points in zip(parents1, parents2, crossover_rates, num_crossover_points):\n",
    "        if random.random() < crossover_rate:\n",
    "            crossover_points = sorted(random.sample(range(1, len(parent1)), num_points))\n",
    "            child1, child2 = [], []\n",
    "            start = 0\n",
    "            for i, point in enumerate(crossover_points + [len(parent1)]):\n",
    "                if i % 2 == 0:\n",
    "                    child1.extend(parent1[start:point])\n",
    "                    child2.extend(parent2[start:point])\n",
    "                else:\n",
    "                    child1.extend(parent2[start:point])\n",
    "                    child2.extend(parent1[start:point])\n",
    "                start = point\n",
    "            offspring1.append(''.join(child1))\n",
    "            offspring2.append(''.join(child2))\n",
    "        else:\n",
    "            offspring1.append(parent1)\n",
    "            offspring2.append(parent2)\n",
    "\n",
    "    return offspring1, offspring2\n",
    "\n",
    "\n",
    "parents1 = ['110010001011', '1011000', \"1111111111\"]\n",
    "parents2 = ['001100000001', '1100111', \"0000000000\"]\n",
    "crossover_rates = [0.85, 0.7, .90]\n",
    "num_crossover_points = [2, 2, 2]\n",
    "\n",
    "offspring1, offspring2 = crossover(parents1, parents2, crossover_rates, num_crossover_points)\n",
    "print(offspring1)\n",
    "print(offspring2)\n"
   ]
  },
  {
   "cell_type": "code",
   "execution_count": 27,
   "id": "bd4871a1-6bdf-471f-8085-afc7ada2ea4a",
   "metadata": {},
   "outputs": [
    {
     "name": "stdout",
     "output_type": "stream",
     "text": [
      "['0110000000010000000000101100000', '100100001011111111111111010111011111010111']\n"
     ]
    }
   ],
   "source": [
    "import random\n",
    "\n",
    "def mutate(chromosome, mutation_rates):\n",
    "    \"\"\"\n",
    "    Mutate a chromosome with sub-chromosomes (each sub-chromosome is a binary string) based on the mutation rates.\n",
    "\n",
    "    Args:\n",
    "        - chromosome (list of str): The list contains binary strings representing the chromosome, \n",
    "                                    where each binary string is a sub-chromosome.\n",
    "        - mutation_rates (list of float): The probabilities of mutating each bit in each sub-chromosome.\n",
    "\n",
    "    Returns:\n",
    "        - mutated_chromosome (list of str): The mutated chromosome, with each sub-chromosome mutated based on the corresponding mutation rate.\n",
    "    \n",
    "    Example:\n",
    "        chromosome = ['11001', '10110']\n",
    "        mutation_rates = [0.1, 0.2]\n",
    "        mutated_chromosome = mutate(chromosome, mutation_rates)\n",
    "    \"\"\"\n",
    "    mutated_chromosome = []\n",
    "\n",
    "    for sub_chromosome, mutation_rate in zip(chromosome, mutation_rates):\n",
    "        mutated_sub_chromosome = ''.join(\n",
    "            '1' if bit == '0' and random.random() <= mutation_rate else\n",
    "            '0' if bit == '1' and random.random() <= mutation_rate else\n",
    "            bit\n",
    "            for bit in sub_chromosome\n",
    "        )\n",
    "        mutated_chromosome.append(mutated_sub_chromosome)\n",
    "\n",
    "    return mutated_chromosome\n",
    "\n",
    "\n",
    "chromosome = ['0000000000000000000000000000000', '111111111111111111111111111111111111111111']\n",
    "mutation_rates = [0.1, 0.2]  \n",
    "\n",
    "mutated_chromosome = mutate(chromosome, mutation_rates)\n",
    "print(mutated_chromosome)\n"
   ]
  },
  {
   "cell_type": "code",
   "execution_count": 32,
   "id": "d370833f-9900-433d-9c7e-070172f44967",
   "metadata": {},
   "outputs": [],
   "source": [
    "c1 = [\"1111111111\", \"00000000000\"]\n",
    "c2 = [\"1111111\", \"101010101000110100101\", \"00000000000000\"]\n",
    "m1 = [0.1, 0.09]\n",
    "m2 = [.2, 0.1, 0.8]\n",
    "n = []\n",
    "n.extend([mutate(c1, m1), mutate(c2, m2)])"
   ]
  },
  {
   "cell_type": "code",
   "execution_count": 33,
   "id": "550d7397-690d-47ba-92f8-b6482331ef40",
   "metadata": {},
   "outputs": [
    {
     "data": {
      "text/plain": [
       "[['0111101111', '00000000000'],\n",
       " ['1111010', '101000101000110100101', '10111111111110']]"
      ]
     },
     "execution_count": 33,
     "metadata": {},
     "output_type": "execute_result"
    }
   ],
   "source": [
    "n"
   ]
  },
  {
   "cell_type": "code",
   "execution_count": 1,
   "id": "ff5ecce3-1526-482a-a89c-d4866264ff9a",
   "metadata": {},
   "outputs": [
    {
     "name": "stdout",
     "output_type": "stream",
     "text": [
      "(1, 5)\n",
      "3\n"
     ]
    }
   ],
   "source": [
    "import numpy as np\n",
    "j = np.array([[1,2,3,4,5]])\n",
    "print(j.shape)\n",
    "print(j[0, 2])"
   ]
  },
  {
   "cell_type": "code",
   "execution_count": 4,
   "id": "57a23d64-9be4-4bb7-90c8-78fa59520cbd",
   "metadata": {},
   "outputs": [
    {
     "name": "stdout",
     "output_type": "stream",
     "text": [
      "[[1. 0. 0. 0. 0. 0. 0. 0. 0. 0. 0. 0. 0. 0. 0. 0. 0. 0. 0. 0.]\n",
      " [1. 0. 0. 0. 0. 0. 0. 0. 0. 0. 0. 0. 0. 0. 0. 0. 0. 0. 0. 0.]\n",
      " [1. 0. 0. 0. 0. 0. 0. 0. 0. 0. 0. 0. 0. 0. 0. 0. 0. 0. 0. 0.]\n",
      " [1. 0. 0. 0. 0. 0. 0. 0. 0. 0. 0. 0. 0. 0. 0. 0. 0. 0. 0. 0.]\n",
      " [1. 0. 0. 0. 0. 0. 0. 0. 0. 0. 0. 0. 0. 0. 0. 0. 0. 0. 0. 0.]\n",
      " [1. 0. 0. 0. 0. 0. 0. 0. 0. 0. 0. 0. 0. 0. 0. 0. 0. 0. 0. 0.]\n",
      " [1. 0. 0. 0. 0. 0. 0. 0. 0. 0. 0. 0. 0. 0. 0. 0. 0. 0. 0. 0.]\n",
      " [1. 0. 0. 0. 0. 0. 0. 0. 0. 0. 0. 0. 0. 0. 0. 0. 0. 0. 0. 0.]\n",
      " [1. 0. 0. 0. 0. 0. 0. 0. 0. 0. 0. 0. 0. 0. 0. 0. 0. 0. 0. 0.]\n",
      " [1. 0. 0. 0. 0. 0. 0. 0. 0. 0. 0. 0. 0. 0. 0. 0. 0. 0. 0. 0.]\n",
      " [1. 0. 0. 0. 0. 0. 0. 0. 0. 0. 0. 0. 0. 0. 0. 0. 0. 0. 0. 0.]\n",
      " [1. 0. 0. 0. 0. 0. 0. 0. 0. 0. 0. 0. 0. 0. 0. 0. 0. 0. 0. 0.]\n",
      " [1. 0. 0. 0. 0. 0. 0. 0. 0. 0. 0. 0. 0. 0. 0. 0. 0. 0. 0. 0.]\n",
      " [1. 0. 0. 0. 0. 0. 0. 0. 0. 0. 0. 0. 0. 0. 0. 0. 0. 0. 0. 0.]\n",
      " [1. 0. 0. 0. 0. 0. 0. 0. 0. 0. 0. 0. 0. 0. 0. 0. 0. 0. 0. 0.]\n",
      " [1. 0. 0. 0. 0. 0. 0. 0. 0. 0. 0. 0. 0. 0. 0. 0. 0. 0. 0. 0.]\n",
      " [1. 0. 0. 0. 0. 0. 0. 0. 0. 0. 0. 0. 0. 0. 0. 0. 0. 0. 0. 0.]\n",
      " [1. 0. 0. 0. 0. 0. 0. 0. 0. 0. 0. 0. 0. 0. 0. 0. 0. 0. 0. 0.]\n",
      " [1. 0. 0. 0. 0. 0. 0. 0. 0. 0. 0. 0. 0. 0. 0. 0. 0. 0. 0. 0.]\n",
      " [1. 0. 0. 0. 0. 0. 0. 0. 0. 0. 0. 0. 0. 0. 0. 0. 0. 0. 0. 0.]]\n",
      "[[0. 0. 0. 0. 1. 0. 0. 0. 0. 0. 0. 0. 0. 0. 0. 0. 0. 0. 0. 0.]\n",
      " [0. 0. 0. 0. 1. 0. 0. 0. 0. 0. 0. 0. 0. 0. 0. 0. 0. 0. 0. 0.]\n",
      " [0. 0. 0. 0. 1. 0. 0. 0. 0. 0. 0. 0. 0. 0. 0. 0. 0. 0. 0. 0.]\n",
      " [0. 0. 0. 0. 1. 0. 0. 0. 0. 0. 0. 0. 0. 0. 0. 0. 0. 0. 0. 0.]\n",
      " [0. 0. 0. 0. 1. 0. 0. 0. 0. 0. 0. 0. 0. 0. 0. 0. 0. 0. 0. 0.]\n",
      " [0. 0. 0. 0. 1. 0. 0. 0. 0. 0. 0. 0. 0. 0. 0. 0. 0. 0. 0. 0.]\n",
      " [0. 0. 0. 0. 1. 0. 0. 0. 0. 0. 0. 0. 0. 0. 0. 0. 0. 0. 0. 0.]\n",
      " [0. 0. 0. 0. 1. 0. 0. 0. 0. 0. 0. 0. 0. 0. 0. 0. 0. 0. 0. 0.]\n",
      " [0. 0. 0. 0. 1. 0. 0. 0. 0. 0. 0. 0. 0. 0. 0. 0. 0. 0. 0. 0.]\n",
      " [0. 0. 0. 0. 1. 0. 0. 0. 0. 0. 0. 0. 0. 0. 0. 0. 0. 0. 0. 0.]\n",
      " [0. 0. 0. 0. 1. 0. 0. 0. 0. 0. 0. 0. 0. 0. 0. 0. 0. 0. 0. 0.]\n",
      " [0. 0. 0. 0. 1. 0. 0. 0. 0. 0. 0. 0. 0. 0. 0. 0. 0. 0. 0. 0.]\n",
      " [0. 0. 0. 0. 1. 0. 0. 0. 0. 0. 0. 0. 0. 0. 0. 0. 0. 0. 0. 0.]\n",
      " [0. 0. 0. 0. 1. 0. 0. 0. 0. 0. 0. 0. 0. 0. 0. 0. 0. 0. 0. 0.]\n",
      " [0. 0. 0. 0. 1. 0. 0. 0. 0. 0. 0. 0. 0. 0. 0. 0. 0. 0. 0. 0.]\n",
      " [0. 0. 0. 0. 1. 0. 0. 0. 0. 0. 0. 0. 0. 0. 0. 0. 0. 0. 0. 0.]\n",
      " [0. 0. 0. 0. 1. 0. 0. 0. 0. 0. 0. 0. 0. 0. 0. 0. 0. 0. 0. 0.]\n",
      " [0. 0. 0. 0. 1. 0. 0. 0. 0. 0. 0. 0. 0. 0. 0. 0. 0. 0. 0. 0.]\n",
      " [0. 0. 0. 0. 1. 0. 0. 0. 0. 0. 0. 0. 0. 0. 0. 0. 0. 0. 0. 0.]\n",
      " [0. 0. 0. 0. 1. 0. 0. 0. 0. 0. 0. 0. 0. 0. 0. 0. 0. 0. 0. 0.]]\n"
     ]
    }
   ],
   "source": [
    "sp1_cells = np.zeros((20, 20))\n",
    "sp1_cells[:, 0] = 1\n",
    "sp2_cells = np.zeros((20, 20))\n",
    "sp2_cells[:, 4] = 1\n",
    "print(sp1_cells)\n",
    "print(sp2_cells)"
   ]
  },
  {
   "cell_type": "code",
   "execution_count": 5,
   "id": "ced401fb-38a8-47a7-9e82-409a2000de4e",
   "metadata": {},
   "outputs": [
    {
     "data": {
      "image/png": "[encoded data removed]",
      "text/plain": [
       "<Figure size 640x480 with 2 Axes>"
      ]
     },
     "metadata": {},
     "output_type": "display_data"
    }
   ],
   "source": [
    "import matplotlib.pyplot as plt\n",
    "import numpy as np\n",
    "\n",
    "# Example data\n",
    "data = np.array([[1, 2, 3], [4, 5, 6], [7, 8, 9]])\n",
    "\n",
    "fig, ax = plt.subplots()\n",
    "cax = ax.imshow(data, cmap=\"hot\", interpolation=\"nearest\")\n",
    "\n",
    "# Add colorbar\n",
    "cbar = fig.colorbar(cax)\n",
    "\n",
    "# Annotate each cell with the numeric value\n",
    "for i in range(data.shape[0]):\n",
    "    for j in range(data.shape[1]):\n",
    "        ax.text(j, i, data[i, j], ha='center', va='center', color='black')\n",
    "\n",
    "plt.show()\n"
   ]
  },
  {
   "cell_type": "code",
   "execution_count": null,
   "id": "5d686877-5954-43c8-bb87-50c62f4a7fe0",
   "metadata": {},
   "outputs": [],
   "source": [
    "def decimal_to_binary(array_list, precision_bits_list):\n",
    "\n",
    "    \"\"\"\n",
    "    Convert a list of 2D NumPy arrays to a list of binary strings.\n",
    "\n",
    "    Args:\n",
    "        - array_list (list of numpy.ndarray): List of input 2D arrays of float or int values.\n",
    "        - precision_bits_list (list of tuple): List of tuples containing (min_val, max_val, bits) to define the precision for each array.\n",
    "            - min_val (float): The minimum possible value of the original range for the element.\n",
    "            - max_val (float): The maximum possible value of the original range for the element.\n",
    "            - bits (int): The number of bits used to represent the element in the binary string.\n",
    "\n",
    "    Returns:\n",
    "        - binary_strings (list of str): List of binary strings representing the arrays.\n",
    "    \"\"\"\n",
    "\n",
    "    binary_strings = []\n",
    "\n",
    "    for array, precision_bits in zip(array_list, precision_bits_list):\n",
    "\n",
    "        min_val, max_val, bits = precision_bits\n",
    "\n",
    "        binary_string = ''.join(\n",
    "            f\"{int((val - min_val) / (max_val - min_val) * ((1 << bits) - 1)):0{bits}b}\"\n",
    "            for sub_array in array for val in sub_array\n",
    "        )\n",
    "\n",
    "        binary_strings.append(binary_string)\n",
    "\n",
    "    return binary_strings\n"
   ]
  },
  {
   "cell_type": "code",
   "execution_count": 7,
   "id": "303218f0-02e6-4e89-aef5-43aae8c7db99",
   "metadata": {},
   "outputs": [
    {
     "ename": "ValueError",
     "evalue": "a must be 1-dimensional",
     "output_type": "error",
     "traceback": [
      "\u001b[0;31m---------------------------------------------------------------------------\u001b[0m",
      "\u001b[0;31mValueError\u001b[0m                                Traceback (most recent call last)",
      "Cell \u001b[0;32mIn[7], line 30\u001b[0m\n\u001b[1;32m     21\u001b[0m pop \u001b[38;5;241m=\u001b[39m [\n\u001b[1;32m     22\u001b[0m     [\u001b[38;5;124m'\u001b[39m\u001b[38;5;124m011011001\u001b[39m\u001b[38;5;124m'\u001b[39m, \u001b[38;5;124m'\u001b[39m\u001b[38;5;124m0001100110010\u001b[39m\u001b[38;5;124m'\u001b[39m, \u001b[38;5;124m'\u001b[39m\u001b[38;5;124m00110011111111\u001b[39m\u001b[38;5;124m'\u001b[39m], \n\u001b[1;32m     23\u001b[0m     [\u001b[38;5;124m'\u001b[39m\u001b[38;5;124m0111111010011001\u001b[39m\u001b[38;5;124m'\u001b[39m, \u001b[38;5;124m'\u001b[39m\u001b[38;5;124m000110010011100110010\u001b[39m\u001b[38;5;124m'\u001b[39m, \u001b[38;5;124m'\u001b[39m\u001b[38;5;124m00110010010111111111\u001b[39m\u001b[38;5;124m'\u001b[39m],\n\u001b[0;32m   (...)\u001b[0m\n\u001b[1;32m     27\u001b[0m     [\u001b[38;5;124m'\u001b[39m\u001b[38;5;124m01111111101111110011111110011001\u001b[39m\u001b[38;5;124m'\u001b[39m, \u001b[38;5;124m'\u001b[39m\u001b[38;5;124m0001100110111001100001100110011100110010\u001b[39m\u001b[38;5;124m'\u001b[39m, \u001b[38;5;124m'\u001b[39m\u001b[38;5;124m0011001100010011001001100110010111111111\u001b[39m\u001b[38;5;124m'\u001b[39m]\n\u001b[1;32m     28\u001b[0m ]\n\u001b[1;32m     29\u001b[0m f \u001b[38;5;241m=\u001b[39m [\u001b[38;5;241m3\u001b[39m, \u001b[38;5;241m4\u001b[39m, \u001b[38;5;241m5\u001b[39m, \u001b[38;5;241m10\u001b[39m, \u001b[38;5;241m12\u001b[39m, \u001b[38;5;241m1\u001b[39m]\n\u001b[0;32m---> 30\u001b[0m p \u001b[38;5;241m=\u001b[39m \u001b[43mselect_parents\u001b[49m\u001b[43m(\u001b[49m\u001b[43mpop\u001b[49m\u001b[43m,\u001b[49m\u001b[43m \u001b[49m\u001b[43mf\u001b[49m\u001b[43m)\u001b[49m\n\u001b[1;32m     31\u001b[0m p\n",
      "Cell \u001b[0;32mIn[7], line 16\u001b[0m, in \u001b[0;36mselect_parents\u001b[0;34m(population, fitness_scores)\u001b[0m\n\u001b[1;32m      2\u001b[0m \u001b[38;5;250m\u001b[39m\u001b[38;5;124;03m\"\"\"\u001b[39;00m\n\u001b[1;32m      3\u001b[0m \u001b[38;5;124;03mSelect parents for the next generation based on their fitness scores.\u001b[39;00m\n\u001b[1;32m      4\u001b[0m \u001b[38;5;124;03musing Fitness Proportionate Selection (Roulette Wheel Selection) method.\u001b[39;00m\n\u001b[0;32m   (...)\u001b[0m\n\u001b[1;32m     11\u001b[0m \u001b[38;5;124;03m    selected (list) : The selected parents for the next generation.\u001b[39;00m\n\u001b[1;32m     12\u001b[0m \u001b[38;5;124;03m\"\"\"\u001b[39;00m\n\u001b[1;32m     14\u001b[0m probabilities \u001b[38;5;241m=\u001b[39m fitness_scores \u001b[38;5;241m/\u001b[39m np\u001b[38;5;241m.\u001b[39msum(fitness_scores)\n\u001b[0;32m---> 16\u001b[0m selected \u001b[38;5;241m=\u001b[39m \u001b[43mnp\u001b[49m\u001b[38;5;241;43m.\u001b[39;49m\u001b[43mrandom\u001b[49m\u001b[38;5;241;43m.\u001b[39;49m\u001b[43mchoice\u001b[49m\u001b[43m(\u001b[49m\u001b[43mpopulation\u001b[49m\u001b[43m,\u001b[49m\u001b[43m \u001b[49m\u001b[43msize\u001b[49m\u001b[38;5;241;43m=\u001b[39;49m\u001b[38;5;28;43mlen\u001b[39;49m\u001b[43m(\u001b[49m\u001b[43mpopulation\u001b[49m\u001b[43m)\u001b[49m\u001b[43m,\u001b[49m\u001b[43m \u001b[49m\u001b[43mp\u001b[49m\u001b[38;5;241;43m=\u001b[39;49m\u001b[43mprobabilities\u001b[49m\u001b[43m)\u001b[49m\n\u001b[1;32m     18\u001b[0m \u001b[38;5;28;01mreturn\u001b[39;00m selected\n",
      "File \u001b[0;32mnumpy/random/mtrand.pyx:947\u001b[0m, in \u001b[0;36mnumpy.random.mtrand.RandomState.choice\u001b[0;34m()\u001b[0m\n",
      "\u001b[0;31mValueError\u001b[0m: a must be 1-dimensional"
     ]
    }
   ],
   "source": [
    "def select_parents(population, fitness_scores):\n",
    "    \"\"\"\n",
    "    Select parents for the next generation based on their fitness scores.\n",
    "    using Fitness Proportionate Selection (Roulette Wheel Selection) method.\n",
    "\n",
    "    Args:\n",
    "        - population (list of str): The current population of individuals, each represented as a binary string.\n",
    "        - fitness_scores (list of float): The fitness scores of the individuals in the population.\n",
    "\n",
    "    Returns:\n",
    "        selected (list) : The selected parents for the next generation.\n",
    "    \"\"\"\n",
    "    \n",
    "    probabilities = fitness_scores / np.sum(fitness_scores)\n",
    "\n",
    "    selected = np.random.choice(population, size=len(population), p=probabilities)\n",
    "\n",
    "    return selected\n",
    "\n",
    "\n",
    "pop = [\n",
    "    ['011011001', '0001100110010', '00110011111111'], \n",
    "    ['0111111010011001', '000110010011100110010', '00110010010111111111'],\n",
    "    ['011111111001', '0011100110010', '0011111'],\n",
    "    ['01111111101111110011111110011001', '0001100110111001100001100110011100110010', '0011001100010011001001100110010111111111'],\n",
    "    ['01111111101111110011111110011001', '0001100110111001100001100110011100110010', '0011001100010011001001100110010111111111'],\n",
    "    ['01111111101111110011111110011001', '0001100110111001100001100110011100110010', '0011001100010011001001100110010111111111']\n",
    "]\n",
    "f = [3, 4, 5, 10, 12, 1]\n",
    "p = select_parents(pop, f)\n",
    "p"
   ]
  },
  {
   "cell_type": "code",
   "execution_count": 10,
   "id": "d091c9b6-7288-47c5-8965-9bdaf4b1f604",
   "metadata": {},
   "outputs": [
    {
     "name": "stdout",
     "output_type": "stream",
     "text": [
      "[['01111111101111110011111110011001'\n",
      "  '0001100110111001100001100110011100110010'\n",
      "  '0011001100010011001001100110010111111111']\n",
      " ['01111111101111110011111110011001'\n",
      "  '0001100110111001100001100110011100110010'\n",
      "  '0011001100010011001001100110010111111111']\n",
      " ['01111111101111110011111110011001'\n",
      "  '0001100110111001100001100110011100110010'\n",
      "  '0011001100010011001001100110010111111111']\n",
      " ['011111111001' '0011100110010' '0011111']\n",
      " ['01111111101111110011111110011001'\n",
      "  '0001100110111001100001100110011100110010'\n",
      "  '0011001100010011001001100110010111111111']\n",
      " ['01111111101111110011111110011001'\n",
      "  '0001100110111001100001100110011100110010'\n",
      "  '0011001100010011001001100110010111111111']]\n"
     ]
    }
   ],
   "source": [
    "import numpy as np\n",
    "\n",
    "def select_parents(population, fitness_scores):\n",
    "    \"\"\"\n",
    "    Select parents for the next generation based on their fitness scores\n",
    "    using the Fitness Proportionate Selection (Roulette Wheel Selection) method.\n",
    "\n",
    "    Args:\n",
    "        population (list of list of str): The current population of individuals, each represented as a binary string.\n",
    "        fitness_scores (list of float): The fitness scores of the individuals in the population.\n",
    "\n",
    "    Returns:\n",
    "        selected (list): The selected parents for the next generation.\n",
    "    \"\"\"\n",
    "    \n",
    "    probabilities = np.array(fitness_scores) / np.sum(fitness_scores)\n",
    "\n",
    "    selected_indices = np.random.choice(len(population), size=len(population), p=probabilities)\n",
    "    selected = [population[i] for i in selected_indices]\n",
    "\n",
    "    return selected\n",
    "\n",
    "# Example usage\n",
    "pop = [\n",
    "    ['011011001', '0001100110010', '00110011111111'], \n",
    "    ['0111111010011001', '000110010011100110010', '00110010010111111111'],\n",
    "    ['011111111001', '0011100110010', '0011111'],\n",
    "    ['01111111101111110011111110011001', '0001100110111001100001100110011100110010', '0011001100010011001001100110010111111111'],\n",
    "    ['01111111101111110011111110011001', '0001100110111001100001100110011100110010', '0011001100010011001001100110010111111111'],\n",
    "    ['01111111101111110011111110011001', '0001100110111001100001100110011100110010', '0011001100010011001001100110010111111111']\n",
    "]\n",
    "f = [3, 4, 5, 10, 12, 1]\n",
    "p = np.array(select_parents(pop, f))\n",
    "print(p)\n"
   ]
  },
  {
   "cell_type": "code",
   "execution_count": 11,
   "id": "2484bfed-4b95-471a-b5b7-48db27af9684",
   "metadata": {},
   "outputs": [
    {
     "ename": "ValueError",
     "evalue": "a must be 1-dimensional",
     "output_type": "error",
     "traceback": [
      "\u001b[0;31m---------------------------------------------------------------------------\u001b[0m",
      "\u001b[0;31mValueError\u001b[0m                                Traceback (most recent call last)",
      "Cell \u001b[0;32mIn[11], line 1\u001b[0m\n\u001b[0;32m----> 1\u001b[0m o \u001b[38;5;241m=\u001b[39m \u001b[43mnp\u001b[49m\u001b[38;5;241;43m.\u001b[39;49m\u001b[43mrandom\u001b[49m\u001b[38;5;241;43m.\u001b[39;49m\u001b[43mchoice\u001b[49m\u001b[43m(\u001b[49m\u001b[43mp\u001b[49m\u001b[43m)\u001b[49m\n",
      "File \u001b[0;32mnumpy/random/mtrand.pyx:947\u001b[0m, in \u001b[0;36mnumpy.random.mtrand.RandomState.choice\u001b[0;34m()\u001b[0m\n",
      "\u001b[0;31mValueError\u001b[0m: a must be 1-dimensional"
     ]
    }
   ],
   "source": [
    "o = np.random.choice(p)"
   ]
  },
  {
   "cell_type": "code",
   "execution_count": 12,
   "id": "fd7c3028-d88f-4876-964f-94ccd3653994",
   "metadata": {},
   "outputs": [
    {
     "name": "stdout",
     "output_type": "stream",
     "text": [
      "[['01111111101111110011111110011001', '0001100110111001100001100110011100110010', '0011001100010011001001100110010111111111'], ['011111111001', '0011100110010', '0011111'], ['011111111001', '0011100110010', '0011111'], ['01111111101111110011111110011001', '0001100110111001100001100110011100110010', '0011001100010011001001100110010111111111'], ['01111111101111110011111110011001', '0001100110111001100001100110011100110010', '0011001100010011001001100110010111111111'], ['011111111001', '0011100110010', '0011111']]\n"
     ]
    }
   ],
   "source": [
    "def select_parents(population, fitness_scores):\n",
    "    \"\"\"\n",
    "    Select parents for the next generation based on their fitness scores\n",
    "    using the Fitness Proportionate Selection (Roulette Wheel Selection) method.\n",
    "\n",
    "    Args:\n",
    "        population (list of list of str): The current population of individuals, each represented as a binary string.\n",
    "        fitness_scores (list of float): The fitness scores of the individuals in the population.\n",
    "\n",
    "    Returns:\n",
    "        selected (list): The selected parents for the next generation.\n",
    "    \"\"\"\n",
    "\n",
    "    total_fitness = np.sum(fitness_scores)\n",
    "\n",
    "    if total_fitness == 0:\n",
    "        probabilities = np.ones(len(fitness_scores)) / len(fitness_scores)\n",
    "    else:\n",
    "        probabilities = np.array(fitness_scores) / total_fitness\n",
    "\n",
    "    selected_indices = np.random.choice(len(population), size=len(population), p=probabilities)\n",
    "    selected = [population[i] for i in selected_indices]\n",
    "\n",
    "    return selected\n",
    "\n",
    "pop = [\n",
    "    ['011011001', '0001100110010', '00110011111111'], \n",
    "    ['0111111010011001', '000110010011100110010', '00110010010111111111'],\n",
    "    ['011111111001', '0011100110010', '0011111'],\n",
    "    ['01111111101111110011111110011001', '0001100110111001100001100110011100110010', '0011001100010011001001100110010111111111'],\n",
    "    ['01111111101111110011111110011001', '0001100110111001100001100110011100110010', '0011001100010011001001100110010111111111'],\n",
    "    ['01111111101111110011111110011001', '0001100110111001100001100110011100110010', '0011001100010011001001100110010111111111']\n",
    "]\n",
    "f = [3, 4, 5, 10, 12, 1]\n",
    "p = select_parents(pop, f)\n",
    "print(p)\n"
   ]
  },
  {
   "cell_type": "code",
   "execution_count": 14,
   "id": "648ab5c8-3629-4e0f-87e1-1f96faed5182",
   "metadata": {},
   "outputs": [
    {
     "ename": "TypeError",
     "evalue": "int() can't convert non-string with explicit base",
     "output_type": "error",
     "traceback": [
      "\u001b[0;31m---------------------------------------------------------------------------\u001b[0m",
      "\u001b[0;31mTypeError\u001b[0m                                 Traceback (most recent call last)",
      "Cell \u001b[0;32mIn[14], line 87\u001b[0m\n\u001b[1;32m     84\u001b[0m pre \u001b[38;5;241m=\u001b[39m [(\u001b[38;5;241m0\u001b[39m, \u001b[38;5;241m1\u001b[39m, \u001b[38;5;241m8\u001b[39m), (\u001b[38;5;241m0\u001b[39m, \u001b[38;5;241m1\u001b[39m, \u001b[38;5;241m8\u001b[39m), (\u001b[38;5;241m0\u001b[39m, \u001b[38;5;241m1\u001b[39m, \u001b[38;5;241m8\u001b[39m)]\n\u001b[1;32m     85\u001b[0m sh \u001b[38;5;241m=\u001b[39m [(\u001b[38;5;241m2\u001b[39m, \u001b[38;5;241m2\u001b[39m), (\u001b[38;5;241m1\u001b[39m, \u001b[38;5;241m5\u001b[39m), (\u001b[38;5;241m3\u001b[39m, \u001b[38;5;241m2\u001b[39m)]\n\u001b[0;32m---> 87\u001b[0m dec \u001b[38;5;241m=\u001b[39m \u001b[43mbinary_to_decimal\u001b[49m\u001b[43m(\u001b[49m\u001b[43mpop\u001b[49m\u001b[43m,\u001b[49m\u001b[43m \u001b[49m\u001b[43mpre\u001b[49m\u001b[43m,\u001b[49m\u001b[43m \u001b[49m\u001b[43msh\u001b[49m\u001b[43m)\u001b[49m\n\u001b[1;32m     88\u001b[0m dec\n",
      "Cell \u001b[0;32mIn[14], line 66\u001b[0m, in \u001b[0;36mbinary_to_decimal\u001b[0;34m(binary_string_list, precision_bits_list, shapes)\u001b[0m\n\u001b[1;32m     63\u001b[0m \u001b[38;5;28;01mfor\u001b[39;00m _ \u001b[38;5;129;01min\u001b[39;00m \u001b[38;5;28mrange\u001b[39m(shape[\u001b[38;5;241m1\u001b[39m]):\n\u001b[1;32m     65\u001b[0m     segment \u001b[38;5;241m=\u001b[39m binary_string[index:index \u001b[38;5;241m+\u001b[39m bits]\n\u001b[0;32m---> 66\u001b[0m     int_value \u001b[38;5;241m=\u001b[39m \u001b[38;5;28;43mint\u001b[39;49m\u001b[43m(\u001b[49m\u001b[43msegment\u001b[49m\u001b[43m,\u001b[49m\u001b[43m \u001b[49m\u001b[38;5;241;43m2\u001b[39;49m\u001b[43m)\u001b[49m\n\u001b[1;32m     67\u001b[0m     max_int_value \u001b[38;5;241m=\u001b[39m (\u001b[38;5;241m1\u001b[39m \u001b[38;5;241m<<\u001b[39m bits) \u001b[38;5;241m-\u001b[39m \u001b[38;5;241m1\u001b[39m\n\u001b[1;32m     68\u001b[0m     real_value \u001b[38;5;241m=\u001b[39m min_val \u001b[38;5;241m+\u001b[39m (max_val \u001b[38;5;241m-\u001b[39m min_val) \u001b[38;5;241m*\u001b[39m (int_value \u001b[38;5;241m/\u001b[39m max_int_value)\n",
      "\u001b[0;31mTypeError\u001b[0m: int() can't convert non-string with explicit base"
     ]
    }
   ],
   "source": [
    "def decimal_to_binary(array_list, precision_bits_list):\n",
    "\n",
    "    \"\"\"\n",
    "    Convert a list of 2D NumPy arrays to a list of binary strings.\n",
    "\n",
    "    Args:\n",
    "        - array_list (list of numpy.ndarray): List of input 2D arrays of float or int values.\n",
    "        - precision_bits_list (list of tuple): List of tuples containing (min_val, max_val, bits) to define the precision for each array.\n",
    "            - min_val (float): The minimum possible value of the original range for the element.\n",
    "            - max_val (float): The maximum possible value of the original range for the element.\n",
    "            - bits (int): The number of bits used to represent the element in the binary string.\n",
    "\n",
    "    Returns:\n",
    "        - binary_strings (list of str): List of binary strings representing the arrays.\n",
    "    \"\"\"\n",
    "\n",
    "    binary_strings = []\n",
    "\n",
    "    for array, precision_bits in zip(array_list, precision_bits_list):\n",
    "\n",
    "        min_val, max_val, bits = precision_bits\n",
    "\n",
    "        binary_string = ''.join(\n",
    "            f\"{int((val - min_val) / (max_val - min_val) * ((1 << bits) - 1)):0{bits}b}\"\n",
    "            for sub_array in array for val in sub_array\n",
    "        )\n",
    "\n",
    "        binary_strings.append(binary_string)\n",
    "\n",
    "    return binary_strings\n",
    "\n",
    "\n",
    "\n",
    "\n",
    "def binary_to_decimal(binary_string_list, precision_bits_list, shapes):\n",
    "    \"\"\"\n",
    "    Convert a list of binary strings back to a list of 2D NumPy arrays.\n",
    "\n",
    "    Args:\n",
    "        - binary_string_list (list of str): List of binary strings to be converted.\n",
    "        - precision_bits_list (list of tuple): List of tuples containing (min_val, max_val, bits) to define the precision for each array.\n",
    "            - min_val (float): The minimum possible value of the original range for the element.\n",
    "            - max_val (float): The maximum possible value of the original range for the element.\n",
    "            - bits (int): The number of bits used to represent the element in the binary string.\n",
    "        - shapes (list of tuple): List of shapes for the original arrays.\n",
    "\n",
    "    Returns:\n",
    "        - arrays (list of numpy.ndarray): List of arrays of float or int values represented by the binary strings.\n",
    "    \"\"\"\n",
    "\n",
    "    arrays = []\n",
    "\n",
    "    for binary_string, precision_bits, shape in zip(binary_string_list, precision_bits_list, shapes):\n",
    "\n",
    "        min_val, max_val, bits = precision_bits\n",
    "        array = []\n",
    "        index = 0\n",
    "\n",
    "        for _ in range(shape[0]):\n",
    "\n",
    "            row = []\n",
    "\n",
    "            for _ in range(shape[1]):\n",
    "\n",
    "                segment = binary_string[index:index + bits]\n",
    "                int_value = int(segment, 2)\n",
    "                max_int_value = (1 << bits) - 1\n",
    "                real_value = min_val + (max_val - min_val) * (int_value / max_int_value)\n",
    "                row.append(real_value)\n",
    "                index += bits\n",
    "            array.append(row)\n",
    "\n",
    "        arrays.append(np.array(array))\n",
    "\n",
    "    return arrays\n",
    "\n",
    "\n",
    "pop = [\n",
    "    ['01111111101111110011111110011001', '0001100110111001100001100110011100110010', '001100110001001100100110011001011111111100000000'],\n",
    "    ['01111111101111110011111110011001', '0001100110111001100001100110011100110010', '001100110001001100100110011001011111111100000000'],\n",
    "    ['01111111101111110011111110011001', '0001100110111001100001100110011100110010', '001100110001001100100110011001011111111100000000'],\n",
    "    ['01111111101111110011111110011001', '0001100110111001100001100110011100110010', '001100110001001100100110011001011111111100000000']  \n",
    "]\n",
    "pre = [(0, 1, 8), (0, 1, 8), (0, 1, 8)]\n",
    "sh = [(2, 2), (1, 5), (3, 2)]\n",
    "\n",
    "dec = binary_to_decimal(pop, pre, sh)\n",
    "dec\n"
   ]
  },
  {
   "cell_type": "code",
   "execution_count": 15,
   "id": "804e2998-6f09-499a-8a82-221764bad28f",
   "metadata": {},
   "outputs": [
    {
     "ename": "ValueError",
     "evalue": "setting an array element with a sequence. The requested array has an inhomogeneous shape after 1 dimensions. The detected shape was (3,) + inhomogeneous part.",
     "output_type": "error",
     "traceback": [
      "\u001b[0;31m---------------------------------------------------------------------------\u001b[0m",
      "\u001b[0;31mValueError\u001b[0m                                Traceback (most recent call last)",
      "Cell \u001b[0;32mIn[15], line 53\u001b[0m\n\u001b[1;32m     50\u001b[0m pre \u001b[38;5;241m=\u001b[39m [(\u001b[38;5;241m0\u001b[39m, \u001b[38;5;241m1\u001b[39m, \u001b[38;5;241m8\u001b[39m), (\u001b[38;5;241m0\u001b[39m, \u001b[38;5;241m1\u001b[39m, \u001b[38;5;241m8\u001b[39m), (\u001b[38;5;241m0\u001b[39m, \u001b[38;5;241m1\u001b[39m, \u001b[38;5;241m8\u001b[39m)]\n\u001b[1;32m     51\u001b[0m sh \u001b[38;5;241m=\u001b[39m [(\u001b[38;5;241m2\u001b[39m, \u001b[38;5;241m2\u001b[39m), (\u001b[38;5;241m1\u001b[39m, \u001b[38;5;241m5\u001b[39m), (\u001b[38;5;241m3\u001b[39m, \u001b[38;5;241m2\u001b[39m)]\n\u001b[0;32m---> 53\u001b[0m dec \u001b[38;5;241m=\u001b[39m \u001b[43mbinary_to_decimal\u001b[49m\u001b[43m(\u001b[49m\u001b[43mpop\u001b[49m\u001b[43m,\u001b[49m\u001b[43m \u001b[49m\u001b[43mpre\u001b[49m\u001b[43m,\u001b[49m\u001b[43m \u001b[49m\u001b[43msh\u001b[49m\u001b[43m)\u001b[49m\n\u001b[1;32m     54\u001b[0m \u001b[38;5;28mprint\u001b[39m(dec)\n",
      "Cell \u001b[0;32mIn[15], line 25\u001b[0m, in \u001b[0;36mbinary_to_decimal\u001b[0;34m(binary_string_list, precision_bits_list, shapes)\u001b[0m\n\u001b[1;32m     22\u001b[0m min_val, max_val, bits \u001b[38;5;241m=\u001b[39m precision_bits\n\u001b[1;32m     24\u001b[0m \u001b[38;5;66;03m# Reshape binary string into 2D array\u001b[39;00m\n\u001b[0;32m---> 25\u001b[0m binary_2d \u001b[38;5;241m=\u001b[39m \u001b[43mnp\u001b[49m\u001b[38;5;241;43m.\u001b[39;49m\u001b[43marray\u001b[49m\u001b[43m(\u001b[49m\u001b[43m[\u001b[49m\u001b[38;5;28;43mlist\u001b[39;49m\u001b[43m(\u001b[49m\u001b[43msegment\u001b[49m\u001b[43m)\u001b[49m\u001b[43m \u001b[49m\u001b[38;5;28;43;01mfor\u001b[39;49;00m\u001b[43m \u001b[49m\u001b[43msegment\u001b[49m\u001b[43m \u001b[49m\u001b[38;5;129;43;01min\u001b[39;49;00m\u001b[43m \u001b[49m\u001b[43mbinary_string\u001b[49m\u001b[43m]\u001b[49m\u001b[43m)\u001b[49m\n\u001b[1;32m     27\u001b[0m \u001b[38;5;66;03m# Convert binary string to integer\u001b[39;00m\n\u001b[1;32m     28\u001b[0m int_values \u001b[38;5;241m=\u001b[39m binary_2d\u001b[38;5;241m.\u001b[39mastype(\u001b[38;5;28mint\u001b[39m)\n",
      "\u001b[0;31mValueError\u001b[0m: setting an array element with a sequence. The requested array has an inhomogeneous shape after 1 dimensions. The detected shape was (3,) + inhomogeneous part."
     ]
    }
   ],
   "source": [
    "import numpy as np\n",
    "\n",
    "def binary_to_decimal(binary_string_list, precision_bits_list, shapes):\n",
    "    \"\"\"\n",
    "    Convert a list of binary strings back to a list of 2D NumPy arrays.\n",
    "\n",
    "    Args:\n",
    "        binary_string_list (list of str): List of binary strings to be converted.\n",
    "        precision_bits_list (list of tuple): List of tuples containing (min_val, max_val, bits) to define the precision for each array.\n",
    "            - min_val (float): The minimum possible value of the original range for the element.\n",
    "            - max_val (float): The maximum possible value of the original range for the element.\n",
    "            - bits (int): The number of bits used to represent the element in the binary string.\n",
    "        shapes (list of tuple): List of shapes for the original arrays.\n",
    "\n",
    "    Returns:\n",
    "        arrays (list of numpy.ndarray): List of arrays of float or int values represented by the binary strings.\n",
    "    \"\"\"\n",
    "\n",
    "    arrays = []\n",
    "\n",
    "    for binary_string, precision_bits, shape in zip(binary_string_list, precision_bits_list, shapes):\n",
    "        min_val, max_val, bits = precision_bits\n",
    "\n",
    "        # Reshape binary string into 2D array\n",
    "        binary_2d = np.array([list(segment) for segment in binary_string])\n",
    "\n",
    "        # Convert binary string to integer\n",
    "        int_values = binary_2d.astype(int)\n",
    "\n",
    "        # Calculate maximum integer value for given bits\n",
    "        max_int_value = (1 << bits) - 1\n",
    "\n",
    "        # Scale integer values to the range [min_val, max_val]\n",
    "        real_values = min_val + (max_val - min_val) * int_values / max_int_value\n",
    "\n",
    "        # Reshape real values into original shape\n",
    "        array = real_values.reshape(shape)\n",
    "\n",
    "        arrays.append(array)\n",
    "\n",
    "    return arrays\n",
    "\n",
    "# Example usage\n",
    "pop = [\n",
    "    ['01111111101111110011111110011001', '0001100110111001100001100110011100110010', '001100110001001100100110011001011111111100000000'],\n",
    "    ['01111111101111110011111110011001', '0001100110111001100001100110011100110010', '001100110001001100100110011001011111111100000000'],\n",
    "    ['01111111101111110011111110011001', '0001100110111001100001100110011100110010', '001100110001001100100110011001011111111100000000'],\n",
    "    ['01111111101111110011111110011001', '0001100110111001100001100110011100110010', '001100110001001100100110011001011111111100000000']  \n",
    "]\n",
    "pre = [(0, 1, 8), (0, 1, 8), (0, 1, 8)]\n",
    "sh = [(2, 2), (1, 5), (3, 2)]\n",
    "\n",
    "dec = binary_to_decimal(pop, pre, sh)\n",
    "print(dec)\n"
   ]
  },
  {
   "cell_type": "code",
   "execution_count": 16,
   "id": "07b42870-180c-4014-8420-6fe7b995f72f",
   "metadata": {},
   "outputs": [
    {
     "name": "stdout",
     "output_type": "stream",
     "text": [
      "Segment: ['01111111101111110011111110011001', '0001100110111001100001100110011100110010', '001100110001001100100110011001011111111100000000'], Binary String: ['01111111101111110011111110011001', '0001100110111001100001100110011100110010', '001100110001001100100110011001011111111100000000'], Index: 0, Bits: 8\n"
     ]
    },
    {
     "ename": "TypeError",
     "evalue": "int() can't convert non-string with explicit base",
     "output_type": "error",
     "traceback": [
      "\u001b[0;31m---------------------------------------------------------------------------\u001b[0m",
      "\u001b[0;31mTypeError\u001b[0m                                 Traceback (most recent call last)",
      "Cell \u001b[0;32mIn[16], line 54\u001b[0m\n\u001b[1;32m     51\u001b[0m pre \u001b[38;5;241m=\u001b[39m [(\u001b[38;5;241m0\u001b[39m, \u001b[38;5;241m1\u001b[39m, \u001b[38;5;241m8\u001b[39m), (\u001b[38;5;241m0\u001b[39m, \u001b[38;5;241m1\u001b[39m, \u001b[38;5;241m8\u001b[39m), (\u001b[38;5;241m0\u001b[39m, \u001b[38;5;241m1\u001b[39m, \u001b[38;5;241m8\u001b[39m)]\n\u001b[1;32m     52\u001b[0m sh \u001b[38;5;241m=\u001b[39m [(\u001b[38;5;241m2\u001b[39m, \u001b[38;5;241m2\u001b[39m), (\u001b[38;5;241m1\u001b[39m, \u001b[38;5;241m5\u001b[39m), (\u001b[38;5;241m3\u001b[39m, \u001b[38;5;241m2\u001b[39m)]\n\u001b[0;32m---> 54\u001b[0m dec \u001b[38;5;241m=\u001b[39m \u001b[43mbinary_to_decimal\u001b[49m\u001b[43m(\u001b[49m\u001b[43mpop\u001b[49m\u001b[43m,\u001b[49m\u001b[43m \u001b[49m\u001b[43mpre\u001b[49m\u001b[43m,\u001b[49m\u001b[43m \u001b[49m\u001b[43msh\u001b[49m\u001b[43m)\u001b[49m\n\u001b[1;32m     55\u001b[0m \u001b[38;5;28mprint\u001b[39m(dec)\n",
      "Cell \u001b[0;32mIn[16], line 33\u001b[0m, in \u001b[0;36mbinary_to_decimal\u001b[0;34m(binary_string_list, precision_bits_list, shapes)\u001b[0m\n\u001b[1;32m     31\u001b[0m segment \u001b[38;5;241m=\u001b[39m binary_string[index:index \u001b[38;5;241m+\u001b[39m bits]\n\u001b[1;32m     32\u001b[0m \u001b[38;5;28mprint\u001b[39m(\u001b[38;5;124mf\u001b[39m\u001b[38;5;124m\"\u001b[39m\u001b[38;5;124mSegment: \u001b[39m\u001b[38;5;132;01m{\u001b[39;00msegment\u001b[38;5;132;01m}\u001b[39;00m\u001b[38;5;124m, Binary String: \u001b[39m\u001b[38;5;132;01m{\u001b[39;00mbinary_string\u001b[38;5;132;01m}\u001b[39;00m\u001b[38;5;124m, Index: \u001b[39m\u001b[38;5;132;01m{\u001b[39;00mindex\u001b[38;5;132;01m}\u001b[39;00m\u001b[38;5;124m, Bits: \u001b[39m\u001b[38;5;132;01m{\u001b[39;00mbits\u001b[38;5;132;01m}\u001b[39;00m\u001b[38;5;124m\"\u001b[39m)\n\u001b[0;32m---> 33\u001b[0m int_value \u001b[38;5;241m=\u001b[39m \u001b[38;5;28;43mint\u001b[39;49m\u001b[43m(\u001b[49m\u001b[43msegment\u001b[49m\u001b[43m,\u001b[49m\u001b[43m \u001b[49m\u001b[38;5;241;43m2\u001b[39;49m\u001b[43m)\u001b[49m\n\u001b[1;32m     34\u001b[0m max_int_value \u001b[38;5;241m=\u001b[39m (\u001b[38;5;241m1\u001b[39m \u001b[38;5;241m<<\u001b[39m bits) \u001b[38;5;241m-\u001b[39m \u001b[38;5;241m1\u001b[39m\n\u001b[1;32m     35\u001b[0m real_value \u001b[38;5;241m=\u001b[39m min_val \u001b[38;5;241m+\u001b[39m (max_val \u001b[38;5;241m-\u001b[39m min_val) \u001b[38;5;241m*\u001b[39m (int_value \u001b[38;5;241m/\u001b[39m max_int_value)\n",
      "\u001b[0;31mTypeError\u001b[0m: int() can't convert non-string with explicit base"
     ]
    }
   ],
   "source": [
    "def binary_to_decimal(binary_string_list, precision_bits_list, shapes):\n",
    "    \"\"\"\n",
    "    Convert a list of binary strings back to a list of 2D NumPy arrays.\n",
    "\n",
    "    Args:\n",
    "        binary_string_list (list of str): List of binary strings to be converted.\n",
    "        precision_bits_list (list of tuple): List of tuples containing (min_val, max_val, bits) to define the precision for each array.\n",
    "            - min_val (float): The minimum possible value of the original range for the element.\n",
    "            - max_val (float): The maximum possible value of the original range for the element.\n",
    "            - bits (int): The number of bits used to represent the element in the binary string.\n",
    "        shapes (list of tuple): List of shapes for the original arrays.\n",
    "\n",
    "    Returns:\n",
    "        arrays (list of numpy.ndarray): List of arrays of float or int values represented by the binary strings.\n",
    "    \"\"\"\n",
    "\n",
    "    arrays = []\n",
    "\n",
    "    for binary_string, precision_bits, shape in zip(binary_string_list, precision_bits_list, shapes):\n",
    "        min_val, max_val, bits = precision_bits\n",
    "\n",
    "        array = []\n",
    "        index = 0\n",
    "\n",
    "        for _ in range(shape[0]):\n",
    "\n",
    "            row = []\n",
    "\n",
    "            for _ in range(shape[1]):\n",
    "\n",
    "                segment = binary_string[index:index + bits]\n",
    "                print(f\"Segment: {segment}, Binary String: {binary_string}, Index: {index}, Bits: {bits}\")\n",
    "                int_value = int(segment, 2)\n",
    "                max_int_value = (1 << bits) - 1\n",
    "                real_value = min_val + (max_val - min_val) * (int_value / max_int_value)\n",
    "                row.append(real_value)\n",
    "                index += bits\n",
    "            \n",
    "            array.append(row)\n",
    "\n",
    "        arrays.append(np.array(array))\n",
    "\n",
    "    return arrays\n",
    "\n",
    "pop = [\n",
    "    ['01111111101111110011111110011001', '0001100110111001100001100110011100110010', '001100110001001100100110011001011111111100000000'],\n",
    "    ['01111111101111110011111110011001', '0001100110111001100001100110011100110010', '001100110001001100100110011001011111111100000000'],\n",
    "    ['01111111101111110011111110011001', '0001100110111001100001100110011100110010', '001100110001001100100110011001011111111100000000'],\n",
    "    ['01111111101111110011111110011001', '0001100110111001100001100110011100110010', '001100110001001100100110011001011111111100000000']  \n",
    "]\n",
    "pre = [(0, 1, 8), (0, 1, 8), (0, 1, 8)]\n",
    "sh = [(2, 2), (1, 5), (3, 2)]\n",
    "\n",
    "dec = binary_to_decimal(pop, pre, sh)\n",
    "print(dec)\n"
   ]
  },
  {
   "cell_type": "code",
   "execution_count": null,
   "id": "18f34397-0179-4498-a18e-b566491eaecd",
   "metadata": {},
   "outputs": [],
   "source": []
  }
 ],
 "metadata": {
  "kernelspec": {
   "display_name": "Python 3 (ipykernel)",
   "language": "python",
   "name": "python3"
  },
  "language_info": {
   "codemirror_mode": {
    "name": "ipython",
    "version": 3
   },
   "file_extension": ".py",
   "mimetype": "text/x-python",
   "name": "python",
   "nbconvert_exporter": "python",
   "pygments_lexer": "ipython3",
   "version": "3.10.12"
  }
 },
 "nbformat": 4,
 "nbformat_minor": 5
}
