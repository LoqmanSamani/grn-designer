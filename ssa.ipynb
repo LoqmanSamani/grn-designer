{
 "cells": [
  {
   "cell_type": "markdown",
   "id": "b2ec4cb9-a6f1-4a3e-878e-7fcf3abd76f9",
   "metadata": {},
   "source": [
    "<h3><b>Simulate The System Using Stochastic Simulation Algorithm (SSA) Method</b></h3>"
   ]
  },
  {
   "cell_type": "code",
   "execution_count": null,
   "id": "32e18595-3e27-474d-9eb5-f67b4786c58a",
   "metadata": {},
   "outputs": [],
   "source": []
  }
 ],
 "metadata": {
  "kernelspec": {
   "display_name": "Python 3 (ipykernel)",
   "language": "python",
   "name": "python3"
  },
  "language_info": {
   "codemirror_mode": {
    "name": "ipython",
    "version": 3
   },
   "file_extension": ".py",
   "mimetype": "text/x-python",
   "name": "python",
   "nbconvert_exporter": "python",
   "pygments_lexer": "ipython3",
   "version": "3.12.2"
  }
 },
 "nbformat": 4,
 "nbformat_minor": 5
}
