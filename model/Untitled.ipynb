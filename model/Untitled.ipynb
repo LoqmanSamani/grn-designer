{
 "cells": [
  {
   "cell_type": "code",
   "execution_count": 2,
   "id": "e4d3f2dd-7e64-4b60-9a07-d6f1925a47fe",
   "metadata": {},
   "outputs": [],
   "source": [
    "import tensorflow as tf\n",
    "import numpy as np"
   ]
  },
  {
   "cell_type": "code",
   "execution_count": 16,
   "id": "3f03392f-191b-4471-9c04-51d4a5720c3d",
   "metadata": {},
   "outputs": [],
   "source": [
    "d = {\"sp_1\": [1, 2, 3], \"sp_2\": (((2,3), [4,5,6]), (1, 2,3))}\n",
    "h = len(d[\"sp_2\"])"
   ]
  },
  {
   "cell_type": "code",
   "execution_count": 17,
   "id": "1bdb2205-426c-4506-bb34-08270b312e20",
   "metadata": {},
   "outputs": [
    {
     "data": {
      "text/plain": [
       "2"
      ]
     },
     "execution_count": 17,
     "metadata": {},
     "output_type": "execute_result"
    }
   ],
   "source": [
    "h"
   ]
  },
  {
   "cell_type": "code",
   "execution_count": 12,
   "id": "d24fa5bb-0ec7-4d22-824d-13c098951f69",
   "metadata": {},
   "outputs": [
    {
     "data": {
      "text/plain": [
       "[[1, 2, 3], ((2, 3), [4, 5, 6])]"
      ]
     },
     "execution_count": 12,
     "metadata": {},
     "output_type": "execute_result"
    }
   ],
   "source": [
    "r = []\n",
    "for i in range(1, len(h)+1):\n",
    "    r.append(d[f\"sp_{i}\"])\n",
    "r"
   ]
  },
  {
   "cell_type": "code",
   "execution_count": null,
   "id": "723152f7-acb6-4ae4-aecc-89d859418a42",
   "metadata": {},
   "outputs": [],
   "source": []
  }
 ],
 "metadata": {
  "kernelspec": {
   "display_name": "Python 3 (ipykernel)",
   "language": "python",
   "name": "python3"
  },
  "language_info": {
   "codemirror_mode": {
    "name": "ipython",
    "version": 3
   },
   "file_extension": ".py",
   "mimetype": "text/x-python",
   "name": "python",
   "nbconvert_exporter": "python",
   "pygments_lexer": "ipython3",
   "version": "3.10.12"
  }
 },
 "nbformat": 4,
 "nbformat_minor": 5
}
