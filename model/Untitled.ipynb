{
 "cells": [
  {
   "cell_type": "code",
   "execution_count": 2,
   "id": "e4d3f2dd-7e64-4b60-9a07-d6f1925a47fe",
   "metadata": {},
   "outputs": [],
   "source": [
    "import tensorflow as tf\n",
    "import numpy as np"
   ]
  },
  {
   "cell_type": "code",
   "execution_count": 9,
   "id": "3f03392f-191b-4471-9c04-51d4a5720c3d",
   "metadata": {},
   "outputs": [
    {
     "data": {
      "text/plain": [
       "(2, 3)"
      ]
     },
     "execution_count": 9,
     "metadata": {},
     "output_type": "execute_result"
    }
   ],
   "source": [
    "n = np.array([[1,23,45], [1,2,3]])\n",
    "n.shape"
   ]
  },
  {
   "cell_type": "code",
   "execution_count": 10,
   "id": "1bdb2205-426c-4506-bb34-08270b312e20",
   "metadata": {},
   "outputs": [
    {
     "ename": "AttributeError",
     "evalue": "'numpy.ndarray' object has no attribute 'tensor_shape'",
     "output_type": "error",
     "traceback": [
      "\u001b[0;31m---------------------------------------------------------------------------\u001b[0m",
      "\u001b[0;31mAttributeError\u001b[0m                            Traceback (most recent call last)",
      "Cell \u001b[0;32mIn[10], line 1\u001b[0m\n\u001b[0;32m----> 1\u001b[0m u \u001b[38;5;241m=\u001b[39m \u001b[43mtf\u001b[49m\u001b[38;5;241;43m.\u001b[39;49m\u001b[43mmake_ndarray\u001b[49m\u001b[43m(\u001b[49m\u001b[43mn\u001b[49m\u001b[43m)\u001b[49m\n\u001b[1;32m      2\u001b[0m u\n",
      "File \u001b[0;32m~/Documents/projects/venv/lib/python3.10/site-packages/tensorflow/python/framework/tensor_util.py:660\u001b[0m, in \u001b[0;36mMakeNdarray\u001b[0;34m(tensor)\u001b[0m\n\u001b[1;32m    633\u001b[0m \u001b[38;5;129m@tf_export\u001b[39m(\u001b[38;5;124m\"\u001b[39m\u001b[38;5;124mmake_ndarray\u001b[39m\u001b[38;5;124m\"\u001b[39m)\n\u001b[1;32m    634\u001b[0m \u001b[38;5;28;01mdef\u001b[39;00m \u001b[38;5;21mMakeNdarray\u001b[39m(tensor):\n\u001b[1;32m    635\u001b[0m \u001b[38;5;250m  \u001b[39m\u001b[38;5;124;03m\"\"\"Create a numpy ndarray from a tensor.\u001b[39;00m\n\u001b[1;32m    636\u001b[0m \n\u001b[1;32m    637\u001b[0m \u001b[38;5;124;03m  Create a numpy ndarray with the same shape and data as the tensor.\u001b[39;00m\n\u001b[0;32m   (...)\u001b[0m\n\u001b[1;32m    658\u001b[0m \n\u001b[1;32m    659\u001b[0m \u001b[38;5;124;03m  \"\"\"\u001b[39;00m\n\u001b[0;32m--> 660\u001b[0m   shape \u001b[38;5;241m=\u001b[39m [d\u001b[38;5;241m.\u001b[39msize \u001b[38;5;28;01mfor\u001b[39;00m d \u001b[38;5;129;01min\u001b[39;00m \u001b[43mtensor\u001b[49m\u001b[38;5;241;43m.\u001b[39;49m\u001b[43mtensor_shape\u001b[49m\u001b[38;5;241m.\u001b[39mdim]\n\u001b[1;32m    661\u001b[0m   num_elements \u001b[38;5;241m=\u001b[39m np\u001b[38;5;241m.\u001b[39mprod(shape, dtype\u001b[38;5;241m=\u001b[39mnp\u001b[38;5;241m.\u001b[39mint64)\n\u001b[1;32m    662\u001b[0m   tensor_dtype \u001b[38;5;241m=\u001b[39m dtypes\u001b[38;5;241m.\u001b[39mas_dtype(tensor\u001b[38;5;241m.\u001b[39mdtype)\n",
      "\u001b[0;31mAttributeError\u001b[0m: 'numpy.ndarray' object has no attribute 'tensor_shape'"
     ]
    }
   ],
   "source": [
    "u = tf.make_ndarray(n)\n",
    "u"
   ]
  },
  {
   "cell_type": "code",
   "execution_count": 12,
   "id": "d24fa5bb-0ec7-4d22-824d-13c098951f69",
   "metadata": {},
   "outputs": [
    {
     "data": {
      "text/plain": [
       "array([[19, 19, 19],\n",
       "       [19, 19, 19]], dtype=int32)"
      ]
     },
     "execution_count": 12,
     "metadata": {},
     "output_type": "execute_result"
    }
   ],
   "source": [
    "h = tf.fill((2,3), value=19)\n",
    "u = h.numpy()\n",
    "u"
   ]
  },
  {
   "cell_type": "code",
   "execution_count": null,
   "id": "723152f7-acb6-4ae4-aecc-89d859418a42",
   "metadata": {},
   "outputs": [],
   "source": []
  }
 ],
 "metadata": {
  "kernelspec": {
   "display_name": "Python 3 (ipykernel)",
   "language": "python",
   "name": "python3"
  },
  "language_info": {
   "codemirror_mode": {
    "name": "ipython",
    "version": 3
   },
   "file_extension": ".py",
   "mimetype": "text/x-python",
   "name": "python",
   "nbconvert_exporter": "python",
   "pygments_lexer": "ipython3",
   "version": "3.10.12"
  }
 },
 "nbformat": 4,
 "nbformat_minor": 5
}
