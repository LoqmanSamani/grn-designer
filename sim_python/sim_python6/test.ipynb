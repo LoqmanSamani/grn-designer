{
 "cells": [
  {
   "cell_type": "code",
   "execution_count": 4,
   "id": "429e2a61-8ee8-4d0c-bb7b-db647fb3d33d",
   "metadata": {},
   "outputs": [],
   "source": [
    "import numpy as np\n",
    "import torch\n",
    "import copy"
   ]
  },
  {
   "cell_type": "code",
   "execution_count": 5,
   "id": "a3d1dbb0-078d-41fb-be8b-20b1d51f5bf5",
   "metadata": {},
   "outputs": [
    {
     "name": "stdout",
     "output_type": "stream",
     "text": [
      "[tensor([[[0., 0., 0., 0., 0., 0., 0., 0., 0., 0.],\n",
      "         [0., 0., 0., 0., 0., 0., 0., 0., 0., 0.],\n",
      "         [0., 0., 0., 0., 0., 0., 0., 0., 0., 0.],\n",
      "         [0., 0., 0., 0., 0., 0., 0., 0., 0., 0.],\n",
      "         [0., 0., 0., 0., 0., 0., 0., 0., 0., 0.],\n",
      "         [0., 0., 0., 0., 0., 0., 0., 0., 0., 0.],\n",
      "         [0., 0., 0., 0., 0., 0., 0., 0., 0., 0.],\n",
      "         [0., 0., 0., 0., 0., 0., 0., 0., 0., 0.],\n",
      "         [0., 0., 0., 0., 0., 0., 0., 0., 0., 0.],\n",
      "         [0., 0., 0., 0., 0., 0., 0., 0., 0., 0.]],\n",
      "\n",
      "        [[0., 0., 0., 0., 0., 0., 0., 0., 0., 0.],\n",
      "         [0., 0., 0., 0., 0., 0., 0., 0., 0., 0.],\n",
      "         [0., 0., 0., 0., 0., 0., 0., 0., 0., 0.],\n",
      "         [0., 0., 0., 0., 0., 0., 0., 0., 0., 0.],\n",
      "         [0., 0., 0., 0., 0., 0., 0., 0., 0., 0.],\n",
      "         [0., 0., 0., 0., 0., 0., 0., 0., 0., 0.],\n",
      "         [0., 0., 0., 0., 0., 0., 0., 0., 0., 0.],\n",
      "         [0., 0., 0., 0., 0., 0., 0., 0., 0., 0.],\n",
      "         [0., 0., 0., 0., 0., 0., 0., 0., 0., 0.],\n",
      "         [0., 0., 0., 0., 0., 0., 0., 0., 0., 0.]],\n",
      "\n",
      "        [[0., 0., 0., 0., 0., 0., 0., 0., 0., 0.],\n",
      "         [0., 0., 0., 0., 0., 0., 0., 0., 0., 0.],\n",
      "         [0., 0., 0., 0., 0., 0., 0., 0., 0., 0.],\n",
      "         [0., 0., 0., 0., 0., 0., 0., 0., 0., 0.],\n",
      "         [0., 0., 0., 0., 0., 0., 0., 0., 0., 0.],\n",
      "         [0., 0., 0., 0., 0., 0., 0., 0., 0., 0.],\n",
      "         [0., 0., 0., 0., 0., 0., 0., 0., 0., 0.],\n",
      "         [0., 0., 0., 0., 0., 0., 0., 0., 0., 0.],\n",
      "         [0., 0., 0., 0., 0., 0., 0., 0., 0., 0.],\n",
      "         [0., 0., 0., 0., 0., 0., 0., 0., 0., 0.]],\n",
      "\n",
      "        [[0., 0., 0., 0., 0., 0., 0., 0., 0., 0.],\n",
      "         [0., 0., 0., 0., 0., 0., 0., 0., 0., 0.],\n",
      "         [0., 0., 0., 0., 0., 0., 0., 0., 0., 0.],\n",
      "         [0., 0., 0., 0., 0., 0., 0., 0., 0., 0.],\n",
      "         [0., 0., 0., 0., 0., 0., 0., 0., 0., 0.],\n",
      "         [0., 0., 0., 0., 0., 0., 0., 0., 0., 0.],\n",
      "         [0., 0., 0., 0., 0., 0., 0., 0., 0., 0.],\n",
      "         [0., 0., 0., 0., 0., 0., 0., 0., 0., 0.],\n",
      "         [0., 0., 0., 0., 0., 0., 0., 0., 0., 0.],\n",
      "         [0., 0., 0., 0., 0., 0., 0., 0., 0., 0.]],\n",
      "\n",
      "        [[0., 0., 0., 0., 0., 0., 0., 0., 0., 0.],\n",
      "         [0., 0., 0., 0., 0., 0., 0., 0., 0., 0.],\n",
      "         [0., 0., 0., 0., 0., 0., 0., 0., 0., 0.],\n",
      "         [0., 0., 0., 0., 0., 0., 0., 0., 0., 0.],\n",
      "         [0., 0., 0., 0., 0., 0., 0., 0., 0., 0.],\n",
      "         [0., 0., 0., 0., 0., 0., 0., 0., 0., 0.],\n",
      "         [0., 0., 0., 0., 0., 0., 0., 0., 0., 0.],\n",
      "         [0., 0., 0., 0., 0., 0., 0., 0., 0., 0.],\n",
      "         [0., 0., 0., 0., 0., 0., 0., 0., 0., 0.],\n",
      "         [0., 0., 0., 0., 0., 0., 0., 0., 0., 0.]]]), tensor([ 3, 10, 10]), tensor([ 7, 10, 10])]\n"
     ]
    }
   ],
   "source": [
    "pop = [torch.zeros((5, 10, 10)), torch.tensor((3, 10, 10)), torch.tensor((7, 10, 10))]\n",
    "\n",
    "print(pop)"
   ]
  },
  {
   "cell_type": "code",
   "execution_count": 6,
   "id": "4c37f78c-e010-4dfb-a688-a48e9d275b71",
   "metadata": {},
   "outputs": [
    {
     "name": "stdout",
     "output_type": "stream",
     "text": [
      "tensor([[[0., 0., 0., 0., 0., 0., 0., 0., 0., 0.],\n",
      "         [0., 0., 0., 0., 0., 0., 0., 0., 0., 0.],\n",
      "         [0., 0., 0., 0., 0., 0., 0., 0., 0., 0.],\n",
      "         [0., 0., 0., 0., 0., 0., 0., 0., 0., 0.],\n",
      "         [0., 0., 0., 0., 0., 0., 0., 0., 0., 0.],\n",
      "         [0., 0., 0., 0., 0., 0., 0., 0., 0., 0.],\n",
      "         [0., 0., 0., 0., 0., 0., 0., 0., 0., 0.],\n",
      "         [0., 0., 0., 0., 0., 0., 0., 0., 0., 0.],\n",
      "         [0., 0., 0., 0., 0., 0., 0., 0., 0., 0.],\n",
      "         [0., 0., 0., 0., 0., 0., 0., 0., 0., 0.]],\n",
      "\n",
      "        [[0., 0., 0., 0., 0., 0., 0., 0., 0., 0.],\n",
      "         [0., 0., 0., 0., 0., 0., 0., 0., 0., 0.],\n",
      "         [0., 0., 0., 0., 0., 0., 0., 0., 0., 0.],\n",
      "         [0., 0., 0., 0., 0., 0., 0., 0., 0., 0.],\n",
      "         [0., 0., 0., 0., 0., 0., 0., 0., 0., 0.],\n",
      "         [0., 0., 0., 0., 0., 0., 0., 0., 0., 0.],\n",
      "         [0., 0., 0., 0., 0., 0., 0., 0., 0., 0.],\n",
      "         [0., 0., 0., 0., 0., 0., 0., 0., 0., 0.],\n",
      "         [0., 0., 0., 0., 0., 0., 0., 0., 0., 0.],\n",
      "         [0., 0., 0., 0., 0., 0., 0., 0., 0., 0.]],\n",
      "\n",
      "        [[0., 0., 0., 0., 0., 0., 0., 0., 0., 0.],\n",
      "         [0., 0., 0., 0., 0., 0., 0., 0., 0., 0.],\n",
      "         [0., 0., 0., 0., 0., 0., 0., 0., 0., 0.],\n",
      "         [0., 0., 0., 0., 0., 0., 0., 0., 0., 0.],\n",
      "         [0., 0., 0., 0., 0., 0., 0., 0., 0., 0.],\n",
      "         [0., 0., 0., 0., 0., 0., 0., 0., 0., 0.],\n",
      "         [0., 0., 0., 0., 0., 0., 0., 0., 0., 0.],\n",
      "         [0., 0., 0., 0., 0., 0., 0., 0., 0., 0.],\n",
      "         [0., 0., 0., 0., 0., 0., 0., 0., 0., 0.],\n",
      "         [0., 0., 0., 0., 0., 0., 0., 0., 0., 0.]],\n",
      "\n",
      "        [[0., 0., 0., 0., 0., 0., 0., 0., 0., 0.],\n",
      "         [0., 0., 0., 0., 0., 0., 0., 0., 0., 0.],\n",
      "         [0., 0., 0., 0., 0., 0., 0., 0., 0., 0.],\n",
      "         [0., 0., 0., 0., 0., 0., 0., 0., 0., 0.],\n",
      "         [0., 0., 0., 0., 0., 0., 0., 0., 0., 0.],\n",
      "         [0., 0., 0., 0., 0., 0., 0., 0., 0., 0.],\n",
      "         [0., 0., 0., 0., 0., 0., 0., 0., 0., 0.],\n",
      "         [0., 0., 0., 0., 0., 0., 0., 0., 0., 0.],\n",
      "         [0., 0., 0., 0., 0., 0., 0., 0., 0., 0.],\n",
      "         [0., 0., 0., 0., 0., 0., 0., 0., 0., 0.]],\n",
      "\n",
      "        [[0., 0., 0., 0., 0., 0., 0., 0., 0., 0.],\n",
      "         [0., 0., 0., 0., 0., 0., 0., 0., 0., 0.],\n",
      "         [0., 0., 0., 0., 0., 0., 0., 0., 0., 0.],\n",
      "         [0., 0., 0., 0., 0., 0., 0., 0., 0., 0.],\n",
      "         [0., 0., 0., 0., 0., 0., 0., 0., 0., 0.],\n",
      "         [0., 0., 0., 0., 0., 0., 0., 0., 0., 0.],\n",
      "         [0., 0., 0., 0., 0., 0., 0., 0., 0., 0.],\n",
      "         [0., 0., 0., 0., 0., 0., 0., 0., 0., 0.],\n",
      "         [0., 0., 0., 0., 0., 0., 0., 0., 0., 0.],\n",
      "         [0., 0., 0., 0., 0., 0., 0., 0., 0., 0.]]])\n"
     ]
    }
   ],
   "source": [
    "print(pop[0])"
   ]
  },
  {
   "cell_type": "code",
   "execution_count": 7,
   "id": "0ec36792-9381-4c4b-8367-415bda29d03f",
   "metadata": {},
   "outputs": [
    {
     "name": "stdout",
     "output_type": "stream",
     "text": [
      "tensor([[[0., 0., 0., 0., 0., 0., 0., 0., 0., 0.],\n",
      "         [0., 0., 0., 0., 0., 0., 0., 0., 0., 0.],\n",
      "         [0., 0., 0., 0., 0., 0., 0., 0., 0., 0.],\n",
      "         [0., 0., 0., 0., 0., 0., 0., 0., 0., 0.],\n",
      "         [0., 0., 0., 0., 0., 0., 0., 0., 0., 0.],\n",
      "         [0., 0., 0., 0., 0., 0., 0., 0., 0., 0.],\n",
      "         [0., 0., 0., 0., 0., 0., 0., 0., 0., 0.],\n",
      "         [0., 0., 0., 0., 0., 0., 0., 0., 0., 0.],\n",
      "         [0., 0., 0., 0., 0., 0., 0., 0., 0., 0.],\n",
      "         [0., 0., 0., 0., 0., 0., 0., 0., 0., 0.]],\n",
      "\n",
      "        [[0., 0., 0., 0., 0., 0., 0., 0., 0., 0.],\n",
      "         [0., 0., 0., 0., 0., 0., 0., 0., 0., 0.],\n",
      "         [0., 0., 0., 0., 0., 0., 0., 0., 0., 0.],\n",
      "         [0., 0., 0., 0., 0., 0., 0., 0., 0., 0.],\n",
      "         [0., 0., 0., 0., 0., 0., 0., 0., 0., 0.],\n",
      "         [0., 0., 0., 0., 0., 0., 0., 0., 0., 0.],\n",
      "         [0., 0., 0., 0., 0., 0., 0., 0., 0., 0.],\n",
      "         [0., 0., 0., 0., 0., 0., 0., 0., 0., 0.],\n",
      "         [0., 0., 0., 0., 0., 0., 0., 0., 0., 0.],\n",
      "         [0., 0., 0., 0., 0., 0., 0., 0., 0., 0.]],\n",
      "\n",
      "        [[0., 0., 0., 0., 0., 0., 0., 0., 0., 0.],\n",
      "         [0., 0., 0., 0., 0., 0., 0., 0., 0., 0.],\n",
      "         [0., 0., 0., 0., 0., 0., 0., 0., 0., 0.],\n",
      "         [0., 0., 0., 0., 0., 0., 0., 0., 0., 0.],\n",
      "         [0., 0., 0., 0., 0., 0., 0., 0., 0., 0.],\n",
      "         [0., 0., 0., 0., 0., 0., 0., 0., 0., 0.],\n",
      "         [0., 0., 0., 0., 0., 0., 0., 0., 0., 0.],\n",
      "         [0., 0., 0., 0., 0., 0., 0., 0., 0., 0.],\n",
      "         [0., 0., 0., 0., 0., 0., 0., 0., 0., 0.],\n",
      "         [0., 0., 0., 0., 0., 0., 0., 0., 0., 0.]],\n",
      "\n",
      "        [[0., 0., 0., 0., 0., 0., 0., 0., 0., 0.],\n",
      "         [0., 0., 0., 0., 0., 0., 0., 0., 0., 0.],\n",
      "         [0., 0., 0., 0., 0., 0., 0., 0., 0., 0.],\n",
      "         [0., 0., 0., 0., 0., 0., 0., 0., 0., 0.],\n",
      "         [0., 0., 0., 0., 0., 0., 0., 0., 0., 0.],\n",
      "         [0., 0., 0., 0., 0., 0., 0., 0., 0., 0.],\n",
      "         [0., 0., 0., 0., 0., 0., 0., 0., 0., 0.],\n",
      "         [0., 0., 0., 0., 0., 0., 0., 0., 0., 0.],\n",
      "         [0., 0., 0., 0., 0., 0., 0., 0., 0., 0.],\n",
      "         [0., 0., 0., 0., 0., 0., 0., 0., 0., 0.]],\n",
      "\n",
      "        [[0., 0., 0., 0., 0., 0., 0., 0., 0., 0.],\n",
      "         [0., 0., 0., 0., 0., 0., 0., 0., 0., 0.],\n",
      "         [0., 0., 0., 0., 0., 0., 0., 0., 0., 0.],\n",
      "         [0., 0., 0., 0., 0., 0., 0., 0., 0., 0.],\n",
      "         [0., 0., 0., 0., 0., 0., 0., 0., 0., 0.],\n",
      "         [0., 0., 0., 0., 0., 0., 0., 0., 0., 0.],\n",
      "         [0., 0., 0., 0., 0., 0., 0., 0., 0., 0.],\n",
      "         [0., 0., 0., 0., 0., 0., 0., 0., 0., 0.],\n",
      "         [0., 0., 0., 0., 0., 0., 0., 0., 0., 0.],\n",
      "         [0., 0., 0., 0., 0., 0., 0., 0., 0., 0.]]])\n"
     ]
    }
   ],
   "source": [
    "print(pop[0][:])"
   ]
  },
  {
   "cell_type": "code",
   "execution_count": 8,
   "id": "646760df-bb07-46d7-9894-e8c9c89a56ba",
   "metadata": {},
   "outputs": [
    {
     "name": "stdout",
     "output_type": "stream",
     "text": [
      "[array([[[0., 0., 0., 0., 0., 0., 0., 0., 0., 0.],\n",
      "        [0., 0., 0., 0., 0., 0., 0., 0., 0., 0.],\n",
      "        [0., 0., 0., 0., 0., 0., 0., 0., 0., 0.],\n",
      "        [0., 0., 0., 0., 0., 0., 0., 0., 0., 0.],\n",
      "        [0., 0., 0., 0., 0., 0., 0., 0., 0., 0.],\n",
      "        [0., 0., 0., 0., 0., 0., 0., 0., 0., 0.],\n",
      "        [0., 0., 0., 0., 0., 0., 0., 0., 0., 0.],\n",
      "        [0., 0., 0., 0., 0., 0., 0., 0., 0., 0.],\n",
      "        [0., 0., 0., 0., 0., 0., 0., 0., 0., 0.],\n",
      "        [0., 0., 0., 0., 0., 0., 0., 0., 0., 0.]],\n",
      "\n",
      "       [[0., 0., 0., 0., 0., 0., 0., 0., 0., 0.],\n",
      "        [0., 0., 0., 0., 0., 0., 0., 0., 0., 0.],\n",
      "        [0., 0., 0., 0., 0., 0., 0., 0., 0., 0.],\n",
      "        [0., 0., 0., 0., 0., 0., 0., 0., 0., 0.],\n",
      "        [0., 0., 0., 0., 0., 0., 0., 0., 0., 0.],\n",
      "        [0., 0., 0., 0., 0., 0., 0., 0., 0., 0.],\n",
      "        [0., 0., 0., 0., 0., 0., 0., 0., 0., 0.],\n",
      "        [0., 0., 0., 0., 0., 0., 0., 0., 0., 0.],\n",
      "        [0., 0., 0., 0., 0., 0., 0., 0., 0., 0.],\n",
      "        [0., 0., 0., 0., 0., 0., 0., 0., 0., 0.]],\n",
      "\n",
      "       [[0., 0., 0., 0., 0., 0., 0., 0., 0., 0.],\n",
      "        [0., 0., 0., 0., 0., 0., 0., 0., 0., 0.],\n",
      "        [0., 0., 0., 0., 0., 0., 0., 0., 0., 0.],\n",
      "        [0., 0., 0., 0., 0., 0., 0., 0., 0., 0.],\n",
      "        [0., 0., 0., 0., 0., 0., 0., 0., 0., 0.],\n",
      "        [0., 0., 0., 0., 0., 0., 0., 0., 0., 0.],\n",
      "        [0., 0., 0., 0., 0., 0., 0., 0., 0., 0.],\n",
      "        [0., 0., 0., 0., 0., 0., 0., 0., 0., 0.],\n",
      "        [0., 0., 0., 0., 0., 0., 0., 0., 0., 0.],\n",
      "        [0., 0., 0., 0., 0., 0., 0., 0., 0., 0.]],\n",
      "\n",
      "       [[0., 0., 0., 0., 0., 0., 0., 0., 0., 0.],\n",
      "        [0., 0., 0., 0., 0., 0., 0., 0., 0., 0.],\n",
      "        [0., 0., 0., 0., 0., 0., 0., 0., 0., 0.],\n",
      "        [0., 0., 0., 0., 0., 0., 0., 0., 0., 0.],\n",
      "        [0., 0., 0., 0., 0., 0., 0., 0., 0., 0.],\n",
      "        [0., 0., 0., 0., 0., 0., 0., 0., 0., 0.],\n",
      "        [0., 0., 0., 0., 0., 0., 0., 0., 0., 0.],\n",
      "        [0., 0., 0., 0., 0., 0., 0., 0., 0., 0.],\n",
      "        [0., 0., 0., 0., 0., 0., 0., 0., 0., 0.],\n",
      "        [0., 0., 0., 0., 0., 0., 0., 0., 0., 0.]],\n",
      "\n",
      "       [[0., 0., 0., 0., 0., 0., 0., 0., 0., 0.],\n",
      "        [0., 0., 0., 0., 0., 0., 0., 0., 0., 0.],\n",
      "        [0., 0., 0., 0., 0., 0., 0., 0., 0., 0.],\n",
      "        [0., 0., 0., 0., 0., 0., 0., 0., 0., 0.],\n",
      "        [0., 0., 0., 0., 0., 0., 0., 0., 0., 0.],\n",
      "        [0., 0., 0., 0., 0., 0., 0., 0., 0., 0.],\n",
      "        [0., 0., 0., 0., 0., 0., 0., 0., 0., 0.],\n",
      "        [0., 0., 0., 0., 0., 0., 0., 0., 0., 0.],\n",
      "        [0., 0., 0., 0., 0., 0., 0., 0., 0., 0.],\n",
      "        [0., 0., 0., 0., 0., 0., 0., 0., 0., 0.]]], dtype=float32), array([ 3, 10, 10]), array([ 7, 10, 10])]\n"
     ]
    }
   ],
   "source": [
    "pop = [p.numpy() for p in pop]\n",
    "print(pop)"
   ]
  },
  {
   "cell_type": "code",
   "execution_count": 11,
   "id": "f77957d4-dafd-4daf-a3be-8671141280d4",
   "metadata": {},
   "outputs": [
    {
     "name": "stdout",
     "output_type": "stream",
     "text": [
      "(2, 3, 3)\n"
     ]
    }
   ],
   "source": [
    "e = np.array(([[1, 2, 4], [2, 1, 8], [4, 5, 7]], [[1, 2, 4], [2, 1, 8], [0, 5, 7]]))\n",
    "print(e.shape)"
   ]
  },
  {
   "cell_type": "code",
   "execution_count": 12,
   "id": "97396a1f-214a-477a-9047-6b2b9b6f0715",
   "metadata": {},
   "outputs": [
    {
     "name": "stdout",
     "output_type": "stream",
     "text": [
      "0\n"
     ]
    }
   ],
   "source": [
    "print(e[-1, -1, 0])"
   ]
  },
  {
   "cell_type": "code",
   "execution_count": 13,
   "id": "d8231260-b3f9-4a95-8dae-ff5086adb068",
   "metadata": {},
   "outputs": [
    {
     "data": {
      "text/plain": [
       "2"
      ]
     },
     "execution_count": 13,
     "metadata": {},
     "output_type": "execute_result"
    }
   ],
   "source": [
    "z, x, y = e.shape\n",
    "z"
   ]
  },
  {
   "cell_type": "code",
   "execution_count": 14,
   "id": "c313ffc6-02a8-497a-8a68-3eaed59e73d4",
   "metadata": {},
   "outputs": [
    {
     "data": {
      "text/plain": [
       "3"
      ]
     },
     "execution_count": 14,
     "metadata": {},
     "output_type": "execute_result"
    }
   ],
   "source": [
    "x"
   ]
  },
  {
   "cell_type": "code",
   "execution_count": 15,
   "id": "7be136b4-3d92-43e6-8b12-f3b78a0c970a",
   "metadata": {},
   "outputs": [
    {
     "data": {
      "text/plain": [
       "3"
      ]
     },
     "execution_count": 15,
     "metadata": {},
     "output_type": "execute_result"
    }
   ],
   "source": [
    "y"
   ]
  },
  {
   "cell_type": "code",
   "execution_count": 16,
   "id": "386fd86e-3a93-4133-84aa-6cd266c7d970",
   "metadata": {},
   "outputs": [
    {
     "name": "stdout",
     "output_type": "stream",
     "text": [
      "2\n"
     ]
    }
   ],
   "source": [
    "print(7 // 3)"
   ]
  },
  {
   "cell_type": "code",
   "execution_count": 24,
   "id": "72646bd8-99f2-43c3-93ea-b462c30d8ebd",
   "metadata": {},
   "outputs": [
    {
     "data": {
      "text/plain": [
       "(2, 5, 10)"
      ]
     },
     "execution_count": 24,
     "metadata": {},
     "output_type": "execute_result"
    }
   ],
   "source": [
    "def production(pre_con, num_cell, pk, dt):\n",
    "\n",
    "    con = pre_con + (pk * num_cell * dt)\n",
    "\n",
    "    return con\n",
    "\n",
    "g = np.array([[[1,0,0,0,0,0,0,0,0,0], [1,0,0,0,0,0,0,0,0,0], [1,0,0,0,0,0,0,0,0,0], [1,0,0,0,0,0,0,0,0,0], [1,0,0,0,0,0,0,0,0,0]],\n",
    "               [[6,0,0,0,0,0,0,0,0,0], [6,0,0,0,0,0,0,0,0,0], [6,0,0,0,0,0,0,0,0,0], [6,0,0,0,0,0,0,0,0,0], [6,0,0,0,0,0,0,0,0,0]]])\n",
    "g.shape"
   ]
  },
  {
   "cell_type": "code",
   "execution_count": 25,
   "id": "c63a36ad-8bbb-4d7a-bd59-d3066ba22c52",
   "metadata": {},
   "outputs": [
    {
     "data": {
      "text/plain": [
       "array([[[11,  0,  0,  0,  0,  0,  0,  0,  0,  0],\n",
       "        [11,  0,  0,  0,  0,  0,  0,  0,  0,  0],\n",
       "        [11,  0,  0,  0,  0,  0,  0,  0,  0,  0],\n",
       "        [11,  0,  0,  0,  0,  0,  0,  0,  0,  0],\n",
       "        [11,  0,  0,  0,  0,  0,  0,  0,  0,  0]],\n",
       "\n",
       "       [[ 6,  0,  0,  0,  0,  0,  0,  0,  0,  0],\n",
       "        [ 6,  0,  0,  0,  0,  0,  0,  0,  0,  0],\n",
       "        [ 6,  0,  0,  0,  0,  0,  0,  0,  0,  0],\n",
       "        [ 6,  0,  0,  0,  0,  0,  0,  0,  0,  0],\n",
       "        [ 6,  0,  0,  0,  0,  0,  0,  0,  0,  0]]])"
      ]
     },
     "execution_count": 25,
     "metadata": {},
     "output_type": "execute_result"
    }
   ],
   "source": [
    "g[0, :, 0] = production(g[0, :, 0], g[1, :, 0], 2, .9)\n",
    "g"
   ]
  },
  {
   "cell_type": "code",
   "execution_count": 22,
   "id": "39bb0b14-a759-4c1a-b838-da06f7d5cc1f",
   "metadata": {},
   "outputs": [
    {
     "name": "stdout",
     "output_type": "stream",
     "text": [
      "[[[11  0  0  0  0  0  0  0  0  0]\n",
      "  [11  0  0  0  0  0  0  0  0  0]\n",
      "  [11  0  0  0  0  0  0  0  0  0]\n",
      "  [11  0  0  0  0  0  0  0  0  0]\n",
      "  [11  0  0  0  0  0  0  0  0  0]]\n",
      "\n",
      " [[ 6  0  0  0  0  0  0  0  0  0]\n",
      "  [ 6  0  0  0  0  0  0  0  0  0]\n",
      "  [ 6  0  0  0  0  0  0  0  0  0]\n",
      "  [ 6  0  0  0  0  0  0  0  0  0]\n",
      "  [ 6  0  0  0  0  0  0  0  0  0]]]\n"
     ]
    }
   ],
   "source": [
    "import numpy as np\n",
    "\n",
    "# Define the function\n",
    "def production(pre_con, num_cell, pk, dt):\n",
    "    con = pre_con + (pk * num_cell * dt)\n",
    "    return con\n",
    "\n",
    "# Initialize the array\n",
    "g = np.array([\n",
    "    [[1,0,0,0,0,0,0,0,0,0], [1,0,0,0,0,0,0,0,0,0], [1,0,0,0,0,0,0,0,0,0], [1,0,0,0,0,0,0,0,0,0], [1,0,0,0,0,0,0,0,0,0]],\n",
    "    [[6,0,0,0,0,0,0,0,0,0], [6,0,0,0,0,0,0,0,0,0], [6,0,0,0,0,0,0,0,0,0], [6,0,0,0,0,0,0,0,0,0], [6,0,0,0,0,0,0,0,0,0]]\n",
    "])\n",
    "\n",
    "# Use the function to update the array\n",
    "g[0, :, 0] = production(g[0, :, 0], g[1, :, 0], 2, .9)\n",
    "\n",
    "# Print the updated array\n",
    "print(g)\n"
   ]
  },
  {
   "cell_type": "code",
   "execution_count": 26,
   "id": "90899902-9156-4966-a841-fb20a52845e0",
   "metadata": {},
   "outputs": [
    {
     "data": {
      "text/plain": [
       "array([[[5, 0, 0, 0, 0, 0, 0, 0, 0, 0],\n",
       "        [5, 0, 0, 0, 0, 0, 0, 0, 0, 0],\n",
       "        [5, 0, 0, 0, 0, 0, 0, 0, 0, 0],\n",
       "        [5, 0, 0, 0, 0, 0, 0, 0, 0, 0],\n",
       "        [5, 0, 0, 0, 0, 0, 0, 0, 0, 0]],\n",
       "\n",
       "       [[6, 0, 0, 0, 0, 0, 0, 0, 0, 0],\n",
       "        [6, 0, 0, 0, 0, 0, 0, 0, 0, 0],\n",
       "        [6, 0, 0, 0, 0, 0, 0, 0, 0, 0],\n",
       "        [6, 0, 0, 0, 0, 0, 0, 0, 0, 0],\n",
       "        [6, 0, 0, 0, 0, 0, 0, 0, 0, 0]]])"
      ]
     },
     "execution_count": 26,
     "metadata": {},
     "output_type": "execute_result"
    }
   ],
   "source": [
    "def degradation(pre_con, dk, dt):\n",
    "    con = pre_con - (dk * pre_con * dt)\n",
    "\n",
    "    return con\n",
    "\n",
    "g[0, :, 0] = degradation(g[0, :, 0], .9, .6)\n",
    "g"
   ]
  },
  {
   "cell_type": "code",
   "execution_count": 31,
   "id": "b07538d9-de3d-4008-91ba-1dbfaa16e36a",
   "metadata": {},
   "outputs": [
    {
     "ename": "ValueError",
     "evalue": "setting an array element with a sequence. The requested array has an inhomogeneous shape after 1 dimensions. The detected shape was (2,) + inhomogeneous part.",
     "output_type": "error",
     "traceback": [
      "\u001b[0;31m---------------------------------------------------------------------------\u001b[0m",
      "\u001b[0;31mValueError\u001b[0m                                Traceback (most recent call last)",
      "Cell \u001b[0;32mIn[31], line 6\u001b[0m\n\u001b[1;32m      3\u001b[0m     uspecies1 \u001b[38;5;241m=\u001b[39m species1 \u001b[38;5;241m-\u001b[39m collision\n\u001b[1;32m      4\u001b[0m     \u001b[38;5;28;01mreturn\u001b[39;00m uspecies1\n\u001b[0;32m----> 6\u001b[0m g[\u001b[38;5;241m0\u001b[39m, :, \u001b[38;5;241m0\u001b[39m] \u001b[38;5;241m=\u001b[39m \u001b[43mspecies_collision\u001b[49m\u001b[43m(\u001b[49m\u001b[43mg\u001b[49m\u001b[43m[\u001b[49m\u001b[38;5;241;43m0\u001b[39;49m\u001b[43m,\u001b[49m\u001b[43m \u001b[49m\u001b[43m:\u001b[49m\u001b[43m,\u001b[49m\u001b[43m \u001b[49m\u001b[38;5;241;43m0\u001b[39;49m\u001b[43m]\u001b[49m\u001b[43m,\u001b[49m\u001b[43m \u001b[49m\u001b[43mg\u001b[49m\u001b[43m[\u001b[49m\u001b[38;5;241;43m1\u001b[39;49m\u001b[43m,\u001b[49m\u001b[43m \u001b[49m\u001b[43m:\u001b[49m\u001b[43m,\u001b[49m\u001b[43m \u001b[49m\u001b[38;5;241;43m0\u001b[39;49m\u001b[43m]\u001b[49m\u001b[43m,\u001b[49m\u001b[43m \u001b[49m\u001b[38;5;241;43m2\u001b[39;49m\u001b[43m,\u001b[49m\u001b[43m \u001b[49m\u001b[38;5;241;43m0.1\u001b[39;49m\u001b[43m)\u001b[49m\n\u001b[1;32m      7\u001b[0m g\n",
      "Cell \u001b[0;32mIn[31], line 3\u001b[0m, in \u001b[0;36mspecies_collision\u001b[0;34m(species1, species2, collision_rate, time_step)\u001b[0m\n\u001b[1;32m      1\u001b[0m \u001b[38;5;28;01mdef\u001b[39;00m \u001b[38;5;21mspecies_collision\u001b[39m(species1, species2, collision_rate, time_step):\n\u001b[1;32m      2\u001b[0m     collision \u001b[38;5;241m=\u001b[39m species2 \u001b[38;5;241m*\u001b[39m collision_rate, time_step\n\u001b[0;32m----> 3\u001b[0m     uspecies1 \u001b[38;5;241m=\u001b[39m \u001b[43mspecies1\u001b[49m\u001b[43m \u001b[49m\u001b[38;5;241;43m-\u001b[39;49m\u001b[43m \u001b[49m\u001b[43mcollision\u001b[49m\n\u001b[1;32m      4\u001b[0m     \u001b[38;5;28;01mreturn\u001b[39;00m uspecies1\n",
      "\u001b[0;31mValueError\u001b[0m: setting an array element with a sequence. The requested array has an inhomogeneous shape after 1 dimensions. The detected shape was (2,) + inhomogeneous part."
     ]
    }
   ],
   "source": [
    "def species_collision(species1, species2, collision_rate, time_step):\n",
    "    collision = species2 * collision_rate, time_step\n",
    "    uspecies1 = species1 - collision\n",
    "    return uspecies1\n",
    "\n",
    "g[0, :, 0] = species_collision(g[0, :, 0], g[1, :, 0], 2, 0.1)\n",
    "g"
   ]
  },
  {
   "cell_type": "code",
   "execution_count": 29,
   "id": "97d94f68-5a44-4444-8969-69b731f3bb81",
   "metadata": {},
   "outputs": [
    {
     "data": {
      "text/plain": [
       "array([0.6, 1.4, 2.5, 3. ])"
      ]
     },
     "execution_count": 29,
     "metadata": {},
     "output_type": "execute_result"
    }
   ],
   "source": []
  },
  {
   "cell_type": "code",
   "execution_count": 34,
   "id": "2ab197bd-b3c4-491e-826c-473929d85aff",
   "metadata": {},
   "outputs": [
    {
     "name": "stdout",
     "output_type": "stream",
     "text": [
      "[[[9 0 0 0 0 0 0 0 0 0]\n",
      "  [9 0 0 0 0 0 0 0 0 0]\n",
      "  [9 0 0 0 0 0 0 0 0 0]\n",
      "  [9 0 0 0 0 0 0 0 0 0]\n",
      "  [9 0 0 0 0 0 0 0 0 0]]\n",
      "\n",
      " [[4 0 0 0 0 0 0 0 0 0]\n",
      "  [4 0 0 0 0 0 0 0 0 0]\n",
      "  [4 0 0 0 0 0 0 0 0 0]\n",
      "  [4 0 0 0 0 0 0 0 0 0]\n",
      "  [4 0 0 0 0 0 0 0 0 0]]]\n"
     ]
    }
   ],
   "source": [
    "import numpy as np\n",
    "\n",
    "# Define the function\n",
    "def apply_species_collision(species1, species2, collision_rate, time_step):\n",
    "    \"\"\"\n",
    "    Apply the effect of species collision on the concentration of a species.\n",
    "\n",
    "    Parameters:\n",
    "    - species1 (numpy.ndarray): Array of concentrations of the first species.\n",
    "    - species2 (numpy.ndarray): Array of concentrations of the second species.\n",
    "    - collision_rate (float): Rate at which collisions occur between the two species.\n",
    "    - time_step (float): Discrete time step for the calculation.\n",
    "\n",
    "    Returns:\n",
    "    - numpy.ndarray: Updated concentrations of the first species after collision.\n",
    "    \"\"\"\n",
    "    # Calculate the change due to collisions\n",
    "    collision_effect = species2 * collision_rate * time_step\n",
    "    \n",
    "    # Update species1 based on the collision effect\n",
    "    updated_species1 = species1 - collision_effect\n",
    "    updated_species2 = species2 - collision_effect\n",
    "    \n",
    "    return updated_species1, updated_species2\n",
    "\n",
    "# Initialize the array\n",
    "g = np.array([\n",
    "    [[11,0,0,0,0,0,0,0,0,0], [11,0,0,0,0,0,0,0,0,0], [11,0,0,0,0,0,0,0,0,0], [11,0,0,0,0,0,0,0,0,0], [11,0,0,0,0,0,0,0,0,0]],\n",
    "    [[6,0,0,0,0,0,0,0,0,0], [6,0,0,0,0,0,0,0,0,0], [6,0,0,0,0,0,0,0,0,0], [6,0,0,0,0,0,0,0,0,0], [6,0,0,0,0,0,0,0,0,0]]\n",
    "])\n",
    "\n",
    "# Apply species collision\n",
    "g[0, :, 0],  g[1, :, 0] = apply_species_collision(g[0, :, 0], g[1, :, 0], 2, 0.1)\n",
    "\n",
    "# Print the updated array\n",
    "print(g)\n"
   ]
  },
  {
   "cell_type": "code",
   "execution_count": 37,
   "id": "fe7365a1-0c31-47ed-bdf5-a2a1264abfb6",
   "metadata": {},
   "outputs": [
    {
     "name": "stdout",
     "output_type": "stream",
     "text": [
      "[[[10  0  0  0  0  0  0  0  0  0]\n",
      "  [10  0  0  0  0  0  0  0  0  0]\n",
      "  [10  0  0  0  0  0  0  0  0  0]\n",
      "  [10  0  0  0  0  0  0  0  0  0]\n",
      "  [10  0  0  0  0  0  0  0  0  0]]\n",
      "\n",
      " [[ 4  0  0  0  0  0  0  0  0  0]\n",
      "  [ 4  0  0  0  0  0  0  0  0  0]\n",
      "  [ 4  0  0  0  0  0  0  0  0  0]\n",
      "  [ 4  0  0  0  0  0  0  0  0  0]\n",
      "  [ 4  0  0  0  0  0  0  0  0  0]]]\n"
     ]
    }
   ],
   "source": [
    "import numpy as np\n",
    "\n",
    "def apply_species_collision1(species1, species2, collision_rate, time_step):\n",
    "    \n",
    "    \n",
    "    collision_effect = collision_rate * time_step\n",
    "    \n",
    "    updated_species1 = species1 - (species2 * collision_effect)\n",
    "    updated_species2 = species2 - (species1 * collision_effect)\n",
    "    \n",
    "    return updated_species1, updated_species2\n",
    "\n",
    "g = np.array([\n",
    "    [[11,0,0,0,0,0,0,0,0,0], [11,0,0,0,0,0,0,0,0,0], [11,0,0,0,0,0,0,0,0,0], [11,0,0,0,0,0,0,0,0,0], [11,0,0,0,0,0,0,0,0,0]],\n",
    "    [[6,0,0,0,0,0,0,0,0,0], [6,0,0,0,0,0,0,0,0,0], [6,0,0,0,0,0,0,0,0,0], [6,0,0,0,0,0,0,0,0,0], [6,0,0,0,0,0,0,0,0,0]]\n",
    "])\n",
    "\n",
    "# Apply species collision\n",
    "g[0, :, 0],  g[1, :, 0] = apply_species_collision1(g[0, :, 0], g[1, :, 0], 1.3, 0.1)\n",
    "\n",
    "# Print the updated array\n",
    "print(g)\n"
   ]
  },
  {
   "cell_type": "code",
   "execution_count": 68,
   "id": "89608831-53b7-4393-bb7b-b84b36f80c12",
   "metadata": {},
   "outputs": [
    {
     "data": {
      "text/plain": [
       "array([[[4.07, 0.  , 0.  , 0.  , 0.  , 0.  , 0.  , 0.  , 0.  , 0.  ],\n",
       "        [4.07, 0.  , 0.  , 0.  , 0.  , 0.  , 0.  , 0.  , 0.  , 0.  ],\n",
       "        [4.07, 0.  , 0.  , 0.  , 0.  , 0.  , 0.  , 0.  , 0.  , 0.  ],\n",
       "        [4.07, 0.  , 0.  , 0.  , 0.  , 0.  , 0.  , 0.  , 0.  , 0.  ],\n",
       "        [4.07, 0.  , 0.  , 0.  , 0.  , 0.  , 0.  , 0.  , 0.  , 0.  ]],\n",
       "\n",
       "       [[9.07, 0.  , 0.  , 0.  , 0.  , 0.  , 0.  , 0.  , 0.  , 0.  ],\n",
       "        [9.07, 0.  , 0.  , 0.  , 0.  , 0.  , 0.  , 0.  , 0.  , 0.  ],\n",
       "        [9.07, 0.  , 0.  , 0.  , 0.  , 0.  , 0.  , 0.  , 0.  , 0.  ],\n",
       "        [9.07, 0.  , 0.  , 0.  , 0.  , 0.  , 0.  , 0.  , 0.  , 0.  ],\n",
       "        [9.07, 0.  , 0.  , 0.  , 0.  , 0.  , 0.  , 0.  , 0.  , 0.  ]],\n",
       "\n",
       "       [[7.93, 0.  , 0.  , 0.  , 0.  , 0.  , 0.  , 0.  , 0.  , 0.  ],\n",
       "        [7.93, 0.  , 0.  , 0.  , 0.  , 0.  , 0.  , 0.  , 0.  , 0.  ],\n",
       "        [7.93, 0.  , 0.  , 0.  , 0.  , 0.  , 0.  , 0.  , 0.  , 0.  ],\n",
       "        [7.93, 0.  , 0.  , 0.  , 0.  , 0.  , 0.  , 0.  , 0.  , 0.  ],\n",
       "        [7.93, 0.  , 0.  , 0.  , 0.  , 0.  , 0.  , 0.  , 0.  , 0.  ]]])"
      ]
     },
     "execution_count": 68,
     "metadata": {},
     "output_type": "execute_result"
    }
   ],
   "source": [
    "def apply_species_collision(species1, species2, complex_, collision_rate, time_step):\n",
    "  \n",
    "    collision_effect = collision_rate * time_step\n",
    "    complex_formed  = np.minimum(species1 * collision_effect, species2 * collision_effect)\n",
    "    \n",
    "    updated_species1 = species1 - complex_formed\n",
    "    updated_species2 = species2 - complex_formed\n",
    "    updated_complex = complex_ + complex_formed\n",
    "    \n",
    "    return updated_species1, updated_species2, updated_complex\n",
    "\n",
    "\n",
    "\n",
    "def apply_complex_dissociation(species1, species2, complex_, dissociation_rate, time_step):\n",
    "\n",
    "    dissociation_effect = dissociation_rate * time_step\n",
    "    dissociated_amount = complex_ * dissociation_effect\n",
    "    \n",
    "    updated_complex = complex_ - dissociated_amount\n",
    "    updated_species1 = species1 + dissociated_amount\n",
    "    updated_species2 = species2 + dissociated_amount\n",
    "    \n",
    "    return updated_species1, updated_species2, updated_complex\n",
    "\n",
    "\n",
    "g = np.array([\n",
    "    [[11,0,0,0,0,0,0,0,0,0], [11,0,0,0,0,0,0,0,0,0], [11,0,0,0,0,0,0,0,0,0], [11,0,0,0,0,0,0,0,0,0], [11,0,0,0,0,0,0,0,0,0]],\n",
    "    [[16,0,0,0,0,0,0,0,0,0], [16,0,0,0,0,0,0,0,0,0], [16,0,0,0,0,0,0,0,0,0], [16,0,0,0,0,0,0,0,0,0], [16,0,0,0,0,0,0,0,0,0]],\n",
    "    [[1,0,0,0,0,0,0,0,0,0], [1,0,0,0,0,0,0,0,0,0], [1,0,0,0,0,0,0,0,0,0], [1,0,0,0,0,0,0,0,0,0], [1,0,0,0,0,0,0,0,0,0]]\n",
    "], dtype=float)\n",
    "\n",
    "g[0, :, 0], g[1, :, 0], g[2, :, 0] = apply_species_collision(g[0, :, 0], g[1, :, 0], g[2, :, 0], 2.1, 0.3)\n",
    "g\n"
   ]
  },
  {
   "cell_type": "code",
   "execution_count": 69,
   "id": "31196488-ed13-4c7d-abdf-9dab7ce26490",
   "metadata": {},
   "outputs": [
    {
     "data": {
      "text/plain": [
       "array([[[ 6.6869,  0.    ,  0.    ,  0.    ,  0.    ,  0.    ,  0.    ,\n",
       "          0.    ,  0.    ,  0.    ],\n",
       "        [ 6.6869,  0.    ,  0.    ,  0.    ,  0.    ,  0.    ,  0.    ,\n",
       "          0.    ,  0.    ,  0.    ],\n",
       "        [ 6.6869,  0.    ,  0.    ,  0.    ,  0.    ,  0.    ,  0.    ,\n",
       "          0.    ,  0.    ,  0.    ],\n",
       "        [ 6.6869,  0.    ,  0.    ,  0.    ,  0.    ,  0.    ,  0.    ,\n",
       "          0.    ,  0.    ,  0.    ],\n",
       "        [ 6.6869,  0.    ,  0.    ,  0.    ,  0.    ,  0.    ,  0.    ,\n",
       "          0.    ,  0.    ,  0.    ]],\n",
       "\n",
       "       [[11.6869,  0.    ,  0.    ,  0.    ,  0.    ,  0.    ,  0.    ,\n",
       "          0.    ,  0.    ,  0.    ],\n",
       "        [11.6869,  0.    ,  0.    ,  0.    ,  0.    ,  0.    ,  0.    ,\n",
       "          0.    ,  0.    ,  0.    ],\n",
       "        [11.6869,  0.    ,  0.    ,  0.    ,  0.    ,  0.    ,  0.    ,\n",
       "          0.    ,  0.    ,  0.    ],\n",
       "        [11.6869,  0.    ,  0.    ,  0.    ,  0.    ,  0.    ,  0.    ,\n",
       "          0.    ,  0.    ,  0.    ],\n",
       "        [11.6869,  0.    ,  0.    ,  0.    ,  0.    ,  0.    ,  0.    ,\n",
       "          0.    ,  0.    ,  0.    ]],\n",
       "\n",
       "       [[ 5.3131,  0.    ,  0.    ,  0.    ,  0.    ,  0.    ,  0.    ,\n",
       "          0.    ,  0.    ,  0.    ],\n",
       "        [ 5.3131,  0.    ,  0.    ,  0.    ,  0.    ,  0.    ,  0.    ,\n",
       "          0.    ,  0.    ,  0.    ],\n",
       "        [ 5.3131,  0.    ,  0.    ,  0.    ,  0.    ,  0.    ,  0.    ,\n",
       "          0.    ,  0.    ,  0.    ],\n",
       "        [ 5.3131,  0.    ,  0.    ,  0.    ,  0.    ,  0.    ,  0.    ,\n",
       "          0.    ,  0.    ,  0.    ],\n",
       "        [ 5.3131,  0.    ,  0.    ,  0.    ,  0.    ,  0.    ,  0.    ,\n",
       "          0.    ,  0.    ,  0.    ]]])"
      ]
     },
     "execution_count": 69,
     "metadata": {},
     "output_type": "execute_result"
    }
   ],
   "source": [
    "g[0, :, 0], g[1, :, 0], g[2, :, 0] = apply_complex_dissociation(g[0, :, 0], g[1, :, 0], g[2, :, 0], 1.1, .3)\n",
    "g"
   ]
  },
  {
   "cell_type": "code",
   "execution_count": 74,
   "id": "f0ab4a44-aab9-4cfa-a117-e7e6579a5120",
   "metadata": {},
   "outputs": [
    {
     "name": "stdout",
     "output_type": "stream",
     "text": [
      "[2 3 4 5 6 7]\n"
     ]
    }
   ],
   "source": [
    "x = np.array([1,2,3,4,5,6,7,8])\n",
    "print(x[1:-1])"
   ]
  },
  {
   "cell_type": "code",
   "execution_count": 72,
   "id": "9924f0a0-621c-44c5-81d0-4b5f583f6496",
   "metadata": {},
   "outputs": [
    {
     "data": {
      "text/plain": [
       "array([[[13.555073,  0.      ,  0.      ,  0.      ,  0.      ,\n",
       "          0.      ,  0.      ,  0.      ,  0.      ,  0.      ],\n",
       "        [13.555073,  0.      ,  0.      ,  0.      ,  0.      ,\n",
       "          0.      ,  0.      ,  0.      ,  0.      ,  0.      ],\n",
       "        [13.555073,  0.      ,  0.      ,  0.      ,  0.      ,\n",
       "          0.      ,  0.      ,  0.      ,  0.      ,  0.      ],\n",
       "        [13.555073,  0.      ,  0.      ,  0.      ,  0.      ,\n",
       "          0.      ,  0.      ,  0.      ,  0.      ,  0.      ],\n",
       "        [13.555073,  0.      ,  0.      ,  0.      ,  0.      ,\n",
       "          0.      ,  0.      ,  0.      ,  0.      ,  0.      ]],\n",
       "\n",
       "       [[18.555073,  0.      ,  0.      ,  0.      ,  0.      ,\n",
       "          0.      ,  0.      ,  0.      ,  0.      ,  0.      ],\n",
       "        [18.555073,  0.      ,  0.      ,  0.      ,  0.      ,\n",
       "          0.      ,  0.      ,  0.      ,  0.      ,  0.      ],\n",
       "        [18.555073,  0.      ,  0.      ,  0.      ,  0.      ,\n",
       "          0.      ,  0.      ,  0.      ,  0.      ,  0.      ],\n",
       "        [18.555073,  0.      ,  0.      ,  0.      ,  0.      ,\n",
       "          0.      ,  0.      ,  0.      ,  0.      ,  0.      ],\n",
       "        [18.555073,  0.      ,  0.      ,  0.      ,  0.      ,\n",
       "          0.      ,  0.      ,  0.      ,  0.      ,  0.      ]],\n",
       "\n",
       "       [[ 0.      ,  0.      ,  0.      ,  0.      ,  0.      ,\n",
       "          0.      ,  0.      ,  0.      ,  0.      ,  0.      ],\n",
       "        [ 0.      ,  0.      ,  0.      ,  0.      ,  0.      ,\n",
       "          0.      ,  0.      ,  0.      ,  0.      ,  0.      ],\n",
       "        [ 0.      ,  0.      ,  0.      ,  0.      ,  0.      ,\n",
       "          0.      ,  0.      ,  0.      ,  0.      ,  0.      ],\n",
       "        [ 0.      ,  0.      ,  0.      ,  0.      ,  0.      ,\n",
       "          0.      ,  0.      ,  0.      ,  0.      ,  0.      ],\n",
       "        [ 0.      ,  0.      ,  0.      ,  0.      ,  0.      ,\n",
       "          0.      ,  0.      ,  0.      ,  0.      ,  0.      ]]])"
      ]
     },
     "execution_count": 72,
     "metadata": {},
     "output_type": "execute_result"
    }
   ],
   "source": [
    "g[0, :, 0], g[1, :, 0], g[2, :, 0] = apply_complex_dissociation(g[0, :, 0], g[1, :, 0], g[2, :, 0], 5.1, .3)\n",
    "g"
   ]
  },
  {
   "cell_type": "code",
   "execution_count": 37,
   "id": "0ee4350a-eb96-4ffd-af7f-2f1176a33830",
   "metadata": {},
   "outputs": [],
   "source": [
    "def apply_component_production(initial_concentration, production_pattern, production_rate, time_step):\n",
    "   \n",
    "    updated_concentration = np.maximum(initial_concentration + (production_pattern.T * production_rate * time_step).T, 0)\n",
    "\n",
    "    return updated_concentration"
   ]
  },
  {
   "cell_type": "code",
   "execution_count": 38,
   "id": "5c7df2b3-169a-48fe-8a99-62544cd11a59",
   "metadata": {},
   "outputs": [
    {
     "data": {
      "text/plain": [
       "(5, 7, 10, 10)"
      ]
     },
     "execution_count": 38,
     "metadata": {},
     "output_type": "execute_result"
    }
   ],
   "source": [
    "g = np.ones((5, 7, 10, 10)) # (m, z, y, x)\n",
    "g.shape"
   ]
  },
  {
   "cell_type": "code",
   "execution_count": 43,
   "id": "f9ba9e61-4db8-4481-b627-eeb229c298c4",
   "metadata": {},
   "outputs": [
    {
     "data": {
      "text/plain": [
       "(5, 10)"
      ]
     },
     "execution_count": 43,
     "metadata": {},
     "output_type": "execute_result"
    }
   ],
   "source": [
    "g[:, 0, :, 0] = 5\n",
    "g[:, 0, :, 0].shape"
   ]
  },
  {
   "cell_type": "code",
   "execution_count": 44,
   "id": "c5ab16e1-705a-40ef-910d-5e7c18eb94b7",
   "metadata": {},
   "outputs": [
    {
     "data": {
      "text/plain": [
       "(5,)"
      ]
     },
     "execution_count": 44,
     "metadata": {},
     "output_type": "execute_result"
    }
   ],
   "source": [
    "g[:, -1, 0, 0] = np.array([2,4,6,8,10])\n",
    "g[:, -1, 0, 0].shape"
   ]
  },
  {
   "cell_type": "code",
   "execution_count": 41,
   "id": "fd034490-cbdc-4556-950e-2b612c407837",
   "metadata": {},
   "outputs": [],
   "source": [
    "g[:, 0, :, 0] = apply_component_production(g[:, 0, :, 0], g[:, 1, :, 0], g[:, -1, 0, 0], 0.5)"
   ]
  },
  {
   "cell_type": "code",
   "execution_count": 42,
   "id": "07c0be89-8f55-45ce-b5b2-c8c16af162b9",
   "metadata": {},
   "outputs": [
    {
     "data": {
      "text/plain": [
       "array([[ 6.,  6.,  6.,  6.,  6.,  6.,  6.,  6.,  6.,  6.],\n",
       "       [ 7.,  7.,  7.,  7.,  7.,  7.,  7.,  7.,  7.,  7.],\n",
       "       [ 8.,  8.,  8.,  8.,  8.,  8.,  8.,  8.,  8.,  8.],\n",
       "       [ 9.,  9.,  9.,  9.,  9.,  9.,  9.,  9.,  9.,  9.],\n",
       "       [10., 10., 10., 10., 10., 10., 10., 10., 10., 10.]])"
      ]
     },
     "execution_count": 42,
     "metadata": {},
     "output_type": "execute_result"
    }
   ],
   "source": [
    "g[:, 0, :, 0]"
   ]
  },
  {
   "cell_type": "code",
   "execution_count": 71,
   "id": "fff26fb1-d2e3-4e46-be80-d8cf44127add",
   "metadata": {},
   "outputs": [],
   "source": [
    "def apply_species_collision(species1, species2, complex_, collision_rate, time_step):\n",
    "    \n",
    "    collision_effect = collision_rate * time_step\n",
    "    complex_formed = (np.minimum(species1.T * collision_effect, species2.T * collision_effect)).T\n",
    "    complex_formed = np.maximum(complex_formed, 0)\n",
    "\n",
    "    updated_species1 = np.maximum(species1 - complex_formed, 0)\n",
    "    updated_species2 = np.maximum(species2 - complex_formed, 0)\n",
    "\n",
    "    updated_complex = complex_ + complex_formed\n",
    "\n",
    "    return updated_species1, updated_species2, updated_complex"
   ]
  },
  {
   "cell_type": "code",
   "execution_count": 72,
   "id": "e1e96d07-fbcb-4a12-94c6-d65b242a5ae3",
   "metadata": {},
   "outputs": [],
   "source": [
    "g = np.ones((5, 7, 10, 10)) # (m, z, y, x)"
   ]
  },
  {
   "cell_type": "code",
   "execution_count": 73,
   "id": "22897ba7-8561-4450-806b-5f535f10f337",
   "metadata": {},
   "outputs": [],
   "source": [
    "g[:, 0, :, 1] = 30\n",
    "g[:, 1, :, 1] = 50\n",
    "g[:, 2, :, 1] = 100\n",
    "g[:, -1, -1, -1] = np.array([0.5,.4,.6,.8,.10])"
   ]
  },
  {
   "cell_type": "code",
   "execution_count": 74,
   "id": "a52f98c7-b2bf-4c99-9f96-a94c3ad3207f",
   "metadata": {},
   "outputs": [],
   "source": [
    "s1, s2, x = apply_species_collision(g[:, 0, :, 1], g[:, 1, :, 1], g[:, 2, :, 1], g[:, -1, -1, -1], 0.2)"
   ]
  },
  {
   "cell_type": "code",
   "execution_count": 75,
   "id": "acb8efdd-1d6b-427e-8bbe-42bade7bb255",
   "metadata": {},
   "outputs": [
    {
     "data": {
      "text/plain": [
       "array([[27. , 27. , 27. , 27. , 27. , 27. , 27. , 27. , 27. , 27. ],\n",
       "       [27.6, 27.6, 27.6, 27.6, 27.6, 27.6, 27.6, 27.6, 27.6, 27.6],\n",
       "       [26.4, 26.4, 26.4, 26.4, 26.4, 26.4, 26.4, 26.4, 26.4, 26.4],\n",
       "       [25.2, 25.2, 25.2, 25.2, 25.2, 25.2, 25.2, 25.2, 25.2, 25.2],\n",
       "       [29.4, 29.4, 29.4, 29.4, 29.4, 29.4, 29.4, 29.4, 29.4, 29.4]])"
      ]
     },
     "execution_count": 75,
     "metadata": {},
     "output_type": "execute_result"
    }
   ],
   "source": [
    "s1"
   ]
  },
  {
   "cell_type": "code",
   "execution_count": 76,
   "id": "45f26511-2630-4fd7-a8fc-27bb2a1132a9",
   "metadata": {},
   "outputs": [
    {
     "data": {
      "text/plain": [
       "array([[47. , 47. , 47. , 47. , 47. , 47. , 47. , 47. , 47. , 47. ],\n",
       "       [47.6, 47.6, 47.6, 47.6, 47.6, 47.6, 47.6, 47.6, 47.6, 47.6],\n",
       "       [46.4, 46.4, 46.4, 46.4, 46.4, 46.4, 46.4, 46.4, 46.4, 46.4],\n",
       "       [45.2, 45.2, 45.2, 45.2, 45.2, 45.2, 45.2, 45.2, 45.2, 45.2],\n",
       "       [49.4, 49.4, 49.4, 49.4, 49.4, 49.4, 49.4, 49.4, 49.4, 49.4]])"
      ]
     },
     "execution_count": 76,
     "metadata": {},
     "output_type": "execute_result"
    }
   ],
   "source": [
    "s2"
   ]
  },
  {
   "cell_type": "code",
   "execution_count": 77,
   "id": "a0d69015-4bc6-4976-bbb0-381a51201350",
   "metadata": {},
   "outputs": [
    {
     "data": {
      "text/plain": [
       "array([[103. , 103. , 103. , 103. , 103. , 103. , 103. , 103. , 103. ,\n",
       "        103. ],\n",
       "       [102.4, 102.4, 102.4, 102.4, 102.4, 102.4, 102.4, 102.4, 102.4,\n",
       "        102.4],\n",
       "       [103.6, 103.6, 103.6, 103.6, 103.6, 103.6, 103.6, 103.6, 103.6,\n",
       "        103.6],\n",
       "       [104.8, 104.8, 104.8, 104.8, 104.8, 104.8, 104.8, 104.8, 104.8,\n",
       "        104.8],\n",
       "       [100.6, 100.6, 100.6, 100.6, 100.6, 100.6, 100.6, 100.6, 100.6,\n",
       "        100.6]])"
      ]
     },
     "execution_count": 77,
     "metadata": {},
     "output_type": "execute_result"
    }
   ],
   "source": [
    "x"
   ]
  },
  {
   "cell_type": "code",
   "execution_count": 115,
   "id": "cb6c2285-6f90-4437-bcc7-27599c0e9d4b",
   "metadata": {},
   "outputs": [],
   "source": [
    "def update_lower_right_corner_concentration(\n",
    "    cell_concentration,\n",
    "    upper_cell_concentration,\n",
    "    left_cell_concentration,\n",
    "    diffusion_rate,\n",
    "    time_step):\n",
    "   \n",
    "    in_diffusion = (time_step * upper_cell_concentration * diffusion_rate) + \\\n",
    "                   (time_step * left_cell_concentration * diffusion_rate)\n",
    "    out_diffusion = time_step * cell_concentration * diffusion_rate * 2\n",
    "\n",
    "    updated_concentration = cell_concentration + in_diffusion - out_diffusion\n",
    "\n",
    "    return updated_concentration\n"
   ]
  },
  {
   "cell_type": "code",
   "execution_count": 116,
   "id": "1cecdd37-8af5-40c1-ae52-f17a304dd798",
   "metadata": {},
   "outputs": [],
   "source": [
    "g = np.ones((5, 7, 10, 10)) # (m, z, y, x)"
   ]
  },
  {
   "cell_type": "code",
   "execution_count": 117,
   "id": "11f5fd1e-df52-48b5-b8df-3bab02c3ba74",
   "metadata": {},
   "outputs": [],
   "source": [
    "g[:, 0, -1, -1] = 10\n",
    "g[:, 0, -2, -1] = 20\n",
    "g[:, 0, -1, -2] = 30\n"
   ]
  },
  {
   "cell_type": "code",
   "execution_count": 118,
   "id": "fa8cbce8-6ce4-4a6e-83e6-d5fb4f71678e",
   "metadata": {},
   "outputs": [],
   "source": [
    "g[:, 0, -1, -1] = update_lower_right_corner_concentration(g[:, 0, -1, -1], g[:, 0, -2, -1], g[:, 0, -1, -2], np.array([2, 3, 1, 5, 1.2]), .2)"
   ]
  },
  {
   "cell_type": "code",
   "execution_count": 121,
   "id": "5b47a730-959f-4682-9b6d-6e7a082193e4",
   "metadata": {},
   "outputs": [
    {
     "data": {
      "text/plain": [
       "array([22. , 28. , 16. , 40. , 17.2])"
      ]
     },
     "execution_count": 121,
     "metadata": {},
     "output_type": "execute_result"
    }
   ],
   "source": [
    "g[:, 0, -1, -1]"
   ]
  },
  {
   "cell_type": "code",
   "execution_count": 128,
   "id": "d3dc4363-c55c-4c5e-88a7-39a19733cf2d",
   "metadata": {},
   "outputs": [],
   "source": [
    "def update_upper_left_corner_concentration(\n",
    "    cell_concentration,\n",
    "    lower_cell_concentration,\n",
    "    right_cell_concentration,\n",
    "    diffusion_rate,\n",
    "    time_step):\n",
    "  \n",
    "    in_diffusion = (time_step * lower_cell_concentration * diffusion_rate) + \\\n",
    "                   (time_step * right_cell_concentration * diffusion_rate)\n",
    "    out_diffusion = time_step * cell_concentration * diffusion_rate * 2\n",
    "\n",
    "    updated_concentration = cell_concentration + in_diffusion - out_diffusion\n",
    "\n",
    "    return updated_concentration"
   ]
  },
  {
   "cell_type": "code",
   "execution_count": 129,
   "id": "7e7a5b59-7ab0-442b-af0d-8cc1508d5600",
   "metadata": {},
   "outputs": [],
   "source": [
    "g = np.ones((5, 7, 10, 10)) # (m, z, y, x)"
   ]
  },
  {
   "cell_type": "code",
   "execution_count": 130,
   "id": "525170f5-cca8-492a-a19a-95e1fb12521f",
   "metadata": {},
   "outputs": [],
   "source": [
    "g[:, 0, 0, 0] = 10\n",
    "g[:, 0, 1, 0] = 20\n",
    "g[:, 0, 0, 1] = 30"
   ]
  },
  {
   "cell_type": "code",
   "execution_count": 131,
   "id": "9ed75dce-3e24-4ef9-ae2d-9b7fabb90801",
   "metadata": {},
   "outputs": [],
   "source": [
    "g[:, 0, 0, 0] = update_upper_left_corner_concentration(g[:, 0, 0, 0], g[:, 0, 1, 0], g[:, 0, 0, 1], np.array([2, 3, 1, 5, 1.2]), .2)"
   ]
  },
  {
   "cell_type": "code",
   "execution_count": 237,
   "id": "84d84ad3-f67c-4235-a6ff-73ccfc87547b",
   "metadata": {},
   "outputs": [
    {
     "data": {
      "text/plain": [
       "(5,)"
      ]
     },
     "execution_count": 237,
     "metadata": {},
     "output_type": "execute_result"
    }
   ],
   "source": []
  },
  {
   "cell_type": "code",
   "execution_count": 135,
   "id": "ca75211d-8f8f-4743-8a35-a621296d54ee",
   "metadata": {},
   "outputs": [],
   "source": [
    "def update_upper_right_corner_concentration(\n",
    "    cell_concentration,\n",
    "    lower_cell_concentration,\n",
    "    left_cell_concentration,\n",
    "    diffusion_rate,\n",
    "    time_step):\n",
    "  \n",
    "    in_diffusion = (time_step * lower_cell_concentration * diffusion_rate) + \\\n",
    "                   (time_step * left_cell_concentration * diffusion_rate)\n",
    "    out_diffusion = time_step * cell_concentration * diffusion_rate * 2\n",
    "\n",
    "    updated_concentration = cell_concentration + in_diffusion - out_diffusion\n",
    "\n",
    "    return updated_concentration"
   ]
  },
  {
   "cell_type": "code",
   "execution_count": 136,
   "id": "8da10e5f-6ebc-42f5-9aac-c8ad4a51fc41",
   "metadata": {},
   "outputs": [],
   "source": [
    "g = np.ones((5, 7, 10, 10)) # (m, z, y, x)"
   ]
  },
  {
   "cell_type": "code",
   "execution_count": 137,
   "id": "d67180d3-d3de-4142-a84e-a50ae9bc3cd5",
   "metadata": {},
   "outputs": [],
   "source": [
    "g[:, 0, 0, -1] = 10\n",
    "g[:, 0, 1, -1] = 20\n",
    "g[:, 0, 0, -2] = 30"
   ]
  },
  {
   "cell_type": "code",
   "execution_count": 139,
   "id": "87b48dcf-31a4-4762-86ef-9d93b7155ded",
   "metadata": {},
   "outputs": [],
   "source": [
    "g[:, 0, 0, -1] = update_upper_right_corner_concentration(g[:, 0, 0, -1], g[:, 0, 1, -1], g[:, 0, 0, -2], np.array([2, 3, 1, 5, 1.2]), .2)"
   ]
  },
  {
   "cell_type": "code",
   "execution_count": 155,
   "id": "c3993500-79fb-41dd-a9e9-929c5ccff1d2",
   "metadata": {},
   "outputs": [],
   "source": [
    "def update_left_side_concentration(\n",
    "    cell_concentration,\n",
    "    upper_cell_concentration,\n",
    "    lower_cell_concentration,\n",
    "    right_cell_concentration,\n",
    "    diffusion_rate,\n",
    "    time_step):\n",
    "    \n",
    "    upper_cell_in = (time_step * upper_cell_concentration.T * diffusion_rate).T\n",
    "    lower_cell_in = (time_step * lower_cell_concentration.T * diffusion_rate).T\n",
    "    right_cell_in = (time_step * right_cell_concentration.T * diffusion_rate).T\n",
    "    in_diffusion = upper_cell_in + lower_cell_in + right_cell_in\n",
    "\n",
    "    out_diffusion = (time_step * cell_concentration.T * diffusion_rate * 3).T\n",
    "\n",
    "    updated_concentration = cell_concentration + in_diffusion - out_diffusion\n",
    "\n",
    "    return updated_concentration"
   ]
  },
  {
   "cell_type": "code",
   "execution_count": 156,
   "id": "3a07611f-b23d-4132-85d3-d79fcd8f9102",
   "metadata": {},
   "outputs": [],
   "source": [
    "g = np.ones((5, 7, 10, 10)) # (m, z, y, x)"
   ]
  },
  {
   "cell_type": "code",
   "execution_count": 157,
   "id": "09292d9c-6b6b-4e43-8edd-ea6bd5d5b89e",
   "metadata": {},
   "outputs": [],
   "source": [
    "g[:, 0, :, 0] = 1.9\n",
    "g[:, 0, :, 1] = 2.7"
   ]
  },
  {
   "cell_type": "code",
   "execution_count": 158,
   "id": "f105f8c3-8db6-433f-b3ba-74c52fec43a2",
   "metadata": {},
   "outputs": [],
   "source": [
    "g[:, 0, 1:-1, 0] = update_left_side_concentration(g[:, 0, 1:-1, 0], g[:, 0, :-2, 0] , g[:, 0, 2: , 0] , g[:, 0, 1:-1, 1], np.array([1,2,3,4,5]), 0.4)"
   ]
  },
  {
   "cell_type": "code",
   "execution_count": 160,
   "id": "17d9c864-9b78-460c-b1b4-c0a50caa4484",
   "metadata": {},
   "outputs": [
    {
     "data": {
      "text/plain": [
       "(5, 8)"
      ]
     },
     "execution_count": 160,
     "metadata": {},
     "output_type": "execute_result"
    }
   ],
   "source": [
    "g[:, 0, 1:-1, 0].shape"
   ]
  },
  {
   "cell_type": "code",
   "execution_count": 165,
   "id": "463a76d6-7718-476d-b71b-d59cd249ed84",
   "metadata": {},
   "outputs": [],
   "source": [
    "def update_right_side_concentration(\n",
    "        cell_concentration,\n",
    "        upper_cell_concentration,\n",
    "        lower_cell_concentration,\n",
    "        left_cell_concentration,\n",
    "        diffusion_rate,\n",
    "        time_step):\n",
    "  \n",
    "    upper_cell_in = (time_step * upper_cell_concentration.T * diffusion_rate).T\n",
    "    lower_cell_in = (time_step * lower_cell_concentration.T * diffusion_rate).T\n",
    "    right_cell_in = (time_step * left_cell_concentration.T * diffusion_rate).T\n",
    "    in_diffusion = upper_cell_in + lower_cell_in + right_cell_in\n",
    "\n",
    "    out_diffusion = (time_step * cell_concentration.T * diffusion_rate * 3).T\n",
    "\n",
    "    updated_concentration = cell_concentration + in_diffusion - out_diffusion\n",
    "\n",
    "    return updated_concentration"
   ]
  },
  {
   "cell_type": "code",
   "execution_count": 166,
   "id": "f3930487-4535-43bb-8ba5-71b5163c2517",
   "metadata": {},
   "outputs": [],
   "source": [
    "g = np.ones((5, 7, 10, 10)) # (m, z, y, x)"
   ]
  },
  {
   "cell_type": "code",
   "execution_count": 167,
   "id": "907beb4a-b537-48e5-b1c1-11d1e3c9fc9a",
   "metadata": {},
   "outputs": [],
   "source": [
    "g[:, 0, :, -1] = 1.9\n",
    "g[:, 0, :, -2] = 2.7"
   ]
  },
  {
   "cell_type": "code",
   "execution_count": 168,
   "id": "21b1d913-ea2a-4d6b-9aeb-1f88a1cb9a83",
   "metadata": {},
   "outputs": [],
   "source": [
    "g[:, 0, 1:-1, -1] = update_right_side_concentration(g[:, 0, 1:-1, -1], g[:, 0, :-2, -1] , g[:, 0, 2: , -1] , g[:, 0, 1:-1, -2], np.array([1,2,3,4,5]), 0.4)"
   ]
  },
  {
   "cell_type": "code",
   "execution_count": 200,
   "id": "2e99dbaf-bb22-4739-83fc-7a63e637f321",
   "metadata": {},
   "outputs": [],
   "source": [
    "def update_central_concentration_upper(\n",
    "        cell_concentration,\n",
    "        lower_cell_concentration,\n",
    "        right_cell_concentration,\n",
    "        left_cell_concentration,\n",
    "        diffusion_rate,\n",
    "        time_step):\n",
    "\n",
    "    lower_cell_in = time_step * lower_cell_concentration * diffusion_rate\n",
    "    right_cell_in = time_step * right_cell_concentration * diffusion_rate\n",
    "    left_cell_in = time_step * left_cell_concentration * diffusion_rate\n",
    "\n",
    "    in_diffusion = lower_cell_in + right_cell_in + left_cell_in\n",
    "    out_diffusion = time_step * cell_concentration * diffusion_rate * 3\n",
    "\n",
    "    updated_concentration = cell_concentration + in_diffusion - out_diffusion\n",
    "\n",
    "    return updated_concentration"
   ]
  },
  {
   "cell_type": "code",
   "execution_count": 201,
   "id": "38dce045-a380-48e7-80fe-79b7793c7752",
   "metadata": {},
   "outputs": [],
   "source": [
    "g = np.ones((5, 7, 10, 10)) # (m, z, y, x)"
   ]
  },
  {
   "cell_type": "code",
   "execution_count": 202,
   "id": "ed0d90f7-f4d5-46c9-85a8-63251485d21e",
   "metadata": {},
   "outputs": [],
   "source": [
    "g[:, 0, :, 2] = 5\n",
    "g[:, 0, 1, 3] = 15\n",
    "g[:, 0, 1, 3] = 67\n",
    "g[:, 0, :, 4] = 25"
   ]
  },
  {
   "cell_type": "code",
   "execution_count": 203,
   "id": "8175f02f-b577-49ac-a2cd-229cc66d2d1e",
   "metadata": {},
   "outputs": [],
   "source": [
    "g[:, 0, 0, 3] = update_central_concentration_upper(g[:, 0, 0, 3], g[:, 0, 1, 3], g[:, 0, 0, 4], g[:, 0, 0, 2], np.array([1,2,3,4,5]), 0.3)"
   ]
  },
  {
   "cell_type": "code",
   "execution_count": 207,
   "id": "9966012e-0032-444c-905d-d3d5b0ec1ce6",
   "metadata": {},
   "outputs": [],
   "source": [
    "def update_central_concentration_lower(\n",
    "        cell_concentration,\n",
    "        upper_cell_concentration,\n",
    "        right_cell_concentration,\n",
    "        left_cell_concentration,\n",
    "        diffusion_rate,\n",
    "        time_step):\n",
    "  \n",
    "    upper_cell_in = time_step * upper_cell_concentration * diffusion_rate\n",
    "    right_cell_in = time_step * right_cell_concentration * diffusion_rate\n",
    "    left_cell_in = time_step * left_cell_concentration * diffusion_rate\n",
    "\n",
    "    in_diffusion = upper_cell_in + right_cell_in + left_cell_in\n",
    "    out_diffusion = time_step * cell_concentration * diffusion_rate * 3\n",
    "\n",
    "    updated_concentration = cell_concentration + in_diffusion - out_diffusion\n",
    "\n",
    "    return updated_concentration"
   ]
  },
  {
   "cell_type": "code",
   "execution_count": 208,
   "id": "5243284f-ed72-4970-b035-c80975ac9cdb",
   "metadata": {},
   "outputs": [],
   "source": [
    "g = np.ones((5, 7, 10, 10)) # (m, z, y, x)"
   ]
  },
  {
   "cell_type": "code",
   "execution_count": 209,
   "id": "7c7598c4-06c9-43ec-8123-9deb88794cfc",
   "metadata": {},
   "outputs": [],
   "source": [
    "g[:, 0, :, 2] = 5\n",
    "g[:, 0, :, 3] = 15\n",
    "g[:, 0, -2, 3] = 67\n",
    "g[:, 0, :, 4] = 25"
   ]
  },
  {
   "cell_type": "code",
   "execution_count": 210,
   "id": "49d25836-4b6e-4163-a30b-5dbdc61d0298",
   "metadata": {},
   "outputs": [
    {
     "data": {
      "text/plain": [
       "array([[ 1.,  1.,  5., 15., 25.,  1.,  1.,  1.,  1.,  1.],\n",
       "       [ 1.,  1.,  5., 15., 25.,  1.,  1.,  1.,  1.,  1.],\n",
       "       [ 1.,  1.,  5., 15., 25.,  1.,  1.,  1.,  1.,  1.],\n",
       "       [ 1.,  1.,  5., 15., 25.,  1.,  1.,  1.,  1.,  1.],\n",
       "       [ 1.,  1.,  5., 15., 25.,  1.,  1.,  1.,  1.,  1.],\n",
       "       [ 1.,  1.,  5., 15., 25.,  1.,  1.,  1.,  1.,  1.],\n",
       "       [ 1.,  1.,  5., 15., 25.,  1.,  1.,  1.,  1.,  1.],\n",
       "       [ 1.,  1.,  5., 15., 25.,  1.,  1.,  1.,  1.,  1.],\n",
       "       [ 1.,  1.,  5., 67., 25.,  1.,  1.,  1.,  1.,  1.],\n",
       "       [ 1.,  1.,  5., 15., 25.,  1.,  1.,  1.,  1.,  1.]])"
      ]
     },
     "execution_count": 210,
     "metadata": {},
     "output_type": "execute_result"
    }
   ],
   "source": [
    "g[0, 0, :, :]"
   ]
  },
  {
   "cell_type": "code",
   "execution_count": 211,
   "id": "557c05f1-6578-4cfc-8797-45495e9b0162",
   "metadata": {},
   "outputs": [],
   "source": [
    "g[:, 0, -1, 3] = update_central_concentration_lower(g[:, 0, -1, 3], g[:, 0, -2, 3], g[:, 0, -1, 4], g[:, 0, -1, 2], np.array([1,2,3,4,5]), 0.3)"
   ]
  },
  {
   "cell_type": "code",
   "execution_count": 212,
   "id": "a6c9ed72-4e7f-484b-bf49-c6446d43cf01",
   "metadata": {},
   "outputs": [
    {
     "data": {
      "text/plain": [
       "array([[ 1. ,  1. ,  5. , 15. , 25. ,  1. ,  1. ,  1. ,  1. ,  1. ],\n",
       "       [ 1. ,  1. ,  5. , 15. , 25. ,  1. ,  1. ,  1. ,  1. ,  1. ],\n",
       "       [ 1. ,  1. ,  5. , 15. , 25. ,  1. ,  1. ,  1. ,  1. ,  1. ],\n",
       "       [ 1. ,  1. ,  5. , 15. , 25. ,  1. ,  1. ,  1. ,  1. ,  1. ],\n",
       "       [ 1. ,  1. ,  5. , 15. , 25. ,  1. ,  1. ,  1. ,  1. ,  1. ],\n",
       "       [ 1. ,  1. ,  5. , 15. , 25. ,  1. ,  1. ,  1. ,  1. ,  1. ],\n",
       "       [ 1. ,  1. ,  5. , 15. , 25. ,  1. ,  1. ,  1. ,  1. ,  1. ],\n",
       "       [ 1. ,  1. ,  5. , 15. , 25. ,  1. ,  1. ,  1. ,  1. ,  1. ],\n",
       "       [ 1. ,  1. ,  5. , 67. , 25. ,  1. ,  1. ,  1. ,  1. ,  1. ],\n",
       "       [ 1. ,  1. ,  5. , 30.6, 25. ,  1. ,  1. ,  1. ,  1. ,  1. ]])"
      ]
     },
     "execution_count": 212,
     "metadata": {},
     "output_type": "execute_result"
    }
   ],
   "source": [
    "g[0, 0, :, :]"
   ]
  },
  {
   "cell_type": "code",
   "execution_count": 232,
   "id": "efd3d8fa-342a-4be5-b6a4-d3ade570f46c",
   "metadata": {},
   "outputs": [],
   "source": [
    "def update_central_concentration_middle(\n",
    "        cell_concentration,\n",
    "        upper_cell_concentration,\n",
    "        lower_cell_concentration,\n",
    "        right_cell_concentration,\n",
    "        left_cell_concentration,\n",
    "        diffusion_rate,\n",
    "        time_step):\n",
    "\n",
    "    upper_cell_in = (time_step * upper_cell_concentration.T * diffusion_rate).T\n",
    "    lower_cell_in = (time_step * lower_cell_concentration.T * diffusion_rate).T\n",
    "    right_cell_in = (time_step * right_cell_concentration.T * diffusion_rate).T\n",
    "    left_cell_in = (time_step * left_cell_concentration.T * diffusion_rate).T\n",
    "\n",
    "    in_diffusion = upper_cell_in + lower_cell_in + right_cell_in + left_cell_in\n",
    "    out_diffusion = (time_step * cell_concentration.T * diffusion_rate).T * 4\n",
    "\n",
    "    updated_concentration = cell_concentration + in_diffusion - out_diffusion\n",
    "\n",
    "    return updated_concentration"
   ]
  },
  {
   "cell_type": "code",
   "execution_count": 233,
   "id": "977c5de8-884d-4617-ae57-f795693f2b05",
   "metadata": {},
   "outputs": [],
   "source": [
    "g = np.ones((5, 7, 10, 10)) # (m, z, y, x)"
   ]
  },
  {
   "cell_type": "code",
   "execution_count": 234,
   "id": "6aa1d3eb-a6a9-4895-9dc9-db1c66e26c5f",
   "metadata": {},
   "outputs": [],
   "source": [
    "g[:, 0, :, 2] = 5\n",
    "g[:, 0, :, 3] = 15\n",
    "g[:, 0, -5, 3] = 67\n",
    "g[:, 0, :, 4] = 25"
   ]
  },
  {
   "cell_type": "code",
   "execution_count": 235,
   "id": "32952692-58a8-44d9-b5f1-9f7406f797d8",
   "metadata": {},
   "outputs": [
    {
     "data": {
      "text/plain": [
       "array([[ 1.,  1.,  5., 15., 25.,  1.,  1.,  1.,  1.,  1.],\n",
       "       [ 1.,  1.,  5., 15., 25.,  1.,  1.,  1.,  1.,  1.],\n",
       "       [ 1.,  1.,  5., 15., 25.,  1.,  1.,  1.,  1.,  1.],\n",
       "       [ 1.,  1.,  5., 15., 25.,  1.,  1.,  1.,  1.,  1.],\n",
       "       [ 1.,  1.,  5., 15., 25.,  1.,  1.,  1.,  1.,  1.],\n",
       "       [ 1.,  1.,  5., 67., 25.,  1.,  1.,  1.,  1.,  1.],\n",
       "       [ 1.,  1.,  5., 15., 25.,  1.,  1.,  1.,  1.,  1.],\n",
       "       [ 1.,  1.,  5., 15., 25.,  1.,  1.,  1.,  1.,  1.],\n",
       "       [ 1.,  1.,  5., 15., 25.,  1.,  1.,  1.,  1.,  1.],\n",
       "       [ 1.,  1.,  5., 15., 25.,  1.,  1.,  1.,  1.,  1.]])"
      ]
     },
     "execution_count": 235,
     "metadata": {},
     "output_type": "execute_result"
    }
   ],
   "source": [
    "g[0, 0, :, :]"
   ]
  },
  {
   "cell_type": "code",
   "execution_count": 230,
   "id": "18a37962-b19c-414d-b09b-30de8e114200",
   "metadata": {},
   "outputs": [],
   "source": [
    "g[:, 0, -5, 3] = update_central_concentration_middle(g[:, 0, -5, 3], g[:, 0, -6, 3], g[:, 0, -4, 3], g[:, 0, -5, 4], g[:, 0, -5, 2], np.array([1,2,3,4,5]), 0.3)"
   ]
  },
  {
   "cell_type": "code",
   "execution_count": 231,
   "id": "067a18bb-5b38-4bcd-9944-cfe0f992fd21",
   "metadata": {},
   "outputs": [
    {
     "data": {
      "text/plain": [
       "array([[ 1. ,  1. ,  5. , 15. , 25. ,  1. ,  1. ,  1. ,  1. ,  1. ],\n",
       "       [ 1. ,  1. ,  5. , 15. , 25. ,  1. ,  1. ,  1. ,  1. ,  1. ],\n",
       "       [ 1. ,  1. ,  5. , 15. , 25. ,  1. ,  1. ,  1. ,  1. ,  1. ],\n",
       "       [ 1. ,  1. ,  5. , 15. , 25. ,  1. ,  1. ,  1. ,  1. ,  1. ],\n",
       "       [ 1. ,  1. ,  5. , 15. , 25. ,  1. ,  1. ,  1. ,  1. ,  1. ],\n",
       "       [ 1. ,  1. ,  5. ,  4.6, 25. ,  1. ,  1. ,  1. ,  1. ,  1. ],\n",
       "       [ 1. ,  1. ,  5. , 15. , 25. ,  1. ,  1. ,  1. ,  1. ,  1. ],\n",
       "       [ 1. ,  1. ,  5. , 15. , 25. ,  1. ,  1. ,  1. ,  1. ,  1. ],\n",
       "       [ 1. ,  1. ,  5. , 15. , 25. ,  1. ,  1. ,  1. ,  1. ,  1. ],\n",
       "       [ 1. ,  1. ,  5. , 15. , 25. ,  1. ,  1. ,  1. ,  1. ,  1. ]])"
      ]
     },
     "execution_count": 231,
     "metadata": {},
     "output_type": "execute_result"
    }
   ],
   "source": [
    "g[0, 0, :, :]"
   ]
  },
  {
   "cell_type": "code",
   "execution_count": 244,
   "id": "a31b0c14-4c8e-483d-aacf-f75a1437af8e",
   "metadata": {},
   "outputs": [
    {
     "data": {
      "text/plain": [
       "(10, 20)"
      ]
     },
     "execution_count": 244,
     "metadata": {},
     "output_type": "execute_result"
    }
   ],
   "source": [
    "g = np.ones((10, 20, 30))\n",
    "g[:, :, 0].shape"
   ]
  },
  {
   "cell_type": "code",
   "execution_count": 245,
   "id": "16c764ec-5810-46d6-89b8-ec6b5ede36f0",
   "metadata": {},
   "outputs": [],
   "source": [
    "v = g[:, :, 0]"
   ]
  },
  {
   "cell_type": "code",
   "execution_count": 246,
   "id": "928514d6-6ffd-4c81-926f-301336f9bfb4",
   "metadata": {},
   "outputs": [],
   "source": [
    "m = v[:, 0]"
   ]
  },
  {
   "cell_type": "code",
   "execution_count": 309,
   "id": "7e8ae0bb-620e-4acb-85c1-d8fd9875bdab",
   "metadata": {},
   "outputs": [],
   "source": [
    "def apply_component_production(initial_concentration, production_pattern, production_rates, time_step):\n",
    "   \n",
    "    updated_concentration = np.maximum(initial_concentration + (production_pattern.T * production_rates * time_step).T, 0)\n",
    "\n",
    "    return updated_concentration\n",
    "\n",
    "\n",
    "\n",
    "def apply_component_degradation(initial_concentration, degradation_rates, time_step):\n",
    "   \n",
    "    updated_concentration = np.maximum(initial_concentration - (initial_concentration.T * degradation_rates * time_step).T, 0)\n",
    "\n",
    "    return updated_concentration\n",
    "\n",
    "\n",
    "\n",
    "def apply_species_collision(species1, species2, complex_, collision_rates, time_step):\n",
    " \n",
    "    collision_effect = collision_rates * time_step\n",
    "    complex_formed = (np.minimum(species1.T * collision_effect, species2.T * collision_effect)).T\n",
    "    complex_formed = np.maximum(complex_formed, 0)\n",
    "\n",
    "    updated_species1 = np.maximum(species1 - complex_formed, 0)\n",
    "    updated_species2 = np.maximum(species2 - complex_formed, 0)\n",
    "\n",
    "    updated_complex = complex_ + complex_formed\n",
    "\n",
    "    return updated_species1, updated_species2, updated_complex\n",
    "\n",
    "\n",
    "\n",
    "def apply_complex_dissociation(species1, species2, complex_, dissociation_rates, time_step):\n",
    "   \n",
    "    dissociation_effect = dissociation_rates * time_step\n",
    "    dissociated_amount = (complex_.T * dissociation_effect).T\n",
    "    dissociated_amount = np.maximum(dissociated_amount, 0)\n",
    "\n",
    "    updated_complex = np.maximum(complex_ - dissociated_amount, 0)\n",
    "    updated_species1 = np.maximum(species1 + dissociated_amount, 0)\n",
    "    updated_species2 = np.maximum(species2 + dissociated_amount, 0)\n",
    "\n",
    "    return updated_species1, updated_species2, updated_complex\n",
    "\n"
   ]
  },
  {
   "cell_type": "code",
   "execution_count": 5,
   "id": "0b0c2da9-f9f5-4a88-8ee4-2bbbb913a089",
   "metadata": {},
   "outputs": [],
   "source": [
    "def apply_diffusion(current_concentration, compartment, column_position, diffusion_rates, time_step):\n",
    "    \n",
    "    compartment_size = compartment.shape[1]\n",
    "    temporary_concentration = copy.deepcopy(current_concentration)\n",
    "\n",
    "    if column_position == 0:\n",
    "\n",
    "        # Update concentration for the upper-left corner cell\n",
    "        temporary_concentration[:, 0] = update_upper_left_corner_concentration(\n",
    "            cell_concentration=current_concentration[:, 0],\n",
    "            lower_cell_concentration=compartment[:, 1, 0],\n",
    "            right_cell_concentration=compartment[:, 0, 1],\n",
    "            diffusion_rates=diffusion_rates,\n",
    "            time_step=time_step\n",
    "        )\n",
    "\n",
    "        # Update concentration for the lower-left corner cell\n",
    "        temporary_concentration[:, -1] = update_lower_left_corner_concentration(\n",
    "            cell_concentration=current_concentration[:, -1],\n",
    "            upper_cell_concentration=compartment[:, -2, 0],\n",
    "            right_cell_concentration=compartment[:, -1, 1],\n",
    "            diffusion_rates=diffusion_rates,\n",
    "            time_step=time_step\n",
    "        )\n",
    "\n",
    "        # Update concentrations for the left-side cells (excluding corners)\n",
    "        temporary_concentration[:, 1:-1] = update_left_side_concentration(\n",
    "            cell_concentration=current_concentration[:, 1:-1],\n",
    "            upper_cell_concentration=compartment[:, :-2, 0],\n",
    "            lower_cell_concentration=compartment[:, 2:, 0],\n",
    "            right_cell_concentration=compartment[:, 1:-1, 1],\n",
    "            diffusion_rates=diffusion_rates,\n",
    "            time_step=time_step\n",
    "        )\n",
    "\n",
    "    elif column_position == compartment_size - 1:\n",
    "\n",
    "        # Update concentration for the upper-right corner cell\n",
    "        temporary_concentration[:, 0] = update_upper_right_corner_concentration(\n",
    "            cell_concentration=current_concentration[:, 0],\n",
    "            lower_cell_concentration=compartment[:, 1, -1],\n",
    "            left_cell_concentration=compartment[:, 0, -2],\n",
    "            diffusion_rates=diffusion_rates,\n",
    "            time_step=time_step\n",
    "        )\n",
    "\n",
    "        # Update concentration for the lower-right corner cell\n",
    "        temporary_concentration[:, -1] = update_lower_right_corner_concentration(\n",
    "            cell_concentration=current_concentration[:, -1],\n",
    "            upper_cell_concentration=compartment[:, -2, -1],\n",
    "            left_cell_concentration=compartment[:, -1, -2],\n",
    "            diffusion_rates=diffusion_rates,\n",
    "            time_step=time_step\n",
    "        )\n",
    "\n",
    "        # Update concentrations for the left-side cells (excluding corners)\n",
    "        temporary_concentration[:, 1:-1] = update_right_side_concentration(\n",
    "            cell_concentration=current_concentration[:, 1:-1],\n",
    "            upper_cell_concentration=compartment[:, 0:-2, -1],\n",
    "            lower_cell_concentration=compartment[:, 2:, -1],\n",
    "            left_cell_concentration=compartment[:, 1:-1, -2],\n",
    "            diffusion_rates=diffusion_rates,\n",
    "            time_step=time_step\n",
    "        )\n",
    "\n",
    "\n",
    "    else:\n",
    "\n",
    "        temporary_concentration[:, 0] = update_central_concentration_upper(\n",
    "            cell_concentration=current_concentration[:, 0],\n",
    "            lower_cell_concentration=compartment[:, 1, column_position],\n",
    "            right_cell_concentration=compartment[:, 0, column_position + 1],\n",
    "            left_cell_concentration=compartment[:, 0, column_position - 1],\n",
    "            diffusion_rates=diffusion_rates,\n",
    "            time_step=time_step\n",
    "        )\n",
    "\n",
    "        temporary_concentration[:, -1] = update_central_concentration_lower(\n",
    "            cell_concentration=current_concentration[:, -1],\n",
    "            upper_cell_concentration=compartment[:, -2, column_position],\n",
    "            right_cell_concentration=compartment[:, -1, column_position + 1],\n",
    "            left_cell_concentration=compartment[:, -1, column_position - 1],\n",
    "            diffusion_rates=diffusion_rates,\n",
    "            time_step=time_step\n",
    "        )\n",
    "\n",
    "        temporary_concentration[:, 1:-1] = update_central_concentration_middle(\n",
    "            cell_concentration=current_concentration[:, 1:-1],\n",
    "            upper_cell_concentration=compartment[:, 0:-2, column_position],\n",
    "            lower_cell_concentration=compartment[:, 2:, column_position],\n",
    "            right_cell_concentration=compartment[:, 1:-1, column_position+1],\n",
    "            left_cell_concentration=compartment[:, 1:-1, column_position-1],\n",
    "            diffusion_rate=diffusion_rates,\n",
    "            time_step=time_step\n",
    "        )\n",
    "\n",
    "    updated_concentration = np.maximum(temporary_concentration, 0)\n",
    "\n",
    "    return updated_concentration\n",
    "\n",
    "\n",
    "\n",
    "\n",
    "\n",
    "def update_lower_left_corner_concentration(\n",
    "    cell_concentration,\n",
    "    upper_cell_concentration,\n",
    "    right_cell_concentration,\n",
    "    diffusion_rates,\n",
    "    time_step):\n",
    "\n",
    "    in_diffusion = (time_step * upper_cell_concentration * diffusion_rates) + \\\n",
    "                   (time_step * right_cell_concentration * diffusion_rates)\n",
    "    out_diffusion = time_step * cell_concentration * diffusion_rates * 2\n",
    "\n",
    "    updated_concentration = cell_concentration + in_diffusion - out_diffusion\n",
    "\n",
    "    return updated_concentration\n",
    "\n",
    "\n",
    "def update_lower_right_corner_concentration(\n",
    "    cell_concentration,\n",
    "    upper_cell_concentration,\n",
    "    left_cell_concentration,\n",
    "    diffusion_rates,\n",
    "    time_step):\n",
    "   \n",
    "    in_diffusion = (time_step * upper_cell_concentration * diffusion_rates) + \\\n",
    "                   (time_step * left_cell_concentration * diffusion_rates)\n",
    "    out_diffusion = time_step * cell_concentration * diffusion_rates * 2\n",
    "\n",
    "    updated_concentration = cell_concentration + in_diffusion - out_diffusion\n",
    "\n",
    "    return updated_concentration\n",
    "\n",
    "\n",
    "def update_upper_left_corner_concentration(\n",
    "    cell_concentration,\n",
    "    lower_cell_concentration,\n",
    "    right_cell_concentration,\n",
    "    diffusion_rates,\n",
    "    time_step):\n",
    "\n",
    "    in_diffusion = (time_step * lower_cell_concentration * diffusion_rates) + \\\n",
    "                   (time_step * right_cell_concentration * diffusion_rates)\n",
    "    out_diffusion = time_step * cell_concentration * diffusion_rates * 2\n",
    "\n",
    "    updated_concentration = cell_concentration + in_diffusion - out_diffusion\n",
    "\n",
    "    return updated_concentration\n",
    "\n",
    "\n",
    "def update_upper_right_corner_concentration(\n",
    "    cell_concentration,\n",
    "    lower_cell_concentration,\n",
    "    left_cell_concentration,\n",
    "    diffusion_rates,\n",
    "    time_step):\n",
    "   \n",
    "    in_diffusion = (time_step * lower_cell_concentration * diffusion_rates) + \\\n",
    "                   (time_step * left_cell_concentration * diffusion_rates)\n",
    "    out_diffusion = time_step * cell_concentration * diffusion_rates * 2\n",
    "\n",
    "    updated_concentration = cell_concentration + in_diffusion - out_diffusion\n",
    "\n",
    "    return updated_concentration\n",
    "\n",
    "\n",
    "def update_left_side_concentration(\n",
    "    cell_concentration,\n",
    "    upper_cell_concentration,\n",
    "    lower_cell_concentration,\n",
    "    right_cell_concentration,\n",
    "    diffusion_rates,\n",
    "    time_step):\n",
    "\n",
    "    upper_cell_in = (time_step * upper_cell_concentration.T * diffusion_rates).T\n",
    "    lower_cell_in = (time_step * lower_cell_concentration.T * diffusion_rates).T\n",
    "    right_cell_in = (time_step * right_cell_concentration.T * diffusion_rates).T\n",
    "\n",
    "    in_diffusion = upper_cell_in + lower_cell_in + right_cell_in\n",
    "    out_diffusion = (time_step * cell_concentration.T * diffusion_rates * 3).T\n",
    "\n",
    "    updated_concentration = cell_concentration + in_diffusion - out_diffusion\n",
    "\n",
    "    return updated_concentration\n",
    "\n",
    "\n",
    "def update_right_side_concentration(\n",
    "        cell_concentration,\n",
    "        upper_cell_concentration,\n",
    "        lower_cell_concentration,\n",
    "        left_cell_concentration,\n",
    "        diffusion_rates,\n",
    "        time_step):\n",
    "   \n",
    "    upper_cell_in = (time_step * upper_cell_concentration.T * diffusion_rates).T\n",
    "    lower_cell_in = (time_step * lower_cell_concentration.T * diffusion_rates).T\n",
    "    right_cell_in = (time_step * left_cell_concentration.T * diffusion_rates).T\n",
    "\n",
    "    in_diffusion = upper_cell_in + lower_cell_in + right_cell_in\n",
    "    out_diffusion = (time_step * cell_concentration.T * diffusion_rates * 3).T\n",
    "\n",
    "    updated_concentration = cell_concentration + in_diffusion - out_diffusion\n",
    "\n",
    "    return updated_concentration\n",
    "\n",
    "def update_central_concentration_middle(\n",
    "        cell_concentration,\n",
    "        upper_cell_concentration,\n",
    "        lower_cell_concentration,\n",
    "        right_cell_concentration,\n",
    "        left_cell_concentration,\n",
    "        diffusion_rate,\n",
    "        time_step):\n",
    "\n",
    "    upper_cell_in = (time_step * upper_cell_concentration.T * diffusion_rate).T\n",
    "    lower_cell_in = (time_step * lower_cell_concentration.T * diffusion_rate).T\n",
    "    right_cell_in = (time_step * right_cell_concentration.T * diffusion_rate).T\n",
    "    left_cell_in = (time_step * left_cell_concentration.T * diffusion_rate).T\n",
    "\n",
    "    in_diffusion = upper_cell_in + lower_cell_in + right_cell_in + left_cell_in\n",
    "    out_diffusion = (time_step * cell_concentration.T * diffusion_rate).T * 4\n",
    "\n",
    "    updated_concentration = cell_concentration + in_diffusion - out_diffusion\n",
    "\n",
    "    return updated_concentration\n",
    "\n",
    "\n",
    "def update_central_concentration_upper(\n",
    "        cell_concentration,\n",
    "        lower_cell_concentration,\n",
    "        right_cell_concentration,\n",
    "        left_cell_concentration,\n",
    "        diffusion_rates,\n",
    "        time_step):\n",
    "   \n",
    "    lower_cell_in = time_step * lower_cell_concentration * diffusion_rates\n",
    "    right_cell_in = time_step * right_cell_concentration * diffusion_rates\n",
    "    left_cell_in = time_step * left_cell_concentration * diffusion_rates\n",
    "\n",
    "    in_diffusion = lower_cell_in + right_cell_in + left_cell_in\n",
    "    out_diffusion = time_step * cell_concentration * diffusion_rates * 3\n",
    "\n",
    "    updated_concentration = cell_concentration + in_diffusion - out_diffusion\n",
    "\n",
    "    return updated_concentration\n",
    "\n",
    "\n",
    "def update_central_concentration_lower(\n",
    "        cell_concentration,\n",
    "        upper_cell_concentration,\n",
    "        right_cell_concentration,\n",
    "        left_cell_concentration,\n",
    "        diffusion_rates,\n",
    "        time_step):\n",
    "  \n",
    "    upper_cell_in = time_step * upper_cell_concentration * diffusion_rates\n",
    "    right_cell_in = time_step * right_cell_concentration * diffusion_rates\n",
    "    left_cell_in = time_step * left_cell_concentration * diffusion_rates\n",
    "\n",
    "    in_diffusion = upper_cell_in + right_cell_in + left_cell_in\n",
    "    out_diffusion = time_step * cell_concentration * diffusion_rates * 3\n",
    "\n",
    "    updated_concentration = cell_concentration + in_diffusion - out_diffusion\n",
    "\n",
    "    return updated_concentration"
   ]
  },
  {
   "cell_type": "code",
   "execution_count": 6,
   "id": "b3fad572-b7c8-4f3b-a1c0-3f65d6e6a096",
   "metadata": {},
   "outputs": [],
   "source": [
    "g = np.ones((5, 7, 10, 10)) # (m, z, y, x)\n",
    "g[:, 0, :, 0] = 15\n",
    "g[:, 0, :, 0] = apply_diffusion(g[:, 0, :, 0], g[:, 0, :, :], 0, np.array([1,2,3,4,5]), 0.3)"
   ]
  },
  {
   "cell_type": "code",
   "execution_count": 7,
   "id": "37ff9c6a-72dd-4868-bee1-3fbb4823733a",
   "metadata": {},
   "outputs": [
    {
     "data": {
      "text/plain": [
       "array([10.8, 10.8, 10.8, 10.8, 10.8, 10.8, 10.8, 10.8, 10.8, 10.8])"
      ]
     },
     "execution_count": 7,
     "metadata": {},
     "output_type": "execute_result"
    }
   ],
   "source": [
    "g[0, 0, :, 0]"
   ]
  },
  {
   "cell_type": "code",
   "execution_count": 8,
   "id": "327c1702-3b72-421f-a597-63a487704a37",
   "metadata": {},
   "outputs": [],
   "source": [
    "# for _ in range(20):\n",
    "for i in range(10):\n",
    "    g[:, 0, :, i] = apply_diffusion(g[:, 0, :, 0], g[:, 0, :, :], 0, np.array([1,2,3,4,5]), 0.1)\n",
    "    "
   ]
  },
  {
   "cell_type": "code",
   "execution_count": 9,
   "id": "a1fb33ec-8f6c-4185-9e12-52fc69a49b6e",
   "metadata": {},
   "outputs": [
    {
     "data": {
      "text/plain": [
       "array([[9.82  , 8.938 , 9.7318, 9.7318, 9.7318, 9.7318, 9.7318, 9.7318,\n",
       "        9.7318, 9.7318],\n",
       "       [9.82  , 8.938 , 9.7318, 9.7318, 9.7318, 9.7318, 9.7318, 9.7318,\n",
       "        9.7318, 9.7318],\n",
       "       [9.82  , 8.938 , 9.7318, 9.7318, 9.7318, 9.7318, 9.7318, 9.7318,\n",
       "        9.7318, 9.7318],\n",
       "       [9.82  , 8.938 , 9.7318, 9.7318, 9.7318, 9.7318, 9.7318, 9.7318,\n",
       "        9.7318, 9.7318],\n",
       "       [9.82  , 8.938 , 9.7318, 9.7318, 9.7318, 9.7318, 9.7318, 9.7318,\n",
       "        9.7318, 9.7318],\n",
       "       [9.82  , 8.938 , 9.7318, 9.7318, 9.7318, 9.7318, 9.7318, 9.7318,\n",
       "        9.7318, 9.7318],\n",
       "       [9.82  , 8.938 , 9.7318, 9.7318, 9.7318, 9.7318, 9.7318, 9.7318,\n",
       "        9.7318, 9.7318],\n",
       "       [9.82  , 8.938 , 9.7318, 9.7318, 9.7318, 9.7318, 9.7318, 9.7318,\n",
       "        9.7318, 9.7318],\n",
       "       [9.82  , 8.938 , 9.7318, 9.7318, 9.7318, 9.7318, 9.7318, 9.7318,\n",
       "        9.7318, 9.7318],\n",
       "       [9.82  , 8.938 , 9.7318, 9.7318, 9.7318, 9.7318, 9.7318, 9.7318,\n",
       "        9.7318, 9.7318]])"
      ]
     },
     "execution_count": 9,
     "metadata": {},
     "output_type": "execute_result"
    }
   ],
   "source": [
    "g[0, 0, :, :]"
   ]
  },
  {
   "cell_type": "code",
   "execution_count": 10,
   "id": "4f8f688c-ed71-4246-8b06-1917f3ac9e73",
   "metadata": {},
   "outputs": [
    {
     "data": {
      "text/plain": [
       "array([9.82, 9.82, 9.82, 9.82, 9.82, 9.82, 9.82, 9.82, 9.82, 9.82])"
      ]
     },
     "execution_count": 10,
     "metadata": {},
     "output_type": "execute_result"
    }
   ],
   "source": [
    "g[0, 0, :, 0]"
   ]
  },
  {
   "cell_type": "code",
   "execution_count": 17,
   "id": "273bb3b1-c777-48d1-b6fd-62fdc89c99cf",
   "metadata": {},
   "outputs": [],
   "source": [
    "for _ in range(5):\n",
    "    for i in range(10):\n",
    "        g[:, 0, :, i] = apply_diffusion(g[:, 0, :, 0], g[:, 0, :, :], 0, np.array([1,2,3,4,5]), 0.001)"
   ]
  },
  {
   "cell_type": "code",
   "execution_count": 18,
   "id": "25b89560-9bff-4d89-af77-2903a4e0e00f",
   "metadata": {},
   "outputs": [
    {
     "data": {
      "text/plain": [
       "array([[1.97911535, 1.97911535, 1.97911535, 1.97911535, 1.97911535,\n",
       "        1.97911535, 1.97911535, 1.97911535, 1.97911535, 1.97911535],\n",
       "       [1.97911535, 1.97911535, 1.97911535, 1.97911535, 1.97911535,\n",
       "        1.97911535, 1.97911535, 1.97911535, 1.97911535, 1.97911535],\n",
       "       [1.97911535, 1.97911535, 1.97911535, 1.97911535, 1.97911535,\n",
       "        1.97911535, 1.97911535, 1.97911535, 1.97911535, 1.97911535],\n",
       "       [1.97911535, 1.97911535, 1.97911535, 1.97911535, 1.97911535,\n",
       "        1.97911535, 1.97911535, 1.97911535, 1.97911535, 1.97911535],\n",
       "       [1.97911535, 1.97911535, 1.97911535, 1.97911535, 1.97911535,\n",
       "        1.97911535, 1.97911535, 1.97911535, 1.97911535, 1.97911535],\n",
       "       [1.97911535, 1.97911535, 1.97911535, 1.97911535, 1.97911535,\n",
       "        1.97911535, 1.97911535, 1.97911535, 1.97911535, 1.97911535],\n",
       "       [1.97911535, 1.97911535, 1.97911535, 1.97911535, 1.97911535,\n",
       "        1.97911535, 1.97911535, 1.97911535, 1.97911535, 1.97911535],\n",
       "       [1.97911535, 1.97911535, 1.97911535, 1.97911535, 1.97911535,\n",
       "        1.97911535, 1.97911535, 1.97911535, 1.97911535, 1.97911535],\n",
       "       [1.97911535, 1.97911535, 1.97911535, 1.97911535, 1.97911535,\n",
       "        1.97911535, 1.97911535, 1.97911535, 1.97911535, 1.97911535],\n",
       "       [1.97911535, 1.97911535, 1.97911535, 1.97911535, 1.97911535,\n",
       "        1.97911535, 1.97911535, 1.97911535, 1.97911535, 1.97911535]])"
      ]
     },
     "execution_count": 18,
     "metadata": {},
     "output_type": "execute_result"
    }
   ],
   "source": [
    "g[2, 0, :, :]"
   ]
  },
  {
   "cell_type": "code",
   "execution_count": 13,
   "id": "df888333-be22-45a0-8260-3154628ead7a",
   "metadata": {},
   "outputs": [
    {
     "data": {
      "text/plain": [
       "array([[0.4  , 0.64 , 0.496, 0.496, 0.496, 0.496, 0.496, 0.496, 0.496,\n",
       "        0.496],\n",
       "       [0.4  , 0.64 , 0.496, 0.496, 0.496, 0.496, 0.496, 0.496, 0.496,\n",
       "        0.496],\n",
       "       [0.4  , 0.64 , 0.496, 0.496, 0.496, 0.496, 0.496, 0.496, 0.496,\n",
       "        0.496],\n",
       "       [0.4  , 0.64 , 0.496, 0.496, 0.496, 0.496, 0.496, 0.496, 0.496,\n",
       "        0.496],\n",
       "       [0.4  , 0.64 , 0.496, 0.496, 0.496, 0.496, 0.496, 0.496, 0.496,\n",
       "        0.496],\n",
       "       [0.4  , 0.64 , 0.496, 0.496, 0.496, 0.496, 0.496, 0.496, 0.496,\n",
       "        0.496],\n",
       "       [0.4  , 0.64 , 0.496, 0.496, 0.496, 0.496, 0.496, 0.496, 0.496,\n",
       "        0.496],\n",
       "       [0.4  , 0.64 , 0.496, 0.496, 0.496, 0.496, 0.496, 0.496, 0.496,\n",
       "        0.496],\n",
       "       [0.4  , 0.64 , 0.496, 0.496, 0.496, 0.496, 0.496, 0.496, 0.496,\n",
       "        0.496],\n",
       "       [0.4  , 0.64 , 0.496, 0.496, 0.496, 0.496, 0.496, 0.496, 0.496,\n",
       "        0.496]])"
      ]
     },
     "execution_count": 13,
     "metadata": {},
     "output_type": "execute_result"
    }
   ],
   "source": [
    "g[3, 0, :, :]"
   ]
  },
  {
   "cell_type": "code",
   "execution_count": 14,
   "id": "01214451-4fe8-4ee9-b579-26f096a7b680",
   "metadata": {},
   "outputs": [
    {
     "data": {
      "text/plain": [
       "array([[0.5  , 0.75 , 0.625, 0.625, 0.625, 0.625, 0.625, 0.625, 0.625,\n",
       "        0.625],\n",
       "       [0.5  , 0.75 , 0.625, 0.625, 0.625, 0.625, 0.625, 0.625, 0.625,\n",
       "        0.625],\n",
       "       [0.5  , 0.75 , 0.625, 0.625, 0.625, 0.625, 0.625, 0.625, 0.625,\n",
       "        0.625],\n",
       "       [0.5  , 0.75 , 0.625, 0.625, 0.625, 0.625, 0.625, 0.625, 0.625,\n",
       "        0.625],\n",
       "       [0.5  , 0.75 , 0.625, 0.625, 0.625, 0.625, 0.625, 0.625, 0.625,\n",
       "        0.625],\n",
       "       [0.5  , 0.75 , 0.625, 0.625, 0.625, 0.625, 0.625, 0.625, 0.625,\n",
       "        0.625],\n",
       "       [0.5  , 0.75 , 0.625, 0.625, 0.625, 0.625, 0.625, 0.625, 0.625,\n",
       "        0.625],\n",
       "       [0.5  , 0.75 , 0.625, 0.625, 0.625, 0.625, 0.625, 0.625, 0.625,\n",
       "        0.625],\n",
       "       [0.5  , 0.75 , 0.625, 0.625, 0.625, 0.625, 0.625, 0.625, 0.625,\n",
       "        0.625],\n",
       "       [0.5  , 0.75 , 0.625, 0.625, 0.625, 0.625, 0.625, 0.625, 0.625,\n",
       "        0.625]])"
      ]
     },
     "execution_count": 14,
     "metadata": {},
     "output_type": "execute_result"
    }
   ],
   "source": [
    "g[4, 0, :, :]"
   ]
  },
  {
   "cell_type": "code",
   "execution_count": 15,
   "id": "429e4bf2-2521-414d-aa2a-a694894a1ac9",
   "metadata": {},
   "outputs": [
    {
     "data": {
      "text/plain": [
       "(7, 10, 10)"
      ]
     },
     "execution_count": 15,
     "metadata": {},
     "output_type": "execute_result"
    }
   ],
   "source": [
    "g[0, :, :, :].shape"
   ]
  },
  {
   "cell_type": "code",
   "execution_count": 16,
   "id": "5c67c358-3dd5-43b8-96c7-5794e0376e6e",
   "metadata": {},
   "outputs": [
    {
     "name": "stdout",
     "output_type": "stream",
     "text": [
      "Extracted Results:\n",
      "[[[0.58247172 0.43955051 0.18535965 0.02136828 0.21802704 0.78148857]\n",
      "  [0.36082658 0.00736153 0.79661455 0.97472906 0.77011625 0.06605516]\n",
      "  [0.92688732 0.34008045 0.84000942 0.39317491 0.9547077  0.01857633]\n",
      "  [0.12739708 0.67199149 0.52270186 0.36952661 0.79871374 0.45084816]\n",
      "  [0.46520986 0.11992364 0.27781591 0.61624598 0.50987275 0.39698578]]\n",
      "\n",
      " [[0.00377614 0.08095416 0.99488616 0.01969405 0.31051472 0.47271517]\n",
      "  [0.77809856 0.58270261 0.65456282 0.7431737  0.4014241  0.76093908]\n",
      "  [0.5208094  0.23241173 0.23912511 0.11840954 0.51036918 0.8558153 ]\n",
      "  [0.25071264 0.51180235 0.44851043 0.9611164  0.94460326 0.95189156]\n",
      "  [0.17262455 0.91157918 0.80850422 0.63349118 0.23499549 0.41417984]]\n",
      "\n",
      " [[0.8738727  0.31660199 0.1798269  0.86642494 0.6942094  0.06638096]\n",
      "  [0.57642721 0.60735172 0.24174483 0.73613791 0.02006034 0.66173817]\n",
      "  [0.00181646 0.39757591 0.32290139 0.32453315 0.51260643 0.02125857]\n",
      "  [0.25750424 0.77022412 0.98267209 0.62723198 0.08508138 0.9127113 ]\n",
      "  [0.53132587 0.63450704 0.13283153 0.69882312 0.30187963 0.5057907 ]]\n",
      "\n",
      " [[0.82912309 0.33031217 0.46189331 0.8303955  0.54796032 0.9965032 ]\n",
      "  [0.0619519  0.69991958 0.13783114 0.33289513 0.1235351  0.55244687]\n",
      "  [0.28073641 0.07834732 0.18909724 0.82518416 0.54449471 0.68111583]\n",
      "  [0.17365662 0.84240977 0.83226119 0.6925626  0.86893533 0.82748219]\n",
      "  [0.48928028 0.9844456  0.24362296 0.29837247 0.79103956 0.93431596]]]\n"
     ]
    }
   ],
   "source": [
    "m, z, y, x = 4, 3, 5, 6  # Replace these values with your actual dimensions\n",
    "sim = np.random.rand(m, z, y, x)  # Example initialization\n",
    "results = np.zeros((m, y, x))\n",
    "\n",
    "# Store all matrices of sim at z=1 into results\n",
    "results = sim[:, 1, :, :]\n",
    "\n",
    "print(\"Extracted Results:\")\n",
    "print(results)"
   ]
  },
  {
   "cell_type": "code",
   "execution_count": 326,
   "id": "6d564936-b80a-4ed0-929a-415d42fe3327",
   "metadata": {},
   "outputs": [],
   "source": [
    "def population_simulation(population):\n",
    "\n",
    "    results = None\n",
    "\n",
    "    if isinstance(population, np.ndarray):\n",
    "\n",
    "        m, z, y, x = population.shape  # m: number of individual in the population\n",
    "        results = np.zeros((m, y, x))  # ndarray to store the simulation results\n",
    "        num_iters = x  # defines number of iterations in each epoch\n",
    "        num_species = int(population[0, -1, -1, 0])  # number os species present in the system\n",
    "        num_pairs = int(population[0, -1, -1, 1])  # number of pairs present in the system\n",
    "        max_epoch = int(population[0, -1, -1, 2])  # maximum number of epochs\n",
    "        stop = population[0, -1, -1, 3]  # simulation duration\n",
    "        time_step = population[0, -1, -1, 2]  # time step\n",
    "        num_epochs = int(stop / time_step)  # number of possible epochs\n",
    "        pair_start = int(num_species * 2)\n",
    "        pair_stop = int(pair_start + (num_pairs * 2))\n",
    "\n",
    "        epoch = 0\n",
    "        while epoch < max_epoch or epoch < num_epochs:\n",
    "\n",
    "            for i in range(num_iters):\n",
    "\n",
    "                # species production\n",
    "                for j in range(0, num_species, 2):\n",
    "                    population[:, j, :, i] = apply_component_production(\n",
    "                        initial_concentration=population[:, j, :, i],\n",
    "                        production_pattern=population[:, j+1, :, i],\n",
    "                        production_rates=population[:, -1, j, 0],\n",
    "                        time_step=time_step\n",
    "                    )\n",
    "\n",
    "                # species collision\n",
    "                for j in range(pair_start, pair_stop, 2):\n",
    "                    (population[:, population[:, j+1, 0, 0], :, i],\n",
    "                     population[:, population[:, j+1, 0, 1], :, i],\n",
    "                     population[:, j, :, i]) = apply_species_collision(\n",
    "                        species1=population[0, int(population[0, j+1, 0, 0]), :, i],\n",
    "                        species2=population[0, int(population[0, j+1, 0, 1]), :, i],\n",
    "                        complex_=population[:, j, :, i],\n",
    "                        collision_rates=population[:, int(population[0, j+1, 1, 0]), 1, 0],\n",
    "                        time_step=time_step\n",
    "                    )\n",
    "\n",
    "                # complex dissociation\n",
    "                for j in range(pair_start, pair_stop, 2):\n",
    "                    (population[:, population[:, j + 1, 0, 0], :, i],\n",
    "                     population[:, population[:, j + 1, 0, 1], :, i],\n",
    "                     population[:, j, :, i]) = apply_complex_dissociation(\n",
    "                        species1=population[0, int(population[:, j + 1, 0, 1]), :, i],\n",
    "                        species2=population[0, int(population[:, j + 1, 0, 1]), :, i],\n",
    "                        complex_=population[:, j, :, i],\n",
    "                        dissociation_rates=population[:, j+1, 1, 1],\n",
    "                        time_step=time_step\n",
    "                    )\n",
    "\n",
    "                # species degradation\n",
    "                for j in range(0, num_species, 2):\n",
    "                    population[:, j, :, i] = apply_component_degradation(\n",
    "                        initial_concentration=population[:, j, :, i],\n",
    "                        degradation_rates=population[:, -1, j, 1],\n",
    "                        time_step=time_step\n",
    "                    )\n",
    "\n",
    "                # complex degradation\n",
    "                for j in range(pair_start, num_pairs, 2):\n",
    "                    population[:, j, :, i] = apply_component_degradation(\n",
    "                        initial_concentration=population[:, j, :, i],\n",
    "                        degradation_rates=population[:, j+1, 1, 2],\n",
    "                        time_step=time_step\n",
    "                    )\n",
    "\n",
    "                # species diffusion\n",
    "                for j in range(0, num_species, 2):\n",
    "                    population[:, j, :, i] = apply_diffusion(\n",
    "                        current_concentration=population[:, j, :, i],\n",
    "                        compartment=population[:, j, :, :],\n",
    "                        column_position=i,\n",
    "                        diffusion_rates=population[:, -1, j, 2],\n",
    "                        time_step=time_step\n",
    "                    )\n",
    "\n",
    "                # complex diffusion\n",
    "                for j in range(pair_start, num_pairs, 2):\n",
    "                    population[:, j, :, i] = apply_diffusion(\n",
    "                        current_concentration=population[:, j, :, i],\n",
    "                        compartment=population[:, j, :, :],\n",
    "                        column_position=i,\n",
    "                        diffusion_rates=population[:, j+1, 1, 3],\n",
    "                        time_step=time_step\n",
    "                    )\n",
    "\n",
    "            epoch += 1\n",
    "\n",
    "        results = population[:, 0, :, :]\n",
    "\n",
    "    elif isinstance(population, list):\n",
    "\n",
    "        # TODO: implement the simulation for the case in which populaion is a list of individuals\n",
    "        pass\n",
    "\n",
    "\n",
    "    else:\n",
    "        raise ValueError(\"Unsupported type for population. Must be a numpy array or a list.\")\n",
    "\n",
    "    return results\n"
   ]
  },
  {
   "cell_type": "code",
   "execution_count": 327,
   "id": "c17ce690-c6dc-406e-bccf-86440a175861",
   "metadata": {},
   "outputs": [],
   "source": [
    "pop = np.ones((10, 7, 20, 20))\n",
    "pop[:, 1, :, 0:2] = 5\n",
    "pop[:, 3, :, 0:2] = 3\n",
    "pop[:, -1, :6, :] = 1.1\n",
    "pop[:, -1, -1, :5] = np.array([2, 1, 200, 5, 0.005])\n",
    "\n",
    "pop[:, 5, 0, 0] = 0\n",
    "pop[:, 5, 0, 1] = 1"
   ]
  },
  {
   "cell_type": "code",
   "execution_count": 328,
   "id": "bcec9175-9882-456f-be6b-0d9828f14886",
   "metadata": {},
   "outputs": [
    {
     "ename": "ValueError",
     "evalue": "operands could not be broadcast together with shapes (20,) (10,) ",
     "output_type": "error",
     "traceback": [
      "\u001b[0;31m---------------------------------------------------------------------------\u001b[0m",
      "\u001b[0;31mValueError\u001b[0m                                Traceback (most recent call last)",
      "Cell \u001b[0;32mIn[328], line 1\u001b[0m\n\u001b[0;32m----> 1\u001b[0m r \u001b[38;5;241m=\u001b[39m \u001b[43mpopulation_simulation\u001b[49m\u001b[43m(\u001b[49m\u001b[43mpop\u001b[49m\u001b[43m)\u001b[49m\n",
      "Cell \u001b[0;32mIn[326], line 37\u001b[0m, in \u001b[0;36mpopulation_simulation\u001b[0;34m(population)\u001b[0m\n\u001b[1;32m     33\u001b[0m \u001b[38;5;66;03m# species collision\u001b[39;00m\n\u001b[1;32m     34\u001b[0m \u001b[38;5;28;01mfor\u001b[39;00m j \u001b[38;5;129;01min\u001b[39;00m \u001b[38;5;28mrange\u001b[39m(pair_start, pair_stop, \u001b[38;5;241m2\u001b[39m):\n\u001b[1;32m     35\u001b[0m     (population[:, population[:, j\u001b[38;5;241m+\u001b[39m\u001b[38;5;241m1\u001b[39m, \u001b[38;5;241m0\u001b[39m, \u001b[38;5;241m0\u001b[39m], :, i],\n\u001b[1;32m     36\u001b[0m      population[:, population[:, j\u001b[38;5;241m+\u001b[39m\u001b[38;5;241m1\u001b[39m, \u001b[38;5;241m0\u001b[39m, \u001b[38;5;241m1\u001b[39m], :, i],\n\u001b[0;32m---> 37\u001b[0m      population[:, j, :, i]) \u001b[38;5;241m=\u001b[39m \u001b[43mapply_species_collision\u001b[49m\u001b[43m(\u001b[49m\n\u001b[1;32m     38\u001b[0m \u001b[43m        \u001b[49m\u001b[43mspecies1\u001b[49m\u001b[38;5;241;43m=\u001b[39;49m\u001b[43mpopulation\u001b[49m\u001b[43m[\u001b[49m\u001b[38;5;241;43m0\u001b[39;49m\u001b[43m,\u001b[49m\u001b[43m \u001b[49m\u001b[38;5;28;43mint\u001b[39;49m\u001b[43m(\u001b[49m\u001b[43mpopulation\u001b[49m\u001b[43m[\u001b[49m\u001b[38;5;241;43m0\u001b[39;49m\u001b[43m,\u001b[49m\u001b[43m \u001b[49m\u001b[43mj\u001b[49m\u001b[38;5;241;43m+\u001b[39;49m\u001b[38;5;241;43m1\u001b[39;49m\u001b[43m,\u001b[49m\u001b[43m \u001b[49m\u001b[38;5;241;43m0\u001b[39;49m\u001b[43m,\u001b[49m\u001b[43m \u001b[49m\u001b[38;5;241;43m0\u001b[39;49m\u001b[43m]\u001b[49m\u001b[43m)\u001b[49m\u001b[43m,\u001b[49m\u001b[43m \u001b[49m\u001b[43m:\u001b[49m\u001b[43m,\u001b[49m\u001b[43m \u001b[49m\u001b[43mi\u001b[49m\u001b[43m]\u001b[49m\u001b[43m,\u001b[49m\n\u001b[1;32m     39\u001b[0m \u001b[43m        \u001b[49m\u001b[43mspecies2\u001b[49m\u001b[38;5;241;43m=\u001b[39;49m\u001b[43mpopulation\u001b[49m\u001b[43m[\u001b[49m\u001b[38;5;241;43m0\u001b[39;49m\u001b[43m,\u001b[49m\u001b[43m \u001b[49m\u001b[38;5;28;43mint\u001b[39;49m\u001b[43m(\u001b[49m\u001b[43mpopulation\u001b[49m\u001b[43m[\u001b[49m\u001b[38;5;241;43m0\u001b[39;49m\u001b[43m,\u001b[49m\u001b[43m \u001b[49m\u001b[43mj\u001b[49m\u001b[38;5;241;43m+\u001b[39;49m\u001b[38;5;241;43m1\u001b[39;49m\u001b[43m,\u001b[49m\u001b[43m \u001b[49m\u001b[38;5;241;43m0\u001b[39;49m\u001b[43m,\u001b[49m\u001b[43m \u001b[49m\u001b[38;5;241;43m1\u001b[39;49m\u001b[43m]\u001b[49m\u001b[43m)\u001b[49m\u001b[43m,\u001b[49m\u001b[43m \u001b[49m\u001b[43m:\u001b[49m\u001b[43m,\u001b[49m\u001b[43m \u001b[49m\u001b[43mi\u001b[49m\u001b[43m]\u001b[49m\u001b[43m,\u001b[49m\n\u001b[1;32m     40\u001b[0m \u001b[43m        \u001b[49m\u001b[43mcomplex_\u001b[49m\u001b[38;5;241;43m=\u001b[39;49m\u001b[43mpopulation\u001b[49m\u001b[43m[\u001b[49m\u001b[43m:\u001b[49m\u001b[43m,\u001b[49m\u001b[43m \u001b[49m\u001b[43mj\u001b[49m\u001b[43m,\u001b[49m\u001b[43m \u001b[49m\u001b[43m:\u001b[49m\u001b[43m,\u001b[49m\u001b[43m \u001b[49m\u001b[43mi\u001b[49m\u001b[43m]\u001b[49m\u001b[43m,\u001b[49m\n\u001b[1;32m     41\u001b[0m \u001b[43m        \u001b[49m\u001b[43mcollision_rates\u001b[49m\u001b[38;5;241;43m=\u001b[39;49m\u001b[43mpopulation\u001b[49m\u001b[43m[\u001b[49m\u001b[43m:\u001b[49m\u001b[43m,\u001b[49m\u001b[43m \u001b[49m\u001b[38;5;28;43mint\u001b[39;49m\u001b[43m(\u001b[49m\u001b[43mpopulation\u001b[49m\u001b[43m[\u001b[49m\u001b[38;5;241;43m0\u001b[39;49m\u001b[43m,\u001b[49m\u001b[43m \u001b[49m\u001b[43mj\u001b[49m\u001b[38;5;241;43m+\u001b[39;49m\u001b[38;5;241;43m1\u001b[39;49m\u001b[43m,\u001b[49m\u001b[43m \u001b[49m\u001b[38;5;241;43m1\u001b[39;49m\u001b[43m,\u001b[49m\u001b[43m \u001b[49m\u001b[38;5;241;43m0\u001b[39;49m\u001b[43m]\u001b[49m\u001b[43m)\u001b[49m\u001b[43m,\u001b[49m\u001b[43m \u001b[49m\u001b[38;5;241;43m1\u001b[39;49m\u001b[43m,\u001b[49m\u001b[43m \u001b[49m\u001b[38;5;241;43m0\u001b[39;49m\u001b[43m]\u001b[49m\u001b[43m,\u001b[49m\n\u001b[1;32m     42\u001b[0m \u001b[43m        \u001b[49m\u001b[43mtime_step\u001b[49m\u001b[38;5;241;43m=\u001b[39;49m\u001b[43mtime_step\u001b[49m\n\u001b[1;32m     43\u001b[0m \u001b[43m    \u001b[49m\u001b[43m)\u001b[49m\n\u001b[1;32m     45\u001b[0m \u001b[38;5;66;03m# complex dissociation\u001b[39;00m\n\u001b[1;32m     46\u001b[0m \u001b[38;5;28;01mfor\u001b[39;00m j \u001b[38;5;129;01min\u001b[39;00m \u001b[38;5;28mrange\u001b[39m(pair_start, pair_stop, \u001b[38;5;241m2\u001b[39m):\n",
      "Cell \u001b[0;32mIn[309], line 20\u001b[0m, in \u001b[0;36mapply_species_collision\u001b[0;34m(species1, species2, complex_, collision_rates, time_step)\u001b[0m\n\u001b[1;32m     17\u001b[0m \u001b[38;5;28;01mdef\u001b[39;00m \u001b[38;5;21mapply_species_collision\u001b[39m(species1, species2, complex_, collision_rates, time_step):\n\u001b[1;32m     19\u001b[0m     collision_effect \u001b[38;5;241m=\u001b[39m collision_rates \u001b[38;5;241m*\u001b[39m time_step\n\u001b[0;32m---> 20\u001b[0m     complex_formed \u001b[38;5;241m=\u001b[39m (np\u001b[38;5;241m.\u001b[39mminimum(\u001b[43mspecies1\u001b[49m\u001b[38;5;241;43m.\u001b[39;49m\u001b[43mT\u001b[49m\u001b[43m \u001b[49m\u001b[38;5;241;43m*\u001b[39;49m\u001b[43m \u001b[49m\u001b[43mcollision_effect\u001b[49m, species2\u001b[38;5;241m.\u001b[39mT \u001b[38;5;241m*\u001b[39m collision_effect))\u001b[38;5;241m.\u001b[39mT\n\u001b[1;32m     21\u001b[0m     complex_formed \u001b[38;5;241m=\u001b[39m np\u001b[38;5;241m.\u001b[39mmaximum(complex_formed, \u001b[38;5;241m0\u001b[39m)\n\u001b[1;32m     23\u001b[0m     updated_species1 \u001b[38;5;241m=\u001b[39m np\u001b[38;5;241m.\u001b[39mmaximum(species1 \u001b[38;5;241m-\u001b[39m complex_formed, \u001b[38;5;241m0\u001b[39m)\n",
      "\u001b[0;31mValueError\u001b[0m: operands could not be broadcast together with shapes (20,) (10,) "
     ]
    }
   ],
   "source": [
    "r = population_simulation(pop)"
   ]
  },
  {
   "cell_type": "code",
   "execution_count": null,
   "id": "f52c2d49-b742-425b-b86d-1a82968a8cad",
   "metadata": {},
   "outputs": [],
   "source": []
  }
 ],
 "metadata": {
  "kernelspec": {
   "display_name": "Python 3 (ipykernel)",
   "language": "python",
   "name": "python3"
  },
  "language_info": {
   "codemirror_mode": {
    "name": "ipython",
    "version": 3
   },
   "file_extension": ".py",
   "mimetype": "text/x-python",
   "name": "python",
   "nbconvert_exporter": "python",
   "pygments_lexer": "ipython3",
   "version": "3.10.12"
  }
 },
 "nbformat": 4,
 "nbformat_minor": 5
}
